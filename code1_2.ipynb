{
  "nbformat": 4,
  "nbformat_minor": 0,
  "metadata": {
    "colab": {
      "name": "code1-2.ipynb",
      "provenance": [],
      "collapsed_sections": [
        "qIQNuoxCt6US"
      ],
      "authorship_tag": "ABX9TyMNkRQkaG39eP/3PptBHnS1",
      "include_colab_link": true
    },
    "kernelspec": {
      "display_name": "Python 3",
      "name": "python3"
    },
    "language_info": {
      "name": "python"
    }
  },
  "cells": [
    {
      "cell_type": "markdown",
      "metadata": {
        "id": "view-in-github",
        "colab_type": "text"
      },
      "source": [
        "<a href=\"https://colab.research.google.com/github/rohhj622/windPowerPrediction/blob/master/code1_2.ipynb\" target=\"_parent\"><img src=\"https://colab.research.google.com/assets/colab-badge.svg\" alt=\"Open In Colab\"/></a>"
      ]
    },
    {
      "cell_type": "markdown",
      "metadata": {
        "id": "Du2luE7Sis1X"
      },
      "source": [
        "# 1. 데이터 불러오기"
      ]
    },
    {
      "cell_type": "code",
      "metadata": {
        "id": "Vdy8dcPuMNrM"
      },
      "source": [
        "import pandas as pd\n",
        "import numpy as np\n",
        "import matplotlib as mpl\n",
        "import matplotlib.pyplot as plt\n",
        "import matplotlib.font_manager as fm\n",
        "import seaborn as sns\n",
        "from datetime import datetime\n",
        "\n",
        "from sklearn.preprocessing import MinMaxScaler\n",
        "\n",
        "from sklearn.model_selection import train_test_split\n",
        "from sklearn import model_selection\n",
        "from keras import models, layers, Sequential\n",
        "from keras.layers import LSTM, Dropout, Dense, Activation, Input, SimpleRNN"
      ],
      "execution_count": 225,
      "outputs": []
    },
    {
      "cell_type": "markdown",
      "metadata": {
        "id": "YNty4GaoKvD2"
      },
      "source": [
        "## 1) 구글 드라이브 연결"
      ]
    },
    {
      "cell_type": "code",
      "metadata": {
        "colab": {
          "base_uri": "https://localhost:8080/"
        },
        "id": "_bQijgMDNnaL",
        "outputId": "da71505e-80f9-4444-e1f2-2dbc293ff9f4"
      },
      "source": [
        "from google.colab import drive\n",
        "drive.mount('/content/gdrive')"
      ],
      "execution_count": 226,
      "outputs": [
        {
          "output_type": "stream",
          "text": [
            "Drive already mounted at /content/gdrive; to attempt to forcibly remount, call drive.mount(\"/content/gdrive\", force_remount=True).\n"
          ],
          "name": "stdout"
        }
      ]
    },
    {
      "cell_type": "markdown",
      "metadata": {
        "id": "Owh8eo2RK5Nj"
      },
      "source": [
        "## 3) 데이터 불러오기 시작"
      ]
    },
    {
      "cell_type": "code",
      "metadata": {
        "colab": {
          "base_uri": "https://localhost:8080/",
          "height": 407
        },
        "id": "Dbt8iQJuMSAv",
        "outputId": "9893cde5-2eec-4a9c-9282-696ec7abb4bf"
      },
      "source": [
        "allData = pd.read_csv(r'/content/gdrive/My Drive/Colab Notebooks/preprocessing_Data.csv') # 컬럼명 숫자로 들어가게\n",
        "allData = allData.drop('Unnamed: 0',1)\n",
        "allData"
      ],
      "execution_count": 227,
      "outputs": [
        {
          "output_type": "execute_result",
          "data": {
            "text/html": [
              "<div>\n",
              "<style scoped>\n",
              "    .dataframe tbody tr th:only-of-type {\n",
              "        vertical-align: middle;\n",
              "    }\n",
              "\n",
              "    .dataframe tbody tr th {\n",
              "        vertical-align: top;\n",
              "    }\n",
              "\n",
              "    .dataframe thead th {\n",
              "        text-align: right;\n",
              "    }\n",
              "</style>\n",
              "<table border=\"1\" class=\"dataframe\">\n",
              "  <thead>\n",
              "    <tr style=\"text-align: right;\">\n",
              "      <th></th>\n",
              "      <th>datetime</th>\n",
              "      <th>date</th>\n",
              "      <th>time</th>\n",
              "      <th>windForce</th>\n",
              "      <th>tem</th>\n",
              "      <th>windSpeed</th>\n",
              "      <th>windDirect</th>\n",
              "      <th>humidity</th>\n",
              "      <th>vaporPressure</th>\n",
              "      <th>dewPoint</th>\n",
              "      <th>pressure</th>\n",
              "      <th>seaLevelPressure</th>\n",
              "      <th>groundTem</th>\n",
              "    </tr>\n",
              "  </thead>\n",
              "  <tbody>\n",
              "    <tr>\n",
              "      <th>0</th>\n",
              "      <td>2013-01-01 00:00:00</td>\n",
              "      <td>2013-01-01 00:00:00</td>\n",
              "      <td>00:00</td>\n",
              "      <td>0</td>\n",
              "      <td>1.3</td>\n",
              "      <td>3.2</td>\n",
              "      <td>340</td>\n",
              "      <td>77.0</td>\n",
              "      <td>5.2</td>\n",
              "      <td>-2.2</td>\n",
              "      <td>1019.1</td>\n",
              "      <td>1021.3</td>\n",
              "      <td>0.0</td>\n",
              "    </tr>\n",
              "    <tr>\n",
              "      <th>1</th>\n",
              "      <td>2013-01-01 01:00:00</td>\n",
              "      <td>2013-01-01 00:00:00</td>\n",
              "      <td>01:00</td>\n",
              "      <td>0</td>\n",
              "      <td>0.9</td>\n",
              "      <td>2.6</td>\n",
              "      <td>320</td>\n",
              "      <td>77.0</td>\n",
              "      <td>5.0</td>\n",
              "      <td>-2.6</td>\n",
              "      <td>1019.0</td>\n",
              "      <td>1021.2</td>\n",
              "      <td>0.0</td>\n",
              "    </tr>\n",
              "    <tr>\n",
              "      <th>2</th>\n",
              "      <td>2013-01-01 02:00:00</td>\n",
              "      <td>2013-01-01 00:00:00</td>\n",
              "      <td>02:00</td>\n",
              "      <td>92</td>\n",
              "      <td>1.5</td>\n",
              "      <td>3.0</td>\n",
              "      <td>340</td>\n",
              "      <td>77.0</td>\n",
              "      <td>5.2</td>\n",
              "      <td>-2.1</td>\n",
              "      <td>1019.0</td>\n",
              "      <td>1021.2</td>\n",
              "      <td>0.0</td>\n",
              "    </tr>\n",
              "    <tr>\n",
              "      <th>3</th>\n",
              "      <td>2013-01-01 03:00:00</td>\n",
              "      <td>2013-01-01 00:00:00</td>\n",
              "      <td>03:00</td>\n",
              "      <td>269</td>\n",
              "      <td>2.7</td>\n",
              "      <td>1.7</td>\n",
              "      <td>270</td>\n",
              "      <td>74.0</td>\n",
              "      <td>5.5</td>\n",
              "      <td>-1.4</td>\n",
              "      <td>1019.0</td>\n",
              "      <td>1021.2</td>\n",
              "      <td>0.3</td>\n",
              "    </tr>\n",
              "    <tr>\n",
              "      <th>4</th>\n",
              "      <td>2013-01-01 04:00:00</td>\n",
              "      <td>2013-01-01 00:00:00</td>\n",
              "      <td>04:00</td>\n",
              "      <td>541</td>\n",
              "      <td>0.6</td>\n",
              "      <td>1.8</td>\n",
              "      <td>320</td>\n",
              "      <td>82.0</td>\n",
              "      <td>5.2</td>\n",
              "      <td>-2.1</td>\n",
              "      <td>1018.5</td>\n",
              "      <td>1020.8</td>\n",
              "      <td>0.1</td>\n",
              "    </tr>\n",
              "    <tr>\n",
              "      <th>...</th>\n",
              "      <td>...</td>\n",
              "      <td>...</td>\n",
              "      <td>...</td>\n",
              "      <td>...</td>\n",
              "      <td>...</td>\n",
              "      <td>...</td>\n",
              "      <td>...</td>\n",
              "      <td>...</td>\n",
              "      <td>...</td>\n",
              "      <td>...</td>\n",
              "      <td>...</td>\n",
              "      <td>...</td>\n",
              "      <td>...</td>\n",
              "    </tr>\n",
              "    <tr>\n",
              "      <th>52579</th>\n",
              "      <td>2018-12-31 19:00:00</td>\n",
              "      <td>2018-12-31 00:00:00</td>\n",
              "      <td>19:00</td>\n",
              "      <td>8699</td>\n",
              "      <td>4.3</td>\n",
              "      <td>4.7</td>\n",
              "      <td>340</td>\n",
              "      <td>58.0</td>\n",
              "      <td>4.8</td>\n",
              "      <td>-3.2</td>\n",
              "      <td>1032.1</td>\n",
              "      <td>1034.7</td>\n",
              "      <td>3.3</td>\n",
              "    </tr>\n",
              "    <tr>\n",
              "      <th>52580</th>\n",
              "      <td>2018-12-31 20:00:00</td>\n",
              "      <td>2018-12-31 00:00:00</td>\n",
              "      <td>20:00</td>\n",
              "      <td>10694</td>\n",
              "      <td>3.9</td>\n",
              "      <td>4.5</td>\n",
              "      <td>360</td>\n",
              "      <td>61.0</td>\n",
              "      <td>4.9</td>\n",
              "      <td>-2.9</td>\n",
              "      <td>1032.0</td>\n",
              "      <td>1034.6</td>\n",
              "      <td>2.9</td>\n",
              "    </tr>\n",
              "    <tr>\n",
              "      <th>52581</th>\n",
              "      <td>2018-12-31 21:00:00</td>\n",
              "      <td>2018-12-31 00:00:00</td>\n",
              "      <td>21:00</td>\n",
              "      <td>5494</td>\n",
              "      <td>3.5</td>\n",
              "      <td>4.0</td>\n",
              "      <td>360</td>\n",
              "      <td>59.0</td>\n",
              "      <td>4.6</td>\n",
              "      <td>-3.7</td>\n",
              "      <td>1031.9</td>\n",
              "      <td>1034.5</td>\n",
              "      <td>1.9</td>\n",
              "    </tr>\n",
              "    <tr>\n",
              "      <th>52582</th>\n",
              "      <td>2018-12-31 22:00:00</td>\n",
              "      <td>2018-12-31 00:00:00</td>\n",
              "      <td>22:00</td>\n",
              "      <td>2718</td>\n",
              "      <td>3.8</td>\n",
              "      <td>3.4</td>\n",
              "      <td>20</td>\n",
              "      <td>61.0</td>\n",
              "      <td>4.9</td>\n",
              "      <td>-3.0</td>\n",
              "      <td>1031.6</td>\n",
              "      <td>1034.2</td>\n",
              "      <td>2.1</td>\n",
              "    </tr>\n",
              "    <tr>\n",
              "      <th>52583</th>\n",
              "      <td>2018-12-31 23:00:00</td>\n",
              "      <td>2018-12-31 00:00:00</td>\n",
              "      <td>23:00</td>\n",
              "      <td>2458</td>\n",
              "      <td>3.7</td>\n",
              "      <td>2.5</td>\n",
              "      <td>20</td>\n",
              "      <td>64.0</td>\n",
              "      <td>5.1</td>\n",
              "      <td>-2.4</td>\n",
              "      <td>1032.0</td>\n",
              "      <td>1034.6</td>\n",
              "      <td>1.6</td>\n",
              "    </tr>\n",
              "  </tbody>\n",
              "</table>\n",
              "<p>52584 rows × 13 columns</p>\n",
              "</div>"
            ],
            "text/plain": [
              "                  datetime                 date  ... seaLevelPressure  groundTem\n",
              "0      2013-01-01 00:00:00  2013-01-01 00:00:00  ...           1021.3        0.0\n",
              "1      2013-01-01 01:00:00  2013-01-01 00:00:00  ...           1021.2        0.0\n",
              "2      2013-01-01 02:00:00  2013-01-01 00:00:00  ...           1021.2        0.0\n",
              "3      2013-01-01 03:00:00  2013-01-01 00:00:00  ...           1021.2        0.3\n",
              "4      2013-01-01 04:00:00  2013-01-01 00:00:00  ...           1020.8        0.1\n",
              "...                    ...                  ...  ...              ...        ...\n",
              "52579  2018-12-31 19:00:00  2018-12-31 00:00:00  ...           1034.7        3.3\n",
              "52580  2018-12-31 20:00:00  2018-12-31 00:00:00  ...           1034.6        2.9\n",
              "52581  2018-12-31 21:00:00  2018-12-31 00:00:00  ...           1034.5        1.9\n",
              "52582  2018-12-31 22:00:00  2018-12-31 00:00:00  ...           1034.2        2.1\n",
              "52583  2018-12-31 23:00:00  2018-12-31 00:00:00  ...           1034.6        1.6\n",
              "\n",
              "[52584 rows x 13 columns]"
            ]
          },
          "metadata": {
            "tags": []
          },
          "execution_count": 227
        }
      ]
    },
    {
      "cell_type": "markdown",
      "metadata": {
        "id": "O9YGmMb-oS9f"
      },
      "source": [
        "# 2. 데이터 가공하기 "
      ]
    },
    {
      "cell_type": "markdown",
      "metadata": {
        "id": "T3OvtUOvxhrF"
      },
      "source": [
        "## 1) datetime 컬럼 제작, datetime 형식으로 변환"
      ]
    },
    {
      "cell_type": "code",
      "metadata": {
        "colab": {
          "base_uri": "https://localhost:8080/",
          "height": 198
        },
        "id": "zZuEdl2Rro-B",
        "outputId": "5081ef86-d8eb-4752-e9b5-ff9fd1fb33b5"
      },
      "source": [
        "df = allData.copy()\n",
        "df['datetime'] = pd.to_datetime(df['datetime'],format='%Y-%m-%d %H:%M', errors='ignore') #합친거 datetime 형식으로 변환\n",
        "df['date'] = pd.to_datetime(df['date'],format='%Y-%m-%d', errors='ignore')  #date형식으로 변환\n",
        "#df['time'] = pd.to_datetime(df['time'],format='%H:%M', errors='ignore') #time 형식으로 변환\n",
        "df.head(5)"
      ],
      "execution_count": 228,
      "outputs": [
        {
          "output_type": "execute_result",
          "data": {
            "text/html": [
              "<div>\n",
              "<style scoped>\n",
              "    .dataframe tbody tr th:only-of-type {\n",
              "        vertical-align: middle;\n",
              "    }\n",
              "\n",
              "    .dataframe tbody tr th {\n",
              "        vertical-align: top;\n",
              "    }\n",
              "\n",
              "    .dataframe thead th {\n",
              "        text-align: right;\n",
              "    }\n",
              "</style>\n",
              "<table border=\"1\" class=\"dataframe\">\n",
              "  <thead>\n",
              "    <tr style=\"text-align: right;\">\n",
              "      <th></th>\n",
              "      <th>datetime</th>\n",
              "      <th>date</th>\n",
              "      <th>time</th>\n",
              "      <th>windForce</th>\n",
              "      <th>tem</th>\n",
              "      <th>windSpeed</th>\n",
              "      <th>windDirect</th>\n",
              "      <th>humidity</th>\n",
              "      <th>vaporPressure</th>\n",
              "      <th>dewPoint</th>\n",
              "      <th>pressure</th>\n",
              "      <th>seaLevelPressure</th>\n",
              "      <th>groundTem</th>\n",
              "    </tr>\n",
              "  </thead>\n",
              "  <tbody>\n",
              "    <tr>\n",
              "      <th>0</th>\n",
              "      <td>2013-01-01 00:00:00</td>\n",
              "      <td>2013-01-01</td>\n",
              "      <td>00:00</td>\n",
              "      <td>0</td>\n",
              "      <td>1.3</td>\n",
              "      <td>3.2</td>\n",
              "      <td>340</td>\n",
              "      <td>77.0</td>\n",
              "      <td>5.2</td>\n",
              "      <td>-2.2</td>\n",
              "      <td>1019.1</td>\n",
              "      <td>1021.3</td>\n",
              "      <td>0.0</td>\n",
              "    </tr>\n",
              "    <tr>\n",
              "      <th>1</th>\n",
              "      <td>2013-01-01 01:00:00</td>\n",
              "      <td>2013-01-01</td>\n",
              "      <td>01:00</td>\n",
              "      <td>0</td>\n",
              "      <td>0.9</td>\n",
              "      <td>2.6</td>\n",
              "      <td>320</td>\n",
              "      <td>77.0</td>\n",
              "      <td>5.0</td>\n",
              "      <td>-2.6</td>\n",
              "      <td>1019.0</td>\n",
              "      <td>1021.2</td>\n",
              "      <td>0.0</td>\n",
              "    </tr>\n",
              "    <tr>\n",
              "      <th>2</th>\n",
              "      <td>2013-01-01 02:00:00</td>\n",
              "      <td>2013-01-01</td>\n",
              "      <td>02:00</td>\n",
              "      <td>92</td>\n",
              "      <td>1.5</td>\n",
              "      <td>3.0</td>\n",
              "      <td>340</td>\n",
              "      <td>77.0</td>\n",
              "      <td>5.2</td>\n",
              "      <td>-2.1</td>\n",
              "      <td>1019.0</td>\n",
              "      <td>1021.2</td>\n",
              "      <td>0.0</td>\n",
              "    </tr>\n",
              "    <tr>\n",
              "      <th>3</th>\n",
              "      <td>2013-01-01 03:00:00</td>\n",
              "      <td>2013-01-01</td>\n",
              "      <td>03:00</td>\n",
              "      <td>269</td>\n",
              "      <td>2.7</td>\n",
              "      <td>1.7</td>\n",
              "      <td>270</td>\n",
              "      <td>74.0</td>\n",
              "      <td>5.5</td>\n",
              "      <td>-1.4</td>\n",
              "      <td>1019.0</td>\n",
              "      <td>1021.2</td>\n",
              "      <td>0.3</td>\n",
              "    </tr>\n",
              "    <tr>\n",
              "      <th>4</th>\n",
              "      <td>2013-01-01 04:00:00</td>\n",
              "      <td>2013-01-01</td>\n",
              "      <td>04:00</td>\n",
              "      <td>541</td>\n",
              "      <td>0.6</td>\n",
              "      <td>1.8</td>\n",
              "      <td>320</td>\n",
              "      <td>82.0</td>\n",
              "      <td>5.2</td>\n",
              "      <td>-2.1</td>\n",
              "      <td>1018.5</td>\n",
              "      <td>1020.8</td>\n",
              "      <td>0.1</td>\n",
              "    </tr>\n",
              "  </tbody>\n",
              "</table>\n",
              "</div>"
            ],
            "text/plain": [
              "             datetime       date   time  ...  pressure  seaLevelPressure  groundTem\n",
              "0 2013-01-01 00:00:00 2013-01-01  00:00  ...    1019.1            1021.3        0.0\n",
              "1 2013-01-01 01:00:00 2013-01-01  01:00  ...    1019.0            1021.2        0.0\n",
              "2 2013-01-01 02:00:00 2013-01-01  02:00  ...    1019.0            1021.2        0.0\n",
              "3 2013-01-01 03:00:00 2013-01-01  03:00  ...    1019.0            1021.2        0.3\n",
              "4 2013-01-01 04:00:00 2013-01-01  04:00  ...    1018.5            1020.8        0.1\n",
              "\n",
              "[5 rows x 13 columns]"
            ]
          },
          "metadata": {
            "tags": []
          },
          "execution_count": 228
        }
      ]
    },
    {
      "cell_type": "markdown",
      "metadata": {
        "id": "ZJ_SCnwtAe1u"
      },
      "source": [
        "## 2) 년(year), 월(month), 일(day), 계절(season) 컬럼 생성\n",
        "\n"
      ]
    },
    {
      "cell_type": "code",
      "metadata": {
        "colab": {
          "base_uri": "https://localhost:8080/",
          "height": 198
        },
        "id": "KzBXhgwc1ss2",
        "outputId": "060ff3ca-a6a5-47ab-ce9f-8de42fdc3dbb"
      },
      "source": [
        "df['year'] = df['date'].dt.year # 년\n",
        "df['month'] = df['date'].dt.month # 월\n",
        "df['day'] = df['date'].dt.day# 일\n",
        "\n",
        "conditionlist = [\n",
        "    (df['month'] == 3)|(df['month'] == 4)| (df['month'] == 5) ,\n",
        "    (df['month'] == 6)|(df['month'] == 7)|(df['month'] == 8) ,\n",
        "    (df['month'] == 9)|(df['month'] == 10)|(df['month'] == 11),\n",
        "    (df['month'] == 12)|(df['month'] == 1)|(df['month'] == 2) ]\n",
        "choicelist = ['0', '1', '2','3']\n",
        "#choicelist = ['spring', 'summer', 'autumn','winter']\n",
        "df['season'] = np.select(conditionlist, choicelist, default='Not Specified')\n",
        "df.head(5)"
      ],
      "execution_count": 229,
      "outputs": [
        {
          "output_type": "execute_result",
          "data": {
            "text/html": [
              "<div>\n",
              "<style scoped>\n",
              "    .dataframe tbody tr th:only-of-type {\n",
              "        vertical-align: middle;\n",
              "    }\n",
              "\n",
              "    .dataframe tbody tr th {\n",
              "        vertical-align: top;\n",
              "    }\n",
              "\n",
              "    .dataframe thead th {\n",
              "        text-align: right;\n",
              "    }\n",
              "</style>\n",
              "<table border=\"1\" class=\"dataframe\">\n",
              "  <thead>\n",
              "    <tr style=\"text-align: right;\">\n",
              "      <th></th>\n",
              "      <th>datetime</th>\n",
              "      <th>date</th>\n",
              "      <th>time</th>\n",
              "      <th>windForce</th>\n",
              "      <th>tem</th>\n",
              "      <th>windSpeed</th>\n",
              "      <th>windDirect</th>\n",
              "      <th>humidity</th>\n",
              "      <th>vaporPressure</th>\n",
              "      <th>dewPoint</th>\n",
              "      <th>pressure</th>\n",
              "      <th>seaLevelPressure</th>\n",
              "      <th>groundTem</th>\n",
              "      <th>year</th>\n",
              "      <th>month</th>\n",
              "      <th>day</th>\n",
              "      <th>season</th>\n",
              "    </tr>\n",
              "  </thead>\n",
              "  <tbody>\n",
              "    <tr>\n",
              "      <th>0</th>\n",
              "      <td>2013-01-01 00:00:00</td>\n",
              "      <td>2013-01-01</td>\n",
              "      <td>00:00</td>\n",
              "      <td>0</td>\n",
              "      <td>1.3</td>\n",
              "      <td>3.2</td>\n",
              "      <td>340</td>\n",
              "      <td>77.0</td>\n",
              "      <td>5.2</td>\n",
              "      <td>-2.2</td>\n",
              "      <td>1019.1</td>\n",
              "      <td>1021.3</td>\n",
              "      <td>0.0</td>\n",
              "      <td>2013</td>\n",
              "      <td>1</td>\n",
              "      <td>1</td>\n",
              "      <td>3</td>\n",
              "    </tr>\n",
              "    <tr>\n",
              "      <th>1</th>\n",
              "      <td>2013-01-01 01:00:00</td>\n",
              "      <td>2013-01-01</td>\n",
              "      <td>01:00</td>\n",
              "      <td>0</td>\n",
              "      <td>0.9</td>\n",
              "      <td>2.6</td>\n",
              "      <td>320</td>\n",
              "      <td>77.0</td>\n",
              "      <td>5.0</td>\n",
              "      <td>-2.6</td>\n",
              "      <td>1019.0</td>\n",
              "      <td>1021.2</td>\n",
              "      <td>0.0</td>\n",
              "      <td>2013</td>\n",
              "      <td>1</td>\n",
              "      <td>1</td>\n",
              "      <td>3</td>\n",
              "    </tr>\n",
              "    <tr>\n",
              "      <th>2</th>\n",
              "      <td>2013-01-01 02:00:00</td>\n",
              "      <td>2013-01-01</td>\n",
              "      <td>02:00</td>\n",
              "      <td>92</td>\n",
              "      <td>1.5</td>\n",
              "      <td>3.0</td>\n",
              "      <td>340</td>\n",
              "      <td>77.0</td>\n",
              "      <td>5.2</td>\n",
              "      <td>-2.1</td>\n",
              "      <td>1019.0</td>\n",
              "      <td>1021.2</td>\n",
              "      <td>0.0</td>\n",
              "      <td>2013</td>\n",
              "      <td>1</td>\n",
              "      <td>1</td>\n",
              "      <td>3</td>\n",
              "    </tr>\n",
              "    <tr>\n",
              "      <th>3</th>\n",
              "      <td>2013-01-01 03:00:00</td>\n",
              "      <td>2013-01-01</td>\n",
              "      <td>03:00</td>\n",
              "      <td>269</td>\n",
              "      <td>2.7</td>\n",
              "      <td>1.7</td>\n",
              "      <td>270</td>\n",
              "      <td>74.0</td>\n",
              "      <td>5.5</td>\n",
              "      <td>-1.4</td>\n",
              "      <td>1019.0</td>\n",
              "      <td>1021.2</td>\n",
              "      <td>0.3</td>\n",
              "      <td>2013</td>\n",
              "      <td>1</td>\n",
              "      <td>1</td>\n",
              "      <td>3</td>\n",
              "    </tr>\n",
              "    <tr>\n",
              "      <th>4</th>\n",
              "      <td>2013-01-01 04:00:00</td>\n",
              "      <td>2013-01-01</td>\n",
              "      <td>04:00</td>\n",
              "      <td>541</td>\n",
              "      <td>0.6</td>\n",
              "      <td>1.8</td>\n",
              "      <td>320</td>\n",
              "      <td>82.0</td>\n",
              "      <td>5.2</td>\n",
              "      <td>-2.1</td>\n",
              "      <td>1018.5</td>\n",
              "      <td>1020.8</td>\n",
              "      <td>0.1</td>\n",
              "      <td>2013</td>\n",
              "      <td>1</td>\n",
              "      <td>1</td>\n",
              "      <td>3</td>\n",
              "    </tr>\n",
              "  </tbody>\n",
              "</table>\n",
              "</div>"
            ],
            "text/plain": [
              "             datetime       date   time  windForce  ...  year  month  day  season\n",
              "0 2013-01-01 00:00:00 2013-01-01  00:00          0  ...  2013      1    1       3\n",
              "1 2013-01-01 01:00:00 2013-01-01  01:00          0  ...  2013      1    1       3\n",
              "2 2013-01-01 02:00:00 2013-01-01  02:00         92  ...  2013      1    1       3\n",
              "3 2013-01-01 03:00:00 2013-01-01  03:00        269  ...  2013      1    1       3\n",
              "4 2013-01-01 04:00:00 2013-01-01  04:00        541  ...  2013      1    1       3\n",
              "\n",
              "[5 rows x 17 columns]"
            ]
          },
          "metadata": {
            "tags": []
          },
          "execution_count": 229
        }
      ]
    },
    {
      "cell_type": "markdown",
      "metadata": {
        "id": "j4iLEsdct2FF"
      },
      "source": [
        "# 4. 훈련 & 예측"
      ]
    },
    {
      "cell_type": "markdown",
      "metadata": {
        "id": "qIQNuoxCt6US"
      },
      "source": [
        "## 1) train-test data 나누기"
      ]
    },
    {
      "cell_type": "code",
      "metadata": {
        "colab": {
          "base_uri": "https://localhost:8080/"
        },
        "id": "8GznxWyKOXsN",
        "outputId": "41fdd72e-0455-49b8-d61e-acd2e9d9f183"
      },
      "source": [
        "df2 = df.copy()\n",
        "df2.info()"
      ],
      "execution_count": 230,
      "outputs": [
        {
          "output_type": "stream",
          "text": [
            "<class 'pandas.core.frame.DataFrame'>\n",
            "RangeIndex: 52584 entries, 0 to 52583\n",
            "Data columns (total 17 columns):\n",
            " #   Column            Non-Null Count  Dtype         \n",
            "---  ------            --------------  -----         \n",
            " 0   datetime          52584 non-null  datetime64[ns]\n",
            " 1   date              52584 non-null  datetime64[ns]\n",
            " 2   time              52584 non-null  object        \n",
            " 3   windForce         52584 non-null  int64         \n",
            " 4   tem               52584 non-null  float64       \n",
            " 5   windSpeed         52584 non-null  float64       \n",
            " 6   windDirect        52584 non-null  int64         \n",
            " 7   humidity          52584 non-null  float64       \n",
            " 8   vaporPressure     52584 non-null  float64       \n",
            " 9   dewPoint          52584 non-null  float64       \n",
            " 10  pressure          52584 non-null  float64       \n",
            " 11  seaLevelPressure  52584 non-null  float64       \n",
            " 12  groundTem         52584 non-null  float64       \n",
            " 13  year              52584 non-null  int64         \n",
            " 14  month             52584 non-null  int64         \n",
            " 15  day               52584 non-null  int64         \n",
            " 16  season            52584 non-null  object        \n",
            "dtypes: datetime64[ns](2), float64(8), int64(5), object(2)\n",
            "memory usage: 6.8+ MB\n"
          ],
          "name": "stdout"
        }
      ]
    },
    {
      "cell_type": "code",
      "metadata": {
        "colab": {
          "base_uri": "https://localhost:8080/"
        },
        "id": "ftbIQGGat85_",
        "outputId": "23111f59-a51b-42f0-866c-1b71d201b762"
      },
      "source": [
        "X = df2[['tem','windSpeed','windDirect','humidity']] #,'groundTem','seaLevelPressure'\n",
        "y = df2[['windForce']]\n",
        "\n",
        "transform = MinMaxScaler()\n",
        "trans_X=transform.fit_transform(X)\n",
        "trans_y=transform.fit_transform(y)\n",
        "\n",
        "X_train, X_test,y_train, y_test = train_test_split(X,y,test_size=0.2,random_state=10)\n",
        "print('train data 개수 : ', len(X_train))\n",
        "print('test data 개수: ', len(X_test))\n",
        "print(len(X_train)+len(X_test))"
      ],
      "execution_count": 231,
      "outputs": [
        {
          "output_type": "stream",
          "text": [
            "train data 개수 :  42067\n",
            "test data 개수:  10517\n",
            "52584\n"
          ],
          "name": "stdout"
        }
      ]
    },
    {
      "cell_type": "code",
      "metadata": {
        "colab": {
          "base_uri": "https://localhost:8080/"
        },
        "id": "14njpgM1tl5q",
        "outputId": "b23a6ba5-bb03-4e66-fd3c-47be5815b05e"
      },
      "source": [
        "X_train.ndim\n",
        "X_train.shape"
      ],
      "execution_count": 232,
      "outputs": [
        {
          "output_type": "execute_result",
          "data": {
            "text/plain": [
              "(42067, 4)"
            ]
          },
          "metadata": {
            "tags": []
          },
          "execution_count": 232
        }
      ]
    },
    {
      "cell_type": "markdown",
      "metadata": {
        "id": "H2fkJbbHWqGO"
      },
      "source": [
        "## 5. MakeDataSet\n"
      ]
    },
    {
      "cell_type": "code",
      "metadata": {
        "id": "BT8JCvxwyJ37"
      },
      "source": [
        "# https://teddylee777.github.io/tensorflow/LSTM%EC%9C%BC%EB%A1%9C-%EC%98%88%EC%B8%A1%ED%95%B4%EB%B3%B4%EB%8A%94-%EC%82%BC%EC%84%B1%EC%A0%84%EC%9E%90-%EC%A3%BC%EA%B0%80\n",
        "def make_dataset(data, label, window_size=1):\n",
        "    feature_list = []\n",
        "    label_list = []\n",
        "    for i in range(len(data) - window_size):\n",
        "        feature_list.append(np.array(data.iloc[i:i+window_size]))\n",
        "        label_list.append(np.array(label.iloc[i+window_size]))\n",
        "    return np.array(feature_list), np.array(label_list)"
      ],
      "execution_count": 233,
      "outputs": []
    },
    {
      "cell_type": "code",
      "metadata": {
        "colab": {
          "base_uri": "https://localhost:8080/"
        },
        "id": "zZ1mVquTfCeK",
        "outputId": "0d8d9e69-42cc-4285-ce11-2742ecc68d92"
      },
      "source": [
        "# X = df2[['tem','windSpeed','humidity','groundTem','windDirect','seaLevelPressure']] #,'windDirect'\n",
        "# X = df2[['tem','windSpeed','groundTem']] #,'windDirect'\n",
        "transform = MinMaxScaler()\n",
        "\n",
        "scale_cols=['tem','windSpeed','groundTem','windForce']\n",
        "df_scaled = df2[['tem','windSpeed','groundTem','windForce']] \n",
        "df_scaled = transform.fit_transform(df_scaled)\n",
        "df_scaled = pd.DataFrame(df_scaled)\n",
        "df_scaled.columns = scale_cols\n",
        "\n",
        "train = df_scaled[:int(len(df2)*0.8)]\n",
        "test = df_scaled[int(len(df2)*0.8):]\n",
        "print(train.head())\n",
        "print(test.head())"
      ],
      "execution_count": 234,
      "outputs": [
        {
          "output_type": "stream",
          "text": [
            "        tem  windSpeed  groundTem  windForce\n",
            "0  0.190123   0.180791   0.061135   0.000000\n",
            "1  0.180247   0.146893   0.061135   0.000000\n",
            "2  0.195062   0.169492   0.061135   0.007663\n",
            "3  0.224691   0.096045   0.065502   0.022407\n",
            "4  0.172840   0.101695   0.062591   0.045065\n",
            "            tem  windSpeed  groundTem  windForce\n",
            "42067  0.607407   0.158192   0.312955   0.144940\n",
            "42068  0.585185   0.062147   0.305677   0.111370\n",
            "42069  0.565432   0.067797   0.298399   0.079967\n",
            "42070  0.558025   0.073446   0.292576   0.061808\n",
            "42071  0.562963   0.079096   0.289665   0.055560\n"
          ],
          "name": "stdout"
        }
      ]
    },
    {
      "cell_type": "code",
      "metadata": {
        "id": "34MdXe2sZKkw",
        "colab": {
          "base_uri": "https://localhost:8080/"
        },
        "outputId": "d6bcab8e-40f8-45d9-f098-0b6404635e57"
      },
      "source": [
        "WINDOW_SIZE = 1 # 일 데이터를 묶을지 (window_size : 20, 1)\n",
        "feature1 = ['tem','windSpeed','groundTem']\n",
        "labels1 = ['windForce']\n",
        "\n",
        "train_feature = train[feature1]\n",
        "train_label = train[labels1]\n",
        "\n",
        "train_feature, train_label = make_dataset(train_feature, train_label, WINDOW_SIZE)\n",
        "\n",
        "X_train, X_valid,y_train, y_valid = train_test_split(train_feature,train_label,test_size=0.2,random_state=10) # train, valid\n",
        "print(X_train.shape, X_valid.shape)"
      ],
      "execution_count": 235,
      "outputs": [
        {
          "output_type": "stream",
          "text": [
            "(33652, 1, 3) (8414, 1, 3)\n"
          ],
          "name": "stdout"
        }
      ]
    },
    {
      "cell_type": "code",
      "metadata": {
        "colab": {
          "base_uri": "https://localhost:8080/"
        },
        "id": "eijUVK6FZe8i",
        "outputId": "8c087eeb-295e-48a8-96f1-d7f219b0eb8a"
      },
      "source": [
        "test_feature = test[feature1]\n",
        "test_label = test[labels1]\n",
        "test_feature, test_label = make_dataset(test_feature, test_label, WINDOW_SIZE)\n",
        "test_feature.shape, test_label.shape"
      ],
      "execution_count": 236,
      "outputs": [
        {
          "output_type": "execute_result",
          "data": {
            "text/plain": [
              "((10516, 1, 3), (10516, 1))"
            ]
          },
          "metadata": {
            "tags": []
          },
          "execution_count": 236
        }
      ]
    },
    {
      "cell_type": "markdown",
      "metadata": {
        "id": "N_Yd_J2lVZFG"
      },
      "source": [
        "### model loss function"
      ]
    },
    {
      "cell_type": "code",
      "metadata": {
        "id": "HtVwVHu3VeVg"
      },
      "source": [
        "from sklearn.metrics import mean_squared_error\n",
        "def RMSE(y_test, y_predict):\n",
        "    return np.sqrt(mean_squared_error(y_test, y_predict))\n",
        "\n",
        "def MSE(y_test, y_predict):\n",
        "    return mean_squared_error(y_test, y_predict)"
      ],
      "execution_count": 237,
      "outputs": []
    },
    {
      "cell_type": "markdown",
      "metadata": {
        "id": "rjvTNjgkUmXs"
      },
      "source": [
        "### nn model"
      ]
    },
    {
      "cell_type": "code",
      "metadata": {
        "id": "g3t6eD8VUrt2"
      },
      "source": [
        "from keras.models import Sequential\n",
        "from keras.layers import Dense\n",
        "from keras.callbacks import EarlyStopping, ModelCheckpoint\n",
        "from keras.layers import LSTM\n",
        "import os"
      ],
      "execution_count": 238,
      "outputs": []
    },
    {
      "cell_type": "code",
      "metadata": {
        "id": "_EWOPlYLUoqJ"
      },
      "source": [
        "nn_model = Sequential()\n",
        "nn_model.add(Dense(128, activation='relu'))\n",
        "nn_model.add(Dense(1, activation='sigmoid'))\n",
        "\n",
        "# network.add(layers.Dense(128, input_shape=train_feature.shape,activation='relu'))\n",
        "# network.add(layers.Dense(64,activation='relu'))\n",
        "# network.add(layers.Dense(1))"
      ],
      "execution_count": 239,
      "outputs": []
    },
    {
      "cell_type": "code",
      "metadata": {
        "colab": {
          "base_uri": "https://localhost:8080/"
        },
        "id": "lXBhZELzU2rT",
        "outputId": "63ebb5f3-558b-45f8-80ca-9bd9658f1b54"
      },
      "source": [
        "nn_model.compile(loss='mean_squared_error', optimizer='adam',metrics=['mae', 'acc'])\n",
        "early_stop = EarlyStopping(monitor='val_loss', patience=5)\n",
        "model_path = '/content/gdrive/My Drive/Colab Notebooks'\n",
        "filename = os.path.join(model_path, 'tmp_nn_model1.h5')\n",
        "print(filename)\n",
        "checkpoint = ModelCheckpoint(filename, monitor='val_loss', verbose=1, save_best_only=True, mode='auto')\n",
        "\n",
        "history = nn_model.fit(X_train, y_train, \n",
        "                    epochs=200, \n",
        "                    batch_size=16,\n",
        "                    validation_data=(X_valid, y_valid), \n",
        "                    callbacks=[early_stop, checkpoint])\n"
      ],
      "execution_count": null,
      "outputs": [
        {
          "output_type": "stream",
          "text": [
            "/content/gdrive/My Drive/Colab Notebooks/tmp_nn_model1.h5\n",
            "Epoch 1/200\n",
            "2104/2104 [==============================] - 4s 2ms/step - loss: 0.0592 - mae: 0.1966 - acc: 0.1193 - val_loss: 0.0422 - val_mae: 0.1508 - val_acc: 0.1171\n",
            "\n",
            "Epoch 00001: val_loss improved from inf to 0.04220, saving model to /content/gdrive/My Drive/Colab Notebooks/tmp_nn_model1.h5\n",
            "Epoch 2/200\n",
            "2104/2104 [==============================] - 3s 2ms/step - loss: 0.0427 - mae: 0.1531 - acc: 0.1201 - val_loss: 0.0419 - val_mae: 0.1515 - val_acc: 0.1171\n",
            "\n",
            "Epoch 00002: val_loss improved from 0.04220 to 0.04188, saving model to /content/gdrive/My Drive/Colab Notebooks/tmp_nn_model1.h5\n",
            "Epoch 3/200\n",
            "2104/2104 [==============================] - 3s 1ms/step - loss: 0.0425 - mae: 0.1541 - acc: 0.1196 - val_loss: 0.0419 - val_mae: 0.1487 - val_acc: 0.1171\n",
            "\n",
            "Epoch 00003: val_loss did not improve from 0.04188\n",
            "Epoch 4/200\n",
            "2104/2104 [==============================] - 3s 2ms/step - loss: 0.0417 - mae: 0.1518 - acc: 0.1197 - val_loss: 0.0418 - val_mae: 0.1535 - val_acc: 0.1168\n",
            "\n",
            "Epoch 00004: val_loss improved from 0.04188 to 0.04181, saving model to /content/gdrive/My Drive/Colab Notebooks/tmp_nn_model1.h5\n",
            "Epoch 5/200\n",
            "2104/2104 [==============================] - 3s 2ms/step - loss: 0.0409 - mae: 0.1503 - acc: 0.1212 - val_loss: 0.0416 - val_mae: 0.1552 - val_acc: 0.1168\n",
            "\n",
            "Epoch 00005: val_loss improved from 0.04181 to 0.04163, saving model to /content/gdrive/My Drive/Colab Notebooks/tmp_nn_model1.h5\n",
            "Epoch 6/200\n",
            "2104/2104 [==============================] - 3s 1ms/step - loss: 0.0415 - mae: 0.1516 - acc: 0.1174 - val_loss: 0.0410 - val_mae: 0.1503 - val_acc: 0.1168\n",
            "\n",
            "Epoch 00006: val_loss improved from 0.04163 to 0.04105, saving model to /content/gdrive/My Drive/Colab Notebooks/tmp_nn_model1.h5\n",
            "Epoch 7/200\n",
            "2104/2104 [==============================] - 3s 2ms/step - loss: 0.0404 - mae: 0.1495 - acc: 0.1200 - val_loss: 0.0410 - val_mae: 0.1479 - val_acc: 0.1169\n",
            "\n",
            "Epoch 00007: val_loss improved from 0.04105 to 0.04102, saving model to /content/gdrive/My Drive/Colab Notebooks/tmp_nn_model1.h5\n",
            "Epoch 8/200\n",
            "2104/2104 [==============================] - 3s 2ms/step - loss: 0.0412 - mae: 0.1512 - acc: 0.1174 - val_loss: 0.0409 - val_mae: 0.1475 - val_acc: 0.1168\n",
            "\n",
            "Epoch 00008: val_loss improved from 0.04102 to 0.04089, saving model to /content/gdrive/My Drive/Colab Notebooks/tmp_nn_model1.h5\n",
            "Epoch 9/200\n",
            "2104/2104 [==============================] - 3s 1ms/step - loss: 0.0412 - mae: 0.1508 - acc: 0.1188 - val_loss: 0.0408 - val_mae: 0.1480 - val_acc: 0.1169\n",
            "\n",
            "Epoch 00009: val_loss improved from 0.04089 to 0.04077, saving model to /content/gdrive/My Drive/Colab Notebooks/tmp_nn_model1.h5\n",
            "Epoch 10/200\n",
            "2104/2104 [==============================] - 3s 2ms/step - loss: 0.0408 - mae: 0.1503 - acc: 0.1186 - val_loss: 0.0406 - val_mae: 0.1477 - val_acc: 0.1168\n",
            "\n",
            "Epoch 00010: val_loss improved from 0.04077 to 0.04058, saving model to /content/gdrive/My Drive/Colab Notebooks/tmp_nn_model1.h5\n",
            "Epoch 11/200\n",
            "2104/2104 [==============================] - 3s 2ms/step - loss: 0.0418 - mae: 0.1524 - acc: 0.1177 - val_loss: 0.0406 - val_mae: 0.1510 - val_acc: 0.1168\n",
            "\n",
            "Epoch 00011: val_loss improved from 0.04058 to 0.04057, saving model to /content/gdrive/My Drive/Colab Notebooks/tmp_nn_model1.h5\n",
            "Epoch 12/200\n",
            "2104/2104 [==============================] - 3s 2ms/step - loss: 0.0414 - mae: 0.1518 - acc: 0.1212 - val_loss: 0.0410 - val_mae: 0.1454 - val_acc: 0.1174\n",
            "\n",
            "Epoch 00012: val_loss did not improve from 0.04057\n",
            "Epoch 13/200\n",
            "2104/2104 [==============================] - 4s 2ms/step - loss: 0.0405 - mae: 0.1497 - acc: 0.1211 - val_loss: 0.0406 - val_mae: 0.1474 - val_acc: 0.1180\n",
            "\n",
            "Epoch 00013: val_loss did not improve from 0.04057\n",
            "Epoch 14/200\n",
            "2104/2104 [==============================] - 3s 2ms/step - loss: 0.0408 - mae: 0.1501 - acc: 0.1204 - val_loss: 0.0405 - val_mae: 0.1479 - val_acc: 0.1179\n",
            "\n",
            "Epoch 00014: val_loss improved from 0.04057 to 0.04048, saving model to /content/gdrive/My Drive/Colab Notebooks/tmp_nn_model1.h5\n",
            "Epoch 15/200\n",
            "2104/2104 [==============================] - 3s 2ms/step - loss: 0.0404 - mae: 0.1494 - acc: 0.1199 - val_loss: 0.0403 - val_mae: 0.1478 - val_acc: 0.1178\n",
            "\n",
            "Epoch 00015: val_loss improved from 0.04048 to 0.04034, saving model to /content/gdrive/My Drive/Colab Notebooks/tmp_nn_model1.h5\n",
            "Epoch 16/200\n",
            "2104/2104 [==============================] - 3s 2ms/step - loss: 0.0399 - mae: 0.1489 - acc: 0.1209 - val_loss: 0.0404 - val_mae: 0.1518 - val_acc: 0.1177\n",
            "\n",
            "Epoch 00016: val_loss did not improve from 0.04034\n",
            "Epoch 17/200\n",
            "1338/2104 [==================>...........] - ETA: 1s - loss: 0.0405 - mae: 0.1493 - acc: 0.1235"
          ],
          "name": "stdout"
        }
      ]
    },
    {
      "cell_type": "code",
      "metadata": {
        "id": "AMmjimJba88y"
      },
      "source": [
        "# weight 로딩\n",
        "nn_model.load_weights(filename)\n",
        "\n",
        "# 예측\n",
        "nn_pred = nn_model.predict(test_feature)"
      ],
      "execution_count": null,
      "outputs": []
    },
    {
      "cell_type": "code",
      "metadata": {
        "id": "aCOsyOuWVKeG"
      },
      "source": [
        "plt.figure(figsize=(16,10))\n",
        "ax1 = sns.distplot(test_label,hist=False,label='y')\n",
        "ax2 = sns.distplot(nn_pred,hist=False,label='y_hat',ax=ax1)\n",
        "\n",
        "plt.show()\n",
        "plt.close()"
      ],
      "execution_count": null,
      "outputs": []
    },
    {
      "cell_type": "code",
      "metadata": {
        "id": "VgIXhxrXVlZg"
      },
      "source": [
        "print(MSE(test_label, pred))\n",
        "#print(RMSE(test_label, pred))\n",
        "loss, acc, dfd = nn_model.evaluate(X_train, y_train)\n",
        "loss"
      ],
      "execution_count": null,
      "outputs": []
    },
    {
      "cell_type": "markdown",
      "metadata": {
        "id": "xN3DE9TOUhtZ"
      },
      "source": [
        "### lstm model"
      ]
    },
    {
      "cell_type": "code",
      "metadata": {
        "id": "y8xWHq2KwJUQ"
      },
      "source": [
        "lstm_model = Sequential()\n",
        "lstm_model.add(LSTM(128,input_shape=(train_feature.shape[1], train_feature.shape[2]), activation='relu', return_sequences=False))\n",
        "lstm_model.add(Dense(1, activation='sigmoid'))\n",
        "\n",
        "# network.add(layers.Dense(128, input_shape=train_feature.shape,activation='relu'))\n",
        "# network.add(layers.Dense(64,activation='relu'))\n",
        "# network.add(layers.Dense(1))"
      ],
      "execution_count": null,
      "outputs": []
    },
    {
      "cell_type": "code",
      "metadata": {
        "id": "4BIPuUHFz7Ze"
      },
      "source": [
        "lstm_model.compile(loss='mean_squared_error', optimizer='adam',metrics=['mae', 'acc'])\n",
        "early_stop = EarlyStopping(monitor='val_loss', patience=5)\n",
        "model_path = '/content/gdrive/My Drive/Colab Notebooks'\n",
        "filename = os.path.join(model_path, 'tmp_lstm1.h5')\n",
        "print(filename)\n",
        "checkpoint = ModelCheckpoint(filename, monitor='val_loss', verbose=1, save_best_only=True, mode='auto')\n",
        "\n",
        "history = lstm_model.fit(X_train, y_train, \n",
        "                    epochs=200, \n",
        "                    batch_size=16,\n",
        "                    validation_data=(X_valid, y_valid), \n",
        "                    callbacks=[early_stop, checkpoint])\n"
      ],
      "execution_count": null,
      "outputs": []
    },
    {
      "cell_type": "code",
      "metadata": {
        "id": "_UQcAzZn0lpC"
      },
      "source": [
        "# weight 로딩\n",
        "lstm_model.load_weights(filename)\n",
        "\n",
        "# 예측\n",
        "pred = lstm_model.predict(test_feature)"
      ],
      "execution_count": null,
      "outputs": []
    },
    {
      "cell_type": "code",
      "metadata": {
        "id": "Sf6pEx290nkC"
      },
      "source": [
        "plt.figure(figsize=(12, 9))\n",
        "plt.plot(test_label, label='actual')\n",
        "plt.plot(pred, label='prediction')\n",
        "plt.legend()\n",
        "plt.show()"
      ],
      "execution_count": null,
      "outputs": []
    },
    {
      "cell_type": "code",
      "metadata": {
        "id": "1D1tuTFv1ZRs"
      },
      "source": [
        "plt.figure(figsize=(16,10))\n",
        "ax1 = sns.distplot(test_label,hist=False,label='y')\n",
        "ax2 = sns.distplot(pred,hist=False,label='y_hat',ax=ax1)\n",
        "\n",
        "plt.show()\n",
        "plt.close()"
      ],
      "execution_count": null,
      "outputs": []
    },
    {
      "cell_type": "code",
      "metadata": {
        "id": "2IgsC1zhYJIP"
      },
      "source": [
        "print(MSE(test_label, pred)) \n",
        "#print(RMSE(test_label, pred))\n",
        "loss, acc, dfd = lstm_model.evaluate(X_train, y_train)\n",
        "loss"
      ],
      "execution_count": null,
      "outputs": []
    },
    {
      "cell_type": "code",
      "metadata": {
        "id": "B21t_8D93qbd"
      },
      "source": [
        ", stateful=True)"
      ],
      "execution_count": null,
      "outputs": []
    },
    {
      "cell_type": "code",
      "metadata": {
        "id": "Nb2Fzh6IYbEv"
      },
      "source": [
        ""
      ],
      "execution_count": null,
      "outputs": []
    }
  ]
}