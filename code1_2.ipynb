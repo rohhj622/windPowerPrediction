{
  "nbformat": 4,
  "nbformat_minor": 0,
  "metadata": {
    "colab": {
      "name": "code1-2.ipynb",
      "provenance": [],
      "collapsed_sections": [],
      "authorship_tag": "ABX9TyPphqKGOfPCt0MNn2kQvCTj",
      "include_colab_link": true
    },
    "kernelspec": {
      "display_name": "Python 3",
      "name": "python3"
    },
    "language_info": {
      "name": "python"
    }
  },
  "cells": [
    {
      "cell_type": "markdown",
      "metadata": {
        "id": "view-in-github",
        "colab_type": "text"
      },
      "source": [
        "<a href=\"https://colab.research.google.com/github/rohhj622/windPowerPrediction/blob/master/code1_2.ipynb\" target=\"_parent\"><img src=\"https://colab.research.google.com/assets/colab-badge.svg\" alt=\"Open In Colab\"/></a>"
      ]
    },
    {
      "cell_type": "markdown",
      "metadata": {
        "id": "Du2luE7Sis1X"
      },
      "source": [
        "# 1. 데이터 불러오기"
      ]
    },
    {
      "cell_type": "code",
      "metadata": {
        "id": "Vdy8dcPuMNrM"
      },
      "source": [
        "import pandas as pd\n",
        "import numpy as np\n",
        "import matplotlib as mpl\n",
        "import matplotlib.pyplot as plt\n",
        "import matplotlib.font_manager as fm\n",
        "import seaborn as sns\n",
        "from datetime import datetime\n",
        "\n",
        "from sklearn.preprocessing import MinMaxScaler\n",
        "\n",
        "from sklearn.model_selection import train_test_split\n",
        "from sklearn import model_selection\n",
        "from keras import models, layers, Sequential\n",
        "from keras.layers import LSTM, Dropout, Dense, Activation, Input"
      ],
      "execution_count": null,
      "outputs": []
    },
    {
      "cell_type": "markdown",
      "metadata": {
        "id": "YNty4GaoKvD2"
      },
      "source": [
        "## 1) 구글 드라이브 연결"
      ]
    },
    {
      "cell_type": "code",
      "metadata": {
        "colab": {
          "base_uri": "https://localhost:8080/"
        },
        "id": "_bQijgMDNnaL",
        "outputId": "d70b1ab4-bab4-445e-82bb-91cd7acc2eba"
      },
      "source": [
        "from google.colab import drive\n",
        "drive.mount('/content/gdrive')"
      ],
      "execution_count": null,
      "outputs": [
        {
          "output_type": "stream",
          "text": [
            "Drive already mounted at /content/gdrive; to attempt to forcibly remount, call drive.mount(\"/content/gdrive\", force_remount=True).\n"
          ],
          "name": "stdout"
        }
      ]
    },
    {
      "cell_type": "markdown",
      "metadata": {
        "id": "Owh8eo2RK5Nj"
      },
      "source": [
        "## 3) 데이터 불러오기 시작"
      ]
    },
    {
      "cell_type": "code",
      "metadata": {
        "colab": {
          "base_uri": "https://localhost:8080/",
          "height": 419
        },
        "id": "Dbt8iQJuMSAv",
        "outputId": "d9e1e2f1-3e21-48df-d47e-6f3277abf8b1"
      },
      "source": [
        "allData = pd.read_csv(r'/content/gdrive/My Drive/Colab Notebooks/preprocessing_Data.csv') # 컬럼명 숫자로 들어가게\n",
        "allData = allData.drop('Unnamed: 0',1)\n",
        "allData"
      ],
      "execution_count": null,
      "outputs": [
        {
          "output_type": "execute_result",
          "data": {
            "text/html": [
              "<div>\n",
              "<style scoped>\n",
              "    .dataframe tbody tr th:only-of-type {\n",
              "        vertical-align: middle;\n",
              "    }\n",
              "\n",
              "    .dataframe tbody tr th {\n",
              "        vertical-align: top;\n",
              "    }\n",
              "\n",
              "    .dataframe thead th {\n",
              "        text-align: right;\n",
              "    }\n",
              "</style>\n",
              "<table border=\"1\" class=\"dataframe\">\n",
              "  <thead>\n",
              "    <tr style=\"text-align: right;\">\n",
              "      <th></th>\n",
              "      <th>datetime</th>\n",
              "      <th>date</th>\n",
              "      <th>time</th>\n",
              "      <th>windForce</th>\n",
              "      <th>tem</th>\n",
              "      <th>windSpeed</th>\n",
              "      <th>windDirect</th>\n",
              "      <th>humidity</th>\n",
              "      <th>vaporPressure</th>\n",
              "      <th>dewPoint</th>\n",
              "      <th>pressure</th>\n",
              "      <th>seaLevelPressure</th>\n",
              "      <th>groundTem</th>\n",
              "    </tr>\n",
              "  </thead>\n",
              "  <tbody>\n",
              "    <tr>\n",
              "      <th>0</th>\n",
              "      <td>2013-01-01 00:00:00</td>\n",
              "      <td>2013-01-01 00:00:00</td>\n",
              "      <td>00:00</td>\n",
              "      <td>0</td>\n",
              "      <td>1.3</td>\n",
              "      <td>3.2</td>\n",
              "      <td>340</td>\n",
              "      <td>77.0</td>\n",
              "      <td>5.2</td>\n",
              "      <td>-2.2</td>\n",
              "      <td>1019.1</td>\n",
              "      <td>1021.3</td>\n",
              "      <td>0.0</td>\n",
              "    </tr>\n",
              "    <tr>\n",
              "      <th>1</th>\n",
              "      <td>2013-01-01 01:00:00</td>\n",
              "      <td>2013-01-01 00:00:00</td>\n",
              "      <td>01:00</td>\n",
              "      <td>0</td>\n",
              "      <td>0.9</td>\n",
              "      <td>2.6</td>\n",
              "      <td>320</td>\n",
              "      <td>77.0</td>\n",
              "      <td>5.0</td>\n",
              "      <td>-2.6</td>\n",
              "      <td>1019.0</td>\n",
              "      <td>1021.2</td>\n",
              "      <td>0.0</td>\n",
              "    </tr>\n",
              "    <tr>\n",
              "      <th>2</th>\n",
              "      <td>2013-01-01 02:00:00</td>\n",
              "      <td>2013-01-01 00:00:00</td>\n",
              "      <td>02:00</td>\n",
              "      <td>92</td>\n",
              "      <td>1.5</td>\n",
              "      <td>3.0</td>\n",
              "      <td>340</td>\n",
              "      <td>77.0</td>\n",
              "      <td>5.2</td>\n",
              "      <td>-2.1</td>\n",
              "      <td>1019.0</td>\n",
              "      <td>1021.2</td>\n",
              "      <td>0.0</td>\n",
              "    </tr>\n",
              "    <tr>\n",
              "      <th>3</th>\n",
              "      <td>2013-01-01 03:00:00</td>\n",
              "      <td>2013-01-01 00:00:00</td>\n",
              "      <td>03:00</td>\n",
              "      <td>269</td>\n",
              "      <td>2.7</td>\n",
              "      <td>1.7</td>\n",
              "      <td>270</td>\n",
              "      <td>74.0</td>\n",
              "      <td>5.5</td>\n",
              "      <td>-1.4</td>\n",
              "      <td>1019.0</td>\n",
              "      <td>1021.2</td>\n",
              "      <td>0.3</td>\n",
              "    </tr>\n",
              "    <tr>\n",
              "      <th>4</th>\n",
              "      <td>2013-01-01 04:00:00</td>\n",
              "      <td>2013-01-01 00:00:00</td>\n",
              "      <td>04:00</td>\n",
              "      <td>541</td>\n",
              "      <td>0.6</td>\n",
              "      <td>1.8</td>\n",
              "      <td>320</td>\n",
              "      <td>82.0</td>\n",
              "      <td>5.2</td>\n",
              "      <td>-2.1</td>\n",
              "      <td>1018.5</td>\n",
              "      <td>1020.8</td>\n",
              "      <td>0.1</td>\n",
              "    </tr>\n",
              "    <tr>\n",
              "      <th>...</th>\n",
              "      <td>...</td>\n",
              "      <td>...</td>\n",
              "      <td>...</td>\n",
              "      <td>...</td>\n",
              "      <td>...</td>\n",
              "      <td>...</td>\n",
              "      <td>...</td>\n",
              "      <td>...</td>\n",
              "      <td>...</td>\n",
              "      <td>...</td>\n",
              "      <td>...</td>\n",
              "      <td>...</td>\n",
              "      <td>...</td>\n",
              "    </tr>\n",
              "    <tr>\n",
              "      <th>52579</th>\n",
              "      <td>2018-12-31 19:00:00</td>\n",
              "      <td>2018-12-31 00:00:00</td>\n",
              "      <td>19:00</td>\n",
              "      <td>8699</td>\n",
              "      <td>4.3</td>\n",
              "      <td>4.7</td>\n",
              "      <td>340</td>\n",
              "      <td>58.0</td>\n",
              "      <td>4.8</td>\n",
              "      <td>-3.2</td>\n",
              "      <td>1032.1</td>\n",
              "      <td>1034.7</td>\n",
              "      <td>3.3</td>\n",
              "    </tr>\n",
              "    <tr>\n",
              "      <th>52580</th>\n",
              "      <td>2018-12-31 20:00:00</td>\n",
              "      <td>2018-12-31 00:00:00</td>\n",
              "      <td>20:00</td>\n",
              "      <td>10694</td>\n",
              "      <td>3.9</td>\n",
              "      <td>4.5</td>\n",
              "      <td>360</td>\n",
              "      <td>61.0</td>\n",
              "      <td>4.9</td>\n",
              "      <td>-2.9</td>\n",
              "      <td>1032.0</td>\n",
              "      <td>1034.6</td>\n",
              "      <td>2.9</td>\n",
              "    </tr>\n",
              "    <tr>\n",
              "      <th>52581</th>\n",
              "      <td>2018-12-31 21:00:00</td>\n",
              "      <td>2018-12-31 00:00:00</td>\n",
              "      <td>21:00</td>\n",
              "      <td>5494</td>\n",
              "      <td>3.5</td>\n",
              "      <td>4.0</td>\n",
              "      <td>360</td>\n",
              "      <td>59.0</td>\n",
              "      <td>4.6</td>\n",
              "      <td>-3.7</td>\n",
              "      <td>1031.9</td>\n",
              "      <td>1034.5</td>\n",
              "      <td>1.9</td>\n",
              "    </tr>\n",
              "    <tr>\n",
              "      <th>52582</th>\n",
              "      <td>2018-12-31 22:00:00</td>\n",
              "      <td>2018-12-31 00:00:00</td>\n",
              "      <td>22:00</td>\n",
              "      <td>2718</td>\n",
              "      <td>3.8</td>\n",
              "      <td>3.4</td>\n",
              "      <td>20</td>\n",
              "      <td>61.0</td>\n",
              "      <td>4.9</td>\n",
              "      <td>-3.0</td>\n",
              "      <td>1031.6</td>\n",
              "      <td>1034.2</td>\n",
              "      <td>2.1</td>\n",
              "    </tr>\n",
              "    <tr>\n",
              "      <th>52583</th>\n",
              "      <td>2018-12-31 23:00:00</td>\n",
              "      <td>2018-12-31 00:00:00</td>\n",
              "      <td>23:00</td>\n",
              "      <td>2458</td>\n",
              "      <td>3.7</td>\n",
              "      <td>2.5</td>\n",
              "      <td>20</td>\n",
              "      <td>64.0</td>\n",
              "      <td>5.1</td>\n",
              "      <td>-2.4</td>\n",
              "      <td>1032.0</td>\n",
              "      <td>1034.6</td>\n",
              "      <td>1.6</td>\n",
              "    </tr>\n",
              "  </tbody>\n",
              "</table>\n",
              "<p>52584 rows × 13 columns</p>\n",
              "</div>"
            ],
            "text/plain": [
              "                  datetime                 date  ... seaLevelPressure  groundTem\n",
              "0      2013-01-01 00:00:00  2013-01-01 00:00:00  ...           1021.3        0.0\n",
              "1      2013-01-01 01:00:00  2013-01-01 00:00:00  ...           1021.2        0.0\n",
              "2      2013-01-01 02:00:00  2013-01-01 00:00:00  ...           1021.2        0.0\n",
              "3      2013-01-01 03:00:00  2013-01-01 00:00:00  ...           1021.2        0.3\n",
              "4      2013-01-01 04:00:00  2013-01-01 00:00:00  ...           1020.8        0.1\n",
              "...                    ...                  ...  ...              ...        ...\n",
              "52579  2018-12-31 19:00:00  2018-12-31 00:00:00  ...           1034.7        3.3\n",
              "52580  2018-12-31 20:00:00  2018-12-31 00:00:00  ...           1034.6        2.9\n",
              "52581  2018-12-31 21:00:00  2018-12-31 00:00:00  ...           1034.5        1.9\n",
              "52582  2018-12-31 22:00:00  2018-12-31 00:00:00  ...           1034.2        2.1\n",
              "52583  2018-12-31 23:00:00  2018-12-31 00:00:00  ...           1034.6        1.6\n",
              "\n",
              "[52584 rows x 13 columns]"
            ]
          },
          "metadata": {
            "tags": []
          },
          "execution_count": 70
        }
      ]
    },
    {
      "cell_type": "markdown",
      "metadata": {
        "id": "O9YGmMb-oS9f"
      },
      "source": [
        "# 2. 데이터 가공하기 "
      ]
    },
    {
      "cell_type": "markdown",
      "metadata": {
        "id": "T3OvtUOvxhrF"
      },
      "source": [
        "## 1) datetime 컬럼 제작, datetime 형식으로 변환"
      ]
    },
    {
      "cell_type": "code",
      "metadata": {
        "colab": {
          "base_uri": "https://localhost:8080/",
          "height": 204
        },
        "id": "zZuEdl2Rro-B",
        "outputId": "ca2c39b1-cb6e-4f26-f8de-a5a043edf4e2"
      },
      "source": [
        "df = allData.copy()\n",
        "df['datetime'] = pd.to_datetime(df['datetime'],format='%Y-%m-%d %H:%M', errors='ignore') #합친거 datetime 형식으로 변환\n",
        "df['date'] = pd.to_datetime(df['date'],format='%Y-%m-%d', errors='ignore')  #date형식으로 변환\n",
        "#df['time'] = pd.to_datetime(df['time'],format='%H:%M', errors='ignore') #time 형식으로 변환\n",
        "df.head(5)"
      ],
      "execution_count": null,
      "outputs": [
        {
          "output_type": "execute_result",
          "data": {
            "text/html": [
              "<div>\n",
              "<style scoped>\n",
              "    .dataframe tbody tr th:only-of-type {\n",
              "        vertical-align: middle;\n",
              "    }\n",
              "\n",
              "    .dataframe tbody tr th {\n",
              "        vertical-align: top;\n",
              "    }\n",
              "\n",
              "    .dataframe thead th {\n",
              "        text-align: right;\n",
              "    }\n",
              "</style>\n",
              "<table border=\"1\" class=\"dataframe\">\n",
              "  <thead>\n",
              "    <tr style=\"text-align: right;\">\n",
              "      <th></th>\n",
              "      <th>datetime</th>\n",
              "      <th>date</th>\n",
              "      <th>time</th>\n",
              "      <th>windForce</th>\n",
              "      <th>tem</th>\n",
              "      <th>windSpeed</th>\n",
              "      <th>windDirect</th>\n",
              "      <th>humidity</th>\n",
              "      <th>vaporPressure</th>\n",
              "      <th>dewPoint</th>\n",
              "      <th>pressure</th>\n",
              "      <th>seaLevelPressure</th>\n",
              "      <th>groundTem</th>\n",
              "    </tr>\n",
              "  </thead>\n",
              "  <tbody>\n",
              "    <tr>\n",
              "      <th>0</th>\n",
              "      <td>2013-01-01 00:00:00</td>\n",
              "      <td>2013-01-01</td>\n",
              "      <td>00:00</td>\n",
              "      <td>0</td>\n",
              "      <td>1.3</td>\n",
              "      <td>3.2</td>\n",
              "      <td>340</td>\n",
              "      <td>77.0</td>\n",
              "      <td>5.2</td>\n",
              "      <td>-2.2</td>\n",
              "      <td>1019.1</td>\n",
              "      <td>1021.3</td>\n",
              "      <td>0.0</td>\n",
              "    </tr>\n",
              "    <tr>\n",
              "      <th>1</th>\n",
              "      <td>2013-01-01 01:00:00</td>\n",
              "      <td>2013-01-01</td>\n",
              "      <td>01:00</td>\n",
              "      <td>0</td>\n",
              "      <td>0.9</td>\n",
              "      <td>2.6</td>\n",
              "      <td>320</td>\n",
              "      <td>77.0</td>\n",
              "      <td>5.0</td>\n",
              "      <td>-2.6</td>\n",
              "      <td>1019.0</td>\n",
              "      <td>1021.2</td>\n",
              "      <td>0.0</td>\n",
              "    </tr>\n",
              "    <tr>\n",
              "      <th>2</th>\n",
              "      <td>2013-01-01 02:00:00</td>\n",
              "      <td>2013-01-01</td>\n",
              "      <td>02:00</td>\n",
              "      <td>92</td>\n",
              "      <td>1.5</td>\n",
              "      <td>3.0</td>\n",
              "      <td>340</td>\n",
              "      <td>77.0</td>\n",
              "      <td>5.2</td>\n",
              "      <td>-2.1</td>\n",
              "      <td>1019.0</td>\n",
              "      <td>1021.2</td>\n",
              "      <td>0.0</td>\n",
              "    </tr>\n",
              "    <tr>\n",
              "      <th>3</th>\n",
              "      <td>2013-01-01 03:00:00</td>\n",
              "      <td>2013-01-01</td>\n",
              "      <td>03:00</td>\n",
              "      <td>269</td>\n",
              "      <td>2.7</td>\n",
              "      <td>1.7</td>\n",
              "      <td>270</td>\n",
              "      <td>74.0</td>\n",
              "      <td>5.5</td>\n",
              "      <td>-1.4</td>\n",
              "      <td>1019.0</td>\n",
              "      <td>1021.2</td>\n",
              "      <td>0.3</td>\n",
              "    </tr>\n",
              "    <tr>\n",
              "      <th>4</th>\n",
              "      <td>2013-01-01 04:00:00</td>\n",
              "      <td>2013-01-01</td>\n",
              "      <td>04:00</td>\n",
              "      <td>541</td>\n",
              "      <td>0.6</td>\n",
              "      <td>1.8</td>\n",
              "      <td>320</td>\n",
              "      <td>82.0</td>\n",
              "      <td>5.2</td>\n",
              "      <td>-2.1</td>\n",
              "      <td>1018.5</td>\n",
              "      <td>1020.8</td>\n",
              "      <td>0.1</td>\n",
              "    </tr>\n",
              "  </tbody>\n",
              "</table>\n",
              "</div>"
            ],
            "text/plain": [
              "             datetime       date   time  ...  pressure  seaLevelPressure  groundTem\n",
              "0 2013-01-01 00:00:00 2013-01-01  00:00  ...    1019.1            1021.3        0.0\n",
              "1 2013-01-01 01:00:00 2013-01-01  01:00  ...    1019.0            1021.2        0.0\n",
              "2 2013-01-01 02:00:00 2013-01-01  02:00  ...    1019.0            1021.2        0.0\n",
              "3 2013-01-01 03:00:00 2013-01-01  03:00  ...    1019.0            1021.2        0.3\n",
              "4 2013-01-01 04:00:00 2013-01-01  04:00  ...    1018.5            1020.8        0.1\n",
              "\n",
              "[5 rows x 13 columns]"
            ]
          },
          "metadata": {
            "tags": []
          },
          "execution_count": 71
        }
      ]
    },
    {
      "cell_type": "markdown",
      "metadata": {
        "id": "ZJ_SCnwtAe1u"
      },
      "source": [
        "## 2) 년(year), 월(month), 일(day), 계절(season) 컬럼 생성\n",
        "\n"
      ]
    },
    {
      "cell_type": "code",
      "metadata": {
        "id": "KzBXhgwc1ss2",
        "colab": {
          "base_uri": "https://localhost:8080/",
          "height": 204
        },
        "outputId": "98f94567-7db0-4816-80a7-436195430fad"
      },
      "source": [
        "df['year'] = df['date'].dt.year # 년\n",
        "df['month'] = df['date'].dt.month # 월\n",
        "df['day'] = df['date'].dt.day# 일\n",
        "\n",
        "conditionlist = [\n",
        "    (df['month'] == 3)|(df['month'] == 4)| (df['month'] == 5) ,\n",
        "    (df['month'] == 6)|(df['month'] == 7)|(df['month'] == 8) ,\n",
        "    (df['month'] == 9)|(df['month'] == 10)|(df['month'] == 11),\n",
        "    (df['month'] == 12)|(df['month'] == 1)|(df['month'] == 2) ]\n",
        "choicelist = ['0', '1', '2','3']\n",
        "#choicelist = ['spring', 'summer', 'autumn','winter']\n",
        "df['season'] = np.select(conditionlist, choicelist, default='Not Specified')\n",
        "df.head(5)"
      ],
      "execution_count": null,
      "outputs": [
        {
          "output_type": "execute_result",
          "data": {
            "text/html": [
              "<div>\n",
              "<style scoped>\n",
              "    .dataframe tbody tr th:only-of-type {\n",
              "        vertical-align: middle;\n",
              "    }\n",
              "\n",
              "    .dataframe tbody tr th {\n",
              "        vertical-align: top;\n",
              "    }\n",
              "\n",
              "    .dataframe thead th {\n",
              "        text-align: right;\n",
              "    }\n",
              "</style>\n",
              "<table border=\"1\" class=\"dataframe\">\n",
              "  <thead>\n",
              "    <tr style=\"text-align: right;\">\n",
              "      <th></th>\n",
              "      <th>datetime</th>\n",
              "      <th>date</th>\n",
              "      <th>time</th>\n",
              "      <th>windForce</th>\n",
              "      <th>tem</th>\n",
              "      <th>windSpeed</th>\n",
              "      <th>windDirect</th>\n",
              "      <th>humidity</th>\n",
              "      <th>vaporPressure</th>\n",
              "      <th>dewPoint</th>\n",
              "      <th>pressure</th>\n",
              "      <th>seaLevelPressure</th>\n",
              "      <th>groundTem</th>\n",
              "      <th>year</th>\n",
              "      <th>month</th>\n",
              "      <th>day</th>\n",
              "      <th>season</th>\n",
              "    </tr>\n",
              "  </thead>\n",
              "  <tbody>\n",
              "    <tr>\n",
              "      <th>0</th>\n",
              "      <td>2013-01-01 00:00:00</td>\n",
              "      <td>2013-01-01</td>\n",
              "      <td>00:00</td>\n",
              "      <td>0</td>\n",
              "      <td>1.3</td>\n",
              "      <td>3.2</td>\n",
              "      <td>340</td>\n",
              "      <td>77.0</td>\n",
              "      <td>5.2</td>\n",
              "      <td>-2.2</td>\n",
              "      <td>1019.1</td>\n",
              "      <td>1021.3</td>\n",
              "      <td>0.0</td>\n",
              "      <td>2013</td>\n",
              "      <td>1</td>\n",
              "      <td>1</td>\n",
              "      <td>3</td>\n",
              "    </tr>\n",
              "    <tr>\n",
              "      <th>1</th>\n",
              "      <td>2013-01-01 01:00:00</td>\n",
              "      <td>2013-01-01</td>\n",
              "      <td>01:00</td>\n",
              "      <td>0</td>\n",
              "      <td>0.9</td>\n",
              "      <td>2.6</td>\n",
              "      <td>320</td>\n",
              "      <td>77.0</td>\n",
              "      <td>5.0</td>\n",
              "      <td>-2.6</td>\n",
              "      <td>1019.0</td>\n",
              "      <td>1021.2</td>\n",
              "      <td>0.0</td>\n",
              "      <td>2013</td>\n",
              "      <td>1</td>\n",
              "      <td>1</td>\n",
              "      <td>3</td>\n",
              "    </tr>\n",
              "    <tr>\n",
              "      <th>2</th>\n",
              "      <td>2013-01-01 02:00:00</td>\n",
              "      <td>2013-01-01</td>\n",
              "      <td>02:00</td>\n",
              "      <td>92</td>\n",
              "      <td>1.5</td>\n",
              "      <td>3.0</td>\n",
              "      <td>340</td>\n",
              "      <td>77.0</td>\n",
              "      <td>5.2</td>\n",
              "      <td>-2.1</td>\n",
              "      <td>1019.0</td>\n",
              "      <td>1021.2</td>\n",
              "      <td>0.0</td>\n",
              "      <td>2013</td>\n",
              "      <td>1</td>\n",
              "      <td>1</td>\n",
              "      <td>3</td>\n",
              "    </tr>\n",
              "    <tr>\n",
              "      <th>3</th>\n",
              "      <td>2013-01-01 03:00:00</td>\n",
              "      <td>2013-01-01</td>\n",
              "      <td>03:00</td>\n",
              "      <td>269</td>\n",
              "      <td>2.7</td>\n",
              "      <td>1.7</td>\n",
              "      <td>270</td>\n",
              "      <td>74.0</td>\n",
              "      <td>5.5</td>\n",
              "      <td>-1.4</td>\n",
              "      <td>1019.0</td>\n",
              "      <td>1021.2</td>\n",
              "      <td>0.3</td>\n",
              "      <td>2013</td>\n",
              "      <td>1</td>\n",
              "      <td>1</td>\n",
              "      <td>3</td>\n",
              "    </tr>\n",
              "    <tr>\n",
              "      <th>4</th>\n",
              "      <td>2013-01-01 04:00:00</td>\n",
              "      <td>2013-01-01</td>\n",
              "      <td>04:00</td>\n",
              "      <td>541</td>\n",
              "      <td>0.6</td>\n",
              "      <td>1.8</td>\n",
              "      <td>320</td>\n",
              "      <td>82.0</td>\n",
              "      <td>5.2</td>\n",
              "      <td>-2.1</td>\n",
              "      <td>1018.5</td>\n",
              "      <td>1020.8</td>\n",
              "      <td>0.1</td>\n",
              "      <td>2013</td>\n",
              "      <td>1</td>\n",
              "      <td>1</td>\n",
              "      <td>3</td>\n",
              "    </tr>\n",
              "  </tbody>\n",
              "</table>\n",
              "</div>"
            ],
            "text/plain": [
              "             datetime       date   time  windForce  ...  year  month  day  season\n",
              "0 2013-01-01 00:00:00 2013-01-01  00:00          0  ...  2013      1    1       3\n",
              "1 2013-01-01 01:00:00 2013-01-01  01:00          0  ...  2013      1    1       3\n",
              "2 2013-01-01 02:00:00 2013-01-01  02:00         92  ...  2013      1    1       3\n",
              "3 2013-01-01 03:00:00 2013-01-01  03:00        269  ...  2013      1    1       3\n",
              "4 2013-01-01 04:00:00 2013-01-01  04:00        541  ...  2013      1    1       3\n",
              "\n",
              "[5 rows x 17 columns]"
            ]
          },
          "metadata": {
            "tags": []
          },
          "execution_count": 72
        }
      ]
    },
    {
      "cell_type": "markdown",
      "metadata": {
        "id": "j4iLEsdct2FF"
      },
      "source": [
        "# 4. 훈련 & 예측"
      ]
    },
    {
      "cell_type": "markdown",
      "metadata": {
        "id": "qIQNuoxCt6US"
      },
      "source": [
        "## 1) train-test data 나누기"
      ]
    },
    {
      "cell_type": "code",
      "metadata": {
        "id": "8GznxWyKOXsN",
        "colab": {
          "base_uri": "https://localhost:8080/"
        },
        "outputId": "55c1619d-0b65-4df0-869c-2d42a86f43ec"
      },
      "source": [
        "df2 = df.copy()\n",
        "df2.info()"
      ],
      "execution_count": null,
      "outputs": [
        {
          "output_type": "stream",
          "text": [
            "<class 'pandas.core.frame.DataFrame'>\n",
            "RangeIndex: 52584 entries, 0 to 52583\n",
            "Data columns (total 17 columns):\n",
            " #   Column            Non-Null Count  Dtype         \n",
            "---  ------            --------------  -----         \n",
            " 0   datetime          52584 non-null  datetime64[ns]\n",
            " 1   date              52584 non-null  datetime64[ns]\n",
            " 2   time              52584 non-null  object        \n",
            " 3   windForce         52584 non-null  int64         \n",
            " 4   tem               52584 non-null  float64       \n",
            " 5   windSpeed         52584 non-null  float64       \n",
            " 6   windDirect        52584 non-null  int64         \n",
            " 7   humidity          52584 non-null  float64       \n",
            " 8   vaporPressure     52584 non-null  float64       \n",
            " 9   dewPoint          52584 non-null  float64       \n",
            " 10  pressure          52584 non-null  float64       \n",
            " 11  seaLevelPressure  52584 non-null  float64       \n",
            " 12  groundTem         52584 non-null  float64       \n",
            " 13  year              52584 non-null  int64         \n",
            " 14  month             52584 non-null  int64         \n",
            " 15  day               52584 non-null  int64         \n",
            " 16  season            52584 non-null  object        \n",
            "dtypes: datetime64[ns](2), float64(8), int64(5), object(2)\n",
            "memory usage: 6.8+ MB\n"
          ],
          "name": "stdout"
        }
      ]
    },
    {
      "cell_type": "code",
      "metadata": {
        "id": "ftbIQGGat85_",
        "colab": {
          "base_uri": "https://localhost:8080/"
        },
        "outputId": "77f184bb-0b16-4c88-cdca-1f8acba1170e"
      },
      "source": [
        "X = df2[['tem','windSpeed','windDirect','humidity']] #,'groundTem','seaLevelPressure'\n",
        "y = df2[['windForce']]\n",
        "\n",
        "transform = MinMaxScaler()\n",
        "trans_X=transform.fit_transform(X)\n",
        "trans_y=transform.fit_transform(y)\n",
        "\n",
        "X_train, X_test,y_train, y_test = train_test_split(X,y,test_size=0.2,random_state=10)\n",
        "print('train data 개수 : ', len(X_train))\n",
        "print('test data 개수: ', len(X_test))\n",
        "print(len(X_train)+len(X_test))"
      ],
      "execution_count": null,
      "outputs": [
        {
          "output_type": "stream",
          "text": [
            "train data 개수 :  42067\n",
            "test data 개수:  10517\n",
            "52584\n"
          ],
          "name": "stdout"
        }
      ]
    },
    {
      "cell_type": "markdown",
      "metadata": {
        "id": "H2fkJbbHWqGO"
      },
      "source": [
        "## 5. test\n"
      ]
    },
    {
      "cell_type": "code",
      "metadata": {
        "id": "EeXQhj7zX96j"
      },
      "source": [
        "network = models.Sequential()"
      ],
      "execution_count": null,
      "outputs": []
    },
    {
      "cell_type": "code",
      "metadata": {
        "id": "zGo_DWD0Zxrt"
      },
      "source": [
        "network.add(layers.Dense(128, input_dim=4,activation='relu'))\n",
        "network.add(layers.Dense(64,activation='relu'))\n",
        "network.add(layers.Dense(1))"
      ],
      "execution_count": null,
      "outputs": []
    },
    {
      "cell_type": "code",
      "metadata": {
        "id": "oRCkYh_Jau__"
      },
      "source": [
        "network.compile(optimizer='rmsprop',loss='binary_crossentropy', metrics=['acc'])\n",
        "# optimizer='rmsprop',loss='binary_crossentropy', metrics=['acc']\n",
        "# optimizer='adam', metrics=['accuracy']\n",
        "# loss='binary_crossentropy',metrics=['binary_accuracy']"
      ],
      "execution_count": null,
      "outputs": []
    },
    {
      "cell_type": "code",
      "metadata": {
        "colab": {
          "base_uri": "https://localhost:8080/"
        },
        "id": "EA4tmWHK25kD",
        "outputId": "41bed046-4fea-4cb9-ce7b-012b102a55de"
      },
      "source": [
        "network.fit(X_train, y_train, epochs=10, batch_size=16)"
      ],
      "execution_count": null,
      "outputs": [
        {
          "output_type": "stream",
          "text": [
            "Epoch 1/10\n",
            "2630/2630 [==============================] - 7s 3ms/step - loss: 47590.3867 - acc: 0.1186\n",
            "Epoch 2/10\n",
            "2630/2630 [==============================] - 6s 2ms/step - loss: 47590.3164 - acc: 0.1186\n",
            "Epoch 3/10\n",
            "2431/2630 [==========================>...] - ETA: 0s - loss: 47574.9805 - acc: 0.1180"
          ],
          "name": "stdout"
        }
      ]
    },
    {
      "cell_type": "code",
      "metadata": {
        "id": "OplXPUQzc0m1"
      },
      "source": [
        "y_pred = network.predict(X_test).flatten()"
      ],
      "execution_count": null,
      "outputs": []
    },
    {
      "cell_type": "code",
      "metadata": {
        "id": "wMX_1M_geGMn"
      },
      "source": [
        "plt.figure(figsize=(16,10))\n",
        "ax1 = sns.distplot(y_test,hist=False,label='y')\n",
        "ax2 = sns.distplot(y_pred,hist=False,label='y_hat',ax=ax1)\n",
        "\n",
        "plt.show()\n",
        "plt.close()"
      ],
      "execution_count": null,
      "outputs": []
    },
    {
      "cell_type": "code",
      "metadata": {
        "colab": {
          "base_uri": "https://localhost:8080/",
          "height": 204
        },
        "id": "7Ilxq7BKRLX4",
        "outputId": "1f86e211-e031-4058-e2db-6e2ccca27e0b"
      },
      "source": [
        "df2.head()"
      ],
      "execution_count": null,
      "outputs": [
        {
          "output_type": "execute_result",
          "data": {
            "text/html": [
              "<div>\n",
              "<style scoped>\n",
              "    .dataframe tbody tr th:only-of-type {\n",
              "        vertical-align: middle;\n",
              "    }\n",
              "\n",
              "    .dataframe tbody tr th {\n",
              "        vertical-align: top;\n",
              "    }\n",
              "\n",
              "    .dataframe thead th {\n",
              "        text-align: right;\n",
              "    }\n",
              "</style>\n",
              "<table border=\"1\" class=\"dataframe\">\n",
              "  <thead>\n",
              "    <tr style=\"text-align: right;\">\n",
              "      <th></th>\n",
              "      <th>datetime</th>\n",
              "      <th>date</th>\n",
              "      <th>time</th>\n",
              "      <th>windForce</th>\n",
              "      <th>tem</th>\n",
              "      <th>windSpeed</th>\n",
              "      <th>windDirect</th>\n",
              "      <th>humidity</th>\n",
              "      <th>vaporPressure</th>\n",
              "      <th>dewPoint</th>\n",
              "      <th>pressure</th>\n",
              "      <th>seaLevelPressure</th>\n",
              "      <th>groundTem</th>\n",
              "      <th>year</th>\n",
              "      <th>month</th>\n",
              "      <th>day</th>\n",
              "      <th>season</th>\n",
              "    </tr>\n",
              "  </thead>\n",
              "  <tbody>\n",
              "    <tr>\n",
              "      <th>0</th>\n",
              "      <td>2013-01-01 00:00:00</td>\n",
              "      <td>2013-01-01</td>\n",
              "      <td>00:00</td>\n",
              "      <td>0</td>\n",
              "      <td>1.3</td>\n",
              "      <td>3.2</td>\n",
              "      <td>340</td>\n",
              "      <td>77.0</td>\n",
              "      <td>5.2</td>\n",
              "      <td>-2.2</td>\n",
              "      <td>1019.1</td>\n",
              "      <td>1021.3</td>\n",
              "      <td>0.0</td>\n",
              "      <td>2013</td>\n",
              "      <td>1</td>\n",
              "      <td>1</td>\n",
              "      <td>3</td>\n",
              "    </tr>\n",
              "    <tr>\n",
              "      <th>1</th>\n",
              "      <td>2013-01-01 01:00:00</td>\n",
              "      <td>2013-01-01</td>\n",
              "      <td>01:00</td>\n",
              "      <td>0</td>\n",
              "      <td>0.9</td>\n",
              "      <td>2.6</td>\n",
              "      <td>320</td>\n",
              "      <td>77.0</td>\n",
              "      <td>5.0</td>\n",
              "      <td>-2.6</td>\n",
              "      <td>1019.0</td>\n",
              "      <td>1021.2</td>\n",
              "      <td>0.0</td>\n",
              "      <td>2013</td>\n",
              "      <td>1</td>\n",
              "      <td>1</td>\n",
              "      <td>3</td>\n",
              "    </tr>\n",
              "    <tr>\n",
              "      <th>2</th>\n",
              "      <td>2013-01-01 02:00:00</td>\n",
              "      <td>2013-01-01</td>\n",
              "      <td>02:00</td>\n",
              "      <td>92</td>\n",
              "      <td>1.5</td>\n",
              "      <td>3.0</td>\n",
              "      <td>340</td>\n",
              "      <td>77.0</td>\n",
              "      <td>5.2</td>\n",
              "      <td>-2.1</td>\n",
              "      <td>1019.0</td>\n",
              "      <td>1021.2</td>\n",
              "      <td>0.0</td>\n",
              "      <td>2013</td>\n",
              "      <td>1</td>\n",
              "      <td>1</td>\n",
              "      <td>3</td>\n",
              "    </tr>\n",
              "    <tr>\n",
              "      <th>3</th>\n",
              "      <td>2013-01-01 03:00:00</td>\n",
              "      <td>2013-01-01</td>\n",
              "      <td>03:00</td>\n",
              "      <td>269</td>\n",
              "      <td>2.7</td>\n",
              "      <td>1.7</td>\n",
              "      <td>270</td>\n",
              "      <td>74.0</td>\n",
              "      <td>5.5</td>\n",
              "      <td>-1.4</td>\n",
              "      <td>1019.0</td>\n",
              "      <td>1021.2</td>\n",
              "      <td>0.3</td>\n",
              "      <td>2013</td>\n",
              "      <td>1</td>\n",
              "      <td>1</td>\n",
              "      <td>3</td>\n",
              "    </tr>\n",
              "    <tr>\n",
              "      <th>4</th>\n",
              "      <td>2013-01-01 04:00:00</td>\n",
              "      <td>2013-01-01</td>\n",
              "      <td>04:00</td>\n",
              "      <td>541</td>\n",
              "      <td>0.6</td>\n",
              "      <td>1.8</td>\n",
              "      <td>320</td>\n",
              "      <td>82.0</td>\n",
              "      <td>5.2</td>\n",
              "      <td>-2.1</td>\n",
              "      <td>1018.5</td>\n",
              "      <td>1020.8</td>\n",
              "      <td>0.1</td>\n",
              "      <td>2013</td>\n",
              "      <td>1</td>\n",
              "      <td>1</td>\n",
              "      <td>3</td>\n",
              "    </tr>\n",
              "  </tbody>\n",
              "</table>\n",
              "</div>"
            ],
            "text/plain": [
              "             datetime       date   time  windForce  ...  year  month  day  season\n",
              "0 2013-01-01 00:00:00 2013-01-01  00:00          0  ...  2013      1    1       3\n",
              "1 2013-01-01 01:00:00 2013-01-01  01:00          0  ...  2013      1    1       3\n",
              "2 2013-01-01 02:00:00 2013-01-01  02:00         92  ...  2013      1    1       3\n",
              "3 2013-01-01 03:00:00 2013-01-01  03:00        269  ...  2013      1    1       3\n",
              "4 2013-01-01 04:00:00 2013-01-01  04:00        541  ...  2013      1    1       3\n",
              "\n",
              "[5 rows x 17 columns]"
            ]
          },
          "metadata": {
            "tags": []
          },
          "execution_count": 46
        }
      ]
    },
    {
      "cell_type": "code",
      "metadata": {
        "id": "zZ1mVquTfCeK",
        "colab": {
          "base_uri": "https://localhost:8080/",
          "height": 419
        },
        "outputId": "62062c35-fc00-4d48-d05f-e8954c3be548"
      },
      "source": [
        "# X = df2[['tem','windSpeed','humidity','groundTem','windDirect','seaLevelPressure']] #,'windDirect'\n",
        "# X = df2[['tem','windSpeed','groundTem']] #,'windDirect'\n",
        "transform = MinMaxScaler()\n",
        "\n",
        "scale_cols=['tem','windSpeed','groundTem','windForce']\n",
        "df_scaled = df2[['tem','windSpeed','groundTem','windForce']] \n",
        "df_scaled = transform.fit_transform(df_scaled)\n",
        "df_scaled = pd.DataFrame(df_scaled)\n",
        "df_scaled.columns = scale_cols\n",
        "\n",
        "df_scaled"
      ],
      "execution_count": null,
      "outputs": [
        {
          "output_type": "execute_result",
          "data": {
            "text/html": [
              "<div>\n",
              "<style scoped>\n",
              "    .dataframe tbody tr th:only-of-type {\n",
              "        vertical-align: middle;\n",
              "    }\n",
              "\n",
              "    .dataframe tbody tr th {\n",
              "        vertical-align: top;\n",
              "    }\n",
              "\n",
              "    .dataframe thead th {\n",
              "        text-align: right;\n",
              "    }\n",
              "</style>\n",
              "<table border=\"1\" class=\"dataframe\">\n",
              "  <thead>\n",
              "    <tr style=\"text-align: right;\">\n",
              "      <th></th>\n",
              "      <th>tem</th>\n",
              "      <th>windSpeed</th>\n",
              "      <th>groundTem</th>\n",
              "      <th>windForce</th>\n",
              "    </tr>\n",
              "  </thead>\n",
              "  <tbody>\n",
              "    <tr>\n",
              "      <th>0</th>\n",
              "      <td>0.190123</td>\n",
              "      <td>0.180791</td>\n",
              "      <td>0.061135</td>\n",
              "      <td>0.000000</td>\n",
              "    </tr>\n",
              "    <tr>\n",
              "      <th>1</th>\n",
              "      <td>0.180247</td>\n",
              "      <td>0.146893</td>\n",
              "      <td>0.061135</td>\n",
              "      <td>0.000000</td>\n",
              "    </tr>\n",
              "    <tr>\n",
              "      <th>2</th>\n",
              "      <td>0.195062</td>\n",
              "      <td>0.169492</td>\n",
              "      <td>0.061135</td>\n",
              "      <td>0.007663</td>\n",
              "    </tr>\n",
              "    <tr>\n",
              "      <th>3</th>\n",
              "      <td>0.224691</td>\n",
              "      <td>0.096045</td>\n",
              "      <td>0.065502</td>\n",
              "      <td>0.022407</td>\n",
              "    </tr>\n",
              "    <tr>\n",
              "      <th>4</th>\n",
              "      <td>0.172840</td>\n",
              "      <td>0.101695</td>\n",
              "      <td>0.062591</td>\n",
              "      <td>0.045065</td>\n",
              "    </tr>\n",
              "    <tr>\n",
              "      <th>...</th>\n",
              "      <td>...</td>\n",
              "      <td>...</td>\n",
              "      <td>...</td>\n",
              "      <td>...</td>\n",
              "    </tr>\n",
              "    <tr>\n",
              "      <th>52579</th>\n",
              "      <td>0.264198</td>\n",
              "      <td>0.265537</td>\n",
              "      <td>0.109170</td>\n",
              "      <td>0.724615</td>\n",
              "    </tr>\n",
              "    <tr>\n",
              "      <th>52580</th>\n",
              "      <td>0.254321</td>\n",
              "      <td>0.254237</td>\n",
              "      <td>0.103348</td>\n",
              "      <td>0.890796</td>\n",
              "    </tr>\n",
              "    <tr>\n",
              "      <th>52581</th>\n",
              "      <td>0.244444</td>\n",
              "      <td>0.225989</td>\n",
              "      <td>0.088792</td>\n",
              "      <td>0.457643</td>\n",
              "    </tr>\n",
              "    <tr>\n",
              "      <th>52582</th>\n",
              "      <td>0.251852</td>\n",
              "      <td>0.192090</td>\n",
              "      <td>0.091703</td>\n",
              "      <td>0.226406</td>\n",
              "    </tr>\n",
              "    <tr>\n",
              "      <th>52583</th>\n",
              "      <td>0.249383</td>\n",
              "      <td>0.141243</td>\n",
              "      <td>0.084425</td>\n",
              "      <td>0.204748</td>\n",
              "    </tr>\n",
              "  </tbody>\n",
              "</table>\n",
              "<p>52584 rows × 4 columns</p>\n",
              "</div>"
            ],
            "text/plain": [
              "            tem  windSpeed  groundTem  windForce\n",
              "0      0.190123   0.180791   0.061135   0.000000\n",
              "1      0.180247   0.146893   0.061135   0.000000\n",
              "2      0.195062   0.169492   0.061135   0.007663\n",
              "3      0.224691   0.096045   0.065502   0.022407\n",
              "4      0.172840   0.101695   0.062591   0.045065\n",
              "...         ...        ...        ...        ...\n",
              "52579  0.264198   0.265537   0.109170   0.724615\n",
              "52580  0.254321   0.254237   0.103348   0.890796\n",
              "52581  0.244444   0.225989   0.088792   0.457643\n",
              "52582  0.251852   0.192090   0.091703   0.226406\n",
              "52583  0.249383   0.141243   0.084425   0.204748\n",
              "\n",
              "[52584 rows x 4 columns]"
            ]
          },
          "metadata": {
            "tags": []
          },
          "execution_count": 47
        }
      ]
    },
    {
      "cell_type": "code",
      "metadata": {
        "id": "34MdXe2sZKkw"
      },
      "source": [
        "WINDOW_SIZE = 100\n",
        "\n",
        "trans_X = df_scaled[['tem','windSpeed','groundTem']]\n",
        "trans_y = df_scaled[['windForce']]\n",
        "\n",
        "X_train, X_test,y_train, y_test = train_test_split(trans_X,trans_y,test_size=0.2,random_state=10)"
      ],
      "execution_count": null,
      "outputs": []
    },
    {
      "cell_type": "code",
      "metadata": {
        "id": "eijUVK6FZe8i",
        "colab": {
          "base_uri": "https://localhost:8080/"
        },
        "outputId": "0253b20f-5c58-4848-d551-17fdcb59181c"
      },
      "source": [
        "def make_dataset(data, label, window_size=1):\n",
        "    feature_list = []\n",
        "    label_list = []\n",
        "    for i in range(len(data) - window_size):\n",
        "        feature_list.append(np.array(data.iloc[i:i+window_size]))\n",
        "        label_list.append(np.array(label.iloc[i+window_size]))\n",
        "    return np.array(feature_list), np.array(label_list)\n",
        "\n",
        "train_feature, train_label = make_dataset(trans_X, trans_y, 1)\n",
        "train_feature"
      ],
      "execution_count": null,
      "outputs": [
        {
          "output_type": "execute_result",
          "data": {
            "text/plain": [
              "array([[[0.19012346, 0.18079096, 0.06113537]],\n",
              "\n",
              "       [[0.18024691, 0.14689266, 0.06113537]],\n",
              "\n",
              "       [[0.19506173, 0.16949153, 0.06113537]],\n",
              "\n",
              "       ...,\n",
              "\n",
              "       [[0.25432099, 0.25423729, 0.10334789]],\n",
              "\n",
              "       [[0.24444444, 0.2259887 , 0.08879185]],\n",
              "\n",
              "       [[0.25185185, 0.1920904 , 0.09170306]]])"
            ]
          },
          "metadata": {
            "tags": []
          },
          "execution_count": 88
        }
      ]
    },
    {
      "cell_type": "code",
      "metadata": {
        "colab": {
          "base_uri": "https://localhost:8080/"
        },
        "id": "JZb1dA0ePusy",
        "outputId": "e8ba6693-fdfa-4497-a112-6ca781e614f1"
      },
      "source": [
        "#X_train, X_test,y_train, y_test = train_test_split(X,y,test_size=0.3,random_state=10)\n",
        "# X_train, X_test,y_train, y_test = train_test_split(trans_X,trans_y,test_size=0.2,random_state=10)\n",
        "X_train, X_test,y_train, y_test = train_test_split(train_feature,train_label,test_size=0.2,random_state=10)\n",
        "\n",
        "\n",
        "print('train data 개수 : ', len(X_train))\n",
        "print('test data 개수: ', len(X_test))\n",
        "print(len(X_train)+len(X_test))"
      ],
      "execution_count": null,
      "outputs": [
        {
          "output_type": "stream",
          "text": [
            "train data 개수 :  42066\n",
            "test data 개수:  10517\n",
            "52583\n"
          ],
          "name": "stdout"
        }
      ]
    },
    {
      "cell_type": "code",
      "metadata": {
        "colab": {
          "base_uri": "https://localhost:8080/",
          "height": 174
        },
        "id": "bTvlpaIbB6ta",
        "outputId": "2c1c115e-4dcb-4996-87f7-062431eb1e03"
      },
      "source": [
        "X_train.head()"
      ],
      "execution_count": null,
      "outputs": [
        {
          "output_type": "error",
          "ename": "AttributeError",
          "evalue": "ignored",
          "traceback": [
            "\u001b[0;31m---------------------------------------------------------------------------\u001b[0m",
            "\u001b[0;31mAttributeError\u001b[0m                            Traceback (most recent call last)",
            "\u001b[0;32m<ipython-input-51-73020798007e>\u001b[0m in \u001b[0;36m<module>\u001b[0;34m()\u001b[0m\n\u001b[0;32m----> 1\u001b[0;31m \u001b[0mX_train\u001b[0m\u001b[0;34m.\u001b[0m\u001b[0mhead\u001b[0m\u001b[0;34m(\u001b[0m\u001b[0;34m)\u001b[0m\u001b[0;34m\u001b[0m\u001b[0;34m\u001b[0m\u001b[0m\n\u001b[0m",
            "\u001b[0;31mAttributeError\u001b[0m: 'numpy.ndarray' object has no attribute 'head'"
          ]
        }
      ]
    },
    {
      "cell_type": "code",
      "metadata": {
        "id": "CQGHWy9Lk2Si"
      },
      "source": [
        "X_train = X_train.values\n",
        "X_test= X_test.values\n",
        "\n",
        "y_train = y_train.values\n",
        "y_test = y_test.values"
      ],
      "execution_count": null,
      "outputs": []
    },
    {
      "cell_type": "code",
      "metadata": {
        "id": "9SYN7ZZ3k7z0"
      },
      "source": [
        "X_train_t = X_train.reshape(X_train.shape[0], 3, 1) \n",
        "X_test_t = X_test.reshape(X_test.shape[0], 3, 1)"
      ],
      "execution_count": null,
      "outputs": []
    },
    {
      "cell_type": "code",
      "metadata": {
        "id": "wPIz6H1QjVfw"
      },
      "source": [
        "# from keras.layers import LSTM \n",
        "# from keras.models import Sequential \n",
        "# from keras.layers import Dense \n",
        "# import keras.backend as K \n",
        "# from keras.callbacks import EarlyStopping\n",
        "\n",
        "# K.clear_session()\n",
        "    \n",
        "# model = Sequential() # Sequeatial Model \n",
        "# model.add(LSTM(20, input_shape=(3, 1), return_sequences=True)) # (timestep, feature) \n",
        "# model.add(Dense(1)) # output = 1 \n",
        "# model.compile(optimizer='rmsprop', loss='binary_crossentropy', metrics=['acc']) \n",
        "# model.summary()"
      ],
      "execution_count": null,
      "outputs": []
    },
    {
      "cell_type": "code",
      "metadata": {
        "id": "1jTbiHcxjmOg"
      },
      "source": [
        "# early_stop = EarlyStopping(monitor='loss', patience=1, verbose=1)\n",
        "\n",
        "# model.fit(X_train_t, y_train, epochs=100,batch_size=30, verbose=1, callbacks=[early_stop])"
      ],
      "execution_count": null,
      "outputs": []
    },
    {
      "cell_type": "code",
      "metadata": {
        "id": "UiMm9FKqO1Lk"
      },
      "source": [
        "network = models.Sequential()\n",
        "network.add(LSTM(20, input_shape=(3, 1), return_sequences=True))\n",
        "\n",
        "# network.add(layers.Dense(2, input_dim=3, activation='relu'))\n",
        "# network.add(layers.LSTM(2, input_shape=X_train.shape, return_sequences=False))\n",
        "# network.add(layers.Dense(2))\n",
        "# network.add(layers.Dense(1))\n",
        "\n",
        "network.compile(optimizer='rmsprop',loss='binary_crossentropy', metrics=['acc'])\n",
        "\n",
        "network.summary()"
      ],
      "execution_count": null,
      "outputs": []
    },
    {
      "cell_type": "code",
      "metadata": {
        "id": "JoezSEdV-q2c"
      },
      "source": [
        "network.fit(X_train_t, y_train, epochs=43 , batch_size=32)\n",
        "\n",
        "\n",
        "scores = network.evaluate(X_test, y_test, batch_size=32)\n",
        "print(\"%s: %.2f%%\" %(network.metrics_names[1], scores[1]*100))"
      ],
      "execution_count": null,
      "outputs": []
    },
    {
      "cell_type": "code",
      "metadata": {
        "id": "nTh-xr6yRx6i"
      },
      "source": [
        ""
      ],
      "execution_count": null,
      "outputs": []
    },
    {
      "cell_type": "code",
      "metadata": {
        "id": "gq-PhJUZ-sBp"
      },
      "source": [
        "y_pred = network.predict(X_test).flatten()\n",
        "\n",
        "plt.figure(figsize=(16,10))\n",
        "ax1 = sns.distplot(y_test,hist=False,label='y')\n",
        "ax2 = sns.distplot(y_pred,hist=False,label='y_hat',ax=ax1)\n",
        "\n",
        "plt.show()\n",
        "plt.close()"
      ],
      "execution_count": null,
      "outputs": []
    },
    {
      "cell_type": "code",
      "metadata": {
        "id": "pkCmdDUBN4Hu"
      },
      "source": [
        ""
      ],
      "execution_count": null,
      "outputs": []
    }
  ]
}