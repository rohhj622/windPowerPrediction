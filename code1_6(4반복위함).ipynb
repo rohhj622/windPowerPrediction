{
  "nbformat": 4,
  "nbformat_minor": 0,
  "metadata": {
    "colab": {
      "name": "code1-6(4반복위함).ipynb",
      "provenance": [],
      "collapsed_sections": [],
      "authorship_tag": "ABX9TyPVrYlsF8UNoydAOxn9Eh/c",
      "include_colab_link": true
    },
    "kernelspec": {
      "display_name": "Python 3",
      "name": "python3"
    },
    "language_info": {
      "name": "python"
    }
  },
  "cells": [
    {
      "cell_type": "markdown",
      "metadata": {
        "id": "view-in-github",
        "colab_type": "text"
      },
      "source": [
        "<a href=\"https://colab.research.google.com/github/rohhj622/windPowerPrediction/blob/master/code1_6(4%EB%B0%98%EB%B3%B5%EC%9C%84%ED%95%A8).ipynb\" target=\"_parent\"><img src=\"https://colab.research.google.com/assets/colab-badge.svg\" alt=\"Open In Colab\"/></a>"
      ]
    },
    {
      "cell_type": "markdown",
      "metadata": {
        "id": "Du2luE7Sis1X"
      },
      "source": [
        "# 1. 데이터 불러오기"
      ]
    },
    {
      "cell_type": "code",
      "metadata": {
        "id": "Vdy8dcPuMNrM"
      },
      "source": [
        "import pandas as pd\n",
        "import numpy as np\n",
        "import matplotlib as mpl\n",
        "import matplotlib.pyplot as plt\n",
        "import matplotlib.font_manager as fm\n",
        "import seaborn as sns\n",
        "from datetime import datetime\n",
        "\n",
        "from sklearn.preprocessing import MinMaxScaler\n",
        "\n",
        "from sklearn.model_selection import train_test_split\n",
        "from sklearn import model_selection\n",
        "from keras import models, layers, Sequential\n",
        "from keras.layers import LSTM, Dropout, Dense, Activation, Input, SimpleRNN"
      ],
      "execution_count": 66,
      "outputs": []
    },
    {
      "cell_type": "markdown",
      "metadata": {
        "id": "YNty4GaoKvD2"
      },
      "source": [
        "## 1) 구글 드라이브 연결"
      ]
    },
    {
      "cell_type": "code",
      "metadata": {
        "colab": {
          "base_uri": "https://localhost:8080/"
        },
        "id": "_bQijgMDNnaL",
        "outputId": "08d4eb26-192b-4906-f217-d5d28af27c22"
      },
      "source": [
        "from google.colab import drive\n",
        "drive.mount('/content/gdrive')"
      ],
      "execution_count": 67,
      "outputs": [
        {
          "output_type": "stream",
          "text": [
            "Drive already mounted at /content/gdrive; to attempt to forcibly remount, call drive.mount(\"/content/gdrive\", force_remount=True).\n"
          ],
          "name": "stdout"
        }
      ]
    },
    {
      "cell_type": "markdown",
      "metadata": {
        "id": "Owh8eo2RK5Nj"
      },
      "source": [
        "## 3) 데이터 불러오기 시작"
      ]
    },
    {
      "cell_type": "code",
      "metadata": {
        "colab": {
          "base_uri": "https://localhost:8080/",
          "height": 419
        },
        "id": "Dbt8iQJuMSAv",
        "outputId": "8e00be12-fd2a-4b21-e77d-c073f87cd8bd"
      },
      "source": [
        "allData = pd.read_csv(r'/content/gdrive/My Drive/Colab Notebooks/preprocessing_Data.csv') # 컬럼명 숫자로 들어가게\n",
        "allData = allData.drop('Unnamed: 0',1)\n",
        "allData"
      ],
      "execution_count": 68,
      "outputs": [
        {
          "output_type": "execute_result",
          "data": {
            "text/html": [
              "<div>\n",
              "<style scoped>\n",
              "    .dataframe tbody tr th:only-of-type {\n",
              "        vertical-align: middle;\n",
              "    }\n",
              "\n",
              "    .dataframe tbody tr th {\n",
              "        vertical-align: top;\n",
              "    }\n",
              "\n",
              "    .dataframe thead th {\n",
              "        text-align: right;\n",
              "    }\n",
              "</style>\n",
              "<table border=\"1\" class=\"dataframe\">\n",
              "  <thead>\n",
              "    <tr style=\"text-align: right;\">\n",
              "      <th></th>\n",
              "      <th>datetime</th>\n",
              "      <th>date</th>\n",
              "      <th>time</th>\n",
              "      <th>windForce</th>\n",
              "      <th>tem</th>\n",
              "      <th>windSpeed</th>\n",
              "      <th>windDirect</th>\n",
              "      <th>humidity</th>\n",
              "      <th>vaporPressure</th>\n",
              "      <th>dewPoint</th>\n",
              "      <th>pressure</th>\n",
              "      <th>seaLevelPressure</th>\n",
              "      <th>groundTem</th>\n",
              "    </tr>\n",
              "  </thead>\n",
              "  <tbody>\n",
              "    <tr>\n",
              "      <th>0</th>\n",
              "      <td>2013-01-01 00:00:00</td>\n",
              "      <td>2013-01-01 00:00:00</td>\n",
              "      <td>00:00</td>\n",
              "      <td>0</td>\n",
              "      <td>1.3</td>\n",
              "      <td>3.2</td>\n",
              "      <td>340</td>\n",
              "      <td>77.0</td>\n",
              "      <td>5.2</td>\n",
              "      <td>-2.2</td>\n",
              "      <td>1019.1</td>\n",
              "      <td>1021.3</td>\n",
              "      <td>0.0</td>\n",
              "    </tr>\n",
              "    <tr>\n",
              "      <th>1</th>\n",
              "      <td>2013-01-01 01:00:00</td>\n",
              "      <td>2013-01-01 00:00:00</td>\n",
              "      <td>01:00</td>\n",
              "      <td>0</td>\n",
              "      <td>0.9</td>\n",
              "      <td>2.6</td>\n",
              "      <td>320</td>\n",
              "      <td>77.0</td>\n",
              "      <td>5.0</td>\n",
              "      <td>-2.6</td>\n",
              "      <td>1019.0</td>\n",
              "      <td>1021.2</td>\n",
              "      <td>0.0</td>\n",
              "    </tr>\n",
              "    <tr>\n",
              "      <th>2</th>\n",
              "      <td>2013-01-01 02:00:00</td>\n",
              "      <td>2013-01-01 00:00:00</td>\n",
              "      <td>02:00</td>\n",
              "      <td>92</td>\n",
              "      <td>1.5</td>\n",
              "      <td>3.0</td>\n",
              "      <td>340</td>\n",
              "      <td>77.0</td>\n",
              "      <td>5.2</td>\n",
              "      <td>-2.1</td>\n",
              "      <td>1019.0</td>\n",
              "      <td>1021.2</td>\n",
              "      <td>0.0</td>\n",
              "    </tr>\n",
              "    <tr>\n",
              "      <th>3</th>\n",
              "      <td>2013-01-01 03:00:00</td>\n",
              "      <td>2013-01-01 00:00:00</td>\n",
              "      <td>03:00</td>\n",
              "      <td>269</td>\n",
              "      <td>2.7</td>\n",
              "      <td>1.7</td>\n",
              "      <td>270</td>\n",
              "      <td>74.0</td>\n",
              "      <td>5.5</td>\n",
              "      <td>-1.4</td>\n",
              "      <td>1019.0</td>\n",
              "      <td>1021.2</td>\n",
              "      <td>0.3</td>\n",
              "    </tr>\n",
              "    <tr>\n",
              "      <th>4</th>\n",
              "      <td>2013-01-01 04:00:00</td>\n",
              "      <td>2013-01-01 00:00:00</td>\n",
              "      <td>04:00</td>\n",
              "      <td>541</td>\n",
              "      <td>0.6</td>\n",
              "      <td>1.8</td>\n",
              "      <td>320</td>\n",
              "      <td>82.0</td>\n",
              "      <td>5.2</td>\n",
              "      <td>-2.1</td>\n",
              "      <td>1018.5</td>\n",
              "      <td>1020.8</td>\n",
              "      <td>0.1</td>\n",
              "    </tr>\n",
              "    <tr>\n",
              "      <th>...</th>\n",
              "      <td>...</td>\n",
              "      <td>...</td>\n",
              "      <td>...</td>\n",
              "      <td>...</td>\n",
              "      <td>...</td>\n",
              "      <td>...</td>\n",
              "      <td>...</td>\n",
              "      <td>...</td>\n",
              "      <td>...</td>\n",
              "      <td>...</td>\n",
              "      <td>...</td>\n",
              "      <td>...</td>\n",
              "      <td>...</td>\n",
              "    </tr>\n",
              "    <tr>\n",
              "      <th>52579</th>\n",
              "      <td>2018-12-31 19:00:00</td>\n",
              "      <td>2018-12-31 00:00:00</td>\n",
              "      <td>19:00</td>\n",
              "      <td>8699</td>\n",
              "      <td>4.3</td>\n",
              "      <td>4.7</td>\n",
              "      <td>340</td>\n",
              "      <td>58.0</td>\n",
              "      <td>4.8</td>\n",
              "      <td>-3.2</td>\n",
              "      <td>1032.1</td>\n",
              "      <td>1034.7</td>\n",
              "      <td>3.3</td>\n",
              "    </tr>\n",
              "    <tr>\n",
              "      <th>52580</th>\n",
              "      <td>2018-12-31 20:00:00</td>\n",
              "      <td>2018-12-31 00:00:00</td>\n",
              "      <td>20:00</td>\n",
              "      <td>10694</td>\n",
              "      <td>3.9</td>\n",
              "      <td>4.5</td>\n",
              "      <td>360</td>\n",
              "      <td>61.0</td>\n",
              "      <td>4.9</td>\n",
              "      <td>-2.9</td>\n",
              "      <td>1032.0</td>\n",
              "      <td>1034.6</td>\n",
              "      <td>2.9</td>\n",
              "    </tr>\n",
              "    <tr>\n",
              "      <th>52581</th>\n",
              "      <td>2018-12-31 21:00:00</td>\n",
              "      <td>2018-12-31 00:00:00</td>\n",
              "      <td>21:00</td>\n",
              "      <td>5494</td>\n",
              "      <td>3.5</td>\n",
              "      <td>4.0</td>\n",
              "      <td>360</td>\n",
              "      <td>59.0</td>\n",
              "      <td>4.6</td>\n",
              "      <td>-3.7</td>\n",
              "      <td>1031.9</td>\n",
              "      <td>1034.5</td>\n",
              "      <td>1.9</td>\n",
              "    </tr>\n",
              "    <tr>\n",
              "      <th>52582</th>\n",
              "      <td>2018-12-31 22:00:00</td>\n",
              "      <td>2018-12-31 00:00:00</td>\n",
              "      <td>22:00</td>\n",
              "      <td>2718</td>\n",
              "      <td>3.8</td>\n",
              "      <td>3.4</td>\n",
              "      <td>20</td>\n",
              "      <td>61.0</td>\n",
              "      <td>4.9</td>\n",
              "      <td>-3.0</td>\n",
              "      <td>1031.6</td>\n",
              "      <td>1034.2</td>\n",
              "      <td>2.1</td>\n",
              "    </tr>\n",
              "    <tr>\n",
              "      <th>52583</th>\n",
              "      <td>2018-12-31 23:00:00</td>\n",
              "      <td>2018-12-31 00:00:00</td>\n",
              "      <td>23:00</td>\n",
              "      <td>2458</td>\n",
              "      <td>3.7</td>\n",
              "      <td>2.5</td>\n",
              "      <td>20</td>\n",
              "      <td>64.0</td>\n",
              "      <td>5.1</td>\n",
              "      <td>-2.4</td>\n",
              "      <td>1032.0</td>\n",
              "      <td>1034.6</td>\n",
              "      <td>1.6</td>\n",
              "    </tr>\n",
              "  </tbody>\n",
              "</table>\n",
              "<p>52584 rows × 13 columns</p>\n",
              "</div>"
            ],
            "text/plain": [
              "                  datetime                 date  ... seaLevelPressure  groundTem\n",
              "0      2013-01-01 00:00:00  2013-01-01 00:00:00  ...           1021.3        0.0\n",
              "1      2013-01-01 01:00:00  2013-01-01 00:00:00  ...           1021.2        0.0\n",
              "2      2013-01-01 02:00:00  2013-01-01 00:00:00  ...           1021.2        0.0\n",
              "3      2013-01-01 03:00:00  2013-01-01 00:00:00  ...           1021.2        0.3\n",
              "4      2013-01-01 04:00:00  2013-01-01 00:00:00  ...           1020.8        0.1\n",
              "...                    ...                  ...  ...              ...        ...\n",
              "52579  2018-12-31 19:00:00  2018-12-31 00:00:00  ...           1034.7        3.3\n",
              "52580  2018-12-31 20:00:00  2018-12-31 00:00:00  ...           1034.6        2.9\n",
              "52581  2018-12-31 21:00:00  2018-12-31 00:00:00  ...           1034.5        1.9\n",
              "52582  2018-12-31 22:00:00  2018-12-31 00:00:00  ...           1034.2        2.1\n",
              "52583  2018-12-31 23:00:00  2018-12-31 00:00:00  ...           1034.6        1.6\n",
              "\n",
              "[52584 rows x 13 columns]"
            ]
          },
          "metadata": {
            "tags": []
          },
          "execution_count": 68
        }
      ]
    },
    {
      "cell_type": "markdown",
      "metadata": {
        "id": "O9YGmMb-oS9f"
      },
      "source": [
        "# 2. 데이터 가공하기 "
      ]
    },
    {
      "cell_type": "markdown",
      "metadata": {
        "id": "T3OvtUOvxhrF"
      },
      "source": [
        "## 1) datetime 컬럼 제작, datetime 형식으로 변환"
      ]
    },
    {
      "cell_type": "code",
      "metadata": {
        "colab": {
          "base_uri": "https://localhost:8080/",
          "height": 204
        },
        "id": "zZuEdl2Rro-B",
        "outputId": "4287bf6f-0f31-46a4-81be-cf07c1563c8e"
      },
      "source": [
        "df = allData.copy()\n",
        "df['datetime'] = pd.to_datetime(df['datetime'],format='%Y-%m-%d %H:%M', errors='ignore') #합친거 datetime 형식으로 변환\n",
        "df['date'] = pd.to_datetime(df['date'],format='%Y-%m-%d', errors='ignore')  #date형식으로 변환\n",
        "#df['time'] = pd.to_datetime(df['time'],format='%H:%M', errors='ignore') #time 형식으로 변환\n",
        "df.head(5)"
      ],
      "execution_count": 69,
      "outputs": [
        {
          "output_type": "execute_result",
          "data": {
            "text/html": [
              "<div>\n",
              "<style scoped>\n",
              "    .dataframe tbody tr th:only-of-type {\n",
              "        vertical-align: middle;\n",
              "    }\n",
              "\n",
              "    .dataframe tbody tr th {\n",
              "        vertical-align: top;\n",
              "    }\n",
              "\n",
              "    .dataframe thead th {\n",
              "        text-align: right;\n",
              "    }\n",
              "</style>\n",
              "<table border=\"1\" class=\"dataframe\">\n",
              "  <thead>\n",
              "    <tr style=\"text-align: right;\">\n",
              "      <th></th>\n",
              "      <th>datetime</th>\n",
              "      <th>date</th>\n",
              "      <th>time</th>\n",
              "      <th>windForce</th>\n",
              "      <th>tem</th>\n",
              "      <th>windSpeed</th>\n",
              "      <th>windDirect</th>\n",
              "      <th>humidity</th>\n",
              "      <th>vaporPressure</th>\n",
              "      <th>dewPoint</th>\n",
              "      <th>pressure</th>\n",
              "      <th>seaLevelPressure</th>\n",
              "      <th>groundTem</th>\n",
              "    </tr>\n",
              "  </thead>\n",
              "  <tbody>\n",
              "    <tr>\n",
              "      <th>0</th>\n",
              "      <td>2013-01-01 00:00:00</td>\n",
              "      <td>2013-01-01</td>\n",
              "      <td>00:00</td>\n",
              "      <td>0</td>\n",
              "      <td>1.3</td>\n",
              "      <td>3.2</td>\n",
              "      <td>340</td>\n",
              "      <td>77.0</td>\n",
              "      <td>5.2</td>\n",
              "      <td>-2.2</td>\n",
              "      <td>1019.1</td>\n",
              "      <td>1021.3</td>\n",
              "      <td>0.0</td>\n",
              "    </tr>\n",
              "    <tr>\n",
              "      <th>1</th>\n",
              "      <td>2013-01-01 01:00:00</td>\n",
              "      <td>2013-01-01</td>\n",
              "      <td>01:00</td>\n",
              "      <td>0</td>\n",
              "      <td>0.9</td>\n",
              "      <td>2.6</td>\n",
              "      <td>320</td>\n",
              "      <td>77.0</td>\n",
              "      <td>5.0</td>\n",
              "      <td>-2.6</td>\n",
              "      <td>1019.0</td>\n",
              "      <td>1021.2</td>\n",
              "      <td>0.0</td>\n",
              "    </tr>\n",
              "    <tr>\n",
              "      <th>2</th>\n",
              "      <td>2013-01-01 02:00:00</td>\n",
              "      <td>2013-01-01</td>\n",
              "      <td>02:00</td>\n",
              "      <td>92</td>\n",
              "      <td>1.5</td>\n",
              "      <td>3.0</td>\n",
              "      <td>340</td>\n",
              "      <td>77.0</td>\n",
              "      <td>5.2</td>\n",
              "      <td>-2.1</td>\n",
              "      <td>1019.0</td>\n",
              "      <td>1021.2</td>\n",
              "      <td>0.0</td>\n",
              "    </tr>\n",
              "    <tr>\n",
              "      <th>3</th>\n",
              "      <td>2013-01-01 03:00:00</td>\n",
              "      <td>2013-01-01</td>\n",
              "      <td>03:00</td>\n",
              "      <td>269</td>\n",
              "      <td>2.7</td>\n",
              "      <td>1.7</td>\n",
              "      <td>270</td>\n",
              "      <td>74.0</td>\n",
              "      <td>5.5</td>\n",
              "      <td>-1.4</td>\n",
              "      <td>1019.0</td>\n",
              "      <td>1021.2</td>\n",
              "      <td>0.3</td>\n",
              "    </tr>\n",
              "    <tr>\n",
              "      <th>4</th>\n",
              "      <td>2013-01-01 04:00:00</td>\n",
              "      <td>2013-01-01</td>\n",
              "      <td>04:00</td>\n",
              "      <td>541</td>\n",
              "      <td>0.6</td>\n",
              "      <td>1.8</td>\n",
              "      <td>320</td>\n",
              "      <td>82.0</td>\n",
              "      <td>5.2</td>\n",
              "      <td>-2.1</td>\n",
              "      <td>1018.5</td>\n",
              "      <td>1020.8</td>\n",
              "      <td>0.1</td>\n",
              "    </tr>\n",
              "  </tbody>\n",
              "</table>\n",
              "</div>"
            ],
            "text/plain": [
              "             datetime       date   time  ...  pressure  seaLevelPressure  groundTem\n",
              "0 2013-01-01 00:00:00 2013-01-01  00:00  ...    1019.1            1021.3        0.0\n",
              "1 2013-01-01 01:00:00 2013-01-01  01:00  ...    1019.0            1021.2        0.0\n",
              "2 2013-01-01 02:00:00 2013-01-01  02:00  ...    1019.0            1021.2        0.0\n",
              "3 2013-01-01 03:00:00 2013-01-01  03:00  ...    1019.0            1021.2        0.3\n",
              "4 2013-01-01 04:00:00 2013-01-01  04:00  ...    1018.5            1020.8        0.1\n",
              "\n",
              "[5 rows x 13 columns]"
            ]
          },
          "metadata": {
            "tags": []
          },
          "execution_count": 69
        }
      ]
    },
    {
      "cell_type": "markdown",
      "metadata": {
        "id": "ZJ_SCnwtAe1u"
      },
      "source": [
        "## 2) 년(year), 월(month), 일(day), 계절(season) 컬럼 생성\n",
        "\n"
      ]
    },
    {
      "cell_type": "code",
      "metadata": {
        "colab": {
          "base_uri": "https://localhost:8080/",
          "height": 204
        },
        "id": "KzBXhgwc1ss2",
        "outputId": "4f3cdcec-ece1-43ea-e967-092133b3839e"
      },
      "source": [
        "df['year'] = df['date'].dt.year # 년\n",
        "df['month'] = df['date'].dt.month # 월\n",
        "df['day'] = df['date'].dt.day# 일\n",
        "\n",
        "conditionlist = [\n",
        "    (df['month'] == 3)|(df['month'] == 4)| (df['month'] == 5) ,\n",
        "    (df['month'] == 6)|(df['month'] == 7)|(df['month'] == 8) ,\n",
        "    (df['month'] == 9)|(df['month'] == 10)|(df['month'] == 11),\n",
        "    (df['month'] == 12)|(df['month'] == 1)|(df['month'] == 2) ]\n",
        "choicelist = ['0', '1', '2','3']\n",
        "#choicelist = ['spring', 'summer', 'autumn','winter']\n",
        "df['season'] = np.select(conditionlist, choicelist, default='Not Specified')\n",
        "df.head(5)"
      ],
      "execution_count": 70,
      "outputs": [
        {
          "output_type": "execute_result",
          "data": {
            "text/html": [
              "<div>\n",
              "<style scoped>\n",
              "    .dataframe tbody tr th:only-of-type {\n",
              "        vertical-align: middle;\n",
              "    }\n",
              "\n",
              "    .dataframe tbody tr th {\n",
              "        vertical-align: top;\n",
              "    }\n",
              "\n",
              "    .dataframe thead th {\n",
              "        text-align: right;\n",
              "    }\n",
              "</style>\n",
              "<table border=\"1\" class=\"dataframe\">\n",
              "  <thead>\n",
              "    <tr style=\"text-align: right;\">\n",
              "      <th></th>\n",
              "      <th>datetime</th>\n",
              "      <th>date</th>\n",
              "      <th>time</th>\n",
              "      <th>windForce</th>\n",
              "      <th>tem</th>\n",
              "      <th>windSpeed</th>\n",
              "      <th>windDirect</th>\n",
              "      <th>humidity</th>\n",
              "      <th>vaporPressure</th>\n",
              "      <th>dewPoint</th>\n",
              "      <th>pressure</th>\n",
              "      <th>seaLevelPressure</th>\n",
              "      <th>groundTem</th>\n",
              "      <th>year</th>\n",
              "      <th>month</th>\n",
              "      <th>day</th>\n",
              "      <th>season</th>\n",
              "    </tr>\n",
              "  </thead>\n",
              "  <tbody>\n",
              "    <tr>\n",
              "      <th>0</th>\n",
              "      <td>2013-01-01 00:00:00</td>\n",
              "      <td>2013-01-01</td>\n",
              "      <td>00:00</td>\n",
              "      <td>0</td>\n",
              "      <td>1.3</td>\n",
              "      <td>3.2</td>\n",
              "      <td>340</td>\n",
              "      <td>77.0</td>\n",
              "      <td>5.2</td>\n",
              "      <td>-2.2</td>\n",
              "      <td>1019.1</td>\n",
              "      <td>1021.3</td>\n",
              "      <td>0.0</td>\n",
              "      <td>2013</td>\n",
              "      <td>1</td>\n",
              "      <td>1</td>\n",
              "      <td>3</td>\n",
              "    </tr>\n",
              "    <tr>\n",
              "      <th>1</th>\n",
              "      <td>2013-01-01 01:00:00</td>\n",
              "      <td>2013-01-01</td>\n",
              "      <td>01:00</td>\n",
              "      <td>0</td>\n",
              "      <td>0.9</td>\n",
              "      <td>2.6</td>\n",
              "      <td>320</td>\n",
              "      <td>77.0</td>\n",
              "      <td>5.0</td>\n",
              "      <td>-2.6</td>\n",
              "      <td>1019.0</td>\n",
              "      <td>1021.2</td>\n",
              "      <td>0.0</td>\n",
              "      <td>2013</td>\n",
              "      <td>1</td>\n",
              "      <td>1</td>\n",
              "      <td>3</td>\n",
              "    </tr>\n",
              "    <tr>\n",
              "      <th>2</th>\n",
              "      <td>2013-01-01 02:00:00</td>\n",
              "      <td>2013-01-01</td>\n",
              "      <td>02:00</td>\n",
              "      <td>92</td>\n",
              "      <td>1.5</td>\n",
              "      <td>3.0</td>\n",
              "      <td>340</td>\n",
              "      <td>77.0</td>\n",
              "      <td>5.2</td>\n",
              "      <td>-2.1</td>\n",
              "      <td>1019.0</td>\n",
              "      <td>1021.2</td>\n",
              "      <td>0.0</td>\n",
              "      <td>2013</td>\n",
              "      <td>1</td>\n",
              "      <td>1</td>\n",
              "      <td>3</td>\n",
              "    </tr>\n",
              "    <tr>\n",
              "      <th>3</th>\n",
              "      <td>2013-01-01 03:00:00</td>\n",
              "      <td>2013-01-01</td>\n",
              "      <td>03:00</td>\n",
              "      <td>269</td>\n",
              "      <td>2.7</td>\n",
              "      <td>1.7</td>\n",
              "      <td>270</td>\n",
              "      <td>74.0</td>\n",
              "      <td>5.5</td>\n",
              "      <td>-1.4</td>\n",
              "      <td>1019.0</td>\n",
              "      <td>1021.2</td>\n",
              "      <td>0.3</td>\n",
              "      <td>2013</td>\n",
              "      <td>1</td>\n",
              "      <td>1</td>\n",
              "      <td>3</td>\n",
              "    </tr>\n",
              "    <tr>\n",
              "      <th>4</th>\n",
              "      <td>2013-01-01 04:00:00</td>\n",
              "      <td>2013-01-01</td>\n",
              "      <td>04:00</td>\n",
              "      <td>541</td>\n",
              "      <td>0.6</td>\n",
              "      <td>1.8</td>\n",
              "      <td>320</td>\n",
              "      <td>82.0</td>\n",
              "      <td>5.2</td>\n",
              "      <td>-2.1</td>\n",
              "      <td>1018.5</td>\n",
              "      <td>1020.8</td>\n",
              "      <td>0.1</td>\n",
              "      <td>2013</td>\n",
              "      <td>1</td>\n",
              "      <td>1</td>\n",
              "      <td>3</td>\n",
              "    </tr>\n",
              "  </tbody>\n",
              "</table>\n",
              "</div>"
            ],
            "text/plain": [
              "             datetime       date   time  windForce  ...  year  month  day  season\n",
              "0 2013-01-01 00:00:00 2013-01-01  00:00          0  ...  2013      1    1       3\n",
              "1 2013-01-01 01:00:00 2013-01-01  01:00          0  ...  2013      1    1       3\n",
              "2 2013-01-01 02:00:00 2013-01-01  02:00         92  ...  2013      1    1       3\n",
              "3 2013-01-01 03:00:00 2013-01-01  03:00        269  ...  2013      1    1       3\n",
              "4 2013-01-01 04:00:00 2013-01-01  04:00        541  ...  2013      1    1       3\n",
              "\n",
              "[5 rows x 17 columns]"
            ]
          },
          "metadata": {
            "tags": []
          },
          "execution_count": 70
        }
      ]
    },
    {
      "cell_type": "markdown",
      "metadata": {
        "id": "j4iLEsdct2FF"
      },
      "source": [
        "# 4. 훈련 & 예측"
      ]
    },
    {
      "cell_type": "markdown",
      "metadata": {
        "id": "qIQNuoxCt6US"
      },
      "source": [
        "## 1) train-test data 나누기"
      ]
    },
    {
      "cell_type": "code",
      "metadata": {
        "colab": {
          "base_uri": "https://localhost:8080/"
        },
        "id": "8GznxWyKOXsN",
        "outputId": "fc6371a9-92d5-45bf-80d9-43232dc336a5"
      },
      "source": [
        "df2 = df.copy()\n",
        "df2.info()"
      ],
      "execution_count": 71,
      "outputs": [
        {
          "output_type": "stream",
          "text": [
            "<class 'pandas.core.frame.DataFrame'>\n",
            "RangeIndex: 52584 entries, 0 to 52583\n",
            "Data columns (total 17 columns):\n",
            " #   Column            Non-Null Count  Dtype         \n",
            "---  ------            --------------  -----         \n",
            " 0   datetime          52584 non-null  datetime64[ns]\n",
            " 1   date              52584 non-null  datetime64[ns]\n",
            " 2   time              52584 non-null  object        \n",
            " 3   windForce         52584 non-null  int64         \n",
            " 4   tem               52584 non-null  float64       \n",
            " 5   windSpeed         52584 non-null  float64       \n",
            " 6   windDirect        52584 non-null  int64         \n",
            " 7   humidity          52584 non-null  float64       \n",
            " 8   vaporPressure     52584 non-null  float64       \n",
            " 9   dewPoint          52584 non-null  float64       \n",
            " 10  pressure          52584 non-null  float64       \n",
            " 11  seaLevelPressure  52584 non-null  float64       \n",
            " 12  groundTem         52584 non-null  float64       \n",
            " 13  year              52584 non-null  int64         \n",
            " 14  month             52584 non-null  int64         \n",
            " 15  day               52584 non-null  int64         \n",
            " 16  season            52584 non-null  object        \n",
            "dtypes: datetime64[ns](2), float64(8), int64(5), object(2)\n",
            "memory usage: 6.8+ MB\n"
          ],
          "name": "stdout"
        }
      ]
    },
    {
      "cell_type": "code",
      "metadata": {
        "colab": {
          "base_uri": "https://localhost:8080/"
        },
        "id": "ftbIQGGat85_",
        "outputId": "e7782e18-ac46-496b-ad9d-9724de9af39e"
      },
      "source": [
        "X = df2[['tem','windSpeed','windDirect','humidity']] #,'groundTem','seaLevelPressure'\n",
        "y = df2[['windForce']]\n",
        "\n",
        "transform = MinMaxScaler()\n",
        "trans_X=transform.fit_transform(X)\n",
        "trans_y=transform.fit_transform(y)\n",
        "\n",
        "X_train, X_test,y_train, y_test = train_test_split(X,y,test_size=0.2,random_state=10)\n",
        "print('train data 개수 : ', len(X_train))\n",
        "print('test data 개수: ', len(X_test))\n",
        "print(len(X_train)+len(X_test))"
      ],
      "execution_count": 72,
      "outputs": [
        {
          "output_type": "stream",
          "text": [
            "train data 개수 :  42067\n",
            "test data 개수:  10517\n",
            "52584\n"
          ],
          "name": "stdout"
        }
      ]
    },
    {
      "cell_type": "code",
      "metadata": {
        "colab": {
          "base_uri": "https://localhost:8080/"
        },
        "id": "14njpgM1tl5q",
        "outputId": "29fd9794-3827-46d7-eaea-59e0d7ffa4c1"
      },
      "source": [
        "X_train.ndim\n",
        "X_train.shape"
      ],
      "execution_count": 73,
      "outputs": [
        {
          "output_type": "execute_result",
          "data": {
            "text/plain": [
              "(42067, 4)"
            ]
          },
          "metadata": {
            "tags": []
          },
          "execution_count": 73
        }
      ]
    },
    {
      "cell_type": "markdown",
      "metadata": {
        "id": "H2fkJbbHWqGO"
      },
      "source": [
        "## 5. MakeDataSet\n"
      ]
    },
    {
      "cell_type": "code",
      "metadata": {
        "id": "BT8JCvxwyJ37"
      },
      "source": [
        "# https://teddylee777.github.io/tensorflow/LSTM%EC%9C%BC%EB%A1%9C-%EC%98%88%EC%B8%A1%ED%95%B4%EB%B3%B4%EB%8A%94-%EC%82%BC%EC%84%B1%EC%A0%84%EC%9E%90-%EC%A3%BC%EA%B0%80\n",
        "def make_dataset(data, label, window_size=1):\n",
        "    feature_list = []\n",
        "    label_list = []\n",
        "    for i in range(len(data) - window_size):\n",
        "        feature_list.append(np.array(data.iloc[i:i+window_size]))\n",
        "        label_list.append(np.array(label.iloc[i+window_size]))\n",
        "    return np.array(feature_list), np.array(label_list)"
      ],
      "execution_count": 74,
      "outputs": []
    },
    {
      "cell_type": "code",
      "metadata": {
        "colab": {
          "base_uri": "https://localhost:8080/"
        },
        "id": "zZ1mVquTfCeK",
        "outputId": "afe14cdd-13a0-42f6-c52f-6d0e8e4e0534"
      },
      "source": [
        "# X = df2[['tem','windSpeed','humidity','groundTem','windDirect','seaLevelPressure']] #,'windDirect'\n",
        "# X = df2[['tem','windSpeed','groundTem']] #,'windDirect'\n",
        "transform = MinMaxScaler()\n",
        "\n",
        "scale_cols=['tem','windSpeed','groundTem','windForce']\n",
        "df_scaled = df2[['tem','windSpeed','groundTem','windForce']] \n",
        "df_scaled = transform.fit_transform(df_scaled)\n",
        "df_scaled = pd.DataFrame(df_scaled)\n",
        "df_scaled.columns = scale_cols\n",
        "\n",
        "train = df_scaled[:int(len(df2)*0.8)]\n",
        "test = df_scaled[int(len(df2)*0.8):]\n",
        "print(train.head())\n",
        "print(test.head())"
      ],
      "execution_count": 75,
      "outputs": [
        {
          "output_type": "stream",
          "text": [
            "        tem  windSpeed  groundTem  windForce\n",
            "0  0.190123   0.180791   0.061135   0.000000\n",
            "1  0.180247   0.146893   0.061135   0.000000\n",
            "2  0.195062   0.169492   0.061135   0.007663\n",
            "3  0.224691   0.096045   0.065502   0.022407\n",
            "4  0.172840   0.101695   0.062591   0.045065\n",
            "            tem  windSpeed  groundTem  windForce\n",
            "42067  0.607407   0.158192   0.312955   0.144940\n",
            "42068  0.585185   0.062147   0.305677   0.111370\n",
            "42069  0.565432   0.067797   0.298399   0.079967\n",
            "42070  0.558025   0.073446   0.292576   0.061808\n",
            "42071  0.562963   0.079096   0.289665   0.055560\n"
          ],
          "name": "stdout"
        }
      ]
    },
    {
      "cell_type": "code",
      "metadata": {
        "id": "34MdXe2sZKkw",
        "colab": {
          "base_uri": "https://localhost:8080/"
        },
        "outputId": "92795fd9-6642-4d4e-d41b-5845af6c615a"
      },
      "source": [
        "WINDOW_SIZE = 1 # 일 데이터를 묶을지 (window_size : 20, 1)\n",
        "feature1 = ['tem','windSpeed','groundTem','windForce']\n",
        "labels1 = ['windForce']\n",
        "\n",
        "train_feature = train[feature1]\n",
        "train_label = train[labels1]\n",
        "\n",
        "train_feature, train_label = make_dataset(train_feature, train_label, WINDOW_SIZE)\n",
        "\n",
        "X_train, X_valid,y_train, y_valid = train_test_split(train_feature,train_label,test_size=0.2,random_state=10) # train, valid\n",
        "print(X_train.shape, X_valid.shape)"
      ],
      "execution_count": 76,
      "outputs": [
        {
          "output_type": "stream",
          "text": [
            "(33652, 1, 4) (8414, 1, 4)\n"
          ],
          "name": "stdout"
        }
      ]
    },
    {
      "cell_type": "code",
      "metadata": {
        "colab": {
          "base_uri": "https://localhost:8080/"
        },
        "id": "eijUVK6FZe8i",
        "outputId": "bab83799-dab6-4736-ae35-2e29d05bb391"
      },
      "source": [
        "test_feature = test[feature1]\n",
        "test_label = test[labels1]\n",
        "test_feature, test_label = make_dataset(test_feature, test_label, WINDOW_SIZE)\n",
        "test_feature.shape, test_label.shape"
      ],
      "execution_count": 77,
      "outputs": [
        {
          "output_type": "execute_result",
          "data": {
            "text/plain": [
              "((10516, 1, 4), (10516, 1))"
            ]
          },
          "metadata": {
            "tags": []
          },
          "execution_count": 77
        }
      ]
    },
    {
      "cell_type": "markdown",
      "metadata": {
        "id": "N_Yd_J2lVZFG"
      },
      "source": [
        "### model loss function"
      ]
    },
    {
      "cell_type": "code",
      "metadata": {
        "id": "HtVwVHu3VeVg"
      },
      "source": [
        "from sklearn.metrics import mean_squared_error\n",
        "def RMSE(y_test1, y_predict):\n",
        "    return np.sqrt(mean_squared_error(y_test1, y_predict))\n",
        "\n",
        "def MSE(y_test1, y_predict):\n",
        "    return mean_squared_error(y_test1, y_predict)"
      ],
      "execution_count": 78,
      "outputs": []
    },
    {
      "cell_type": "code",
      "metadata": {
        "id": "dwpfG2dR9iZu"
      },
      "source": [
        "def make2D(arr1):\n",
        "  res_arr = []\n",
        "  for i in range(0,len(arr1)):\n",
        "    res_arr.append(arr1[i][0])\n",
        "  return res_arr"
      ],
      "execution_count": 79,
      "outputs": []
    },
    {
      "cell_type": "markdown",
      "metadata": {
        "id": "rjvTNjgkUmXs"
      },
      "source": [
        "### nn model"
      ]
    },
    {
      "cell_type": "code",
      "metadata": {
        "id": "w3N09fDT7D6B"
      },
      "source": [
        "# 반복 횟수\n",
        "num1 = 10\n",
        "\n",
        "# model 저장 위치\n",
        "model_path = '/content/gdrive/My Drive/Colab Notebooks/1-6-model'\n",
        "\n",
        "mse_arr = [0,0,0,0,0]"
      ],
      "execution_count": 80,
      "outputs": []
    },
    {
      "cell_type": "code",
      "metadata": {
        "id": "g3t6eD8VUrt2"
      },
      "source": [
        "from keras.models import Sequential\n",
        "from keras.layers import Dense\n",
        "from keras.callbacks import EarlyStopping, ModelCheckpoint\n",
        "from keras.layers import LSTM\n",
        "import os"
      ],
      "execution_count": 81,
      "outputs": []
    },
    {
      "cell_type": "code",
      "metadata": {
        "id": "_EWOPlYLUoqJ"
      },
      "source": [
        "nn_model = Sequential()\n",
        "nn_model.add(Dense(128, input_shape=(train_feature.shape[1], train_feature.shape[2]), activation='relu'))\n",
        "nn_model.add(Dense(64, activation='relu'))\n",
        "nn_model.add(Dense(32, activation='relu'))\n",
        "nn_model.add(Dense(16, activation='relu'))\n",
        "nn_model.add(Dense(1, activation='sigmoid'))"
      ],
      "execution_count": 82,
      "outputs": []
    },
    {
      "cell_type": "code",
      "metadata": {
        "id": "lXBhZELzU2rT"
      },
      "source": [
        "nn_model.compile(loss='mean_squared_error', optimizer='adam',metrics=['mae', 'acc'])\n",
        "early_stop = EarlyStopping(monitor='val_loss', patience=5)\n",
        "filename = os.path.join(model_path, 'tmp_nn_model1.h5')\n",
        "checkpoint = ModelCheckpoint(filename, monitor='val_loss', verbose=1, save_best_only=True, mode='auto')"
      ],
      "execution_count": 83,
      "outputs": []
    },
    {
      "cell_type": "code",
      "metadata": {
        "id": "7hHvmsMk6_wt"
      },
      "source": [
        "for i in range(0,num1):\n",
        "  hist1 = nn_model.fit(X_train, y_train, \n",
        "                    epochs=200, \n",
        "                    batch_size=16,\n",
        "                    validation_data=(X_valid, y_valid), \n",
        "                    callbacks=[early_stop, checkpoint])\n",
        "  # weight 로딩\n",
        "  nn_model.load_weights(filename)\n",
        "\n",
        "  # 예측\n",
        "  nn_pred = nn_model.predict(test_feature)\n",
        "\n",
        "  mse_arr[0] = mse_arr[0] + MSE(test_label, make2D(nn_pred))"
      ],
      "execution_count": null,
      "outputs": []
    },
    {
      "cell_type": "code",
      "metadata": {
        "colab": {
          "base_uri": "https://localhost:8080/",
          "height": 551
        },
        "id": "pLjZ9wmj7riS",
        "outputId": "72082437-dc4c-44c5-9e45-b417c96b8f9d"
      },
      "source": [
        "fig, loss_ax = plt.subplots(figsize=(16,9))\n",
        "acc_ax = loss_ax.twinx()\n",
        "\n",
        "loss_ax.plot(hist1.history['loss'], 'y', label='train loss')\n",
        "loss_ax.plot(hist1.history['val_loss'], 'r', label='val loss')\n",
        "loss_ax.set_xlabel('epoch')\n",
        "loss_ax.set_ylabel('loss')\n",
        "loss_ax.legend(loc='upper left')\n",
        "\n",
        "acc_ax.plot(hist1.history['acc'], 'b', label='train acc')\n",
        "acc_ax.plot(hist1.history['val_acc'], 'g', label='val acc')\n",
        "acc_ax.set_ylabel('accuracy')\n",
        "acc_ax.legend(loc='upper left')\n",
        "\n",
        "plt.show()"
      ],
      "execution_count": 94,
      "outputs": [
        {
          "output_type": "display_data",
          "data": {
            "image/png": "[encoded data removed]",
            "text/plain": [
              "<Figure size 1152x648 with 2 Axes>"
            ]
          },
          "metadata": {
            "tags": [],
            "needs_background": "light"
          }
        }
      ]
    },
    {
      "cell_type": "code",
      "metadata": {
        "id": "VgIXhxrXVlZg"
      },
      "source": [
        "# print(MSE(test_label, make2D(nn_pred2)))\n",
        "# #print(RMSE(test_label, pred))\n",
        "# loss, acc, dfd = nn_model.evaluate(X_train, y_train)\n",
        "# loss"
      ],
      "execution_count": 96,
      "outputs": []
    },
    {
      "cell_type": "markdown",
      "metadata": {
        "id": "xN3DE9TOUhtZ"
      },
      "source": [
        "### lstm model"
      ]
    },
    {
      "cell_type": "code",
      "metadata": {
        "id": "y8xWHq2KwJUQ"
      },
      "source": [
        "lstm_model = Sequential()\n",
        "lstm_model.add(LSTM(128,input_shape=(train_feature.shape[1], train_feature.shape[2]), activation='relu', return_sequences=False))\n",
        "lstm_model.add(Dense(64, activation='relu'))\n",
        "lstm_model.add(Dense(32, activation='relu'))\n",
        "lstm_model.add(Dense(16, activation='relu'))\n",
        "lstm_model.add(Dense(1, activation='sigmoid'))\n",
        "\n",
        "# network.add(layers.Dense(128, input_shape=train_feature.shape,activation='relu'))\n",
        "# network.add(layers.Dense(64,activation='relu'))\n",
        "# network.add(layers.Dense(1))"
      ],
      "execution_count": 97,
      "outputs": []
    },
    {
      "cell_type": "code",
      "metadata": {
        "id": "4BIPuUHFz7Ze"
      },
      "source": [
        "lstm_model.compile(loss='mean_squared_error', optimizer='adam',metrics=['mae', 'acc'])\n",
        "early_stop = EarlyStopping(monitor='val_loss', patience=5)\n",
        "filename = os.path.join(model_path, 'tmp_lstm1.h5')\n",
        "checkpoint = ModelCheckpoint(filename, monitor='val_loss', verbose=1, save_best_only=True, mode='auto')"
      ],
      "execution_count": 98,
      "outputs": []
    },
    {
      "cell_type": "code",
      "metadata": {
        "id": "L3aRTIJh7gao"
      },
      "source": [
        "for i in range(0,num1):\n",
        "  hist2 = lstm_model.fit(X_train, y_train, \n",
        "                    epochs=200, \n",
        "                    batch_size=16,\n",
        "                    validation_data=(X_valid, y_valid), \n",
        "                    callbacks=[early_stop, checkpoint])\n",
        "  # weight 로딩\n",
        "  lstm_model.load_weights(filename)\n",
        "\n",
        "  # 예측\n",
        "  pred = lstm_model.predict(test_feature)\n",
        "  \n",
        "  mse_arr[1] = mse_arr[1] + MSE(test_label, pred)"
      ],
      "execution_count": null,
      "outputs": []
    },
    {
      "cell_type": "code",
      "metadata": {
        "colab": {
          "base_uri": "https://localhost:8080/",
          "height": 551
        },
        "id": "6XmRIw7G73sU",
        "outputId": "3befa8e3-d10b-4dbc-e4f1-5edb45e28fcc"
      },
      "source": [
        "fig, loss_ax = plt.subplots(figsize=(16,9))\n",
        "acc_ax = loss_ax.twinx()\n",
        "\n",
        "loss_ax.plot(hist2.history['loss'], 'y', label='train loss')\n",
        "loss_ax.plot(hist2.history['val_loss'], 'r', label='val loss')\n",
        "loss_ax.set_xlabel('epoch')\n",
        "loss_ax.set_ylabel('loss')\n",
        "loss_ax.legend(loc='upper left')\n",
        "\n",
        "acc_ax.plot(hist2.history['acc'], 'b', label='train acc')\n",
        "acc_ax.plot(hist2.history['val_acc'], 'g', label='val acc')\n",
        "acc_ax.set_ylabel('accuracy')\n",
        "acc_ax.legend(loc='upper left')\n",
        "\n",
        "plt.show()"
      ],
      "execution_count": 100,
      "outputs": [
        {
          "output_type": "display_data",
          "data": {
            "image/png": "[encoded data removed]",
            "text/plain": [
              "<Figure size 1152x648 with 2 Axes>"
            ]
          },
          "metadata": {
            "tags": [],
            "needs_background": "light"
          }
        }
      ]
    },
    {
      "cell_type": "code",
      "metadata": {
        "id": "2IgsC1zhYJIP"
      },
      "source": [
        "# print(MSE(test_label, pred)) \n",
        "# print(RMSE(test_label, pred))\n",
        "# print(lstm_model.evaluate(X_train, y_train))"
      ],
      "execution_count": 101,
      "outputs": []
    },
    {
      "cell_type": "markdown",
      "metadata": {
        "id": "3jc7EAAG7T7E"
      },
      "source": [
        "### RNN"
      ]
    },
    {
      "cell_type": "code",
      "metadata": {
        "id": "fFI-NoTu7YCL"
      },
      "source": [
        "rnn_model = Sequential()\n",
        "rnn_model.add(SimpleRNN(128,input_shape=(train_feature.shape[1], train_feature.shape[2]), activation='relu', return_sequences=False))\n",
        "rnn_model.add(Dense(64, activation='relu'))\n",
        "rnn_model.add(Dense(32, activation='relu'))\n",
        "rnn_model.add(Dense(16, activation='relu'))\n",
        "rnn_model.add(Dense(1, activation='sigmoid'))\n",
        "\n",
        "# network.add(layers.Dense(128, input_shape=train_feature.shape,activation='relu'))\n",
        "# network.add(layers.Dense(64,activation='relu'))\n",
        "# network.add(layers.Dense(1))"
      ],
      "execution_count": 102,
      "outputs": []
    },
    {
      "cell_type": "code",
      "metadata": {
        "id": "hn0YctIm7yZ2"
      },
      "source": [
        "rnn_model.compile(loss='mean_squared_error', optimizer='adam',metrics=['mae', 'acc'])\n",
        "early_stop = EarlyStopping(monitor='val_loss', patience=5)\n",
        "filename = os.path.join(model_path, 'tmp_rnn1.h5')\n",
        "checkpoint = ModelCheckpoint(filename, monitor='val_loss', verbose=1, save_best_only=True, mode='auto')"
      ],
      "execution_count": 103,
      "outputs": []
    },
    {
      "cell_type": "code",
      "metadata": {
        "id": "Bj6rOwGz7-Nj"
      },
      "source": [
        "for i in range(0,num1):\n",
        "  hist3 = rnn_model.fit(X_train, y_train, \n",
        "                    epochs=200, \n",
        "                    batch_size=16,\n",
        "                    validation_data=(X_valid, y_valid), \n",
        "                    callbacks=[early_stop, checkpoint])\n",
        "  # weight 로딩\n",
        "  rnn_model.load_weights(filename)\n",
        "\n",
        "  # 예측\n",
        "  rnn_pred = rnn_model.predict(test_feature)\n",
        "  mse_arr[2] = mse_arr[2] + MSE(test_label, rnn_pred)"
      ],
      "execution_count": null,
      "outputs": []
    },
    {
      "cell_type": "code",
      "metadata": {
        "colab": {
          "base_uri": "https://localhost:8080/",
          "height": 551
        },
        "id": "tA-Pl9cI7-vL",
        "outputId": "4eb3c5bc-acd7-4976-94aa-28b0c9b6ae13"
      },
      "source": [
        "fig, loss_ax = plt.subplots(figsize=(16,9))\n",
        "acc_ax = loss_ax.twinx()\n",
        "\n",
        "loss_ax.plot(hist3.history['loss'], 'y', label='train loss')\n",
        "loss_ax.plot(hist3.history['val_loss'], 'r', label='val loss')\n",
        "loss_ax.set_xlabel('epoch')\n",
        "loss_ax.set_ylabel('loss')\n",
        "loss_ax.legend(loc='upper left')\n",
        "\n",
        "acc_ax.plot(hist3.history['acc'], 'b', label='train acc')\n",
        "acc_ax.plot(hist3.history['val_acc'], 'g', label='val acc')\n",
        "acc_ax.set_ylabel('accuracy')\n",
        "acc_ax.legend(loc='upper left')\n",
        "\n",
        "plt.show()"
      ],
      "execution_count": 105,
      "outputs": [
        {
          "output_type": "display_data",
          "data": {
            "image/png": "[encoded data removed]",
            "text/plain": [
              "<Figure size 1152x648 with 2 Axes>"
            ]
          },
          "metadata": {
            "tags": [],
            "needs_background": "light"
          }
        }
      ]
    },
    {
      "cell_type": "code",
      "metadata": {
        "id": "YRQNl8cw78-w"
      },
      "source": [
        "# print(MSE(test_label, rnn_pred)) \n",
        "# print(RMSE(test_label, rnn_pred))\n",
        "# print(rnn_model.evaluate(X_train, y_train))"
      ],
      "execution_count": 106,
      "outputs": []
    },
    {
      "cell_type": "markdown",
      "metadata": {
        "id": "f7WFFIlACT22"
      },
      "source": [
        "### RNN + LSTM"
      ]
    },
    {
      "cell_type": "code",
      "metadata": {
        "id": "oyhQ9BtOCVPW"
      },
      "source": [
        "rnn_lstm_model = Sequential()\n",
        "rnn_lstm_model.add(SimpleRNN(128,input_shape=(train_feature.shape[1], train_feature.shape[2]), activation='relu', return_sequences=True))\n",
        "rnn_lstm_model.add(LSTM(64,input_shape=(train_feature.shape[1], train_feature.shape[2]), activation='relu', return_sequences=False))\n",
        "rnn_lstm_model.add(Dense(32, activation='relu'))\n",
        "rnn_lstm_model.add(Dense(16, activation='relu'))\n",
        "rnn_lstm_model.add(Dense(1, activation='sigmoid'))"
      ],
      "execution_count": 107,
      "outputs": []
    },
    {
      "cell_type": "code",
      "metadata": {
        "id": "lI1loxhSCdPU"
      },
      "source": [
        "rnn_lstm_model.compile(loss='mean_squared_error', optimizer='adam',metrics=['mae', 'acc'])\n",
        "early_stop = EarlyStopping(monitor='val_loss', patience=5)\n",
        "filename = os.path.join(model_path, 'tmp_rnn_lstm1.h5')\n",
        "checkpoint = ModelCheckpoint(filename, monitor='val_loss', verbose=1, save_best_only=True, mode='auto')"
      ],
      "execution_count": 108,
      "outputs": []
    },
    {
      "cell_type": "code",
      "metadata": {
        "colab": {
          "base_uri": "https://localhost:8080/"
        },
        "id": "dUuA3bTc8L1l",
        "outputId": "6374b5b7-3c3f-40cd-8219-c7d203dbc5f6"
      },
      "source": [
        "for i in range(0,num1):\n",
        "  hist4 = rnn_lstm_model.fit(X_train, y_train, \n",
        "                    epochs=200, \n",
        "                    batch_size=16,\n",
        "                    validation_data=(X_valid, y_valid), \n",
        "                    callbacks=[early_stop, checkpoint])\n",
        "  # weight 로딩\n",
        "  rnn_lstm_model.load_weights(filename)\n",
        "\n",
        "  # 예측\n",
        "  rnn_lstm_pred = rnn_lstm_model.predict(test_feature)\n",
        "\n",
        "  mse_arr[3] = mse_arr[3] + MSE(test_label, rnn_lstm_pred)"
      ],
      "execution_count": null,
      "outputs": [
        {
          "output_type": "stream",
          "text": [
            "Epoch 1/200\n",
            "2104/2104 [==============================] - 13s 5ms/step - loss: 0.0227 - mae: 0.1005 - acc: 0.1207 - val_loss: 0.0102 - val_mae: 0.0713 - val_acc: 0.1192\n",
            "\n",
            "Epoch 00001: val_loss improved from inf to 0.01022, saving model to /content/gdrive/My Drive/Colab Notebooks/1-6-model/tmp_rnn_lstm1.h5\n",
            "Epoch 2/200\n",
            "2104/2104 [==============================] - 11s 5ms/step - loss: 0.0092 - mae: 0.0633 - acc: 0.1208 - val_loss: 0.0089 - val_mae: 0.0612 - val_acc: 0.1192\n",
            "\n",
            "Epoch 00002: val_loss improved from 0.01022 to 0.00889, saving model to /content/gdrive/My Drive/Colab Notebooks/1-6-model/tmp_rnn_lstm1.h5\n",
            "Epoch 3/200\n",
            "2104/2104 [==============================] - 11s 5ms/step - loss: 0.0091 - mae: 0.0621 - acc: 0.1198 - val_loss: 0.0093 - val_mae: 0.0603 - val_acc: 0.1192\n",
            "\n",
            "Epoch 00003: val_loss did not improve from 0.00889\n",
            "Epoch 4/200\n",
            "2104/2104 [==============================] - 10s 5ms/step - loss: 0.0091 - mae: 0.0620 - acc: 0.1244 - val_loss: 0.0094 - val_mae: 0.0615 - val_acc: 0.1192\n",
            "\n",
            "Epoch 00004: val_loss did not improve from 0.00889\n",
            "Epoch 5/200\n",
            "2104/2104 [==============================] - 10s 5ms/step - loss: 0.0089 - mae: 0.0608 - acc: 0.1230 - val_loss: 0.0093 - val_mae: 0.0648 - val_acc: 0.1192\n",
            "\n",
            "Epoch 00005: val_loss did not improve from 0.00889\n",
            "Epoch 6/200\n",
            "2104/2104 [==============================] - 10s 5ms/step - loss: 0.0089 - mae: 0.0608 - acc: 0.1234 - val_loss: 0.0091 - val_mae: 0.0593 - val_acc: 0.1192\n",
            "\n",
            "Epoch 00006: val_loss did not improve from 0.00889\n",
            "Epoch 7/200\n",
            "2104/2104 [==============================] - 10s 5ms/step - loss: 0.0088 - mae: 0.0606 - acc: 0.1233 - val_loss: 0.0090 - val_mae: 0.0638 - val_acc: 0.1192\n",
            "\n",
            "Epoch 00007: val_loss did not improve from 0.00889\n",
            "Epoch 1/200\n",
            "2104/2104 [==============================] - 10s 5ms/step - loss: 0.0091 - mae: 0.0621 - acc: 0.1212 - val_loss: 0.0104 - val_mae: 0.0693 - val_acc: 0.1192\n",
            "\n",
            "Epoch 00001: val_loss did not improve from 0.00889\n",
            "Epoch 2/200\n",
            "2104/2104 [==============================] - 10s 5ms/step - loss: 0.0090 - mae: 0.0614 - acc: 0.1212 - val_loss: 0.0091 - val_mae: 0.0603 - val_acc: 0.1192\n",
            "\n",
            "Epoch 00002: val_loss did not improve from 0.00889\n",
            "Epoch 3/200\n",
            "2104/2104 [==============================] - 10s 5ms/step - loss: 0.0089 - mae: 0.0609 - acc: 0.1212 - val_loss: 0.0092 - val_mae: 0.0635 - val_acc: 0.1192\n",
            "\n",
            "Epoch 00003: val_loss did not improve from 0.00889\n",
            "Epoch 4/200\n",
            " 644/2104 [========>.....................] - ETA: 6s - loss: 0.0096 - mae: 0.0627 - acc: 0.1242"
          ],
          "name": "stdout"
        }
      ]
    },
    {
      "cell_type": "code",
      "metadata": {
        "id": "R55z7Wkw8L30"
      },
      "source": [
        "fig, loss_ax = plt.subplots(figsize=(16,9))\n",
        "acc_ax = loss_ax.twinx()\n",
        "\n",
        "loss_ax.plot(hist4.history['loss'], 'y', label='train loss')\n",
        "loss_ax.plot(hist4.history['val_loss'], 'r', label='val loss')\n",
        "loss_ax.set_xlabel('epoch')\n",
        "loss_ax.set_ylabel('loss')\n",
        "loss_ax.legend(loc='upper left')\n",
        "\n",
        "acc_ax.plot(hist4.history['acc'], 'b', label='train acc')\n",
        "acc_ax.plot(hist4.history['val_acc'], 'g', label='val acc')\n",
        "acc_ax.set_ylabel('accuracy')\n",
        "acc_ax.legend(loc='upper left')\n",
        "\n",
        "plt.show()"
      ],
      "execution_count": null,
      "outputs": []
    },
    {
      "cell_type": "code",
      "metadata": {
        "id": "_prY6H_BC8Jr"
      },
      "source": [
        "# print(MSE(test_label, rnn_lstm_pred)) \n",
        "# print(RMSE(test_label, rnn_lstm_pred))\n",
        "# print(rnn_model.evaluate(X_train, y_train))"
      ],
      "execution_count": null,
      "outputs": []
    },
    {
      "cell_type": "markdown",
      "metadata": {
        "id": "yabxrg-kEvoT"
      },
      "source": [
        "### RNN + LSTM1"
      ]
    },
    {
      "cell_type": "code",
      "metadata": {
        "id": "Zx_BMFglEyJo"
      },
      "source": [
        "rnn_lstm1_model = Sequential()\n",
        "rnn_lstm1_model.add(LSTM(128,input_shape=(train_feature.shape[1], train_feature.shape[2]), activation='relu', return_sequences=True))\n",
        "rnn_lstm1_model.add(SimpleRNN(64,input_shape=(train_feature.shape[1], train_feature.shape[2]), activation='relu', return_sequences=True))\n",
        "rnn_lstm1_model.add(LSTM(32,input_shape=(train_feature.shape[1], train_feature.shape[2]), activation='relu', return_sequences=True))\n",
        "rnn_lstm1_model.add(LSTM(16,input_shape=(train_feature.shape[1], train_feature.shape[2]), activation='relu', return_sequences=False))\n",
        "rnn_lstm1_model.add(Dense(1, activation='sigmoid'))"
      ],
      "execution_count": null,
      "outputs": []
    },
    {
      "cell_type": "code",
      "metadata": {
        "id": "_TWHEjrVE4JB"
      },
      "source": [
        "rnn_lstm1_model.compile(loss='mean_squared_error', optimizer='adam',metrics=['mae', 'acc'])\n",
        "early_stop = EarlyStopping(monitor='val_loss', patience=5)\n",
        "filename = os.path.join(model_path, 'tmp_rnn_lstm2.h5')\n",
        "print(filename)\n",
        "checkpoint = ModelCheckpoint(filename, monitor='val_loss', verbose=1, save_best_only=True, mode='auto')"
      ],
      "execution_count": null,
      "outputs": []
    },
    {
      "cell_type": "code",
      "metadata": {
        "id": "7x8k7ogH8VsU"
      },
      "source": [
        "for i in range(0,num1):\n",
        "  hist5 = rnn_lstm1_model.fit(X_train, y_train, \n",
        "                    epochs=200, \n",
        "                    batch_size=16,\n",
        "                    validation_data=(X_valid, y_valid), \n",
        "                    callbacks=[early_stop, checkpoint])\n",
        "  # weight 로딩\n",
        "  rnn_lstm1_model.load_weights(filename)\n",
        "\n",
        "  # 예측\n",
        "  rnn_lstm1_pred = rnn_lstm1_model.predict(test_feature)\n",
        "  mse_arr[4] = mse_arr[4] + MSE(test_label, rnn_lstm1_pred)"
      ],
      "execution_count": null,
      "outputs": []
    },
    {
      "cell_type": "code",
      "metadata": {
        "id": "S5Pn0Cng8Vu2"
      },
      "source": [
        "fig, loss_ax = plt.subplots(figsize=(16,9))\n",
        "acc_ax = loss_ax.twinx()\n",
        "\n",
        "loss_ax.plot(hist5.history['loss'], 'y', label='train loss')\n",
        "loss_ax.plot(hist5.history['val_loss'], 'r', label='val loss')\n",
        "loss_ax.set_xlabel('epoch')\n",
        "loss_ax.set_ylabel('loss')\n",
        "loss_ax.legend(loc='upper left')\n",
        "\n",
        "acc_ax.plot(hist5.history['acc'], 'b', label='train acc')\n",
        "acc_ax.plot(hist5.history['val_acc'], 'g', label='val acc')\n",
        "acc_ax.set_ylabel('accuracy')\n",
        "acc_ax.legend(loc='upper left')"
      ],
      "execution_count": null,
      "outputs": []
    },
    {
      "cell_type": "code",
      "metadata": {
        "id": "ErHwPGL_FXAw"
      },
      "source": [
        "# ## \n",
        "# print('----------------NN-----------------')\n",
        "# nn_mse = MSE(test_label, make2D(nn_pred))\n",
        "# print(MSE(test_label, make2D(nn_pred)))\n",
        "# print(RMSE(test_label, pred))\n",
        "# print(nn_model.evaluate(X_train, y_train))\n",
        "# print('\\n----------------LSTM-----------------')\n",
        "# lstm_mse = MSE(test_label, pred)\n",
        "# print(MSE(test_label, pred)) \n",
        "# print(RMSE(test_label, pred))\n",
        "# print(lstm_model.evaluate(X_train, y_train))\n",
        "# print('\\n----------------RNN-----------------')\n",
        "# rnn_mse = MSE(test_label, rnn_pred)\n",
        "# print(MSE(test_label, rnn_pred)) \n",
        "# print(RMSE(test_label, rnn_pred))\n",
        "# print(rnn_model.evaluate(X_train, y_train))\n",
        "# print('\\n----------------RNN+LSTM-----------------')\n",
        "# rnn_lstm1_mse = MSE(test_label, rnn_lstm_pred)\n",
        "# print(MSE(test_label, rnn_lstm_pred)) \n",
        "# print(RMSE(test_label, rnn_lstm_pred))\n",
        "# print(rnn_model.evaluate(X_train, y_train))\n",
        "# print('\\n----------------RNN+LSTM2-----------------')\n",
        "# rnn_lstm2_mse = MSE(test_label, rnn_lstm1_pred)\n",
        "# print(MSE(test_label, rnn_lstm1_pred)) \n",
        "# print(RMSE(test_label, rnn_lstm1_pred))\n",
        "# print(rnn_model.evaluate(X_train, y_train))"
      ],
      "execution_count": null,
      "outputs": []
    },
    {
      "cell_type": "code",
      "metadata": {
        "id": "rKm1EB_9KtCI"
      },
      "source": [
        "# objects = ('NN', 'LSTM', 'RNN', 'RNN+LSTM', 'RNN+LSTM2')\n",
        "# y_pos = np.arange(len(objects))\n",
        "# performance = [nn_mse,lstm_mse,rnn_mse,rnn_lstm1_mse,rnn_lstm2_mse]\n",
        "\n",
        "# plt.figure(figsize=(16,10))\n",
        "# plt.plot(y_pos, performance)\n",
        "# plt.xticks(y_pos, objects)\n",
        "# plt.xlabel('Algorithm')\n",
        "# plt.ylabel('MSE')\n",
        "\n",
        "# plt.show()"
      ],
      "execution_count": null,
      "outputs": []
    },
    {
      "cell_type": "code",
      "metadata": {
        "id": "1Vkj0c14sa7i"
      },
      "source": [
        ""
      ],
      "execution_count": null,
      "outputs": []
    }
  ]
}