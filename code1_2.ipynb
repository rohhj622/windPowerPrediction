{
  "nbformat": 4,
  "nbformat_minor": 0,
  "metadata": {
    "colab": {
      "name": "code1-2.ipynb",
      "provenance": [],
      "collapsed_sections": [
        "Owh8eo2RK5Nj",
        "O9YGmMb-oS9f"
      ],
      "authorship_tag": "ABX9TyPeX9zzrVRjTBTpg3vZ1Gr9",
      "include_colab_link": true
    },
    "kernelspec": {
      "display_name": "Python 3",
      "name": "python3"
    },
    "language_info": {
      "name": "python"
    }
  },
  "cells": [
    {
      "cell_type": "markdown",
      "metadata": {
        "id": "view-in-github",
        "colab_type": "text"
      },
      "source": [
        "<a href=\"https://colab.research.google.com/github/rohhj622/windPowerPrediction/blob/master/code1_2.ipynb\" target=\"_parent\"><img src=\"https://colab.research.google.com/assets/colab-badge.svg\" alt=\"Open In Colab\"/></a>"
      ]
    },
    {
      "cell_type": "markdown",
      "metadata": {
        "id": "Du2luE7Sis1X"
      },
      "source": [
        "# 1. 데이터 불러오기"
      ]
    },
    {
      "cell_type": "code",
      "metadata": {
        "id": "Vdy8dcPuMNrM"
      },
      "source": [
        "import pandas as pd\n",
        "import numpy as np\n",
        "import matplotlib as mpl\n",
        "import matplotlib.pyplot as plt\n",
        "import matplotlib.font_manager as fm\n",
        "import seaborn as sns\n",
        "from datetime import datetime\n",
        "\n",
        "from sklearn.preprocessing import MinMaxScaler\n",
        "\n",
        "from sklearn.model_selection import train_test_split\n",
        "from sklearn import model_selection\n",
        "from keras import models, layers, Sequential\n",
        "from keras.layers import LSTM, Dropout, Dense, Activation, Input"
      ],
      "execution_count": null,
      "outputs": []
    },
    {
      "cell_type": "markdown",
      "metadata": {
        "id": "YNty4GaoKvD2"
      },
      "source": [
        "## 1) 구글 드라이브 연결"
      ]
    },
    {
      "cell_type": "code",
      "metadata": {
        "id": "_bQijgMDNnaL"
      },
      "source": [
        "from google.colab import drive\n",
        "drive.mount('/content/gdrive')"
      ],
      "execution_count": null,
      "outputs": []
    },
    {
      "cell_type": "markdown",
      "metadata": {
        "id": "Owh8eo2RK5Nj"
      },
      "source": [
        "## 3) 데이터 불러오기 시작"
      ]
    },
    {
      "cell_type": "code",
      "metadata": {
        "id": "Dbt8iQJuMSAv"
      },
      "source": [
        "allData = pd.read_csv(r'/content/gdrive/My Drive/Colab Notebooks/preprocessing_Data.csv') # 컬럼명 숫자로 들어가게\n",
        "allData = allData.drop('Unnamed: 0',1)\n",
        "allData"
      ],
      "execution_count": null,
      "outputs": []
    },
    {
      "cell_type": "markdown",
      "metadata": {
        "id": "O9YGmMb-oS9f"
      },
      "source": [
        "# 2. 데이터 가공하기 "
      ]
    },
    {
      "cell_type": "markdown",
      "metadata": {
        "id": "T3OvtUOvxhrF"
      },
      "source": [
        "## 1) datetime 컬럼 제작, datetime 형식으로 변환"
      ]
    },
    {
      "cell_type": "code",
      "metadata": {
        "id": "zZuEdl2Rro-B"
      },
      "source": [
        "df = allData.copy()\n",
        "df['datetime'] = pd.to_datetime(df['datetime'],format='%Y-%m-%d %H:%M', errors='ignore') #합친거 datetime 형식으로 변환\n",
        "df['date'] = pd.to_datetime(df['date'],format='%Y-%m-%d', errors='ignore')  #date형식으로 변환\n",
        "#df['time'] = pd.to_datetime(df['time'],format='%H:%M', errors='ignore') #time 형식으로 변환\n",
        "df.head(5)"
      ],
      "execution_count": null,
      "outputs": []
    },
    {
      "cell_type": "markdown",
      "metadata": {
        "id": "ZJ_SCnwtAe1u"
      },
      "source": [
        "## 2) 년(year), 월(month), 일(day), 계절(season) 컬럼 생성\n",
        "\n"
      ]
    },
    {
      "cell_type": "code",
      "metadata": {
        "id": "KzBXhgwc1ss2"
      },
      "source": [
        "df['year'] = df['date'].dt.year # 년\n",
        "df['month'] = df['date'].dt.month # 월\n",
        "df['day'] = df['date'].dt.day# 일\n",
        "\n",
        "conditionlist = [\n",
        "    (df['month'] == 3)|(df['month'] == 4)| (df['month'] == 5) ,\n",
        "    (df['month'] == 6)|(df['month'] == 7)|(df['month'] == 8) ,\n",
        "    (df['month'] == 9)|(df['month'] == 10)|(df['month'] == 11),\n",
        "    (df['month'] == 12)|(df['month'] == 1)|(df['month'] == 2) ]\n",
        "choicelist = ['0', '1', '2','3']\n",
        "#choicelist = ['spring', 'summer', 'autumn','winter']\n",
        "df['season'] = np.select(conditionlist, choicelist, default='Not Specified')\n",
        "df.head(5)"
      ],
      "execution_count": null,
      "outputs": []
    },
    {
      "cell_type": "markdown",
      "metadata": {
        "id": "j4iLEsdct2FF"
      },
      "source": [
        "# 4. 훈련 & 예측"
      ]
    },
    {
      "cell_type": "markdown",
      "metadata": {
        "id": "qIQNuoxCt6US"
      },
      "source": [
        "## 1) train-test data 나누기"
      ]
    },
    {
      "cell_type": "code",
      "metadata": {
        "id": "8GznxWyKOXsN"
      },
      "source": [
        "df2 = df.copy()\n",
        "df2.info()"
      ],
      "execution_count": null,
      "outputs": []
    },
    {
      "cell_type": "code",
      "metadata": {
        "id": "ftbIQGGat85_"
      },
      "source": [
        "X = df2[['tem','windSpeed','windDirect','humidity','groundTem','seaLevelPressure']]\n",
        "y = df2[['windForce']]\n",
        "\n",
        "transform = MinMaxScaler()\n",
        "trans_X=transform.fit_transform(X)\n",
        "trans_y=transform.fit_transform(y)\n",
        "\n",
        "X_train, X_test,y_train, y_test = train_test_split(X,y,test_size=0.3,random_state=10)\n",
        "print('train data 개수 : ', len(X_train))\n",
        "print('test data 개수: ', len(X_test))\n",
        "print(len(X_train)+len(X_test))"
      ],
      "execution_count": null,
      "outputs": []
    },
    {
      "cell_type": "markdown",
      "metadata": {
        "id": "H2fkJbbHWqGO"
      },
      "source": [
        "## 5. test\n"
      ]
    },
    {
      "cell_type": "code",
      "metadata": {
        "id": "9E0RUtRCXEMT"
      },
      "source": [
        "# X = df2[['windSpeed']]\n",
        "# y = df2[['windForce']]\n",
        "# X_train, X_test,y_train, y_test = train_test_split(X,y,test_size=0.3,random_state=10)\n",
        "# print('train data 개수 : ', len(X_train))\n",
        "# print('test data 개수: ', len(X_test))\n",
        "\n",
        "# print(len(X_train)+len(X_test))"
      ],
      "execution_count": 33,
      "outputs": []
    },
    {
      "cell_type": "code",
      "metadata": {
        "colab": {
          "base_uri": "https://localhost:8080/"
        },
        "id": "fSpD2xuAWu56",
        "outputId": "b5cd391b-bb2d-425f-b9ed-f1785970c901"
      },
      "source": [
        "lr  = LinearRegression(fit_intercept=True, normalize=True, copy_X=True)\n",
        "lr.fit(X_train, y_train)"
      ],
      "execution_count": 34,
      "outputs": [
        {
          "output_type": "execute_result",
          "data": {
            "text/plain": [
              "LinearRegression(copy_X=True, fit_intercept=True, n_jobs=None, normalize=True)"
            ]
          },
          "metadata": {
            "tags": []
          },
          "execution_count": 34
        }
      ]
    },
    {
      "cell_type": "code",
      "metadata": {
        "colab": {
          "base_uri": "https://localhost:8080/"
        },
        "id": "Q9CrYZYmXH8C",
        "outputId": "5e3212a8-424b-483e-fcf4-a88579914e21"
      },
      "source": [
        "print(\"score : \", format(lr.score(X_train,y_train)))"
      ],
      "execution_count": 35,
      "outputs": [
        {
          "output_type": "stream",
          "text": [
            "score :  0.4710747457367676\n"
          ],
          "name": "stdout"
        }
      ]
    },
    {
      "cell_type": "code",
      "metadata": {
        "id": "vUyAxZYtXP0H"
      },
      "source": [
        "y_predict = lr.predict(X_test)"
      ],
      "execution_count": 36,
      "outputs": []
    },
    {
      "cell_type": "code",
      "metadata": {
        "colab": {
          "base_uri": "https://localhost:8080/"
        },
        "id": "W0Lq2ONtXxzC",
        "outputId": "2aa48595-f658-4acd-e3a2-562de756a2ed"
      },
      "source": [
        "print(format(lr.score(X_test,y_test)))"
      ],
      "execution_count": 37,
      "outputs": [
        {
          "output_type": "stream",
          "text": [
            "0.46081296029969876\n"
          ],
          "name": "stdout"
        }
      ]
    },
    {
      "cell_type": "code",
      "metadata": {
        "id": "VJzKkIQ9ceb0"
      },
      "source": [
        "tr = MinMaxScaler()\n",
        "\n",
        "X = df2[['windSpeed','seaLevelPressure']]\n",
        "y = df2[['windForce']]\n",
        "\n",
        "X = tr.fit_transform(X)\n",
        "\n"
      ],
      "execution_count": 38,
      "outputs": []
    },
    {
      "cell_type": "code",
      "metadata": {
        "colab": {
          "base_uri": "https://localhost:8080/"
        },
        "id": "QRxEtrshcJ7M",
        "outputId": "14f56803-65a4-413d-b595-323c73dff03a"
      },
      "source": [
        "X_train, X_test,y_train, y_test = train_test_split(X,y,test_size=0.3,random_state=10)\n",
        "print('train data 개수 : ', len(X_train))\n",
        "print('test data 개수: ', len(X_test))\n",
        "\n",
        "print(len(X_train)+len(X_test))"
      ],
      "execution_count": 39,
      "outputs": [
        {
          "output_type": "stream",
          "text": [
            "train data 개수 :  36808\n",
            "test data 개수:  15776\n",
            "52584\n"
          ],
          "name": "stdout"
        }
      ]
    },
    {
      "cell_type": "code",
      "metadata": {
        "id": "EeXQhj7zX96j"
      },
      "source": [
        "network = models.Sequential()"
      ],
      "execution_count": 40,
      "outputs": []
    },
    {
      "cell_type": "code",
      "metadata": {
        "id": "zGo_DWD0Zxrt"
      },
      "source": [
        "network.add(layers.Dense(128,activation='relu'))\n",
        "network.add(layers.Dense(64,activation='relu'))\n",
        "network.add(layers.Dense(1))"
      ],
      "execution_count": 41,
      "outputs": []
    },
    {
      "cell_type": "code",
      "metadata": {
        "id": "oRCkYh_Jau__",
        "colab": {
          "base_uri": "https://localhost:8080/"
        },
        "outputId": "630319dc-a6a5-46e5-95d5-6a051ad49a53"
      },
      "source": [
        "network.compile(optimizer='rmsprop',loss='mean_squared_error')\n",
        "network.fit(X_train, y_train, epochs=200, batch_size=128)"
      ],
      "execution_count": 42,
      "outputs": [
        {
          "output_type": "stream",
          "text": [
            "Epoch 1/200\n",
            "288/288 [==============================] - 1s 2ms/step - loss: 20573909.2249\n",
            "Epoch 2/200\n",
            "288/288 [==============================] - 0s 1ms/step - loss: 18239769.8131\n",
            "Epoch 3/200\n",
            "288/288 [==============================] - 0s 1ms/step - loss: 12894711.3979\n",
            "Epoch 4/200\n",
            "288/288 [==============================] - 0s 1ms/step - loss: 10404258.5294\n",
            "Epoch 5/200\n",
            "288/288 [==============================] - 0s 2ms/step - loss: 9997591.6990\n",
            "Epoch 6/200\n",
            "288/288 [==============================] - 0s 2ms/step - loss: 10090129.6747\n",
            "Epoch 7/200\n",
            "288/288 [==============================] - 0s 2ms/step - loss: 9522553.7093\n",
            "Epoch 8/200\n",
            "288/288 [==============================] - 0s 2ms/step - loss: 9225759.9412\n",
            "Epoch 9/200\n",
            "288/288 [==============================] - 0s 1ms/step - loss: 8831931.6436\n",
            "Epoch 10/200\n",
            "288/288 [==============================] - 0s 1ms/step - loss: 8345143.5934\n",
            "Epoch 11/200\n",
            "288/288 [==============================] - 0s 1ms/step - loss: 7873609.3633\n",
            "Epoch 12/200\n",
            "288/288 [==============================] - 0s 2ms/step - loss: 7432256.8356\n",
            "Epoch 13/200\n",
            "288/288 [==============================] - 0s 2ms/step - loss: 7386853.8651\n",
            "Epoch 14/200\n",
            "288/288 [==============================] - 0s 1ms/step - loss: 7281983.1401\n",
            "Epoch 15/200\n",
            "288/288 [==============================] - 0s 1ms/step - loss: 7336811.9291\n",
            "Epoch 16/200\n",
            "288/288 [==============================] - 0s 1ms/step - loss: 7221302.2716\n",
            "Epoch 17/200\n",
            "288/288 [==============================] - 0s 1ms/step - loss: 7290553.5657\n",
            "Epoch 18/200\n",
            "288/288 [==============================] - 0s 1ms/step - loss: 7186343.2128\n",
            "Epoch 19/200\n",
            "288/288 [==============================] - 0s 1ms/step - loss: 7230985.8062\n",
            "Epoch 20/200\n",
            "288/288 [==============================] - 0s 1ms/step - loss: 7166167.5104\n",
            "Epoch 21/200\n",
            "288/288 [==============================] - 0s 1ms/step - loss: 7064770.5623\n",
            "Epoch 22/200\n",
            "288/288 [==============================] - 0s 1ms/step - loss: 7043413.2561\n",
            "Epoch 23/200\n",
            "288/288 [==============================] - 0s 1ms/step - loss: 7003191.1315\n",
            "Epoch 24/200\n",
            "288/288 [==============================] - 0s 1ms/step - loss: 7135657.3547\n",
            "Epoch 25/200\n",
            "288/288 [==============================] - 0s 1ms/step - loss: 7220016.0640\n",
            "Epoch 26/200\n",
            "288/288 [==============================] - 0s 1ms/step - loss: 6942395.7820\n",
            "Epoch 27/200\n",
            "288/288 [==============================] - 0s 1ms/step - loss: 6956652.0709\n",
            "Epoch 28/200\n",
            "288/288 [==============================] - 0s 1ms/step - loss: 6949726.6817\n",
            "Epoch 29/200\n",
            "288/288 [==============================] - 0s 1ms/step - loss: 7075728.0398\n",
            "Epoch 30/200\n",
            "288/288 [==============================] - 0s 1ms/step - loss: 6999897.3478\n",
            "Epoch 31/200\n",
            "288/288 [==============================] - 0s 1ms/step - loss: 6998661.6609\n",
            "Epoch 32/200\n",
            "288/288 [==============================] - 0s 1ms/step - loss: 7002976.3720\n",
            "Epoch 33/200\n",
            "288/288 [==============================] - 0s 1ms/step - loss: 7025580.4723\n",
            "Epoch 34/200\n",
            "288/288 [==============================] - 0s 1ms/step - loss: 7100134.1713\n",
            "Epoch 35/200\n",
            "288/288 [==============================] - 0s 1ms/step - loss: 6966892.9965\n",
            "Epoch 36/200\n",
            "288/288 [==============================] - 0s 1ms/step - loss: 6893124.7301\n",
            "Epoch 37/200\n",
            "288/288 [==============================] - 0s 1ms/step - loss: 7015760.6332\n",
            "Epoch 38/200\n",
            "288/288 [==============================] - 0s 1ms/step - loss: 7016592.4187\n",
            "Epoch 39/200\n",
            "288/288 [==============================] - 0s 1ms/step - loss: 6926348.8633\n",
            "Epoch 40/200\n",
            "288/288 [==============================] - 0s 1ms/step - loss: 7066646.1419\n",
            "Epoch 41/200\n",
            "288/288 [==============================] - 0s 1ms/step - loss: 6997973.6453\n",
            "Epoch 42/200\n",
            "288/288 [==============================] - 0s 1ms/step - loss: 6924336.1609\n",
            "Epoch 43/200\n",
            "288/288 [==============================] - 0s 1ms/step - loss: 7005602.2768\n",
            "Epoch 44/200\n",
            "288/288 [==============================] - 0s 1ms/step - loss: 7075672.5709\n",
            "Epoch 45/200\n",
            "288/288 [==============================] - 0s 1ms/step - loss: 6913781.9654\n",
            "Epoch 46/200\n",
            "288/288 [==============================] - 0s 2ms/step - loss: 6948291.5606\n",
            "Epoch 47/200\n",
            "288/288 [==============================] - 0s 1ms/step - loss: 7020784.5017\n",
            "Epoch 48/200\n",
            "288/288 [==============================] - 0s 2ms/step - loss: 7090352.6903\n",
            "Epoch 49/200\n",
            "288/288 [==============================] - 0s 1ms/step - loss: 7076170.4671\n",
            "Epoch 50/200\n",
            "288/288 [==============================] - 0s 1ms/step - loss: 6929649.2042\n",
            "Epoch 51/200\n",
            "288/288 [==============================] - 1s 2ms/step - loss: 6851076.3010\n",
            "Epoch 52/200\n",
            "288/288 [==============================] - 0s 1ms/step - loss: 6872050.8616\n",
            "Epoch 53/200\n",
            "288/288 [==============================] - 0s 1ms/step - loss: 6910788.1419\n",
            "Epoch 54/200\n",
            "288/288 [==============================] - 0s 1ms/step - loss: 6993125.9066\n",
            "Epoch 55/200\n",
            "288/288 [==============================] - 0s 1ms/step - loss: 6982810.2751\n",
            "Epoch 56/200\n",
            "288/288 [==============================] - 0s 1ms/step - loss: 7020796.1211\n",
            "Epoch 57/200\n",
            "288/288 [==============================] - 0s 1ms/step - loss: 6836017.6384\n",
            "Epoch 58/200\n",
            "288/288 [==============================] - 0s 1ms/step - loss: 6792334.4394\n",
            "Epoch 59/200\n",
            "288/288 [==============================] - 0s 1ms/step - loss: 6974307.0484\n",
            "Epoch 60/200\n",
            "288/288 [==============================] - 0s 1ms/step - loss: 6892491.9689\n",
            "Epoch 61/200\n",
            "288/288 [==============================] - 0s 1ms/step - loss: 6874353.1246\n",
            "Epoch 62/200\n",
            "288/288 [==============================] - 0s 1ms/step - loss: 6869102.5415\n",
            "Epoch 63/200\n",
            "288/288 [==============================] - 0s 2ms/step - loss: 6933784.2716\n",
            "Epoch 64/200\n",
            "288/288 [==============================] - 0s 1ms/step - loss: 6908387.6696\n",
            "Epoch 65/200\n",
            "288/288 [==============================] - 0s 2ms/step - loss: 6892458.9066\n",
            "Epoch 66/200\n",
            "288/288 [==============================] - 0s 2ms/step - loss: 6847748.2215\n",
            "Epoch 67/200\n",
            "288/288 [==============================] - 0s 1ms/step - loss: 6909039.1125\n",
            "Epoch 68/200\n",
            "288/288 [==============================] - 0s 1ms/step - loss: 6829071.9567\n",
            "Epoch 69/200\n",
            "288/288 [==============================] - 0s 1ms/step - loss: 6862030.5796\n",
            "Epoch 70/200\n",
            "288/288 [==============================] - 0s 2ms/step - loss: 6817816.2595\n",
            "Epoch 71/200\n",
            "288/288 [==============================] - 0s 1ms/step - loss: 6874931.8322\n",
            "Epoch 72/200\n",
            "288/288 [==============================] - 0s 1ms/step - loss: 6817247.1073\n",
            "Epoch 73/200\n",
            "288/288 [==============================] - 0s 2ms/step - loss: 6786849.1263\n",
            "Epoch 74/200\n",
            "288/288 [==============================] - 0s 1ms/step - loss: 6841732.4481\n",
            "Epoch 75/200\n",
            "288/288 [==============================] - 0s 2ms/step - loss: 6771699.0138\n",
            "Epoch 76/200\n",
            "288/288 [==============================] - 0s 2ms/step - loss: 6822350.7889\n",
            "Epoch 77/200\n",
            "288/288 [==============================] - 0s 1ms/step - loss: 6806327.6349\n",
            "Epoch 78/200\n",
            "288/288 [==============================] - 0s 1ms/step - loss: 6774831.8979\n",
            "Epoch 79/200\n",
            "288/288 [==============================] - 0s 1ms/step - loss: 6900473.8495\n",
            "Epoch 80/200\n",
            "288/288 [==============================] - 0s 1ms/step - loss: 6761020.5225\n",
            "Epoch 81/200\n",
            "288/288 [==============================] - 0s 1ms/step - loss: 6740267.1349\n",
            "Epoch 82/200\n",
            "288/288 [==============================] - 0s 1ms/step - loss: 6863007.3789\n",
            "Epoch 83/200\n",
            "288/288 [==============================] - 0s 1ms/step - loss: 6833766.2163\n",
            "Epoch 84/200\n",
            "288/288 [==============================] - 0s 2ms/step - loss: 6738801.4464\n",
            "Epoch 85/200\n",
            "288/288 [==============================] - 1s 2ms/step - loss: 6711345.6765\n",
            "Epoch 86/200\n",
            "288/288 [==============================] - 0s 2ms/step - loss: 6721935.0035\n",
            "Epoch 87/200\n",
            "288/288 [==============================] - 0s 1ms/step - loss: 6703141.1522\n",
            "Epoch 88/200\n",
            "288/288 [==============================] - 0s 1ms/step - loss: 6784803.8927\n",
            "Epoch 89/200\n",
            "288/288 [==============================] - 0s 2ms/step - loss: 6719385.1713\n",
            "Epoch 90/200\n",
            "288/288 [==============================] - 0s 2ms/step - loss: 6741253.6003\n",
            "Epoch 91/200\n",
            "288/288 [==============================] - 0s 2ms/step - loss: 6646645.3875\n",
            "Epoch 92/200\n",
            "288/288 [==============================] - 0s 2ms/step - loss: 6785429.6384\n",
            "Epoch 93/200\n",
            "288/288 [==============================] - 0s 2ms/step - loss: 6739176.7266\n",
            "Epoch 94/200\n",
            "288/288 [==============================] - 0s 2ms/step - loss: 6673353.4965\n",
            "Epoch 95/200\n",
            "288/288 [==============================] - 0s 1ms/step - loss: 6720060.2734\n",
            "Epoch 96/200\n",
            "288/288 [==============================] - 0s 1ms/step - loss: 6737656.8824\n",
            "Epoch 97/200\n",
            "288/288 [==============================] - 0s 1ms/step - loss: 6701852.4100\n",
            "Epoch 98/200\n",
            "288/288 [==============================] - 0s 1ms/step - loss: 6667701.1713\n",
            "Epoch 99/200\n",
            "288/288 [==============================] - 0s 1ms/step - loss: 6771651.4343\n",
            "Epoch 100/200\n",
            "288/288 [==============================] - 0s 1ms/step - loss: 6832299.6505\n",
            "Epoch 101/200\n",
            "288/288 [==============================] - 0s 1ms/step - loss: 6797224.0156\n",
            "Epoch 102/200\n",
            "288/288 [==============================] - 0s 1ms/step - loss: 6846392.5208\n",
            "Epoch 103/200\n",
            "288/288 [==============================] - 0s 2ms/step - loss: 6697604.8062\n",
            "Epoch 104/200\n",
            "288/288 [==============================] - 0s 2ms/step - loss: 6687178.4671\n",
            "Epoch 105/200\n",
            "288/288 [==============================] - 0s 2ms/step - loss: 6799580.0294\n",
            "Epoch 106/200\n",
            "288/288 [==============================] - 0s 2ms/step - loss: 6718615.2647\n",
            "Epoch 107/200\n",
            "288/288 [==============================] - 0s 1ms/step - loss: 6725524.4325\n",
            "Epoch 108/200\n",
            "288/288 [==============================] - 0s 1ms/step - loss: 6705341.6938\n",
            "Epoch 109/200\n",
            "288/288 [==============================] - 0s 1ms/step - loss: 6691454.8616\n",
            "Epoch 110/200\n",
            "288/288 [==============================] - 0s 1ms/step - loss: 6714595.6246\n",
            "Epoch 111/200\n",
            "288/288 [==============================] - 0s 1ms/step - loss: 6674317.2509\n",
            "Epoch 112/200\n",
            "288/288 [==============================] - 0s 2ms/step - loss: 6759129.0242\n",
            "Epoch 113/200\n",
            "288/288 [==============================] - 0s 1ms/step - loss: 6625553.6626\n",
            "Epoch 114/200\n",
            "288/288 [==============================] - 0s 1ms/step - loss: 6776536.7266\n",
            "Epoch 115/200\n",
            "288/288 [==============================] - 0s 2ms/step - loss: 6664091.7197\n",
            "Epoch 116/200\n",
            "288/288 [==============================] - 0s 1ms/step - loss: 6678393.2042\n",
            "Epoch 117/200\n",
            "288/288 [==============================] - 0s 1ms/step - loss: 6646817.7751\n",
            "Epoch 118/200\n",
            "288/288 [==============================] - 0s 1ms/step - loss: 6736294.0830\n",
            "Epoch 119/200\n",
            "288/288 [==============================] - 0s 1ms/step - loss: 6634334.3010\n",
            "Epoch 120/200\n",
            "288/288 [==============================] - 0s 1ms/step - loss: 6747827.3633\n",
            "Epoch 121/200\n",
            "288/288 [==============================] - 0s 1ms/step - loss: 6757598.6263\n",
            "Epoch 122/200\n",
            "288/288 [==============================] - 0s 1ms/step - loss: 6689199.6886\n",
            "Epoch 123/200\n",
            "288/288 [==============================] - 0s 1ms/step - loss: 6574195.7820\n",
            "Epoch 124/200\n",
            "288/288 [==============================] - 0s 1ms/step - loss: 6719429.3391\n",
            "Epoch 125/200\n",
            "288/288 [==============================] - 0s 1ms/step - loss: 6693911.0121\n",
            "Epoch 126/200\n",
            "288/288 [==============================] - 0s 1ms/step - loss: 6695387.7249\n",
            "Epoch 127/200\n",
            "288/288 [==============================] - 0s 2ms/step - loss: 6576938.4844\n",
            "Epoch 128/200\n",
            "288/288 [==============================] - 0s 1ms/step - loss: 6682534.2872\n",
            "Epoch 129/200\n",
            "288/288 [==============================] - 0s 2ms/step - loss: 6601924.6488\n",
            "Epoch 130/200\n",
            "288/288 [==============================] - 0s 2ms/step - loss: 6716016.1851\n",
            "Epoch 131/200\n",
            "288/288 [==============================] - 0s 2ms/step - loss: 6648262.1090\n",
            "Epoch 132/200\n",
            "288/288 [==============================] - 0s 2ms/step - loss: 6783921.5156\n",
            "Epoch 133/200\n",
            "288/288 [==============================] - 0s 2ms/step - loss: 6594678.5536\n",
            "Epoch 134/200\n",
            "288/288 [==============================] - 0s 1ms/step - loss: 6701143.5087\n",
            "Epoch 135/200\n",
            "288/288 [==============================] - 0s 1ms/step - loss: 6617235.5484\n",
            "Epoch 136/200\n",
            "288/288 [==============================] - 0s 1ms/step - loss: 6693160.8287\n",
            "Epoch 137/200\n",
            "288/288 [==============================] - 0s 1ms/step - loss: 6756479.0087\n",
            "Epoch 138/200\n",
            "288/288 [==============================] - 0s 2ms/step - loss: 6703917.0156\n",
            "Epoch 139/200\n",
            "288/288 [==============================] - 0s 1ms/step - loss: 6665735.7699\n",
            "Epoch 140/200\n",
            "288/288 [==============================] - 0s 2ms/step - loss: 6746351.5052\n",
            "Epoch 141/200\n",
            "288/288 [==============================] - 0s 2ms/step - loss: 6565123.7284\n",
            "Epoch 142/200\n",
            "288/288 [==============================] - 0s 2ms/step - loss: 6694923.4810\n",
            "Epoch 143/200\n",
            "288/288 [==============================] - 0s 2ms/step - loss: 6656285.5087\n",
            "Epoch 144/200\n",
            "288/288 [==============================] - 0s 2ms/step - loss: 6581312.7284\n",
            "Epoch 145/200\n",
            "288/288 [==============================] - 0s 1ms/step - loss: 6690279.2388\n",
            "Epoch 146/200\n",
            "288/288 [==============================] - 0s 1ms/step - loss: 6610919.9931\n",
            "Epoch 147/200\n",
            "288/288 [==============================] - 0s 1ms/step - loss: 6729457.4671\n",
            "Epoch 148/200\n",
            "288/288 [==============================] - 0s 1ms/step - loss: 6707431.7820\n",
            "Epoch 149/200\n",
            "288/288 [==============================] - 0s 1ms/step - loss: 6758068.1713\n",
            "Epoch 150/200\n",
            "288/288 [==============================] - 0s 1ms/step - loss: 6687944.9723\n",
            "Epoch 151/200\n",
            "288/288 [==============================] - 0s 2ms/step - loss: 6707169.9446\n",
            "Epoch 152/200\n",
            "288/288 [==============================] - 0s 2ms/step - loss: 6718926.2215\n",
            "Epoch 153/200\n",
            "288/288 [==============================] - 1s 2ms/step - loss: 6723235.9498\n",
            "Epoch 154/200\n",
            "288/288 [==============================] - 0s 2ms/step - loss: 6667765.2215\n",
            "Epoch 155/200\n",
            "288/288 [==============================] - 0s 1ms/step - loss: 6672170.7526\n",
            "Epoch 156/200\n",
            "288/288 [==============================] - 0s 1ms/step - loss: 6607819.9377\n",
            "Epoch 157/200\n",
            "288/288 [==============================] - 0s 1ms/step - loss: 6647088.0709\n",
            "Epoch 158/200\n",
            "288/288 [==============================] - 0s 1ms/step - loss: 6683389.3789\n",
            "Epoch 159/200\n",
            "288/288 [==============================] - 0s 1ms/step - loss: 6764212.0952\n",
            "Epoch 160/200\n",
            "288/288 [==============================] - 0s 1ms/step - loss: 6592257.6713\n",
            "Epoch 161/200\n",
            "288/288 [==============================] - 0s 1ms/step - loss: 6694559.4291\n",
            "Epoch 162/200\n",
            "288/288 [==============================] - 0s 1ms/step - loss: 6639500.4412\n",
            "Epoch 163/200\n",
            "288/288 [==============================] - 0s 1ms/step - loss: 6766095.4048\n",
            "Epoch 164/200\n",
            "288/288 [==============================] - 0s 1ms/step - loss: 6739788.9879\n",
            "Epoch 165/200\n",
            "288/288 [==============================] - 0s 2ms/step - loss: 6614787.0536\n",
            "Epoch 166/200\n",
            "288/288 [==============================] - 0s 2ms/step - loss: 6716719.3201\n",
            "Epoch 167/200\n",
            "288/288 [==============================] - 0s 2ms/step - loss: 6703680.4221\n",
            "Epoch 168/200\n",
            "288/288 [==============================] - 0s 1ms/step - loss: 6539113.4758\n",
            "Epoch 169/200\n",
            "288/288 [==============================] - 0s 1ms/step - loss: 6676261.2595\n",
            "Epoch 170/200\n",
            "288/288 [==============================] - 0s 1ms/step - loss: 6649829.6696\n",
            "Epoch 171/200\n",
            "288/288 [==============================] - 0s 1ms/step - loss: 6711712.0588\n",
            "Epoch 172/200\n",
            "288/288 [==============================] - 0s 1ms/step - loss: 6685523.7093\n",
            "Epoch 173/200\n",
            "288/288 [==============================] - 0s 1ms/step - loss: 6670078.7509\n",
            "Epoch 174/200\n",
            "288/288 [==============================] - 0s 1ms/step - loss: 6711856.3443\n",
            "Epoch 175/200\n",
            "288/288 [==============================] - 0s 1ms/step - loss: 6709448.7076\n",
            "Epoch 176/200\n",
            "288/288 [==============================] - 0s 1ms/step - loss: 6659163.9931\n",
            "Epoch 177/200\n",
            "288/288 [==============================] - 0s 2ms/step - loss: 6614541.9100\n",
            "Epoch 178/200\n",
            "288/288 [==============================] - 0s 1ms/step - loss: 6642524.8581\n",
            "Epoch 179/200\n",
            "288/288 [==============================] - 0s 1ms/step - loss: 6576169.0087\n",
            "Epoch 180/200\n",
            "288/288 [==============================] - 0s 1ms/step - loss: 6672264.9291\n",
            "Epoch 181/200\n",
            "288/288 [==============================] - 0s 1ms/step - loss: 6659263.9083\n",
            "Epoch 182/200\n",
            "288/288 [==============================] - 1s 2ms/step - loss: 6737014.6142\n",
            "Epoch 183/200\n",
            "288/288 [==============================] - 0s 2ms/step - loss: 6754892.7180\n",
            "Epoch 184/200\n",
            "288/288 [==============================] - 0s 2ms/step - loss: 6607588.7682\n",
            "Epoch 185/200\n",
            "288/288 [==============================] - 0s 2ms/step - loss: 6691550.1972\n",
            "Epoch 186/200\n",
            "288/288 [==============================] - 0s 2ms/step - loss: 6754766.5260\n",
            "Epoch 187/200\n",
            "288/288 [==============================] - 0s 2ms/step - loss: 6664172.1384\n",
            "Epoch 188/200\n",
            "288/288 [==============================] - 0s 2ms/step - loss: 6694554.5830\n",
            "Epoch 189/200\n",
            "288/288 [==============================] - 0s 2ms/step - loss: 6690779.4031\n",
            "Epoch 190/200\n",
            "288/288 [==============================] - 0s 2ms/step - loss: 6730209.3754\n",
            "Epoch 191/200\n",
            "288/288 [==============================] - 0s 1ms/step - loss: 6715121.0000\n",
            "Epoch 192/200\n",
            "288/288 [==============================] - 0s 2ms/step - loss: 6549010.0138\n",
            "Epoch 193/200\n",
            "288/288 [==============================] - 0s 2ms/step - loss: 6683895.1055\n",
            "Epoch 194/200\n",
            "288/288 [==============================] - 0s 2ms/step - loss: 6678004.9083\n",
            "Epoch 195/200\n",
            "288/288 [==============================] - 0s 1ms/step - loss: 6725187.8235\n",
            "Epoch 196/200\n",
            "288/288 [==============================] - 0s 1ms/step - loss: 6634151.8720\n",
            "Epoch 197/200\n",
            "288/288 [==============================] - 0s 1ms/step - loss: 6702558.4550\n",
            "Epoch 198/200\n",
            "288/288 [==============================] - 0s 1ms/step - loss: 6672563.9567\n",
            "Epoch 199/200\n",
            "288/288 [==============================] - 0s 1ms/step - loss: 6675856.8149\n",
            "Epoch 200/200\n",
            "288/288 [==============================] - 0s 1ms/step - loss: 6704643.1505\n"
          ],
          "name": "stdout"
        },
        {
          "output_type": "execute_result",
          "data": {
            "text/plain": [
              "<tensorflow.python.keras.callbacks.History at 0x7fa4b9ac1c10>"
            ]
          },
          "metadata": {
            "tags": []
          },
          "execution_count": 42
        }
      ]
    },
    {
      "cell_type": "code",
      "metadata": {
        "id": "3gjDako4c83G"
      },
      "source": [
        "# def compare_graph(network,X_test, y_test):\n",
        "#   y_pred = network.predict(X_test).flatten()\n",
        "#   real = []\n",
        "#   pred = []\n",
        "#   index = []\n",
        "#   for i in range(100):\n",
        "#     index.append(i)\n",
        "#     real.append(y_test[i])\n",
        "#     pred.append(y_pred[i])\n",
        "#   plt.figure(figsize =(10,5))\n",
        "#   plt.plot(index,real,'b-',label='Real')\n",
        "#   plt.plot(index,pred,'r--',label='Pred')\n",
        "#   plt.legend(loc='center left', fontsize=12)\n",
        "#   plt.show()"
      ],
      "execution_count": 43,
      "outputs": []
    },
    {
      "cell_type": "code",
      "metadata": {
        "id": "OplXPUQzc0m1"
      },
      "source": [
        "y_pred = network.predict(X_test).flatten()"
      ],
      "execution_count": 44,
      "outputs": []
    },
    {
      "cell_type": "code",
      "metadata": {
        "colab": {
          "base_uri": "https://localhost:8080/",
          "height": 684
        },
        "id": "wMX_1M_geGMn",
        "outputId": "1190f09d-0e0b-43c3-a823-ad018b49e9a8"
      },
      "source": [
        "plt.figure(figsize=(16,10))\n",
        "ax1 = sns.distplot(y_test,hist=False,label='y')\n",
        "ax2 = sns.distplot(y_pred,hist=False,label='y_hat',ax=ax1)\n",
        "\n",
        "plt.show()\n",
        "plt.close()"
      ],
      "execution_count": 45,
      "outputs": [
        {
          "output_type": "stream",
          "text": [
            "/usr/local/lib/python3.7/dist-packages/seaborn/distributions.py:2557: FutureWarning: `distplot` is a deprecated function and will be removed in a future version. Please adapt your code to use either `displot` (a figure-level function with similar flexibility) or `kdeplot` (an axes-level function for kernel density plots).\n",
            "  warnings.warn(msg, FutureWarning)\n",
            "/usr/local/lib/python3.7/dist-packages/seaborn/distributions.py:2557: FutureWarning: `distplot` is a deprecated function and will be removed in a future version. Please adapt your code to use either `displot` (a figure-level function with similar flexibility) or `kdeplot` (an axes-level function for kernel density plots).\n",
            "  warnings.warn(msg, FutureWarning)\n"
          ],
          "name": "stderr"
        },
        {
          "output_type": "display_data",
          "data": {
            "image/png": "[encoded data removed]",
            "text/plain": [
              "<Figure size 1152x720 with 1 Axes>"
            ]
          },
          "metadata": {
            "tags": [],
            "needs_background": "light"
          }
        }
      ]
    },
    {
      "cell_type": "code",
      "metadata": {
        "colab": {
          "base_uri": "https://localhost:8080/",
          "height": 204
        },
        "id": "7Ilxq7BKRLX4",
        "outputId": "1f86e211-e031-4058-e2db-6e2ccca27e0b"
      },
      "source": [
        "df2.head()"
      ],
      "execution_count": 46,
      "outputs": [
        {
          "output_type": "execute_result",
          "data": {
            "text/html": [
              "<div>\n",
              "<style scoped>\n",
              "    .dataframe tbody tr th:only-of-type {\n",
              "        vertical-align: middle;\n",
              "    }\n",
              "\n",
              "    .dataframe tbody tr th {\n",
              "        vertical-align: top;\n",
              "    }\n",
              "\n",
              "    .dataframe thead th {\n",
              "        text-align: right;\n",
              "    }\n",
              "</style>\n",
              "<table border=\"1\" class=\"dataframe\">\n",
              "  <thead>\n",
              "    <tr style=\"text-align: right;\">\n",
              "      <th></th>\n",
              "      <th>datetime</th>\n",
              "      <th>date</th>\n",
              "      <th>time</th>\n",
              "      <th>windForce</th>\n",
              "      <th>tem</th>\n",
              "      <th>windSpeed</th>\n",
              "      <th>windDirect</th>\n",
              "      <th>humidity</th>\n",
              "      <th>vaporPressure</th>\n",
              "      <th>dewPoint</th>\n",
              "      <th>pressure</th>\n",
              "      <th>seaLevelPressure</th>\n",
              "      <th>groundTem</th>\n",
              "      <th>year</th>\n",
              "      <th>month</th>\n",
              "      <th>day</th>\n",
              "      <th>season</th>\n",
              "    </tr>\n",
              "  </thead>\n",
              "  <tbody>\n",
              "    <tr>\n",
              "      <th>0</th>\n",
              "      <td>2013-01-01 00:00:00</td>\n",
              "      <td>2013-01-01</td>\n",
              "      <td>00:00</td>\n",
              "      <td>0</td>\n",
              "      <td>1.3</td>\n",
              "      <td>3.2</td>\n",
              "      <td>340</td>\n",
              "      <td>77.0</td>\n",
              "      <td>5.2</td>\n",
              "      <td>-2.2</td>\n",
              "      <td>1019.1</td>\n",
              "      <td>1021.3</td>\n",
              "      <td>0.0</td>\n",
              "      <td>2013</td>\n",
              "      <td>1</td>\n",
              "      <td>1</td>\n",
              "      <td>3</td>\n",
              "    </tr>\n",
              "    <tr>\n",
              "      <th>1</th>\n",
              "      <td>2013-01-01 01:00:00</td>\n",
              "      <td>2013-01-01</td>\n",
              "      <td>01:00</td>\n",
              "      <td>0</td>\n",
              "      <td>0.9</td>\n",
              "      <td>2.6</td>\n",
              "      <td>320</td>\n",
              "      <td>77.0</td>\n",
              "      <td>5.0</td>\n",
              "      <td>-2.6</td>\n",
              "      <td>1019.0</td>\n",
              "      <td>1021.2</td>\n",
              "      <td>0.0</td>\n",
              "      <td>2013</td>\n",
              "      <td>1</td>\n",
              "      <td>1</td>\n",
              "      <td>3</td>\n",
              "    </tr>\n",
              "    <tr>\n",
              "      <th>2</th>\n",
              "      <td>2013-01-01 02:00:00</td>\n",
              "      <td>2013-01-01</td>\n",
              "      <td>02:00</td>\n",
              "      <td>92</td>\n",
              "      <td>1.5</td>\n",
              "      <td>3.0</td>\n",
              "      <td>340</td>\n",
              "      <td>77.0</td>\n",
              "      <td>5.2</td>\n",
              "      <td>-2.1</td>\n",
              "      <td>1019.0</td>\n",
              "      <td>1021.2</td>\n",
              "      <td>0.0</td>\n",
              "      <td>2013</td>\n",
              "      <td>1</td>\n",
              "      <td>1</td>\n",
              "      <td>3</td>\n",
              "    </tr>\n",
              "    <tr>\n",
              "      <th>3</th>\n",
              "      <td>2013-01-01 03:00:00</td>\n",
              "      <td>2013-01-01</td>\n",
              "      <td>03:00</td>\n",
              "      <td>269</td>\n",
              "      <td>2.7</td>\n",
              "      <td>1.7</td>\n",
              "      <td>270</td>\n",
              "      <td>74.0</td>\n",
              "      <td>5.5</td>\n",
              "      <td>-1.4</td>\n",
              "      <td>1019.0</td>\n",
              "      <td>1021.2</td>\n",
              "      <td>0.3</td>\n",
              "      <td>2013</td>\n",
              "      <td>1</td>\n",
              "      <td>1</td>\n",
              "      <td>3</td>\n",
              "    </tr>\n",
              "    <tr>\n",
              "      <th>4</th>\n",
              "      <td>2013-01-01 04:00:00</td>\n",
              "      <td>2013-01-01</td>\n",
              "      <td>04:00</td>\n",
              "      <td>541</td>\n",
              "      <td>0.6</td>\n",
              "      <td>1.8</td>\n",
              "      <td>320</td>\n",
              "      <td>82.0</td>\n",
              "      <td>5.2</td>\n",
              "      <td>-2.1</td>\n",
              "      <td>1018.5</td>\n",
              "      <td>1020.8</td>\n",
              "      <td>0.1</td>\n",
              "      <td>2013</td>\n",
              "      <td>1</td>\n",
              "      <td>1</td>\n",
              "      <td>3</td>\n",
              "    </tr>\n",
              "  </tbody>\n",
              "</table>\n",
              "</div>"
            ],
            "text/plain": [
              "             datetime       date   time  windForce  ...  year  month  day  season\n",
              "0 2013-01-01 00:00:00 2013-01-01  00:00          0  ...  2013      1    1       3\n",
              "1 2013-01-01 01:00:00 2013-01-01  01:00          0  ...  2013      1    1       3\n",
              "2 2013-01-01 02:00:00 2013-01-01  02:00         92  ...  2013      1    1       3\n",
              "3 2013-01-01 03:00:00 2013-01-01  03:00        269  ...  2013      1    1       3\n",
              "4 2013-01-01 04:00:00 2013-01-01  04:00        541  ...  2013      1    1       3\n",
              "\n",
              "[5 rows x 17 columns]"
            ]
          },
          "metadata": {
            "tags": []
          },
          "execution_count": 46
        }
      ]
    },
    {
      "cell_type": "code",
      "metadata": {
        "id": "zZ1mVquTfCeK",
        "colab": {
          "base_uri": "https://localhost:8080/",
          "height": 419
        },
        "outputId": "62062c35-fc00-4d48-d05f-e8954c3be548"
      },
      "source": [
        "# X = df2[['tem','windSpeed','humidity','groundTem','windDirect','seaLevelPressure']] #,'windDirect'\n",
        "# X = df2[['tem','windSpeed','groundTem']] #,'windDirect'\n",
        "transform = MinMaxScaler()\n",
        "\n",
        "scale_cols=['tem','windSpeed','groundTem','windForce']\n",
        "df_scaled = df2[['tem','windSpeed','groundTem','windForce']] \n",
        "df_scaled = transform.fit_transform(df_scaled)\n",
        "df_scaled = pd.DataFrame(df_scaled)\n",
        "df_scaled.columns = scale_cols\n",
        "\n",
        "df_scaled"
      ],
      "execution_count": 47,
      "outputs": [
        {
          "output_type": "execute_result",
          "data": {
            "text/html": [
              "<div>\n",
              "<style scoped>\n",
              "    .dataframe tbody tr th:only-of-type {\n",
              "        vertical-align: middle;\n",
              "    }\n",
              "\n",
              "    .dataframe tbody tr th {\n",
              "        vertical-align: top;\n",
              "    }\n",
              "\n",
              "    .dataframe thead th {\n",
              "        text-align: right;\n",
              "    }\n",
              "</style>\n",
              "<table border=\"1\" class=\"dataframe\">\n",
              "  <thead>\n",
              "    <tr style=\"text-align: right;\">\n",
              "      <th></th>\n",
              "      <th>tem</th>\n",
              "      <th>windSpeed</th>\n",
              "      <th>groundTem</th>\n",
              "      <th>windForce</th>\n",
              "    </tr>\n",
              "  </thead>\n",
              "  <tbody>\n",
              "    <tr>\n",
              "      <th>0</th>\n",
              "      <td>0.190123</td>\n",
              "      <td>0.180791</td>\n",
              "      <td>0.061135</td>\n",
              "      <td>0.000000</td>\n",
              "    </tr>\n",
              "    <tr>\n",
              "      <th>1</th>\n",
              "      <td>0.180247</td>\n",
              "      <td>0.146893</td>\n",
              "      <td>0.061135</td>\n",
              "      <td>0.000000</td>\n",
              "    </tr>\n",
              "    <tr>\n",
              "      <th>2</th>\n",
              "      <td>0.195062</td>\n",
              "      <td>0.169492</td>\n",
              "      <td>0.061135</td>\n",
              "      <td>0.007663</td>\n",
              "    </tr>\n",
              "    <tr>\n",
              "      <th>3</th>\n",
              "      <td>0.224691</td>\n",
              "      <td>0.096045</td>\n",
              "      <td>0.065502</td>\n",
              "      <td>0.022407</td>\n",
              "    </tr>\n",
              "    <tr>\n",
              "      <th>4</th>\n",
              "      <td>0.172840</td>\n",
              "      <td>0.101695</td>\n",
              "      <td>0.062591</td>\n",
              "      <td>0.045065</td>\n",
              "    </tr>\n",
              "    <tr>\n",
              "      <th>...</th>\n",
              "      <td>...</td>\n",
              "      <td>...</td>\n",
              "      <td>...</td>\n",
              "      <td>...</td>\n",
              "    </tr>\n",
              "    <tr>\n",
              "      <th>52579</th>\n",
              "      <td>0.264198</td>\n",
              "      <td>0.265537</td>\n",
              "      <td>0.109170</td>\n",
              "      <td>0.724615</td>\n",
              "    </tr>\n",
              "    <tr>\n",
              "      <th>52580</th>\n",
              "      <td>0.254321</td>\n",
              "      <td>0.254237</td>\n",
              "      <td>0.103348</td>\n",
              "      <td>0.890796</td>\n",
              "    </tr>\n",
              "    <tr>\n",
              "      <th>52581</th>\n",
              "      <td>0.244444</td>\n",
              "      <td>0.225989</td>\n",
              "      <td>0.088792</td>\n",
              "      <td>0.457643</td>\n",
              "    </tr>\n",
              "    <tr>\n",
              "      <th>52582</th>\n",
              "      <td>0.251852</td>\n",
              "      <td>0.192090</td>\n",
              "      <td>0.091703</td>\n",
              "      <td>0.226406</td>\n",
              "    </tr>\n",
              "    <tr>\n",
              "      <th>52583</th>\n",
              "      <td>0.249383</td>\n",
              "      <td>0.141243</td>\n",
              "      <td>0.084425</td>\n",
              "      <td>0.204748</td>\n",
              "    </tr>\n",
              "  </tbody>\n",
              "</table>\n",
              "<p>52584 rows × 4 columns</p>\n",
              "</div>"
            ],
            "text/plain": [
              "            tem  windSpeed  groundTem  windForce\n",
              "0      0.190123   0.180791   0.061135   0.000000\n",
              "1      0.180247   0.146893   0.061135   0.000000\n",
              "2      0.195062   0.169492   0.061135   0.007663\n",
              "3      0.224691   0.096045   0.065502   0.022407\n",
              "4      0.172840   0.101695   0.062591   0.045065\n",
              "...         ...        ...        ...        ...\n",
              "52579  0.264198   0.265537   0.109170   0.724615\n",
              "52580  0.254321   0.254237   0.103348   0.890796\n",
              "52581  0.244444   0.225989   0.088792   0.457643\n",
              "52582  0.251852   0.192090   0.091703   0.226406\n",
              "52583  0.249383   0.141243   0.084425   0.204748\n",
              "\n",
              "[52584 rows x 4 columns]"
            ]
          },
          "metadata": {
            "tags": []
          },
          "execution_count": 47
        }
      ]
    },
    {
      "cell_type": "code",
      "metadata": {
        "id": "34MdXe2sZKkw"
      },
      "source": [
        "WINDOW_SIZE = 100\n",
        "\n",
        "trans_X = df_scaled[['tem','windSpeed','groundTem']]\n",
        "trans_y = df_scaled[['windForce']]\n",
        "\n",
        "X_train, X_test,y_train, y_test = train_test_split(trans_X,trans_y,test_size=0.2,random_state=10)"
      ],
      "execution_count": 48,
      "outputs": []
    },
    {
      "cell_type": "code",
      "metadata": {
        "id": "eijUVK6FZe8i",
        "colab": {
          "base_uri": "https://localhost:8080/"
        },
        "outputId": "6515550e-d3b8-4d43-bcbd-7651aba70a12"
      },
      "source": [
        "def make_dataset(data, label, window_size=1):\n",
        "    feature_list = []\n",
        "    label_list = []\n",
        "    for i in range(len(data) - window_size):\n",
        "        feature_list.append(np.array(data.iloc[i:i+window_size]))\n",
        "        label_list.append(np.array(label.iloc[i+window_size]))\n",
        "    return np.array(feature_list), np.array(label_list)\n",
        "\n",
        "train_feature, train_label = make_dataset(trans_X, trans_y, 1)\n",
        "train_feature"
      ],
      "execution_count": 49,
      "outputs": [
        {
          "output_type": "execute_result",
          "data": {
            "text/plain": [
              "array([[[0.19012346, 0.18079096, 0.06113537]],\n",
              "\n",
              "       [[0.18024691, 0.14689266, 0.06113537]],\n",
              "\n",
              "       [[0.19506173, 0.16949153, 0.06113537]],\n",
              "\n",
              "       ...,\n",
              "\n",
              "       [[0.25432099, 0.25423729, 0.10334789]],\n",
              "\n",
              "       [[0.24444444, 0.2259887 , 0.08879185]],\n",
              "\n",
              "       [[0.25185185, 0.1920904 , 0.09170306]]])"
            ]
          },
          "metadata": {
            "tags": []
          },
          "execution_count": 49
        }
      ]
    },
    {
      "cell_type": "code",
      "metadata": {
        "colab": {
          "base_uri": "https://localhost:8080/"
        },
        "id": "JZb1dA0ePusy",
        "outputId": "e8ba6693-fdfa-4497-a112-6ca781e614f1"
      },
      "source": [
        "#X_train, X_test,y_train, y_test = train_test_split(X,y,test_size=0.3,random_state=10)\n",
        "# X_train, X_test,y_train, y_test = train_test_split(trans_X,trans_y,test_size=0.2,random_state=10)\n",
        "X_train, X_test,y_train, y_test = train_test_split(train_feature,train_label,test_size=0.2,random_state=10)\n",
        "\n",
        "\n",
        "print('train data 개수 : ', len(X_train))\n",
        "print('test data 개수: ', len(X_test))\n",
        "print(len(X_train)+len(X_test))"
      ],
      "execution_count": 50,
      "outputs": [
        {
          "output_type": "stream",
          "text": [
            "train data 개수 :  42066\n",
            "test data 개수:  10517\n",
            "52583\n"
          ],
          "name": "stdout"
        }
      ]
    },
    {
      "cell_type": "code",
      "metadata": {
        "colab": {
          "base_uri": "https://localhost:8080/",
          "height": 174
        },
        "id": "bTvlpaIbB6ta",
        "outputId": "2c1c115e-4dcb-4996-87f7-062431eb1e03"
      },
      "source": [
        "X_train.head()"
      ],
      "execution_count": 51,
      "outputs": [
        {
          "output_type": "error",
          "ename": "AttributeError",
          "evalue": "ignored",
          "traceback": [
            "\u001b[0;31m---------------------------------------------------------------------------\u001b[0m",
            "\u001b[0;31mAttributeError\u001b[0m                            Traceback (most recent call last)",
            "\u001b[0;32m<ipython-input-51-73020798007e>\u001b[0m in \u001b[0;36m<module>\u001b[0;34m()\u001b[0m\n\u001b[0;32m----> 1\u001b[0;31m \u001b[0mX_train\u001b[0m\u001b[0;34m.\u001b[0m\u001b[0mhead\u001b[0m\u001b[0;34m(\u001b[0m\u001b[0;34m)\u001b[0m\u001b[0;34m\u001b[0m\u001b[0;34m\u001b[0m\u001b[0m\n\u001b[0m",
            "\u001b[0;31mAttributeError\u001b[0m: 'numpy.ndarray' object has no attribute 'head'"
          ]
        }
      ]
    },
    {
      "cell_type": "code",
      "metadata": {
        "id": "CQGHWy9Lk2Si"
      },
      "source": [
        "X_train = X_train.values\n",
        "X_test= X_test.values\n",
        "\n",
        "y_train = y_train.values\n",
        "y_test = y_test.values"
      ],
      "execution_count": null,
      "outputs": []
    },
    {
      "cell_type": "code",
      "metadata": {
        "id": "9SYN7ZZ3k7z0"
      },
      "source": [
        "X_train_t = X_train.reshape(X_train.shape[0], 3, 1) \n",
        "X_test_t = X_test.reshape(X_test.shape[0], 3, 1)"
      ],
      "execution_count": null,
      "outputs": []
    },
    {
      "cell_type": "code",
      "metadata": {
        "id": "wPIz6H1QjVfw"
      },
      "source": [
        "# from keras.layers import LSTM \n",
        "# from keras.models import Sequential \n",
        "# from keras.layers import Dense \n",
        "# import keras.backend as K \n",
        "# from keras.callbacks import EarlyStopping\n",
        "\n",
        "# K.clear_session()\n",
        "    \n",
        "# model = Sequential() # Sequeatial Model \n",
        "# model.add(LSTM(20, input_shape=(3, 1), return_sequences=True)) # (timestep, feature) \n",
        "# model.add(Dense(1)) # output = 1 \n",
        "# model.compile(optimizer='rmsprop', loss='binary_crossentropy', metrics=['acc']) \n",
        "# model.summary()"
      ],
      "execution_count": null,
      "outputs": []
    },
    {
      "cell_type": "code",
      "metadata": {
        "id": "1jTbiHcxjmOg"
      },
      "source": [
        "# early_stop = EarlyStopping(monitor='loss', patience=1, verbose=1)\n",
        "\n",
        "# model.fit(X_train_t, y_train, epochs=100,batch_size=30, verbose=1, callbacks=[early_stop])"
      ],
      "execution_count": null,
      "outputs": []
    },
    {
      "cell_type": "code",
      "metadata": {
        "id": "UiMm9FKqO1Lk"
      },
      "source": [
        "network = models.Sequential()\n",
        "network.add(LSTM(20, input_shape=(3, 1), return_sequences=True))\n",
        "\n",
        "# network.add(layers.Dense(2, input_dim=3, activation='relu'))\n",
        "# network.add(layers.LSTM(2, input_shape=X_train.shape, return_sequences=False))\n",
        "# network.add(layers.Dense(2))\n",
        "# network.add(layers.Dense(1))\n",
        "\n",
        "network.compile(optimizer='rmsprop',loss='binary_crossentropy', metrics=['acc'])\n",
        "\n",
        "network.summary()"
      ],
      "execution_count": null,
      "outputs": []
    },
    {
      "cell_type": "code",
      "metadata": {
        "id": "JoezSEdV-q2c"
      },
      "source": [
        "network.fit(X_train_t, y_train, epochs=43 , batch_size=32)\n",
        "\n",
        "\n",
        "scores = network.evaluate(X_test, y_test, batch_size=32)\n",
        "print(\"%s: %.2f%%\" %(network.metrics_names[1], scores[1]*100))"
      ],
      "execution_count": null,
      "outputs": []
    },
    {
      "cell_type": "code",
      "metadata": {
        "id": "nTh-xr6yRx6i"
      },
      "source": [
        ""
      ],
      "execution_count": null,
      "outputs": []
    },
    {
      "cell_type": "code",
      "metadata": {
        "id": "gq-PhJUZ-sBp"
      },
      "source": [
        "y_pred = network.predict(X_test).flatten()\n",
        "\n",
        "plt.figure(figsize=(16,10))\n",
        "ax1 = sns.distplot(y_test,hist=False,label='y')\n",
        "ax2 = sns.distplot(y_pred,hist=False,label='y_hat',ax=ax1)\n",
        "\n",
        "plt.show()\n",
        "plt.close()"
      ],
      "execution_count": null,
      "outputs": []
    },
    {
      "cell_type": "code",
      "metadata": {
        "id": "pkCmdDUBN4Hu"
      },
      "source": [
        ""
      ],
      "execution_count": null,
      "outputs": []
    }
  ]
}