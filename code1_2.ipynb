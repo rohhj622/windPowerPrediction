{
  "nbformat": 4,
  "nbformat_minor": 0,
  "metadata": {
    "colab": {
      "name": "code1-2.ipynb",
      "provenance": [],
      "collapsed_sections": [],
      "authorship_tag": "ABX9TyOS3VcqyP0yCyB8aS3Rtyt8",
      "include_colab_link": true
    },
    "kernelspec": {
      "display_name": "Python 3",
      "name": "python3"
    },
    "language_info": {
      "name": "python"
    }
  },
  "cells": [
    {
      "cell_type": "markdown",
      "metadata": {
        "id": "view-in-github",
        "colab_type": "text"
      },
      "source": [
        "<a href=\"https://colab.research.google.com/github/rohhj622/windPowerPrediction/blob/master/code1_2.ipynb\" target=\"_parent\"><img src=\"https://colab.research.google.com/assets/colab-badge.svg\" alt=\"Open In Colab\"/></a>"
      ]
    },
    {
      "cell_type": "markdown",
      "metadata": {
        "id": "Du2luE7Sis1X"
      },
      "source": [
        "# 1. 데이터 불러오기"
      ]
    },
    {
      "cell_type": "code",
      "metadata": {
        "id": "Vdy8dcPuMNrM"
      },
      "source": [
        "import pandas as pd\n",
        "import numpy as np\n",
        "import matplotlib as mpl\n",
        "import matplotlib.pyplot as plt\n",
        "import matplotlib.font_manager as fm\n",
        "import seaborn as sns\n",
        "from datetime import datetime\n",
        "\n",
        "from sklearn.preprocessing import MinMaxScaler\n",
        "\n",
        "from sklearn.model_selection import train_test_split\n",
        "from sklearn import model_selection\n",
        "from keras import models, layers, Sequential\n",
        "from keras.layers import LSTM, Dropout, Dense, Activation, Input, SimpleRNN"
      ],
      "execution_count": 20,
      "outputs": []
    },
    {
      "cell_type": "markdown",
      "metadata": {
        "id": "YNty4GaoKvD2"
      },
      "source": [
        "## 1) 구글 드라이브 연결"
      ]
    },
    {
      "cell_type": "code",
      "metadata": {
        "colab": {
          "base_uri": "https://localhost:8080/"
        },
        "id": "_bQijgMDNnaL",
        "outputId": "0c9e3596-6298-4a60-bda1-100a92b9fd39"
      },
      "source": [
        "from google.colab import drive\n",
        "drive.mount('/content/gdrive')"
      ],
      "execution_count": 2,
      "outputs": [
        {
          "output_type": "stream",
          "text": [
            "Mounted at /content/gdrive\n"
          ],
          "name": "stdout"
        }
      ]
    },
    {
      "cell_type": "markdown",
      "metadata": {
        "id": "Owh8eo2RK5Nj"
      },
      "source": [
        "## 3) 데이터 불러오기 시작"
      ]
    },
    {
      "cell_type": "code",
      "metadata": {
        "colab": {
          "base_uri": "https://localhost:8080/",
          "height": 589
        },
        "id": "Dbt8iQJuMSAv",
        "outputId": "055abec7-69ff-4def-cb21-9467c9b5a5e6"
      },
      "source": [
        "allData = pd.read_csv(r'/content/gdrive/My Drive/Colab Notebooks/preprocessing_Data.csv') # 컬럼명 숫자로 들어가게\n",
        "allData = allData.drop('Unnamed: 0',1)\n",
        "allData"
      ],
      "execution_count": 3,
      "outputs": [
        {
          "output_type": "execute_result",
          "data": {
            "text/html": [
              "<div>\n",
              "<style scoped>\n",
              "    .dataframe tbody tr th:only-of-type {\n",
              "        vertical-align: middle;\n",
              "    }\n",
              "\n",
              "    .dataframe tbody tr th {\n",
              "        vertical-align: top;\n",
              "    }\n",
              "\n",
              "    .dataframe thead th {\n",
              "        text-align: right;\n",
              "    }\n",
              "</style>\n",
              "<table border=\"1\" class=\"dataframe\">\n",
              "  <thead>\n",
              "    <tr style=\"text-align: right;\">\n",
              "      <th></th>\n",
              "      <th>datetime</th>\n",
              "      <th>date</th>\n",
              "      <th>time</th>\n",
              "      <th>windForce</th>\n",
              "      <th>tem</th>\n",
              "      <th>windSpeed</th>\n",
              "      <th>windDirect</th>\n",
              "      <th>humidity</th>\n",
              "      <th>vaporPressure</th>\n",
              "      <th>dewPoint</th>\n",
              "      <th>pressure</th>\n",
              "      <th>seaLevelPressure</th>\n",
              "      <th>groundTem</th>\n",
              "    </tr>\n",
              "  </thead>\n",
              "  <tbody>\n",
              "    <tr>\n",
              "      <th>0</th>\n",
              "      <td>2013-01-01 00:00:00</td>\n",
              "      <td>2013-01-01 00:00:00</td>\n",
              "      <td>00:00</td>\n",
              "      <td>0</td>\n",
              "      <td>1.3</td>\n",
              "      <td>3.2</td>\n",
              "      <td>340</td>\n",
              "      <td>77.0</td>\n",
              "      <td>5.2</td>\n",
              "      <td>-2.2</td>\n",
              "      <td>1019.1</td>\n",
              "      <td>1021.3</td>\n",
              "      <td>0.0</td>\n",
              "    </tr>\n",
              "    <tr>\n",
              "      <th>1</th>\n",
              "      <td>2013-01-01 01:00:00</td>\n",
              "      <td>2013-01-01 00:00:00</td>\n",
              "      <td>01:00</td>\n",
              "      <td>0</td>\n",
              "      <td>0.9</td>\n",
              "      <td>2.6</td>\n",
              "      <td>320</td>\n",
              "      <td>77.0</td>\n",
              "      <td>5.0</td>\n",
              "      <td>-2.6</td>\n",
              "      <td>1019.0</td>\n",
              "      <td>1021.2</td>\n",
              "      <td>0.0</td>\n",
              "    </tr>\n",
              "    <tr>\n",
              "      <th>2</th>\n",
              "      <td>2013-01-01 02:00:00</td>\n",
              "      <td>2013-01-01 00:00:00</td>\n",
              "      <td>02:00</td>\n",
              "      <td>92</td>\n",
              "      <td>1.5</td>\n",
              "      <td>3.0</td>\n",
              "      <td>340</td>\n",
              "      <td>77.0</td>\n",
              "      <td>5.2</td>\n",
              "      <td>-2.1</td>\n",
              "      <td>1019.0</td>\n",
              "      <td>1021.2</td>\n",
              "      <td>0.0</td>\n",
              "    </tr>\n",
              "    <tr>\n",
              "      <th>3</th>\n",
              "      <td>2013-01-01 03:00:00</td>\n",
              "      <td>2013-01-01 00:00:00</td>\n",
              "      <td>03:00</td>\n",
              "      <td>269</td>\n",
              "      <td>2.7</td>\n",
              "      <td>1.7</td>\n",
              "      <td>270</td>\n",
              "      <td>74.0</td>\n",
              "      <td>5.5</td>\n",
              "      <td>-1.4</td>\n",
              "      <td>1019.0</td>\n",
              "      <td>1021.2</td>\n",
              "      <td>0.3</td>\n",
              "    </tr>\n",
              "    <tr>\n",
              "      <th>4</th>\n",
              "      <td>2013-01-01 04:00:00</td>\n",
              "      <td>2013-01-01 00:00:00</td>\n",
              "      <td>04:00</td>\n",
              "      <td>541</td>\n",
              "      <td>0.6</td>\n",
              "      <td>1.8</td>\n",
              "      <td>320</td>\n",
              "      <td>82.0</td>\n",
              "      <td>5.2</td>\n",
              "      <td>-2.1</td>\n",
              "      <td>1018.5</td>\n",
              "      <td>1020.8</td>\n",
              "      <td>0.1</td>\n",
              "    </tr>\n",
              "    <tr>\n",
              "      <th>...</th>\n",
              "      <td>...</td>\n",
              "      <td>...</td>\n",
              "      <td>...</td>\n",
              "      <td>...</td>\n",
              "      <td>...</td>\n",
              "      <td>...</td>\n",
              "      <td>...</td>\n",
              "      <td>...</td>\n",
              "      <td>...</td>\n",
              "      <td>...</td>\n",
              "      <td>...</td>\n",
              "      <td>...</td>\n",
              "      <td>...</td>\n",
              "    </tr>\n",
              "    <tr>\n",
              "      <th>52579</th>\n",
              "      <td>2018-12-31 19:00:00</td>\n",
              "      <td>2018-12-31 00:00:00</td>\n",
              "      <td>19:00</td>\n",
              "      <td>8699</td>\n",
              "      <td>4.3</td>\n",
              "      <td>4.7</td>\n",
              "      <td>340</td>\n",
              "      <td>58.0</td>\n",
              "      <td>4.8</td>\n",
              "      <td>-3.2</td>\n",
              "      <td>1032.1</td>\n",
              "      <td>1034.7</td>\n",
              "      <td>3.3</td>\n",
              "    </tr>\n",
              "    <tr>\n",
              "      <th>52580</th>\n",
              "      <td>2018-12-31 20:00:00</td>\n",
              "      <td>2018-12-31 00:00:00</td>\n",
              "      <td>20:00</td>\n",
              "      <td>10694</td>\n",
              "      <td>3.9</td>\n",
              "      <td>4.5</td>\n",
              "      <td>360</td>\n",
              "      <td>61.0</td>\n",
              "      <td>4.9</td>\n",
              "      <td>-2.9</td>\n",
              "      <td>1032.0</td>\n",
              "      <td>1034.6</td>\n",
              "      <td>2.9</td>\n",
              "    </tr>\n",
              "    <tr>\n",
              "      <th>52581</th>\n",
              "      <td>2018-12-31 21:00:00</td>\n",
              "      <td>2018-12-31 00:00:00</td>\n",
              "      <td>21:00</td>\n",
              "      <td>5494</td>\n",
              "      <td>3.5</td>\n",
              "      <td>4.0</td>\n",
              "      <td>360</td>\n",
              "      <td>59.0</td>\n",
              "      <td>4.6</td>\n",
              "      <td>-3.7</td>\n",
              "      <td>1031.9</td>\n",
              "      <td>1034.5</td>\n",
              "      <td>1.9</td>\n",
              "    </tr>\n",
              "    <tr>\n",
              "      <th>52582</th>\n",
              "      <td>2018-12-31 22:00:00</td>\n",
              "      <td>2018-12-31 00:00:00</td>\n",
              "      <td>22:00</td>\n",
              "      <td>2718</td>\n",
              "      <td>3.8</td>\n",
              "      <td>3.4</td>\n",
              "      <td>20</td>\n",
              "      <td>61.0</td>\n",
              "      <td>4.9</td>\n",
              "      <td>-3.0</td>\n",
              "      <td>1031.6</td>\n",
              "      <td>1034.2</td>\n",
              "      <td>2.1</td>\n",
              "    </tr>\n",
              "    <tr>\n",
              "      <th>52583</th>\n",
              "      <td>2018-12-31 23:00:00</td>\n",
              "      <td>2018-12-31 00:00:00</td>\n",
              "      <td>23:00</td>\n",
              "      <td>2458</td>\n",
              "      <td>3.7</td>\n",
              "      <td>2.5</td>\n",
              "      <td>20</td>\n",
              "      <td>64.0</td>\n",
              "      <td>5.1</td>\n",
              "      <td>-2.4</td>\n",
              "      <td>1032.0</td>\n",
              "      <td>1034.6</td>\n",
              "      <td>1.6</td>\n",
              "    </tr>\n",
              "  </tbody>\n",
              "</table>\n",
              "<p>52584 rows × 13 columns</p>\n",
              "</div>"
            ],
            "text/plain": [
              "                  datetime                 date  ... seaLevelPressure  groundTem\n",
              "0      2013-01-01 00:00:00  2013-01-01 00:00:00  ...           1021.3        0.0\n",
              "1      2013-01-01 01:00:00  2013-01-01 00:00:00  ...           1021.2        0.0\n",
              "2      2013-01-01 02:00:00  2013-01-01 00:00:00  ...           1021.2        0.0\n",
              "3      2013-01-01 03:00:00  2013-01-01 00:00:00  ...           1021.2        0.3\n",
              "4      2013-01-01 04:00:00  2013-01-01 00:00:00  ...           1020.8        0.1\n",
              "...                    ...                  ...  ...              ...        ...\n",
              "52579  2018-12-31 19:00:00  2018-12-31 00:00:00  ...           1034.7        3.3\n",
              "52580  2018-12-31 20:00:00  2018-12-31 00:00:00  ...           1034.6        2.9\n",
              "52581  2018-12-31 21:00:00  2018-12-31 00:00:00  ...           1034.5        1.9\n",
              "52582  2018-12-31 22:00:00  2018-12-31 00:00:00  ...           1034.2        2.1\n",
              "52583  2018-12-31 23:00:00  2018-12-31 00:00:00  ...           1034.6        1.6\n",
              "\n",
              "[52584 rows x 13 columns]"
            ]
          },
          "metadata": {
            "tags": []
          },
          "execution_count": 3
        }
      ]
    },
    {
      "cell_type": "markdown",
      "metadata": {
        "id": "O9YGmMb-oS9f"
      },
      "source": [
        "# 2. 데이터 가공하기 "
      ]
    },
    {
      "cell_type": "markdown",
      "metadata": {
        "id": "T3OvtUOvxhrF"
      },
      "source": [
        "## 1) datetime 컬럼 제작, datetime 형식으로 변환"
      ]
    },
    {
      "cell_type": "code",
      "metadata": {
        "colab": {
          "base_uri": "https://localhost:8080/",
          "height": 289
        },
        "id": "zZuEdl2Rro-B",
        "outputId": "a5690538-63c8-4300-c6c7-e265b874ed6d"
      },
      "source": [
        "df = allData.copy()\n",
        "df['datetime'] = pd.to_datetime(df['datetime'],format='%Y-%m-%d %H:%M', errors='ignore') #합친거 datetime 형식으로 변환\n",
        "df['date'] = pd.to_datetime(df['date'],format='%Y-%m-%d', errors='ignore')  #date형식으로 변환\n",
        "#df['time'] = pd.to_datetime(df['time'],format='%H:%M', errors='ignore') #time 형식으로 변환\n",
        "df.head(5)"
      ],
      "execution_count": 4,
      "outputs": [
        {
          "output_type": "execute_result",
          "data": {
            "text/html": [
              "<div>\n",
              "<style scoped>\n",
              "    .dataframe tbody tr th:only-of-type {\n",
              "        vertical-align: middle;\n",
              "    }\n",
              "\n",
              "    .dataframe tbody tr th {\n",
              "        vertical-align: top;\n",
              "    }\n",
              "\n",
              "    .dataframe thead th {\n",
              "        text-align: right;\n",
              "    }\n",
              "</style>\n",
              "<table border=\"1\" class=\"dataframe\">\n",
              "  <thead>\n",
              "    <tr style=\"text-align: right;\">\n",
              "      <th></th>\n",
              "      <th>datetime</th>\n",
              "      <th>date</th>\n",
              "      <th>time</th>\n",
              "      <th>windForce</th>\n",
              "      <th>tem</th>\n",
              "      <th>windSpeed</th>\n",
              "      <th>windDirect</th>\n",
              "      <th>humidity</th>\n",
              "      <th>vaporPressure</th>\n",
              "      <th>dewPoint</th>\n",
              "      <th>pressure</th>\n",
              "      <th>seaLevelPressure</th>\n",
              "      <th>groundTem</th>\n",
              "    </tr>\n",
              "  </thead>\n",
              "  <tbody>\n",
              "    <tr>\n",
              "      <th>0</th>\n",
              "      <td>2013-01-01 00:00:00</td>\n",
              "      <td>2013-01-01</td>\n",
              "      <td>00:00</td>\n",
              "      <td>0</td>\n",
              "      <td>1.3</td>\n",
              "      <td>3.2</td>\n",
              "      <td>340</td>\n",
              "      <td>77.0</td>\n",
              "      <td>5.2</td>\n",
              "      <td>-2.2</td>\n",
              "      <td>1019.1</td>\n",
              "      <td>1021.3</td>\n",
              "      <td>0.0</td>\n",
              "    </tr>\n",
              "    <tr>\n",
              "      <th>1</th>\n",
              "      <td>2013-01-01 01:00:00</td>\n",
              "      <td>2013-01-01</td>\n",
              "      <td>01:00</td>\n",
              "      <td>0</td>\n",
              "      <td>0.9</td>\n",
              "      <td>2.6</td>\n",
              "      <td>320</td>\n",
              "      <td>77.0</td>\n",
              "      <td>5.0</td>\n",
              "      <td>-2.6</td>\n",
              "      <td>1019.0</td>\n",
              "      <td>1021.2</td>\n",
              "      <td>0.0</td>\n",
              "    </tr>\n",
              "    <tr>\n",
              "      <th>2</th>\n",
              "      <td>2013-01-01 02:00:00</td>\n",
              "      <td>2013-01-01</td>\n",
              "      <td>02:00</td>\n",
              "      <td>92</td>\n",
              "      <td>1.5</td>\n",
              "      <td>3.0</td>\n",
              "      <td>340</td>\n",
              "      <td>77.0</td>\n",
              "      <td>5.2</td>\n",
              "      <td>-2.1</td>\n",
              "      <td>1019.0</td>\n",
              "      <td>1021.2</td>\n",
              "      <td>0.0</td>\n",
              "    </tr>\n",
              "    <tr>\n",
              "      <th>3</th>\n",
              "      <td>2013-01-01 03:00:00</td>\n",
              "      <td>2013-01-01</td>\n",
              "      <td>03:00</td>\n",
              "      <td>269</td>\n",
              "      <td>2.7</td>\n",
              "      <td>1.7</td>\n",
              "      <td>270</td>\n",
              "      <td>74.0</td>\n",
              "      <td>5.5</td>\n",
              "      <td>-1.4</td>\n",
              "      <td>1019.0</td>\n",
              "      <td>1021.2</td>\n",
              "      <td>0.3</td>\n",
              "    </tr>\n",
              "    <tr>\n",
              "      <th>4</th>\n",
              "      <td>2013-01-01 04:00:00</td>\n",
              "      <td>2013-01-01</td>\n",
              "      <td>04:00</td>\n",
              "      <td>541</td>\n",
              "      <td>0.6</td>\n",
              "      <td>1.8</td>\n",
              "      <td>320</td>\n",
              "      <td>82.0</td>\n",
              "      <td>5.2</td>\n",
              "      <td>-2.1</td>\n",
              "      <td>1018.5</td>\n",
              "      <td>1020.8</td>\n",
              "      <td>0.1</td>\n",
              "    </tr>\n",
              "  </tbody>\n",
              "</table>\n",
              "</div>"
            ],
            "text/plain": [
              "             datetime       date   time  ...  pressure  seaLevelPressure  groundTem\n",
              "0 2013-01-01 00:00:00 2013-01-01  00:00  ...    1019.1            1021.3        0.0\n",
              "1 2013-01-01 01:00:00 2013-01-01  01:00  ...    1019.0            1021.2        0.0\n",
              "2 2013-01-01 02:00:00 2013-01-01  02:00  ...    1019.0            1021.2        0.0\n",
              "3 2013-01-01 03:00:00 2013-01-01  03:00  ...    1019.0            1021.2        0.3\n",
              "4 2013-01-01 04:00:00 2013-01-01  04:00  ...    1018.5            1020.8        0.1\n",
              "\n",
              "[5 rows x 13 columns]"
            ]
          },
          "metadata": {
            "tags": []
          },
          "execution_count": 4
        }
      ]
    },
    {
      "cell_type": "markdown",
      "metadata": {
        "id": "ZJ_SCnwtAe1u"
      },
      "source": [
        "## 2) 년(year), 월(month), 일(day), 계절(season) 컬럼 생성\n",
        "\n"
      ]
    },
    {
      "cell_type": "code",
      "metadata": {
        "colab": {
          "base_uri": "https://localhost:8080/",
          "height": 395
        },
        "id": "KzBXhgwc1ss2",
        "outputId": "a012e30d-9638-4e17-877c-bdf79cd453ac"
      },
      "source": [
        "df['year'] = df['date'].dt.year # 년\n",
        "df['month'] = df['date'].dt.month # 월\n",
        "df['day'] = df['date'].dt.day# 일\n",
        "\n",
        "conditionlist = [\n",
        "    (df['month'] == 3)|(df['month'] == 4)| (df['month'] == 5) ,\n",
        "    (df['month'] == 6)|(df['month'] == 7)|(df['month'] == 8) ,\n",
        "    (df['month'] == 9)|(df['month'] == 10)|(df['month'] == 11),\n",
        "    (df['month'] == 12)|(df['month'] == 1)|(df['month'] == 2) ]\n",
        "choicelist = ['0', '1', '2','3']\n",
        "#choicelist = ['spring', 'summer', 'autumn','winter']\n",
        "df['season'] = np.select(conditionlist, choicelist, default='Not Specified')\n",
        "df.head(5)"
      ],
      "execution_count": 5,
      "outputs": [
        {
          "output_type": "execute_result",
          "data": {
            "text/html": [
              "<div>\n",
              "<style scoped>\n",
              "    .dataframe tbody tr th:only-of-type {\n",
              "        vertical-align: middle;\n",
              "    }\n",
              "\n",
              "    .dataframe tbody tr th {\n",
              "        vertical-align: top;\n",
              "    }\n",
              "\n",
              "    .dataframe thead th {\n",
              "        text-align: right;\n",
              "    }\n",
              "</style>\n",
              "<table border=\"1\" class=\"dataframe\">\n",
              "  <thead>\n",
              "    <tr style=\"text-align: right;\">\n",
              "      <th></th>\n",
              "      <th>datetime</th>\n",
              "      <th>date</th>\n",
              "      <th>time</th>\n",
              "      <th>windForce</th>\n",
              "      <th>tem</th>\n",
              "      <th>windSpeed</th>\n",
              "      <th>windDirect</th>\n",
              "      <th>humidity</th>\n",
              "      <th>vaporPressure</th>\n",
              "      <th>dewPoint</th>\n",
              "      <th>pressure</th>\n",
              "      <th>seaLevelPressure</th>\n",
              "      <th>groundTem</th>\n",
              "      <th>year</th>\n",
              "      <th>month</th>\n",
              "      <th>day</th>\n",
              "      <th>season</th>\n",
              "    </tr>\n",
              "  </thead>\n",
              "  <tbody>\n",
              "    <tr>\n",
              "      <th>0</th>\n",
              "      <td>2013-01-01 00:00:00</td>\n",
              "      <td>2013-01-01</td>\n",
              "      <td>00:00</td>\n",
              "      <td>0</td>\n",
              "      <td>1.3</td>\n",
              "      <td>3.2</td>\n",
              "      <td>340</td>\n",
              "      <td>77.0</td>\n",
              "      <td>5.2</td>\n",
              "      <td>-2.2</td>\n",
              "      <td>1019.1</td>\n",
              "      <td>1021.3</td>\n",
              "      <td>0.0</td>\n",
              "      <td>2013</td>\n",
              "      <td>1</td>\n",
              "      <td>1</td>\n",
              "      <td>3</td>\n",
              "    </tr>\n",
              "    <tr>\n",
              "      <th>1</th>\n",
              "      <td>2013-01-01 01:00:00</td>\n",
              "      <td>2013-01-01</td>\n",
              "      <td>01:00</td>\n",
              "      <td>0</td>\n",
              "      <td>0.9</td>\n",
              "      <td>2.6</td>\n",
              "      <td>320</td>\n",
              "      <td>77.0</td>\n",
              "      <td>5.0</td>\n",
              "      <td>-2.6</td>\n",
              "      <td>1019.0</td>\n",
              "      <td>1021.2</td>\n",
              "      <td>0.0</td>\n",
              "      <td>2013</td>\n",
              "      <td>1</td>\n",
              "      <td>1</td>\n",
              "      <td>3</td>\n",
              "    </tr>\n",
              "    <tr>\n",
              "      <th>2</th>\n",
              "      <td>2013-01-01 02:00:00</td>\n",
              "      <td>2013-01-01</td>\n",
              "      <td>02:00</td>\n",
              "      <td>92</td>\n",
              "      <td>1.5</td>\n",
              "      <td>3.0</td>\n",
              "      <td>340</td>\n",
              "      <td>77.0</td>\n",
              "      <td>5.2</td>\n",
              "      <td>-2.1</td>\n",
              "      <td>1019.0</td>\n",
              "      <td>1021.2</td>\n",
              "      <td>0.0</td>\n",
              "      <td>2013</td>\n",
              "      <td>1</td>\n",
              "      <td>1</td>\n",
              "      <td>3</td>\n",
              "    </tr>\n",
              "    <tr>\n",
              "      <th>3</th>\n",
              "      <td>2013-01-01 03:00:00</td>\n",
              "      <td>2013-01-01</td>\n",
              "      <td>03:00</td>\n",
              "      <td>269</td>\n",
              "      <td>2.7</td>\n",
              "      <td>1.7</td>\n",
              "      <td>270</td>\n",
              "      <td>74.0</td>\n",
              "      <td>5.5</td>\n",
              "      <td>-1.4</td>\n",
              "      <td>1019.0</td>\n",
              "      <td>1021.2</td>\n",
              "      <td>0.3</td>\n",
              "      <td>2013</td>\n",
              "      <td>1</td>\n",
              "      <td>1</td>\n",
              "      <td>3</td>\n",
              "    </tr>\n",
              "    <tr>\n",
              "      <th>4</th>\n",
              "      <td>2013-01-01 04:00:00</td>\n",
              "      <td>2013-01-01</td>\n",
              "      <td>04:00</td>\n",
              "      <td>541</td>\n",
              "      <td>0.6</td>\n",
              "      <td>1.8</td>\n",
              "      <td>320</td>\n",
              "      <td>82.0</td>\n",
              "      <td>5.2</td>\n",
              "      <td>-2.1</td>\n",
              "      <td>1018.5</td>\n",
              "      <td>1020.8</td>\n",
              "      <td>0.1</td>\n",
              "      <td>2013</td>\n",
              "      <td>1</td>\n",
              "      <td>1</td>\n",
              "      <td>3</td>\n",
              "    </tr>\n",
              "  </tbody>\n",
              "</table>\n",
              "</div>"
            ],
            "text/plain": [
              "             datetime       date   time  windForce  ...  year  month  day  season\n",
              "0 2013-01-01 00:00:00 2013-01-01  00:00          0  ...  2013      1    1       3\n",
              "1 2013-01-01 01:00:00 2013-01-01  01:00          0  ...  2013      1    1       3\n",
              "2 2013-01-01 02:00:00 2013-01-01  02:00         92  ...  2013      1    1       3\n",
              "3 2013-01-01 03:00:00 2013-01-01  03:00        269  ...  2013      1    1       3\n",
              "4 2013-01-01 04:00:00 2013-01-01  04:00        541  ...  2013      1    1       3\n",
              "\n",
              "[5 rows x 17 columns]"
            ]
          },
          "metadata": {
            "tags": []
          },
          "execution_count": 5
        }
      ]
    },
    {
      "cell_type": "markdown",
      "metadata": {
        "id": "j4iLEsdct2FF"
      },
      "source": [
        "# 4. 훈련 & 예측"
      ]
    },
    {
      "cell_type": "markdown",
      "metadata": {
        "id": "qIQNuoxCt6US"
      },
      "source": [
        "## 1) train-test data 나누기"
      ]
    },
    {
      "cell_type": "code",
      "metadata": {
        "colab": {
          "base_uri": "https://localhost:8080/"
        },
        "id": "8GznxWyKOXsN",
        "outputId": "e4f79956-3c16-422a-e13c-87c49fc6705a"
      },
      "source": [
        "df2 = df.copy()\n",
        "df2.info()"
      ],
      "execution_count": 6,
      "outputs": [
        {
          "output_type": "stream",
          "text": [
            "<class 'pandas.core.frame.DataFrame'>\n",
            "RangeIndex: 52584 entries, 0 to 52583\n",
            "Data columns (total 17 columns):\n",
            " #   Column            Non-Null Count  Dtype         \n",
            "---  ------            --------------  -----         \n",
            " 0   datetime          52584 non-null  datetime64[ns]\n",
            " 1   date              52584 non-null  datetime64[ns]\n",
            " 2   time              52584 non-null  object        \n",
            " 3   windForce         52584 non-null  int64         \n",
            " 4   tem               52584 non-null  float64       \n",
            " 5   windSpeed         52584 non-null  float64       \n",
            " 6   windDirect        52584 non-null  int64         \n",
            " 7   humidity          52584 non-null  float64       \n",
            " 8   vaporPressure     52584 non-null  float64       \n",
            " 9   dewPoint          52584 non-null  float64       \n",
            " 10  pressure          52584 non-null  float64       \n",
            " 11  seaLevelPressure  52584 non-null  float64       \n",
            " 12  groundTem         52584 non-null  float64       \n",
            " 13  year              52584 non-null  int64         \n",
            " 14  month             52584 non-null  int64         \n",
            " 15  day               52584 non-null  int64         \n",
            " 16  season            52584 non-null  object        \n",
            "dtypes: datetime64[ns](2), float64(8), int64(5), object(2)\n",
            "memory usage: 6.8+ MB\n"
          ],
          "name": "stdout"
        }
      ]
    },
    {
      "cell_type": "code",
      "metadata": {
        "colab": {
          "base_uri": "https://localhost:8080/"
        },
        "id": "ftbIQGGat85_",
        "outputId": "70d98339-5e5b-48f2-e7b5-4db4eb5ad80f"
      },
      "source": [
        "X = df2[['tem','windSpeed','windDirect','humidity']] #,'groundTem','seaLevelPressure'\n",
        "y = df2[['windForce']]\n",
        "\n",
        "transform = MinMaxScaler()\n",
        "trans_X=transform.fit_transform(X)\n",
        "trans_y=transform.fit_transform(y)\n",
        "\n",
        "X_train, X_test,y_train, y_test = train_test_split(X,y,test_size=0.2,random_state=10)\n",
        "print('train data 개수 : ', len(X_train))\n",
        "print('test data 개수: ', len(X_test))\n",
        "print(len(X_train)+len(X_test))"
      ],
      "execution_count": 34,
      "outputs": [
        {
          "output_type": "stream",
          "text": [
            "train data 개수 :  42067\n",
            "test data 개수:  10517\n",
            "52584\n"
          ],
          "name": "stdout"
        }
      ]
    },
    {
      "cell_type": "code",
      "metadata": {
        "colab": {
          "base_uri": "https://localhost:8080/"
        },
        "id": "14njpgM1tl5q",
        "outputId": "c3f4ae11-ea66-41e6-8a13-67a84fc0b28c"
      },
      "source": [
        "X_train.ndim\n",
        "X_train.shape"
      ],
      "execution_count": 36,
      "outputs": [
        {
          "output_type": "execute_result",
          "data": {
            "text/plain": [
              "(42067, 4)"
            ]
          },
          "metadata": {
            "tags": []
          },
          "execution_count": 36
        }
      ]
    },
    {
      "cell_type": "markdown",
      "metadata": {
        "id": "H2fkJbbHWqGO"
      },
      "source": [
        "## 5. LSTM !!!\n"
      ]
    },
    {
      "cell_type": "code",
      "metadata": {
        "id": "BT8JCvxwyJ37"
      },
      "source": [
        "# https://teddylee777.github.io/tensorflow/LSTM%EC%9C%BC%EB%A1%9C-%EC%98%88%EC%B8%A1%ED%95%B4%EB%B3%B4%EB%8A%94-%EC%82%BC%EC%84%B1%EC%A0%84%EC%9E%90-%EC%A3%BC%EA%B0%80\n",
        "def make_dataset(data, label, window_size=1):\n",
        "    feature_list = []\n",
        "    label_list = []\n",
        "    for i in range(len(data) - window_size):\n",
        "        feature_list.append(np.array(data.iloc[i:i+window_size]))\n",
        "        label_list.append(np.array(label.iloc[i+window_size]))\n",
        "    return np.array(feature_list), np.array(label_list)"
      ],
      "execution_count": 95,
      "outputs": []
    },
    {
      "cell_type": "code",
      "metadata": {
        "colab": {
          "base_uri": "https://localhost:8080/"
        },
        "id": "zZ1mVquTfCeK",
        "outputId": "64181f59-4d80-4d66-e323-18ebb1d4a357"
      },
      "source": [
        "# X = df2[['tem','windSpeed','humidity','groundTem','windDirect','seaLevelPressure']] #,'windDirect'\n",
        "# X = df2[['tem','windSpeed','groundTem']] #,'windDirect'\n",
        "transform = MinMaxScaler()\n",
        "\n",
        "scale_cols=['tem','windSpeed','groundTem','windForce']\n",
        "df_scaled = df2[['tem','windSpeed','groundTem','windForce']] \n",
        "df_scaled = transform.fit_transform(df_scaled)\n",
        "df_scaled = pd.DataFrame(df_scaled)\n",
        "df_scaled.columns = scale_cols\n",
        "\n",
        "train = df_scaled[:int(len(df2)*0.8)]\n",
        "test = df_scaled[int(len(df2)*0.8):]\n",
        "print(train.head())\n",
        "print(test.head())"
      ],
      "execution_count": 107,
      "outputs": [
        {
          "output_type": "stream",
          "text": [
            "        tem  windSpeed  groundTem  windForce\n",
            "0  0.190123   0.180791   0.061135   0.000000\n",
            "1  0.180247   0.146893   0.061135   0.000000\n",
            "2  0.195062   0.169492   0.061135   0.007663\n",
            "3  0.224691   0.096045   0.065502   0.022407\n",
            "4  0.172840   0.101695   0.062591   0.045065\n",
            "            tem  windSpeed  groundTem  windForce\n",
            "42067  0.607407   0.158192   0.312955   0.144940\n",
            "42068  0.585185   0.062147   0.305677   0.111370\n",
            "42069  0.565432   0.067797   0.298399   0.079967\n",
            "42070  0.558025   0.073446   0.292576   0.061808\n",
            "42071  0.562963   0.079096   0.289665   0.055560\n"
          ],
          "name": "stdout"
        }
      ]
    },
    {
      "cell_type": "code",
      "metadata": {
        "id": "34MdXe2sZKkw",
        "colab": {
          "base_uri": "https://localhost:8080/"
        },
        "outputId": "a4f28e75-32a4-4c11-ce9a-f8fda7d01ed5"
      },
      "source": [
        "WINDOW_SIZE = 1 # 일 데이터를 묶을지 (window_size : 20, 1)\n",
        "feature1 = ['tem','windSpeed','groundTem','windForce']\n",
        "labels1 = ['windForce']\n",
        "\n",
        "train_feature = train[feature1]\n",
        "train_label = train[labels1]\n",
        "\n",
        "train_feature, train_label = make_dataset(train_feature, train_label, WINDOW_SIZE)\n",
        "\n",
        "X_train, X_valid,y_train, y_valid = train_test_split(train_feature,train_label,test_size=0.2,random_state=10) # train, valid\n",
        "print(X_train.shape, X_valid.shape)"
      ],
      "execution_count": 108,
      "outputs": [
        {
          "output_type": "stream",
          "text": [
            "(33652, 1, 4) (8414, 1, 4)\n"
          ],
          "name": "stdout"
        }
      ]
    },
    {
      "cell_type": "code",
      "metadata": {
        "colab": {
          "base_uri": "https://localhost:8080/"
        },
        "id": "eijUVK6FZe8i",
        "outputId": "df5fcf06-e351-453a-b06f-ecca1b59825b"
      },
      "source": [
        "test_feature = test[feature1]\n",
        "test_label = test[labels1]\n",
        "test_feature, test_label = make_dataset(test_feature, test_label, WINDOW_SIZE)\n",
        "test_feature.shape, test_label.shape"
      ],
      "execution_count": 109,
      "outputs": [
        {
          "output_type": "execute_result",
          "data": {
            "text/plain": [
              "((10516, 1, 4), (10516, 1))"
            ]
          },
          "metadata": {
            "tags": []
          },
          "execution_count": 109
        }
      ]
    },
    {
      "cell_type": "code",
      "metadata": {
        "id": "y8xWHq2KwJUQ"
      },
      "source": [
        "from keras.models import Sequential\n",
        "from keras.layers import Dense\n",
        "from keras.callbacks import EarlyStopping, ModelCheckpoint\n",
        "from keras.layers import LSTM\n",
        "import os\n",
        "\n",
        "model = Sequential()\n",
        "model.add(LSTM(16, \n",
        "               input_shape=(train_feature.shape[1], train_feature.shape[2]), \n",
        "               activation='relu', \n",
        "               return_sequences=False)\n",
        "          )\n",
        "model.add(Dense(8))\n",
        "model.add(Dense(1))\n",
        "\n",
        "# network.add(layers.Dense(128, input_shape=train_feature.shape,activation='relu'))\n",
        "# network.add(layers.Dense(64,activation='relu'))\n",
        "# network.add(layers.Dense(1))"
      ],
      "execution_count": 110,
      "outputs": []
    },
    {
      "cell_type": "code",
      "metadata": {
        "colab": {
          "base_uri": "https://localhost:8080/"
        },
        "id": "4BIPuUHFz7Ze",
        "outputId": "bcc806b1-11d9-42b1-f045-5526242e3f6b"
      },
      "source": [
        "model.compile(loss='binary_crossentropy', optimizer='rmsprop')\n",
        "early_stop = EarlyStopping(monitor='val_loss', patience=5)\n",
        "model_path = '/content/gdrive/My Drive/Colab Notebooks'\n",
        "filename = os.path.join(model_path, 'tmp_checkpoint.h5')\n",
        "print(filename)\n",
        "checkpoint = ModelCheckpoint(filename, monitor='val_loss', verbose=1, save_best_only=True, mode='auto')\n",
        "\n",
        "history = model.fit(X_train, y_train, \n",
        "                    epochs=200, \n",
        "                    batch_size=16,\n",
        "                    validation_data=(X_valid, y_valid), \n",
        "                    callbacks=[early_stop, checkpoint])\n"
      ],
      "execution_count": 111,
      "outputs": [
        {
          "output_type": "stream",
          "text": [
            "/content/gdrive/My Drive/Colab Notebooks/tmp_checkpoint.h5\n",
            "Epoch 1/200\n",
            "2104/2104 [==============================] - 5s 1ms/step - loss: 0.4605 - val_loss: 0.3847\n",
            "\n",
            "Epoch 00001: val_loss improved from inf to 0.38471, saving model to /content/gdrive/My Drive/Colab Notebooks/tmp_checkpoint.h5\n",
            "Epoch 2/200\n",
            "2104/2104 [==============================] - 3s 1ms/step - loss: 0.3844 - val_loss: 0.3824\n",
            "\n",
            "Epoch 00002: val_loss improved from 0.38471 to 0.38240, saving model to /content/gdrive/My Drive/Colab Notebooks/tmp_checkpoint.h5\n",
            "Epoch 3/200\n",
            "2104/2104 [==============================] - 3s 1ms/step - loss: 0.3820 - val_loss: 0.3818\n",
            "\n",
            "Epoch 00003: val_loss improved from 0.38240 to 0.38176, saving model to /content/gdrive/My Drive/Colab Notebooks/tmp_checkpoint.h5\n",
            "Epoch 4/200\n",
            "2104/2104 [==============================] - 3s 1ms/step - loss: 0.3827 - val_loss: 0.3816\n",
            "\n",
            "Epoch 00004: val_loss improved from 0.38176 to 0.38159, saving model to /content/gdrive/My Drive/Colab Notebooks/tmp_checkpoint.h5\n",
            "Epoch 5/200\n",
            "2104/2104 [==============================] - 3s 1ms/step - loss: 0.3813 - val_loss: 0.3817\n",
            "\n",
            "Epoch 00005: val_loss did not improve from 0.38159\n",
            "Epoch 6/200\n",
            "2104/2104 [==============================] - 3s 1ms/step - loss: 0.3796 - val_loss: 0.3823\n",
            "\n",
            "Epoch 00006: val_loss did not improve from 0.38159\n",
            "Epoch 7/200\n",
            "2104/2104 [==============================] - 3s 1ms/step - loss: 0.3819 - val_loss: 0.3857\n",
            "\n",
            "Epoch 00007: val_loss did not improve from 0.38159\n",
            "Epoch 8/200\n",
            "2104/2104 [==============================] - 3s 1ms/step - loss: 0.3840 - val_loss: 0.3819\n",
            "\n",
            "Epoch 00008: val_loss did not improve from 0.38159\n",
            "Epoch 9/200\n",
            "2104/2104 [==============================] - 3s 1ms/step - loss: 0.3780 - val_loss: 0.3827\n",
            "\n",
            "Epoch 00009: val_loss did not improve from 0.38159\n"
          ],
          "name": "stdout"
        }
      ]
    },
    {
      "cell_type": "code",
      "metadata": {
        "id": "_UQcAzZn0lpC"
      },
      "source": [
        "# weight 로딩\n",
        "model.load_weights(filename)\n",
        "\n",
        "# 예측\n",
        "pred = model.predict(test_feature)"
      ],
      "execution_count": 112,
      "outputs": []
    },
    {
      "cell_type": "code",
      "metadata": {
        "colab": {
          "base_uri": "https://localhost:8080/",
          "height": 536
        },
        "id": "Sf6pEx290nkC",
        "outputId": "6839b2b1-1c62-4672-a2f6-cff03a8778ec"
      },
      "source": [
        "plt.figure(figsize=(12, 9))\n",
        "plt.plot(test_label, label='actual')\n",
        "plt.plot(pred, label='prediction')\n",
        "plt.legend()\n",
        "plt.show()"
      ],
      "execution_count": 113,
      "outputs": [
        {
          "output_type": "display_data",
          "data": {
            "image/png": "[encoded data removed]",
            "text/plain": [
              "<Figure size 864x648 with 1 Axes>"
            ]
          },
          "metadata": {
            "tags": [],
            "needs_background": "light"
          }
        }
      ]
    },
    {
      "cell_type": "code",
      "metadata": {
        "colab": {
          "base_uri": "https://localhost:8080/",
          "height": 683
        },
        "id": "1D1tuTFv1ZRs",
        "outputId": "1c369ee5-11ee-4ce6-b90a-ee9b3c650f98"
      },
      "source": [
        "plt.figure(figsize=(16,10))\n",
        "ax1 = sns.distplot(test_label,hist=False,label='y')\n",
        "ax2 = sns.distplot(pred,hist=False,label='y_hat',ax=ax1)\n",
        "\n",
        "plt.show()\n",
        "plt.close()"
      ],
      "execution_count": 114,
      "outputs": [
        {
          "output_type": "stream",
          "text": [
            "/usr/local/lib/python3.7/dist-packages/seaborn/distributions.py:2557: FutureWarning: `distplot` is a deprecated function and will be removed in a future version. Please adapt your code to use either `displot` (a figure-level function with similar flexibility) or `kdeplot` (an axes-level function for kernel density plots).\n",
            "  warnings.warn(msg, FutureWarning)\n",
            "/usr/local/lib/python3.7/dist-packages/seaborn/distributions.py:2557: FutureWarning: `distplot` is a deprecated function and will be removed in a future version. Please adapt your code to use either `displot` (a figure-level function with similar flexibility) or `kdeplot` (an axes-level function for kernel density plots).\n",
            "  warnings.warn(msg, FutureWarning)\n"
          ],
          "name": "stderr"
        },
        {
          "output_type": "display_data",
          "data": {
            "image/png": "[encoded data removed]",
            "text/plain": [
              "<Figure size 1152x720 with 1 Axes>"
            ]
          },
          "metadata": {
            "tags": [],
            "needs_background": "light"
          }
        }
      ]
    },
    {
      "cell_type": "code",
      "metadata": {
        "colab": {
          "base_uri": "https://localhost:8080/"
        },
        "id": "yijMfeJs2cTm",
        "outputId": "98007a51-c6fb-45c1-8086-c1c511d3d1a7"
      },
      "source": [
        "test_label"
      ],
      "execution_count": 115,
      "outputs": [
        {
          "output_type": "execute_result",
          "data": {
            "text/plain": [
              "array([[0.11137026],\n",
              "       [0.07996668],\n",
              "       [0.06180758],\n",
              "       ...,\n",
              "       [0.45764265],\n",
              "       [0.22640566],\n",
              "       [0.20474802]])"
            ]
          },
          "metadata": {
            "tags": []
          },
          "execution_count": 115
        }
      ]
    },
    {
      "cell_type": "code",
      "metadata": {
        "colab": {
          "base_uri": "https://localhost:8080/"
        },
        "id": "BXFBWure3lXA",
        "outputId": "25dcba0d-644c-437f-969c-5f5a29487023"
      },
      "source": [
        " pred"
      ],
      "execution_count": 116,
      "outputs": [
        {
          "output_type": "execute_result",
          "data": {
            "text/plain": [
              "array([[0.15425524],\n",
              "       [0.12303162],\n",
              "       [0.09175117],\n",
              "       ...,\n",
              "       [0.8508988 ],\n",
              "       [0.45513296],\n",
              "       [0.24135481]], dtype=float32)"
            ]
          },
          "metadata": {
            "tags": []
          },
          "execution_count": 116
        }
      ]
    },
    {
      "cell_type": "code",
      "metadata": {
        "id": "B21t_8D93qbd"
      },
      "source": [
        ""
      ],
      "execution_count": 116,
      "outputs": []
    }
  ]
}