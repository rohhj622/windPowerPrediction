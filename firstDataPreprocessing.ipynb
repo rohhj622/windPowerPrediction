{
  "nbformat": 4,
  "nbformat_minor": 5,
  "metadata": {
    "kernelspec": {
      "display_name": "Python 3",
      "language": "python",
      "name": "python3"
    },
    "language_info": {
      "codemirror_mode": {
        "name": "ipython",
        "version": 3
      },
      "file_extension": ".py",
      "mimetype": "text/x-python",
      "name": "python",
      "nbconvert_exporter": "python",
      "pygments_lexer": "ipython3",
      "version": "3.8.5"
    },
    "colab": {
      "name": "firstDataPreprocessing.ipynb",
      "provenance": [],
      "collapsed_sections": [
        "56DpNHVTMC4e",
        "vRavTBrHcC_o",
        "MbEo8ce-3PBS",
        "a7tHg6IHMC4g"
      ],
      "toc_visible": true,
      "include_colab_link": true
    }
  },
  "cells": [
    {
      "cell_type": "markdown",
      "metadata": {
        "id": "view-in-github",
        "colab_type": "text"
      },
      "source": [
        "<a href=\"https://colab.research.google.com/github/rohhj622/windPowerPrediction/blob/master/firstDataPreprocessing.ipynb\" target=\"_parent\"><img src=\"https://colab.research.google.com/assets/colab-badge.svg\" alt=\"Open In Colab\"/></a>"
      ]
    },
    {
      "cell_type": "markdown",
      "metadata": {
        "id": "3cvJdyd7kv1G"
      },
      "source": [
        "# 데이터 전처리\n",
        "\n",
        "*   총 52584\n",
        "*   기상청데이터 + 발전량 데이터\n",
        "*   빈 값 앞에 갚으로 채우기\n",
        "*   datetime 컬럼 만듦\n",
        "*   필요없는 컬럼 제거\n",
        "\n"
      ],
      "id": "3cvJdyd7kv1G"
    },
    {
      "cell_type": "code",
      "metadata": {
        "id": "hqIMIuiOMC4V"
      },
      "source": [
        "# -*- coding: utf-8 -*-\n",
        "import pandas as pd\n",
        "import numpy as np\n",
        "import matplotlib.pyplot as plt\n",
        "import missingno as msno"
      ],
      "id": "hqIMIuiOMC4V",
      "execution_count": 270,
      "outputs": []
    },
    {
      "cell_type": "markdown",
      "metadata": {
        "id": "NbmoRjsmMC4O"
      },
      "source": [
        "## 1. 발전 실적을 한 줄의 데이터로 만들기\n",
        "\n",
        "*   한국 남부 발전 성산풍력 발전량\n",
        "*   1~24 컬럼을 한 줄로 만들기\n",
        "화이팅\n",
        "\n",
        "\n"
      ],
      "id": "NbmoRjsmMC4O"
    },
    {
      "cell_type": "code",
      "metadata": {
        "colab": {
          "base_uri": "https://localhost:8080/"
        },
        "id": "MJGC7RivNFms",
        "outputId": "9afce990-2498-41c7-cc83-354f1de7662e"
      },
      "source": [
        "from google.colab import drive\n",
        "drive.mount('/content/gdrive')"
      ],
      "id": "MJGC7RivNFms",
      "execution_count": 410,
      "outputs": [
        {
          "output_type": "stream",
          "text": [
            "Drive already mounted at /content/gdrive; to attempt to forcibly remount, call drive.mount(\"/content/gdrive\", force_remount=True).\n"
          ],
          "name": "stdout"
        }
      ]
    },
    {
      "cell_type": "code",
      "metadata": {
        "collapsed": true,
        "id": "nQ3cFFxYMC4W",
        "colab": {
          "base_uri": "https://localhost:8080/",
          "height": 408
        },
        "outputId": "65bbff7b-4035-4f67-dfad-7254e18db4a2"
      },
      "source": [
        "time_power=pd.read_csv(r'/content/gdrive/My Drive/Colab Notebooks/original/time_power.CSV',header=None) # 컬럼명 숫자로 들어가게\n",
        "time_power.head(10)"
      ],
      "id": "nQ3cFFxYMC4W",
      "execution_count": 411,
      "outputs": [
        {
          "output_type": "execute_result",
          "data": {
            "text/html": [
              "<div>\n",
              "<style scoped>\n",
              "    .dataframe tbody tr th:only-of-type {\n",
              "        vertical-align: middle;\n",
              "    }\n",
              "\n",
              "    .dataframe tbody tr th {\n",
              "        vertical-align: top;\n",
              "    }\n",
              "\n",
              "    .dataframe thead th {\n",
              "        text-align: right;\n",
              "    }\n",
              "</style>\n",
              "<table border=\"1\" class=\"dataframe\">\n",
              "  <thead>\n",
              "    <tr style=\"text-align: right;\">\n",
              "      <th></th>\n",
              "      <th>0</th>\n",
              "      <th>1</th>\n",
              "      <th>2</th>\n",
              "      <th>3</th>\n",
              "      <th>4</th>\n",
              "      <th>5</th>\n",
              "      <th>6</th>\n",
              "      <th>7</th>\n",
              "      <th>8</th>\n",
              "      <th>9</th>\n",
              "      <th>10</th>\n",
              "      <th>11</th>\n",
              "      <th>12</th>\n",
              "      <th>13</th>\n",
              "      <th>14</th>\n",
              "      <th>15</th>\n",
              "      <th>16</th>\n",
              "      <th>17</th>\n",
              "      <th>18</th>\n",
              "      <th>19</th>\n",
              "      <th>20</th>\n",
              "      <th>21</th>\n",
              "      <th>22</th>\n",
              "      <th>23</th>\n",
              "      <th>24</th>\n",
              "      <th>25</th>\n",
              "      <th>26</th>\n",
              "      <th>27</th>\n",
              "      <th>28</th>\n",
              "      <th>29</th>\n",
              "      <th>30</th>\n",
              "      <th>31</th>\n",
              "      <th>32</th>\n",
              "      <th>33</th>\n",
              "      <th>34</th>\n",
              "      <th>35</th>\n",
              "      <th>36</th>\n",
              "      <th>37</th>\n",
              "      <th>38</th>\n",
              "      <th>39</th>\n",
              "      <th>...</th>\n",
              "      <th>2485</th>\n",
              "      <th>2486</th>\n",
              "      <th>2487</th>\n",
              "      <th>2488</th>\n",
              "      <th>2489</th>\n",
              "      <th>2490</th>\n",
              "      <th>2491</th>\n",
              "      <th>2492</th>\n",
              "      <th>2493</th>\n",
              "      <th>2494</th>\n",
              "      <th>2495</th>\n",
              "      <th>2496</th>\n",
              "      <th>2497</th>\n",
              "      <th>2498</th>\n",
              "      <th>2499</th>\n",
              "      <th>2500</th>\n",
              "      <th>2501</th>\n",
              "      <th>2502</th>\n",
              "      <th>2503</th>\n",
              "      <th>2504</th>\n",
              "      <th>2505</th>\n",
              "      <th>2506</th>\n",
              "      <th>2507</th>\n",
              "      <th>2508</th>\n",
              "      <th>2509</th>\n",
              "      <th>2510</th>\n",
              "      <th>2511</th>\n",
              "      <th>2512</th>\n",
              "      <th>2513</th>\n",
              "      <th>2514</th>\n",
              "      <th>2515</th>\n",
              "      <th>2516</th>\n",
              "      <th>2517</th>\n",
              "      <th>2518</th>\n",
              "      <th>2519</th>\n",
              "      <th>2520</th>\n",
              "      <th>2521</th>\n",
              "      <th>2522</th>\n",
              "      <th>2523</th>\n",
              "      <th>2524</th>\n",
              "    </tr>\n",
              "  </thead>\n",
              "  <tbody>\n",
              "    <tr>\n",
              "      <th>0</th>\n",
              "      <td>0</td>\n",
              "      <td>3031</td>\n",
              "      <td>5741</td>\n",
              "      <td>8300</td>\n",
              "      <td>7822</td>\n",
              "      <td>253</td>\n",
              "      <td>7400</td>\n",
              "      <td>9893</td>\n",
              "      <td>11435</td>\n",
              "      <td>7575</td>\n",
              "      <td>3665</td>\n",
              "      <td>461</td>\n",
              "      <td>1381</td>\n",
              "      <td>5021</td>\n",
              "      <td>10360</td>\n",
              "      <td>2908</td>\n",
              "      <td>10174</td>\n",
              "      <td>9139</td>\n",
              "      <td>4776</td>\n",
              "      <td>1232</td>\n",
              "      <td>5083</td>\n",
              "      <td>8870</td>\n",
              "      <td>3625</td>\n",
              "      <td>1712</td>\n",
              "      <td>9274</td>\n",
              "      <td>168</td>\n",
              "      <td>7130</td>\n",
              "      <td>8555</td>\n",
              "      <td>0</td>\n",
              "      <td>0</td>\n",
              "      <td>56</td>\n",
              "      <td>10024</td>\n",
              "      <td>11307</td>\n",
              "      <td>4757</td>\n",
              "      <td>2295</td>\n",
              "      <td>7728</td>\n",
              "      <td>8670</td>\n",
              "      <td>4799</td>\n",
              "      <td>10708</td>\n",
              "      <td>2977</td>\n",
              "      <td>...</td>\n",
              "      <td>1608</td>\n",
              "      <td>2463</td>\n",
              "      <td>681</td>\n",
              "      <td>2827</td>\n",
              "      <td>2355</td>\n",
              "      <td>3465</td>\n",
              "      <td>2671</td>\n",
              "      <td>0</td>\n",
              "      <td>1164</td>\n",
              "      <td>1012</td>\n",
              "      <td>1030</td>\n",
              "      <td>970</td>\n",
              "      <td>0</td>\n",
              "      <td>3571</td>\n",
              "      <td>0</td>\n",
              "      <td>1598</td>\n",
              "      <td>1431</td>\n",
              "      <td>9495</td>\n",
              "      <td>9390</td>\n",
              "      <td>3556</td>\n",
              "      <td>2812</td>\n",
              "      <td>3493</td>\n",
              "      <td>283</td>\n",
              "      <td>8582</td>\n",
              "      <td>0</td>\n",
              "      <td>3817</td>\n",
              "      <td>2124</td>\n",
              "      <td>9463</td>\n",
              "      <td>7353</td>\n",
              "      <td>3697</td>\n",
              "      <td>1180</td>\n",
              "      <td>1573</td>\n",
              "      <td>680</td>\n",
              "      <td>0</td>\n",
              "      <td>9998</td>\n",
              "      <td>6657</td>\n",
              "      <td>1527</td>\n",
              "      <td>4589</td>\n",
              "      <td>1385</td>\n",
              "      <td>341</td>\n",
              "    </tr>\n",
              "    <tr>\n",
              "      <th>1</th>\n",
              "      <td>0</td>\n",
              "      <td>3051</td>\n",
              "      <td>8666</td>\n",
              "      <td>8573</td>\n",
              "      <td>8462</td>\n",
              "      <td>1593</td>\n",
              "      <td>9963</td>\n",
              "      <td>9542</td>\n",
              "      <td>11982</td>\n",
              "      <td>7607</td>\n",
              "      <td>7489</td>\n",
              "      <td>45</td>\n",
              "      <td>907</td>\n",
              "      <td>5575</td>\n",
              "      <td>9654</td>\n",
              "      <td>3459</td>\n",
              "      <td>10914</td>\n",
              "      <td>9472</td>\n",
              "      <td>3402</td>\n",
              "      <td>1408</td>\n",
              "      <td>6047</td>\n",
              "      <td>8434</td>\n",
              "      <td>3859</td>\n",
              "      <td>2802</td>\n",
              "      <td>8403</td>\n",
              "      <td>0</td>\n",
              "      <td>6988</td>\n",
              "      <td>5496</td>\n",
              "      <td>0</td>\n",
              "      <td>0</td>\n",
              "      <td>396</td>\n",
              "      <td>10125</td>\n",
              "      <td>10747</td>\n",
              "      <td>7110</td>\n",
              "      <td>1925</td>\n",
              "      <td>9007</td>\n",
              "      <td>8780</td>\n",
              "      <td>3767</td>\n",
              "      <td>10735</td>\n",
              "      <td>2833</td>\n",
              "      <td>...</td>\n",
              "      <td>1266</td>\n",
              "      <td>2595</td>\n",
              "      <td>4618</td>\n",
              "      <td>4173</td>\n",
              "      <td>2371</td>\n",
              "      <td>2818</td>\n",
              "      <td>2731</td>\n",
              "      <td>0</td>\n",
              "      <td>1372</td>\n",
              "      <td>582</td>\n",
              "      <td>1556</td>\n",
              "      <td>646</td>\n",
              "      <td>0</td>\n",
              "      <td>2765</td>\n",
              "      <td>151</td>\n",
              "      <td>3817</td>\n",
              "      <td>2858</td>\n",
              "      <td>7908</td>\n",
              "      <td>9677</td>\n",
              "      <td>2533</td>\n",
              "      <td>1054</td>\n",
              "      <td>4591</td>\n",
              "      <td>0</td>\n",
              "      <td>9539</td>\n",
              "      <td>0</td>\n",
              "      <td>2355</td>\n",
              "      <td>3110</td>\n",
              "      <td>8357</td>\n",
              "      <td>7484</td>\n",
              "      <td>5004</td>\n",
              "      <td>1056</td>\n",
              "      <td>1230</td>\n",
              "      <td>933</td>\n",
              "      <td>0</td>\n",
              "      <td>9992</td>\n",
              "      <td>6274</td>\n",
              "      <td>1234</td>\n",
              "      <td>4392</td>\n",
              "      <td>1504</td>\n",
              "      <td>114</td>\n",
              "    </tr>\n",
              "    <tr>\n",
              "      <th>2</th>\n",
              "      <td>92</td>\n",
              "      <td>3173</td>\n",
              "      <td>10320</td>\n",
              "      <td>8584</td>\n",
              "      <td>8129</td>\n",
              "      <td>4009</td>\n",
              "      <td>7356</td>\n",
              "      <td>10309</td>\n",
              "      <td>9841</td>\n",
              "      <td>8289</td>\n",
              "      <td>4497</td>\n",
              "      <td>6</td>\n",
              "      <td>1432</td>\n",
              "      <td>5812</td>\n",
              "      <td>10294</td>\n",
              "      <td>5277</td>\n",
              "      <td>10419</td>\n",
              "      <td>10874</td>\n",
              "      <td>92</td>\n",
              "      <td>568</td>\n",
              "      <td>5510</td>\n",
              "      <td>9109</td>\n",
              "      <td>3328</td>\n",
              "      <td>2548</td>\n",
              "      <td>8374</td>\n",
              "      <td>0</td>\n",
              "      <td>7745</td>\n",
              "      <td>3675</td>\n",
              "      <td>0</td>\n",
              "      <td>0</td>\n",
              "      <td>1697</td>\n",
              "      <td>8235</td>\n",
              "      <td>8944</td>\n",
              "      <td>7720</td>\n",
              "      <td>3659</td>\n",
              "      <td>5974</td>\n",
              "      <td>8332</td>\n",
              "      <td>3356</td>\n",
              "      <td>10794</td>\n",
              "      <td>4193</td>\n",
              "      <td>...</td>\n",
              "      <td>1725</td>\n",
              "      <td>2065</td>\n",
              "      <td>5854</td>\n",
              "      <td>3923</td>\n",
              "      <td>3808</td>\n",
              "      <td>2266</td>\n",
              "      <td>2716</td>\n",
              "      <td>48</td>\n",
              "      <td>920</td>\n",
              "      <td>380</td>\n",
              "      <td>1800</td>\n",
              "      <td>378</td>\n",
              "      <td>134</td>\n",
              "      <td>1920</td>\n",
              "      <td>377</td>\n",
              "      <td>6016</td>\n",
              "      <td>1728</td>\n",
              "      <td>7191</td>\n",
              "      <td>5786</td>\n",
              "      <td>1352</td>\n",
              "      <td>1492</td>\n",
              "      <td>1598</td>\n",
              "      <td>0</td>\n",
              "      <td>8855</td>\n",
              "      <td>0</td>\n",
              "      <td>3946</td>\n",
              "      <td>2763</td>\n",
              "      <td>9408</td>\n",
              "      <td>6773</td>\n",
              "      <td>5671</td>\n",
              "      <td>1026</td>\n",
              "      <td>583</td>\n",
              "      <td>821</td>\n",
              "      <td>113</td>\n",
              "      <td>9330</td>\n",
              "      <td>6278</td>\n",
              "      <td>884</td>\n",
              "      <td>4071</td>\n",
              "      <td>2369</td>\n",
              "      <td>105</td>\n",
              "    </tr>\n",
              "    <tr>\n",
              "      <th>3</th>\n",
              "      <td>269</td>\n",
              "      <td>4196</td>\n",
              "      <td>10799</td>\n",
              "      <td>7192</td>\n",
              "      <td>9295</td>\n",
              "      <td>6941</td>\n",
              "      <td>6366</td>\n",
              "      <td>8454</td>\n",
              "      <td>11463</td>\n",
              "      <td>5521</td>\n",
              "      <td>6038</td>\n",
              "      <td>328</td>\n",
              "      <td>653</td>\n",
              "      <td>4888</td>\n",
              "      <td>8387</td>\n",
              "      <td>5215</td>\n",
              "      <td>9145</td>\n",
              "      <td>11701</td>\n",
              "      <td>1165</td>\n",
              "      <td>36</td>\n",
              "      <td>5915</td>\n",
              "      <td>11306</td>\n",
              "      <td>3995</td>\n",
              "      <td>5848</td>\n",
              "      <td>8470</td>\n",
              "      <td>112</td>\n",
              "      <td>7614</td>\n",
              "      <td>3194</td>\n",
              "      <td>0</td>\n",
              "      <td>0</td>\n",
              "      <td>2112</td>\n",
              "      <td>8213</td>\n",
              "      <td>8946</td>\n",
              "      <td>7680</td>\n",
              "      <td>1263</td>\n",
              "      <td>3032</td>\n",
              "      <td>9374</td>\n",
              "      <td>2681</td>\n",
              "      <td>10916</td>\n",
              "      <td>2295</td>\n",
              "      <td>...</td>\n",
              "      <td>1510</td>\n",
              "      <td>2806</td>\n",
              "      <td>4609</td>\n",
              "      <td>2837</td>\n",
              "      <td>5107</td>\n",
              "      <td>2630</td>\n",
              "      <td>2336</td>\n",
              "      <td>521</td>\n",
              "      <td>337</td>\n",
              "      <td>1036</td>\n",
              "      <td>2396</td>\n",
              "      <td>44</td>\n",
              "      <td>263</td>\n",
              "      <td>1738</td>\n",
              "      <td>29</td>\n",
              "      <td>6560</td>\n",
              "      <td>1248</td>\n",
              "      <td>4537</td>\n",
              "      <td>1976</td>\n",
              "      <td>147</td>\n",
              "      <td>1389</td>\n",
              "      <td>1981</td>\n",
              "      <td>0</td>\n",
              "      <td>8436</td>\n",
              "      <td>0</td>\n",
              "      <td>868</td>\n",
              "      <td>1669</td>\n",
              "      <td>8170</td>\n",
              "      <td>9020</td>\n",
              "      <td>5832</td>\n",
              "      <td>761</td>\n",
              "      <td>303</td>\n",
              "      <td>844</td>\n",
              "      <td>0</td>\n",
              "      <td>6878</td>\n",
              "      <td>6605</td>\n",
              "      <td>748</td>\n",
              "      <td>4389</td>\n",
              "      <td>3027</td>\n",
              "      <td>64</td>\n",
              "    </tr>\n",
              "    <tr>\n",
              "      <th>4</th>\n",
              "      <td>541</td>\n",
              "      <td>5429</td>\n",
              "      <td>8959</td>\n",
              "      <td>7834</td>\n",
              "      <td>10876</td>\n",
              "      <td>8202</td>\n",
              "      <td>9109</td>\n",
              "      <td>5602</td>\n",
              "      <td>9826</td>\n",
              "      <td>5429</td>\n",
              "      <td>4497</td>\n",
              "      <td>486</td>\n",
              "      <td>306</td>\n",
              "      <td>5520</td>\n",
              "      <td>3934</td>\n",
              "      <td>4333</td>\n",
              "      <td>9308</td>\n",
              "      <td>11854</td>\n",
              "      <td>790</td>\n",
              "      <td>0</td>\n",
              "      <td>7356</td>\n",
              "      <td>11978</td>\n",
              "      <td>3168</td>\n",
              "      <td>4948</td>\n",
              "      <td>9052</td>\n",
              "      <td>533</td>\n",
              "      <td>8615</td>\n",
              "      <td>3499</td>\n",
              "      <td>34</td>\n",
              "      <td>0</td>\n",
              "      <td>1185</td>\n",
              "      <td>9907</td>\n",
              "      <td>9942</td>\n",
              "      <td>7419</td>\n",
              "      <td>3878</td>\n",
              "      <td>642</td>\n",
              "      <td>9236</td>\n",
              "      <td>5479</td>\n",
              "      <td>11282</td>\n",
              "      <td>3413</td>\n",
              "      <td>...</td>\n",
              "      <td>1455</td>\n",
              "      <td>2805</td>\n",
              "      <td>4114</td>\n",
              "      <td>1252</td>\n",
              "      <td>7525</td>\n",
              "      <td>2879</td>\n",
              "      <td>1545</td>\n",
              "      <td>682</td>\n",
              "      <td>398</td>\n",
              "      <td>850</td>\n",
              "      <td>2272</td>\n",
              "      <td>0</td>\n",
              "      <td>498</td>\n",
              "      <td>1163</td>\n",
              "      <td>0</td>\n",
              "      <td>7507</td>\n",
              "      <td>1274</td>\n",
              "      <td>4073</td>\n",
              "      <td>3379</td>\n",
              "      <td>70</td>\n",
              "      <td>749</td>\n",
              "      <td>1507</td>\n",
              "      <td>0</td>\n",
              "      <td>7196</td>\n",
              "      <td>0</td>\n",
              "      <td>162</td>\n",
              "      <td>947</td>\n",
              "      <td>9804</td>\n",
              "      <td>7225</td>\n",
              "      <td>3770</td>\n",
              "      <td>881</td>\n",
              "      <td>26</td>\n",
              "      <td>380</td>\n",
              "      <td>342</td>\n",
              "      <td>5994</td>\n",
              "      <td>4342</td>\n",
              "      <td>1247</td>\n",
              "      <td>5753</td>\n",
              "      <td>4530</td>\n",
              "      <td>0</td>\n",
              "    </tr>\n",
              "    <tr>\n",
              "      <th>5</th>\n",
              "      <td>945</td>\n",
              "      <td>7473</td>\n",
              "      <td>9078</td>\n",
              "      <td>7959</td>\n",
              "      <td>10816</td>\n",
              "      <td>6029</td>\n",
              "      <td>10043</td>\n",
              "      <td>5768</td>\n",
              "      <td>7631</td>\n",
              "      <td>6637</td>\n",
              "      <td>4027</td>\n",
              "      <td>2134</td>\n",
              "      <td>786</td>\n",
              "      <td>4853</td>\n",
              "      <td>2774</td>\n",
              "      <td>5043</td>\n",
              "      <td>9795</td>\n",
              "      <td>10530</td>\n",
              "      <td>1105</td>\n",
              "      <td>0</td>\n",
              "      <td>5665</td>\n",
              "      <td>11476</td>\n",
              "      <td>3596</td>\n",
              "      <td>3994</td>\n",
              "      <td>8397</td>\n",
              "      <td>659</td>\n",
              "      <td>9282</td>\n",
              "      <td>2017</td>\n",
              "      <td>642</td>\n",
              "      <td>0</td>\n",
              "      <td>710</td>\n",
              "      <td>9164</td>\n",
              "      <td>9998</td>\n",
              "      <td>6109</td>\n",
              "      <td>3784</td>\n",
              "      <td>189</td>\n",
              "      <td>8571</td>\n",
              "      <td>5273</td>\n",
              "      <td>10747</td>\n",
              "      <td>4440</td>\n",
              "      <td>...</td>\n",
              "      <td>1675</td>\n",
              "      <td>2184</td>\n",
              "      <td>4547</td>\n",
              "      <td>2393</td>\n",
              "      <td>6878</td>\n",
              "      <td>2230</td>\n",
              "      <td>1720</td>\n",
              "      <td>2338</td>\n",
              "      <td>407</td>\n",
              "      <td>1047</td>\n",
              "      <td>1878</td>\n",
              "      <td>0</td>\n",
              "      <td>202</td>\n",
              "      <td>729</td>\n",
              "      <td>0</td>\n",
              "      <td>5625</td>\n",
              "      <td>1151</td>\n",
              "      <td>2187</td>\n",
              "      <td>4373</td>\n",
              "      <td>586</td>\n",
              "      <td>2557</td>\n",
              "      <td>2273</td>\n",
              "      <td>0</td>\n",
              "      <td>7944</td>\n",
              "      <td>0</td>\n",
              "      <td>162</td>\n",
              "      <td>2368</td>\n",
              "      <td>9993</td>\n",
              "      <td>7074</td>\n",
              "      <td>3823</td>\n",
              "      <td>1117</td>\n",
              "      <td>53</td>\n",
              "      <td>308</td>\n",
              "      <td>396</td>\n",
              "      <td>6078</td>\n",
              "      <td>3008</td>\n",
              "      <td>2001</td>\n",
              "      <td>5555</td>\n",
              "      <td>3452</td>\n",
              "      <td>0</td>\n",
              "    </tr>\n",
              "    <tr>\n",
              "      <th>6</th>\n",
              "      <td>699</td>\n",
              "      <td>4464</td>\n",
              "      <td>10585</td>\n",
              "      <td>8930</td>\n",
              "      <td>10215</td>\n",
              "      <td>4359</td>\n",
              "      <td>9592</td>\n",
              "      <td>6056</td>\n",
              "      <td>7508</td>\n",
              "      <td>6463</td>\n",
              "      <td>3006</td>\n",
              "      <td>1914</td>\n",
              "      <td>837</td>\n",
              "      <td>6123</td>\n",
              "      <td>2855</td>\n",
              "      <td>1349</td>\n",
              "      <td>8605</td>\n",
              "      <td>10893</td>\n",
              "      <td>262</td>\n",
              "      <td>0</td>\n",
              "      <td>5389</td>\n",
              "      <td>11080</td>\n",
              "      <td>4521</td>\n",
              "      <td>3197</td>\n",
              "      <td>7716</td>\n",
              "      <td>146</td>\n",
              "      <td>9574</td>\n",
              "      <td>1378</td>\n",
              "      <td>1042</td>\n",
              "      <td>0</td>\n",
              "      <td>1077</td>\n",
              "      <td>8847</td>\n",
              "      <td>9993</td>\n",
              "      <td>5640</td>\n",
              "      <td>7757</td>\n",
              "      <td>8</td>\n",
              "      <td>7430</td>\n",
              "      <td>6377</td>\n",
              "      <td>11287</td>\n",
              "      <td>4066</td>\n",
              "      <td>...</td>\n",
              "      <td>1778</td>\n",
              "      <td>2791</td>\n",
              "      <td>5912</td>\n",
              "      <td>2468</td>\n",
              "      <td>8965</td>\n",
              "      <td>3462</td>\n",
              "      <td>1661</td>\n",
              "      <td>528</td>\n",
              "      <td>366</td>\n",
              "      <td>933</td>\n",
              "      <td>884</td>\n",
              "      <td>0</td>\n",
              "      <td>122</td>\n",
              "      <td>583</td>\n",
              "      <td>277</td>\n",
              "      <td>4256</td>\n",
              "      <td>2019</td>\n",
              "      <td>2385</td>\n",
              "      <td>3885</td>\n",
              "      <td>520</td>\n",
              "      <td>2759</td>\n",
              "      <td>2737</td>\n",
              "      <td>277</td>\n",
              "      <td>9649</td>\n",
              "      <td>0</td>\n",
              "      <td>99</td>\n",
              "      <td>3995</td>\n",
              "      <td>9985</td>\n",
              "      <td>7685</td>\n",
              "      <td>3590</td>\n",
              "      <td>1404</td>\n",
              "      <td>414</td>\n",
              "      <td>564</td>\n",
              "      <td>953</td>\n",
              "      <td>7730</td>\n",
              "      <td>3906</td>\n",
              "      <td>2635</td>\n",
              "      <td>3558</td>\n",
              "      <td>4203</td>\n",
              "      <td>0</td>\n",
              "    </tr>\n",
              "    <tr>\n",
              "      <th>7</th>\n",
              "      <td>1371</td>\n",
              "      <td>2120</td>\n",
              "      <td>8188</td>\n",
              "      <td>8961</td>\n",
              "      <td>10735</td>\n",
              "      <td>1817</td>\n",
              "      <td>10755</td>\n",
              "      <td>6048</td>\n",
              "      <td>6314</td>\n",
              "      <td>4360</td>\n",
              "      <td>1235</td>\n",
              "      <td>783</td>\n",
              "      <td>202</td>\n",
              "      <td>9066</td>\n",
              "      <td>2065</td>\n",
              "      <td>1651</td>\n",
              "      <td>10257</td>\n",
              "      <td>8965</td>\n",
              "      <td>192</td>\n",
              "      <td>0</td>\n",
              "      <td>2975</td>\n",
              "      <td>9447</td>\n",
              "      <td>4406</td>\n",
              "      <td>431</td>\n",
              "      <td>8339</td>\n",
              "      <td>839</td>\n",
              "      <td>8102</td>\n",
              "      <td>1430</td>\n",
              "      <td>698</td>\n",
              "      <td>0</td>\n",
              "      <td>1617</td>\n",
              "      <td>9074</td>\n",
              "      <td>8863</td>\n",
              "      <td>2519</td>\n",
              "      <td>9980</td>\n",
              "      <td>0</td>\n",
              "      <td>8534</td>\n",
              "      <td>8386</td>\n",
              "      <td>11774</td>\n",
              "      <td>2376</td>\n",
              "      <td>...</td>\n",
              "      <td>903</td>\n",
              "      <td>2451</td>\n",
              "      <td>5001</td>\n",
              "      <td>3542</td>\n",
              "      <td>6630</td>\n",
              "      <td>4418</td>\n",
              "      <td>952</td>\n",
              "      <td>421</td>\n",
              "      <td>1024</td>\n",
              "      <td>719</td>\n",
              "      <td>596</td>\n",
              "      <td>0</td>\n",
              "      <td>475</td>\n",
              "      <td>173</td>\n",
              "      <td>497</td>\n",
              "      <td>3665</td>\n",
              "      <td>2276</td>\n",
              "      <td>3108</td>\n",
              "      <td>4309</td>\n",
              "      <td>784</td>\n",
              "      <td>1398</td>\n",
              "      <td>2972</td>\n",
              "      <td>1028</td>\n",
              "      <td>9833</td>\n",
              "      <td>634</td>\n",
              "      <td>35</td>\n",
              "      <td>3820</td>\n",
              "      <td>8429</td>\n",
              "      <td>6252</td>\n",
              "      <td>2043</td>\n",
              "      <td>1104</td>\n",
              "      <td>276</td>\n",
              "      <td>1535</td>\n",
              "      <td>497</td>\n",
              "      <td>9981</td>\n",
              "      <td>2661</td>\n",
              "      <td>3065</td>\n",
              "      <td>5444</td>\n",
              "      <td>4916</td>\n",
              "      <td>0</td>\n",
              "    </tr>\n",
              "    <tr>\n",
              "      <th>8</th>\n",
              "      <td>1974</td>\n",
              "      <td>1935</td>\n",
              "      <td>8642</td>\n",
              "      <td>10024</td>\n",
              "      <td>10172</td>\n",
              "      <td>524</td>\n",
              "      <td>9239</td>\n",
              "      <td>7667</td>\n",
              "      <td>5859</td>\n",
              "      <td>2973</td>\n",
              "      <td>698</td>\n",
              "      <td>1025</td>\n",
              "      <td>329</td>\n",
              "      <td>9699</td>\n",
              "      <td>828</td>\n",
              "      <td>1067</td>\n",
              "      <td>11361</td>\n",
              "      <td>9265</td>\n",
              "      <td>314</td>\n",
              "      <td>0</td>\n",
              "      <td>4540</td>\n",
              "      <td>7431</td>\n",
              "      <td>5356</td>\n",
              "      <td>1900</td>\n",
              "      <td>8616</td>\n",
              "      <td>1002</td>\n",
              "      <td>9111</td>\n",
              "      <td>1669</td>\n",
              "      <td>708</td>\n",
              "      <td>0</td>\n",
              "      <td>1593</td>\n",
              "      <td>9151</td>\n",
              "      <td>9880</td>\n",
              "      <td>1072</td>\n",
              "      <td>10001</td>\n",
              "      <td>14</td>\n",
              "      <td>11393</td>\n",
              "      <td>9023</td>\n",
              "      <td>11814</td>\n",
              "      <td>4038</td>\n",
              "      <td>...</td>\n",
              "      <td>842</td>\n",
              "      <td>2828</td>\n",
              "      <td>4957</td>\n",
              "      <td>3717</td>\n",
              "      <td>7149</td>\n",
              "      <td>2825</td>\n",
              "      <td>621</td>\n",
              "      <td>2278</td>\n",
              "      <td>358</td>\n",
              "      <td>1098</td>\n",
              "      <td>930</td>\n",
              "      <td>0</td>\n",
              "      <td>227</td>\n",
              "      <td>1040</td>\n",
              "      <td>385</td>\n",
              "      <td>4195</td>\n",
              "      <td>2313</td>\n",
              "      <td>4768</td>\n",
              "      <td>3225</td>\n",
              "      <td>1047</td>\n",
              "      <td>1540</td>\n",
              "      <td>1021</td>\n",
              "      <td>713</td>\n",
              "      <td>9252</td>\n",
              "      <td>268</td>\n",
              "      <td>0</td>\n",
              "      <td>4096</td>\n",
              "      <td>5388</td>\n",
              "      <td>6291</td>\n",
              "      <td>1656</td>\n",
              "      <td>649</td>\n",
              "      <td>220</td>\n",
              "      <td>1975</td>\n",
              "      <td>535</td>\n",
              "      <td>9621</td>\n",
              "      <td>2323</td>\n",
              "      <td>3647</td>\n",
              "      <td>5975</td>\n",
              "      <td>3210</td>\n",
              "      <td>0</td>\n",
              "    </tr>\n",
              "    <tr>\n",
              "      <th>9</th>\n",
              "      <td>1425</td>\n",
              "      <td>2798</td>\n",
              "      <td>10433</td>\n",
              "      <td>10800</td>\n",
              "      <td>9078</td>\n",
              "      <td>398</td>\n",
              "      <td>8869</td>\n",
              "      <td>6399</td>\n",
              "      <td>5105</td>\n",
              "      <td>2549</td>\n",
              "      <td>167</td>\n",
              "      <td>584</td>\n",
              "      <td>733</td>\n",
              "      <td>11902</td>\n",
              "      <td>108</td>\n",
              "      <td>2986</td>\n",
              "      <td>11707</td>\n",
              "      <td>9821</td>\n",
              "      <td>1668</td>\n",
              "      <td>0</td>\n",
              "      <td>10576</td>\n",
              "      <td>7559</td>\n",
              "      <td>4613</td>\n",
              "      <td>764</td>\n",
              "      <td>10589</td>\n",
              "      <td>2330</td>\n",
              "      <td>8776</td>\n",
              "      <td>1604</td>\n",
              "      <td>501</td>\n",
              "      <td>0</td>\n",
              "      <td>2088</td>\n",
              "      <td>10831</td>\n",
              "      <td>10410</td>\n",
              "      <td>215</td>\n",
              "      <td>11321</td>\n",
              "      <td>722</td>\n",
              "      <td>10387</td>\n",
              "      <td>11157</td>\n",
              "      <td>11609</td>\n",
              "      <td>4014</td>\n",
              "      <td>...</td>\n",
              "      <td>1580</td>\n",
              "      <td>3074</td>\n",
              "      <td>4165</td>\n",
              "      <td>5889</td>\n",
              "      <td>8672</td>\n",
              "      <td>2529</td>\n",
              "      <td>330</td>\n",
              "      <td>1875</td>\n",
              "      <td>519</td>\n",
              "      <td>177</td>\n",
              "      <td>1856</td>\n",
              "      <td>23</td>\n",
              "      <td>235</td>\n",
              "      <td>754</td>\n",
              "      <td>357</td>\n",
              "      <td>3793</td>\n",
              "      <td>4976</td>\n",
              "      <td>4576</td>\n",
              "      <td>3660</td>\n",
              "      <td>1647</td>\n",
              "      <td>2809</td>\n",
              "      <td>1324</td>\n",
              "      <td>248</td>\n",
              "      <td>9344</td>\n",
              "      <td>2</td>\n",
              "      <td>0</td>\n",
              "      <td>3794</td>\n",
              "      <td>6569</td>\n",
              "      <td>6726</td>\n",
              "      <td>2884</td>\n",
              "      <td>1074</td>\n",
              "      <td>303</td>\n",
              "      <td>1611</td>\n",
              "      <td>127</td>\n",
              "      <td>9583</td>\n",
              "      <td>1069</td>\n",
              "      <td>3339</td>\n",
              "      <td>6590</td>\n",
              "      <td>2052</td>\n",
              "      <td>0</td>\n",
              "    </tr>\n",
              "  </tbody>\n",
              "</table>\n",
              "<p>10 rows × 2525 columns</p>\n",
              "</div>"
            ],
            "text/plain": [
              "   0     1      2      3      4     5     ...  2519  2520  2521  2522  2523  2524\n",
              "0     0  3031   5741   8300   7822   253  ...  9998  6657  1527  4589  1385   341\n",
              "1     0  3051   8666   8573   8462  1593  ...  9992  6274  1234  4392  1504   114\n",
              "2    92  3173  10320   8584   8129  4009  ...  9330  6278   884  4071  2369   105\n",
              "3   269  4196  10799   7192   9295  6941  ...  6878  6605   748  4389  3027    64\n",
              "4   541  5429   8959   7834  10876  8202  ...  5994  4342  1247  5753  4530     0\n",
              "5   945  7473   9078   7959  10816  6029  ...  6078  3008  2001  5555  3452     0\n",
              "6   699  4464  10585   8930  10215  4359  ...  7730  3906  2635  3558  4203     0\n",
              "7  1371  2120   8188   8961  10735  1817  ...  9981  2661  3065  5444  4916     0\n",
              "8  1974  1935   8642  10024  10172   524  ...  9621  2323  3647  5975  3210     0\n",
              "9  1425  2798  10433  10800   9078   398  ...  9583  1069  3339  6590  2052     0\n",
              "\n",
              "[10 rows x 2525 columns]"
            ]
          },
          "metadata": {
            "tags": []
          },
          "execution_count": 411
        }
      ]
    },
    {
      "cell_type": "code",
      "metadata": {
        "id": "zTuOIUnKMC4X"
      },
      "source": [
        "final_time_power = pd.DataFrame(columns=['windForce'])"
      ],
      "id": "zTuOIUnKMC4X",
      "execution_count": 412,
      "outputs": []
    },
    {
      "cell_type": "code",
      "metadata": {
        "id": "0ZZMdCoLMC4X",
        "colab": {
          "base_uri": "https://localhost:8080/"
        },
        "outputId": "45fe01c2-f9fb-4515-a4d1-620fe111f0d7"
      },
      "source": [
        "type(final_time_power)\n",
        "print(final_time_power.shape)\n",
        "print(final_time_power)"
      ],
      "id": "0ZZMdCoLMC4X",
      "execution_count": 413,
      "outputs": [
        {
          "output_type": "stream",
          "text": [
            "(0, 1)\n",
            "Empty DataFrame\n",
            "Columns: [windForce]\n",
            "Index: []\n"
          ],
          "name": "stdout"
        }
      ]
    },
    {
      "cell_type": "code",
      "metadata": {
        "collapsed": true,
        "id": "rnsfPtiNMC4Y"
      },
      "source": [
        "for i in range(0,len(time_power.columns)):\n",
        "    for j in range(0,24): # 마음에 들지 않지만 하나하나 골라서 추가,,,\n",
        "        final_time_power = final_time_power.append({\"windForce\":time_power[i][j]}, ignore_index=True)\n",
        "        #print(time_power[i][j])"
      ],
      "id": "rnsfPtiNMC4Y",
      "execution_count": 414,
      "outputs": []
    },
    {
      "cell_type": "code",
      "metadata": {
        "id": "yHnYxFgLMC4d"
      },
      "source": [
        "#위 1분 54초 걸림\n",
        "final_time_power1 = final_time_power.copy()"
      ],
      "id": "yHnYxFgLMC4d",
      "execution_count": 415,
      "outputs": []
    },
    {
      "cell_type": "code",
      "metadata": {
        "id": "cr-3E5bEMC4d"
      },
      "source": [
        "#test.to_csv(\"time_power_1_row.csv\", mode='w')"
      ],
      "id": "cr-3E5bEMC4d",
      "execution_count": 416,
      "outputs": []
    },
    {
      "cell_type": "code",
      "metadata": {
        "id": "zHlxBiBaZlgp",
        "colab": {
          "base_uri": "https://localhost:8080/",
          "height": 419
        },
        "outputId": "4df5d579-f317-4795-81d8-b3ea69728e3e"
      },
      "source": [
        "final_time_power1"
      ],
      "id": "zHlxBiBaZlgp",
      "execution_count": 417,
      "outputs": [
        {
          "output_type": "execute_result",
          "data": {
            "text/html": [
              "<div>\n",
              "<style scoped>\n",
              "    .dataframe tbody tr th:only-of-type {\n",
              "        vertical-align: middle;\n",
              "    }\n",
              "\n",
              "    .dataframe tbody tr th {\n",
              "        vertical-align: top;\n",
              "    }\n",
              "\n",
              "    .dataframe thead th {\n",
              "        text-align: right;\n",
              "    }\n",
              "</style>\n",
              "<table border=\"1\" class=\"dataframe\">\n",
              "  <thead>\n",
              "    <tr style=\"text-align: right;\">\n",
              "      <th></th>\n",
              "      <th>windForce</th>\n",
              "    </tr>\n",
              "  </thead>\n",
              "  <tbody>\n",
              "    <tr>\n",
              "      <th>0</th>\n",
              "      <td>0</td>\n",
              "    </tr>\n",
              "    <tr>\n",
              "      <th>1</th>\n",
              "      <td>0</td>\n",
              "    </tr>\n",
              "    <tr>\n",
              "      <th>2</th>\n",
              "      <td>92</td>\n",
              "    </tr>\n",
              "    <tr>\n",
              "      <th>3</th>\n",
              "      <td>269</td>\n",
              "    </tr>\n",
              "    <tr>\n",
              "      <th>4</th>\n",
              "      <td>541</td>\n",
              "    </tr>\n",
              "    <tr>\n",
              "      <th>...</th>\n",
              "      <td>...</td>\n",
              "    </tr>\n",
              "    <tr>\n",
              "      <th>60595</th>\n",
              "      <td>498</td>\n",
              "    </tr>\n",
              "    <tr>\n",
              "      <th>60596</th>\n",
              "      <td>474</td>\n",
              "    </tr>\n",
              "    <tr>\n",
              "      <th>60597</th>\n",
              "      <td>2250</td>\n",
              "    </tr>\n",
              "    <tr>\n",
              "      <th>60598</th>\n",
              "      <td>2645</td>\n",
              "    </tr>\n",
              "    <tr>\n",
              "      <th>60599</th>\n",
              "      <td>3268</td>\n",
              "    </tr>\n",
              "  </tbody>\n",
              "</table>\n",
              "<p>60600 rows × 1 columns</p>\n",
              "</div>"
            ],
            "text/plain": [
              "      windForce\n",
              "0             0\n",
              "1             0\n",
              "2            92\n",
              "3           269\n",
              "4           541\n",
              "...         ...\n",
              "60595       498\n",
              "60596       474\n",
              "60597      2250\n",
              "60598      2645\n",
              "60599      3268\n",
              "\n",
              "[60600 rows x 1 columns]"
            ]
          },
          "metadata": {
            "tags": []
          },
          "execution_count": 417
        }
      ]
    },
    {
      "cell_type": "markdown",
      "metadata": {
        "id": "56DpNHVTMC4e"
      },
      "source": [
        "## 2. 기상청 데이터 이어 붙이기"
      ],
      "id": "56DpNHVTMC4e"
    },
    {
      "cell_type": "code",
      "metadata": {
        "id": "1SckxFfQMC4e",
        "colab": {
          "base_uri": "https://localhost:8080/",
          "height": 0
        },
        "outputId": "8d6801a6-da1d-49b8-bca9-3c869b9edb71"
      },
      "source": [
        "foreData=pd.read_csv(r'/content/gdrive/My Drive/Colab Notebooks/original/1.csv', encoding='euc-kr', header = None)\n",
        "\n",
        "#foreData = foreData.fillna(0) # 빈 값 0으로 \n",
        "foreData = foreData.drop(index=0) # 컬럼명 적혀있는 거 지움\n",
        "foreData = foreData.drop(0,1) # 컬럼 삭제는 axis = 1 그래서 뒤에 1 있는 거\n",
        "\"\"\"foreData.columns  = ['date','tem','temQC'\n",
        "          ,'rain','rainQC'\n",
        "           ,'windSpeed','windSpeedQC','windDirection','windDirectionQC'\n",
        "           ,'snow','snow3Hour'\n",
        "           ,'cloud','middleCloud','clodeUn','highCloud'] #컬럼명 지정\"\"\"\n",
        "\n",
        "foreData"
      ],
      "id": "1SckxFfQMC4e",
      "execution_count": 418,
      "outputs": [
        {
          "output_type": "execute_result",
          "data": {
            "text/html": [
              "<div>\n",
              "<style scoped>\n",
              "    .dataframe tbody tr th:only-of-type {\n",
              "        vertical-align: middle;\n",
              "    }\n",
              "\n",
              "    .dataframe tbody tr th {\n",
              "        vertical-align: top;\n",
              "    }\n",
              "\n",
              "    .dataframe thead th {\n",
              "        text-align: right;\n",
              "    }\n",
              "</style>\n",
              "<table border=\"1\" class=\"dataframe\">\n",
              "  <thead>\n",
              "    <tr style=\"text-align: right;\">\n",
              "      <th></th>\n",
              "      <th>1</th>\n",
              "      <th>2</th>\n",
              "      <th>3</th>\n",
              "      <th>4</th>\n",
              "      <th>5</th>\n",
              "      <th>6</th>\n",
              "      <th>7</th>\n",
              "      <th>8</th>\n",
              "      <th>9</th>\n",
              "      <th>10</th>\n",
              "      <th>11</th>\n",
              "      <th>12</th>\n",
              "      <th>13</th>\n",
              "      <th>14</th>\n",
              "      <th>15</th>\n",
              "      <th>16</th>\n",
              "      <th>17</th>\n",
              "      <th>18</th>\n",
              "      <th>19</th>\n",
              "      <th>20</th>\n",
              "      <th>21</th>\n",
              "      <th>22</th>\n",
              "      <th>23</th>\n",
              "      <th>24</th>\n",
              "      <th>25</th>\n",
              "      <th>26</th>\n",
              "    </tr>\n",
              "  </thead>\n",
              "  <tbody>\n",
              "    <tr>\n",
              "      <th>1</th>\n",
              "      <td>2013-01-01 00:00</td>\n",
              "      <td>1.3</td>\n",
              "      <td>NaN</td>\n",
              "      <td>3.2</td>\n",
              "      <td>340</td>\n",
              "      <td>77</td>\n",
              "      <td>5.2</td>\n",
              "      <td>-2.2</td>\n",
              "      <td>1019.1</td>\n",
              "      <td>1021.3</td>\n",
              "      <td>NaN</td>\n",
              "      <td>NaN</td>\n",
              "      <td>NaN</td>\n",
              "      <td>NaN</td>\n",
              "      <td>3</td>\n",
              "      <td>3</td>\n",
              "      <td>Sc</td>\n",
              "      <td>10</td>\n",
              "      <td>2000</td>\n",
              "      <td>NaN</td>\n",
              "      <td>NaN</td>\n",
              "      <td>0</td>\n",
              "      <td>NaN</td>\n",
              "      <td>NaN</td>\n",
              "      <td>NaN</td>\n",
              "      <td>NaN</td>\n",
              "    </tr>\n",
              "    <tr>\n",
              "      <th>2</th>\n",
              "      <td>2013-01-01 01:00</td>\n",
              "      <td>.9</td>\n",
              "      <td>NaN</td>\n",
              "      <td>2.6</td>\n",
              "      <td>320</td>\n",
              "      <td>77</td>\n",
              "      <td>5</td>\n",
              "      <td>-2.6</td>\n",
              "      <td>1019</td>\n",
              "      <td>1021.2</td>\n",
              "      <td>NaN</td>\n",
              "      <td>NaN</td>\n",
              "      <td>NaN</td>\n",
              "      <td>NaN</td>\n",
              "      <td>NaN</td>\n",
              "      <td>NaN</td>\n",
              "      <td>NaN</td>\n",
              "      <td>NaN</td>\n",
              "      <td>NaN</td>\n",
              "      <td>NaN</td>\n",
              "      <td>NaN</td>\n",
              "      <td>0</td>\n",
              "      <td>NaN</td>\n",
              "      <td>NaN</td>\n",
              "      <td>NaN</td>\n",
              "      <td>NaN</td>\n",
              "    </tr>\n",
              "    <tr>\n",
              "      <th>3</th>\n",
              "      <td>2013-01-01 02:00</td>\n",
              "      <td>1.5</td>\n",
              "      <td>NaN</td>\n",
              "      <td>3</td>\n",
              "      <td>340</td>\n",
              "      <td>77</td>\n",
              "      <td>5.2</td>\n",
              "      <td>-2.1</td>\n",
              "      <td>1019</td>\n",
              "      <td>1021.2</td>\n",
              "      <td>NaN</td>\n",
              "      <td>NaN</td>\n",
              "      <td>NaN</td>\n",
              "      <td>NaN</td>\n",
              "      <td>NaN</td>\n",
              "      <td>NaN</td>\n",
              "      <td>NaN</td>\n",
              "      <td>NaN</td>\n",
              "      <td>NaN</td>\n",
              "      <td>NaN</td>\n",
              "      <td>NaN</td>\n",
              "      <td>0</td>\n",
              "      <td>NaN</td>\n",
              "      <td>NaN</td>\n",
              "      <td>NaN</td>\n",
              "      <td>NaN</td>\n",
              "    </tr>\n",
              "    <tr>\n",
              "      <th>4</th>\n",
              "      <td>2013-01-01 03:00</td>\n",
              "      <td>2.7</td>\n",
              "      <td>0</td>\n",
              "      <td>1.7</td>\n",
              "      <td>270</td>\n",
              "      <td>74</td>\n",
              "      <td>5.5</td>\n",
              "      <td>-1.4</td>\n",
              "      <td>1019</td>\n",
              "      <td>1021.2</td>\n",
              "      <td>NaN</td>\n",
              "      <td>NaN</td>\n",
              "      <td>NaN</td>\n",
              "      <td>NaN</td>\n",
              "      <td>9</td>\n",
              "      <td>9</td>\n",
              "      <td>Sc</td>\n",
              "      <td>10</td>\n",
              "      <td>2000</td>\n",
              "      <td>1</td>\n",
              "      <td>01</td>\n",
              "      <td>.3</td>\n",
              "      <td>NaN</td>\n",
              "      <td>NaN</td>\n",
              "      <td>NaN</td>\n",
              "      <td>NaN</td>\n",
              "    </tr>\n",
              "    <tr>\n",
              "      <th>5</th>\n",
              "      <td>2013-01-01 04:00</td>\n",
              "      <td>.6</td>\n",
              "      <td>NaN</td>\n",
              "      <td>1.8</td>\n",
              "      <td>320</td>\n",
              "      <td>82</td>\n",
              "      <td>5.2</td>\n",
              "      <td>-2.1</td>\n",
              "      <td>1018.5</td>\n",
              "      <td>1020.8</td>\n",
              "      <td>NaN</td>\n",
              "      <td>NaN</td>\n",
              "      <td>NaN</td>\n",
              "      <td>NaN</td>\n",
              "      <td>3</td>\n",
              "      <td>3</td>\n",
              "      <td>Sc</td>\n",
              "      <td>10</td>\n",
              "      <td>2000</td>\n",
              "      <td>NaN</td>\n",
              "      <td>NaN</td>\n",
              "      <td>.1</td>\n",
              "      <td>NaN</td>\n",
              "      <td>NaN</td>\n",
              "      <td>NaN</td>\n",
              "      <td>NaN</td>\n",
              "    </tr>\n",
              "    <tr>\n",
              "      <th>...</th>\n",
              "      <td>...</td>\n",
              "      <td>...</td>\n",
              "      <td>...</td>\n",
              "      <td>...</td>\n",
              "      <td>...</td>\n",
              "      <td>...</td>\n",
              "      <td>...</td>\n",
              "      <td>...</td>\n",
              "      <td>...</td>\n",
              "      <td>...</td>\n",
              "      <td>...</td>\n",
              "      <td>...</td>\n",
              "      <td>...</td>\n",
              "      <td>...</td>\n",
              "      <td>...</td>\n",
              "      <td>...</td>\n",
              "      <td>...</td>\n",
              "      <td>...</td>\n",
              "      <td>...</td>\n",
              "      <td>...</td>\n",
              "      <td>...</td>\n",
              "      <td>...</td>\n",
              "      <td>...</td>\n",
              "      <td>...</td>\n",
              "      <td>...</td>\n",
              "      <td>...</td>\n",
              "    </tr>\n",
              "    <tr>\n",
              "      <th>8756</th>\n",
              "      <td>2013-12-31 19:00</td>\n",
              "      <td>9.8</td>\n",
              "      <td>NaN</td>\n",
              "      <td>3</td>\n",
              "      <td>200</td>\n",
              "      <td>45</td>\n",
              "      <td>5.5</td>\n",
              "      <td>-1.5</td>\n",
              "      <td>1011.9</td>\n",
              "      <td>1014.1</td>\n",
              "      <td>NaN</td>\n",
              "      <td>NaN</td>\n",
              "      <td>NaN</td>\n",
              "      <td>NaN</td>\n",
              "      <td>NaN</td>\n",
              "      <td>NaN</td>\n",
              "      <td>NaN</td>\n",
              "      <td>NaN</td>\n",
              "      <td>NaN</td>\n",
              "      <td>NaN</td>\n",
              "      <td>NaN</td>\n",
              "      <td>6</td>\n",
              "      <td>NaN</td>\n",
              "      <td>NaN</td>\n",
              "      <td>NaN</td>\n",
              "      <td>NaN</td>\n",
              "    </tr>\n",
              "    <tr>\n",
              "      <th>8757</th>\n",
              "      <td>2013-12-31 20:00</td>\n",
              "      <td>9.9</td>\n",
              "      <td>NaN</td>\n",
              "      <td>3.7</td>\n",
              "      <td>250</td>\n",
              "      <td>41</td>\n",
              "      <td>5</td>\n",
              "      <td>-2.7</td>\n",
              "      <td>1012.5</td>\n",
              "      <td>1014.7</td>\n",
              "      <td>NaN</td>\n",
              "      <td>NaN</td>\n",
              "      <td>NaN</td>\n",
              "      <td>NaN</td>\n",
              "      <td>NaN</td>\n",
              "      <td>NaN</td>\n",
              "      <td>NaN</td>\n",
              "      <td>NaN</td>\n",
              "      <td>NaN</td>\n",
              "      <td>NaN</td>\n",
              "      <td>NaN</td>\n",
              "      <td>5.5</td>\n",
              "      <td>NaN</td>\n",
              "      <td>NaN</td>\n",
              "      <td>NaN</td>\n",
              "      <td>NaN</td>\n",
              "    </tr>\n",
              "    <tr>\n",
              "      <th>8758</th>\n",
              "      <td>2013-12-31 21:00</td>\n",
              "      <td>9.4</td>\n",
              "      <td>NaN</td>\n",
              "      <td>2.7</td>\n",
              "      <td>250</td>\n",
              "      <td>40</td>\n",
              "      <td>4.7</td>\n",
              "      <td>-3.5</td>\n",
              "      <td>1012.8</td>\n",
              "      <td>1015</td>\n",
              "      <td>NaN</td>\n",
              "      <td>NaN</td>\n",
              "      <td>NaN</td>\n",
              "      <td>NaN</td>\n",
              "      <td>0</td>\n",
              "      <td>0</td>\n",
              "      <td>NaN</td>\n",
              "      <td>NaN</td>\n",
              "      <td>2000</td>\n",
              "      <td>1</td>\n",
              "      <td>NaN</td>\n",
              "      <td>5.1</td>\n",
              "      <td>NaN</td>\n",
              "      <td>NaN</td>\n",
              "      <td>NaN</td>\n",
              "      <td>NaN</td>\n",
              "    </tr>\n",
              "    <tr>\n",
              "      <th>8759</th>\n",
              "      <td>2013-12-31 22:00</td>\n",
              "      <td>9.2</td>\n",
              "      <td>NaN</td>\n",
              "      <td>3.2</td>\n",
              "      <td>250</td>\n",
              "      <td>40</td>\n",
              "      <td>4.6</td>\n",
              "      <td>-3.7</td>\n",
              "      <td>1013.1</td>\n",
              "      <td>1015.3</td>\n",
              "      <td>NaN</td>\n",
              "      <td>NaN</td>\n",
              "      <td>NaN</td>\n",
              "      <td>NaN</td>\n",
              "      <td>NaN</td>\n",
              "      <td>NaN</td>\n",
              "      <td>NaN</td>\n",
              "      <td>NaN</td>\n",
              "      <td>NaN</td>\n",
              "      <td>NaN</td>\n",
              "      <td>NaN</td>\n",
              "      <td>4.8</td>\n",
              "      <td>NaN</td>\n",
              "      <td>NaN</td>\n",
              "      <td>NaN</td>\n",
              "      <td>NaN</td>\n",
              "    </tr>\n",
              "    <tr>\n",
              "      <th>8760</th>\n",
              "      <td>2013-12-31 23:00</td>\n",
              "      <td>8.9</td>\n",
              "      <td>NaN</td>\n",
              "      <td>3.4</td>\n",
              "      <td>250</td>\n",
              "      <td>45</td>\n",
              "      <td>5.1</td>\n",
              "      <td>-2.4</td>\n",
              "      <td>1013.4</td>\n",
              "      <td>1015.6</td>\n",
              "      <td>NaN</td>\n",
              "      <td>NaN</td>\n",
              "      <td>NaN</td>\n",
              "      <td>NaN</td>\n",
              "      <td>NaN</td>\n",
              "      <td>NaN</td>\n",
              "      <td>NaN</td>\n",
              "      <td>NaN</td>\n",
              "      <td>NaN</td>\n",
              "      <td>NaN</td>\n",
              "      <td>NaN</td>\n",
              "      <td>4.7</td>\n",
              "      <td>NaN</td>\n",
              "      <td>NaN</td>\n",
              "      <td>NaN</td>\n",
              "      <td>NaN</td>\n",
              "    </tr>\n",
              "  </tbody>\n",
              "</table>\n",
              "<p>8760 rows × 26 columns</p>\n",
              "</div>"
            ],
            "text/plain": [
              "                    1    2    3    4    5   6   ...   21   22   23   24   25   26\n",
              "1     2013-01-01 00:00  1.3  NaN  3.2  340  77  ...  NaN    0  NaN  NaN  NaN  NaN\n",
              "2     2013-01-01 01:00   .9  NaN  2.6  320  77  ...  NaN    0  NaN  NaN  NaN  NaN\n",
              "3     2013-01-01 02:00  1.5  NaN    3  340  77  ...  NaN    0  NaN  NaN  NaN  NaN\n",
              "4     2013-01-01 03:00  2.7    0  1.7  270  74  ...   01   .3  NaN  NaN  NaN  NaN\n",
              "5     2013-01-01 04:00   .6  NaN  1.8  320  82  ...  NaN   .1  NaN  NaN  NaN  NaN\n",
              "...                ...  ...  ...  ...  ...  ..  ...  ...  ...  ...  ...  ...  ...\n",
              "8756  2013-12-31 19:00  9.8  NaN    3  200  45  ...  NaN    6  NaN  NaN  NaN  NaN\n",
              "8757  2013-12-31 20:00  9.9  NaN  3.7  250  41  ...  NaN  5.5  NaN  NaN  NaN  NaN\n",
              "8758  2013-12-31 21:00  9.4  NaN  2.7  250  40  ...  NaN  5.1  NaN  NaN  NaN  NaN\n",
              "8759  2013-12-31 22:00  9.2  NaN  3.2  250  40  ...  NaN  4.8  NaN  NaN  NaN  NaN\n",
              "8760  2013-12-31 23:00  8.9  NaN  3.4  250  45  ...  NaN  4.7  NaN  NaN  NaN  NaN\n",
              "\n",
              "[8760 rows x 26 columns]"
            ]
          },
          "metadata": {
            "tags": []
          },
          "execution_count": 418
        }
      ]
    },
    {
      "cell_type": "code",
      "metadata": {
        "scrolled": false,
        "id": "mFJ6kpbxMC4f"
      },
      "source": [
        "for i in range(2,7): #2019년도 뺌\n",
        "    fileName = '/content/gdrive/My Drive/Colab Notebooks/original/'+str(i)+'.csv'\n",
        "    if (i == 7) : foreData1 = pd.read_csv(fileName, encoding='utf-8', header = None)# 컬럼명 숫자로 들어가게\n",
        "    else : foreData1 = pd.read_csv(fileName, encoding='euc-kr', header = None)# 컬럼명 숫자로 들어가게\n",
        "    #print(foreData1)\n",
        "\n",
        "    #data2 = data2.fillna(0) # 빈 값 0으로 \n",
        "\n",
        "    foreData1 = foreData1.drop(index=0) # 컬럼명 적혀있는 거 지움\n",
        "    foreData1 = foreData1.drop(0,1) # 지점 컬럼 삭제는 axis = 1 그래서 뒤에 1 있는 거\n",
        "    #print(foreData1)\n",
        "    \"\"\"foreData1.columns  = ['date','tem','temQC'\n",
        "           ,'rain','rainQC'\n",
        "           ,'windSpeed','windSpeedQC','windDirection','windDirectionQC'\n",
        "           ,'snow','snow3Hour'\n",
        "           ,'cloud','middleCloud','clodeUn','highCloud'] #컬럼명 지정\"\"\"\n",
        "    foreData = pd.concat([foreData, foreData1]) # 아래로 데이터 합치기(df 끼리, 아주 효자임)\n",
        "#foreData.to_csv(\"weather_data_day.csv\", mode='w')"
      ],
      "id": "mFJ6kpbxMC4f",
      "execution_count": 419,
      "outputs": []
    },
    {
      "cell_type": "markdown",
      "metadata": {
        "id": "eG0TVGSScKRI"
      },
      "source": [
        "### 0) 인덱스 설정"
      ],
      "id": "eG0TVGSScKRI"
    },
    {
      "cell_type": "code",
      "metadata": {
        "colab": {
          "base_uri": "https://localhost:8080/",
          "height": 0
        },
        "id": "Slyv4H4vcCEz",
        "outputId": "1fdaa351-d37c-43aa-87dd-1e233054b81a"
      },
      "source": [
        "foreData = foreData.reset_index()  #index reset\n",
        "foreData = foreData.drop('index',1) # index reset 하면 기존 index가 컬럼에 추가되므로 삭제\n",
        "foreData"
      ],
      "id": "Slyv4H4vcCEz",
      "execution_count": 420,
      "outputs": [
        {
          "output_type": "execute_result",
          "data": {
            "text/html": [
              "<div>\n",
              "<style scoped>\n",
              "    .dataframe tbody tr th:only-of-type {\n",
              "        vertical-align: middle;\n",
              "    }\n",
              "\n",
              "    .dataframe tbody tr th {\n",
              "        vertical-align: top;\n",
              "    }\n",
              "\n",
              "    .dataframe thead th {\n",
              "        text-align: right;\n",
              "    }\n",
              "</style>\n",
              "<table border=\"1\" class=\"dataframe\">\n",
              "  <thead>\n",
              "    <tr style=\"text-align: right;\">\n",
              "      <th></th>\n",
              "      <th>1</th>\n",
              "      <th>2</th>\n",
              "      <th>3</th>\n",
              "      <th>4</th>\n",
              "      <th>5</th>\n",
              "      <th>6</th>\n",
              "      <th>7</th>\n",
              "      <th>8</th>\n",
              "      <th>9</th>\n",
              "      <th>10</th>\n",
              "      <th>11</th>\n",
              "      <th>12</th>\n",
              "      <th>13</th>\n",
              "      <th>14</th>\n",
              "      <th>15</th>\n",
              "      <th>16</th>\n",
              "      <th>17</th>\n",
              "      <th>18</th>\n",
              "      <th>19</th>\n",
              "      <th>20</th>\n",
              "      <th>21</th>\n",
              "      <th>22</th>\n",
              "      <th>23</th>\n",
              "      <th>24</th>\n",
              "      <th>25</th>\n",
              "      <th>26</th>\n",
              "    </tr>\n",
              "  </thead>\n",
              "  <tbody>\n",
              "    <tr>\n",
              "      <th>0</th>\n",
              "      <td>2013-01-01 00:00</td>\n",
              "      <td>1.3</td>\n",
              "      <td>NaN</td>\n",
              "      <td>3.2</td>\n",
              "      <td>340</td>\n",
              "      <td>77</td>\n",
              "      <td>5.2</td>\n",
              "      <td>-2.2</td>\n",
              "      <td>1019.1</td>\n",
              "      <td>1021.3</td>\n",
              "      <td>NaN</td>\n",
              "      <td>NaN</td>\n",
              "      <td>NaN</td>\n",
              "      <td>NaN</td>\n",
              "      <td>3</td>\n",
              "      <td>3</td>\n",
              "      <td>Sc</td>\n",
              "      <td>10</td>\n",
              "      <td>2000</td>\n",
              "      <td>NaN</td>\n",
              "      <td>NaN</td>\n",
              "      <td>0</td>\n",
              "      <td>NaN</td>\n",
              "      <td>NaN</td>\n",
              "      <td>NaN</td>\n",
              "      <td>NaN</td>\n",
              "    </tr>\n",
              "    <tr>\n",
              "      <th>1</th>\n",
              "      <td>2013-01-01 01:00</td>\n",
              "      <td>.9</td>\n",
              "      <td>NaN</td>\n",
              "      <td>2.6</td>\n",
              "      <td>320</td>\n",
              "      <td>77</td>\n",
              "      <td>5</td>\n",
              "      <td>-2.6</td>\n",
              "      <td>1019</td>\n",
              "      <td>1021.2</td>\n",
              "      <td>NaN</td>\n",
              "      <td>NaN</td>\n",
              "      <td>NaN</td>\n",
              "      <td>NaN</td>\n",
              "      <td>NaN</td>\n",
              "      <td>NaN</td>\n",
              "      <td>NaN</td>\n",
              "      <td>NaN</td>\n",
              "      <td>NaN</td>\n",
              "      <td>NaN</td>\n",
              "      <td>NaN</td>\n",
              "      <td>0</td>\n",
              "      <td>NaN</td>\n",
              "      <td>NaN</td>\n",
              "      <td>NaN</td>\n",
              "      <td>NaN</td>\n",
              "    </tr>\n",
              "    <tr>\n",
              "      <th>2</th>\n",
              "      <td>2013-01-01 02:00</td>\n",
              "      <td>1.5</td>\n",
              "      <td>NaN</td>\n",
              "      <td>3</td>\n",
              "      <td>340</td>\n",
              "      <td>77</td>\n",
              "      <td>5.2</td>\n",
              "      <td>-2.1</td>\n",
              "      <td>1019</td>\n",
              "      <td>1021.2</td>\n",
              "      <td>NaN</td>\n",
              "      <td>NaN</td>\n",
              "      <td>NaN</td>\n",
              "      <td>NaN</td>\n",
              "      <td>NaN</td>\n",
              "      <td>NaN</td>\n",
              "      <td>NaN</td>\n",
              "      <td>NaN</td>\n",
              "      <td>NaN</td>\n",
              "      <td>NaN</td>\n",
              "      <td>NaN</td>\n",
              "      <td>0</td>\n",
              "      <td>NaN</td>\n",
              "      <td>NaN</td>\n",
              "      <td>NaN</td>\n",
              "      <td>NaN</td>\n",
              "    </tr>\n",
              "    <tr>\n",
              "      <th>3</th>\n",
              "      <td>2013-01-01 03:00</td>\n",
              "      <td>2.7</td>\n",
              "      <td>0</td>\n",
              "      <td>1.7</td>\n",
              "      <td>270</td>\n",
              "      <td>74</td>\n",
              "      <td>5.5</td>\n",
              "      <td>-1.4</td>\n",
              "      <td>1019</td>\n",
              "      <td>1021.2</td>\n",
              "      <td>NaN</td>\n",
              "      <td>NaN</td>\n",
              "      <td>NaN</td>\n",
              "      <td>NaN</td>\n",
              "      <td>9</td>\n",
              "      <td>9</td>\n",
              "      <td>Sc</td>\n",
              "      <td>10</td>\n",
              "      <td>2000</td>\n",
              "      <td>1</td>\n",
              "      <td>01</td>\n",
              "      <td>.3</td>\n",
              "      <td>NaN</td>\n",
              "      <td>NaN</td>\n",
              "      <td>NaN</td>\n",
              "      <td>NaN</td>\n",
              "    </tr>\n",
              "    <tr>\n",
              "      <th>4</th>\n",
              "      <td>2013-01-01 04:00</td>\n",
              "      <td>.6</td>\n",
              "      <td>NaN</td>\n",
              "      <td>1.8</td>\n",
              "      <td>320</td>\n",
              "      <td>82</td>\n",
              "      <td>5.2</td>\n",
              "      <td>-2.1</td>\n",
              "      <td>1018.5</td>\n",
              "      <td>1020.8</td>\n",
              "      <td>NaN</td>\n",
              "      <td>NaN</td>\n",
              "      <td>NaN</td>\n",
              "      <td>NaN</td>\n",
              "      <td>3</td>\n",
              "      <td>3</td>\n",
              "      <td>Sc</td>\n",
              "      <td>10</td>\n",
              "      <td>2000</td>\n",
              "      <td>NaN</td>\n",
              "      <td>NaN</td>\n",
              "      <td>.1</td>\n",
              "      <td>NaN</td>\n",
              "      <td>NaN</td>\n",
              "      <td>NaN</td>\n",
              "      <td>NaN</td>\n",
              "    </tr>\n",
              "    <tr>\n",
              "      <th>...</th>\n",
              "      <td>...</td>\n",
              "      <td>...</td>\n",
              "      <td>...</td>\n",
              "      <td>...</td>\n",
              "      <td>...</td>\n",
              "      <td>...</td>\n",
              "      <td>...</td>\n",
              "      <td>...</td>\n",
              "      <td>...</td>\n",
              "      <td>...</td>\n",
              "      <td>...</td>\n",
              "      <td>...</td>\n",
              "      <td>...</td>\n",
              "      <td>...</td>\n",
              "      <td>...</td>\n",
              "      <td>...</td>\n",
              "      <td>...</td>\n",
              "      <td>...</td>\n",
              "      <td>...</td>\n",
              "      <td>...</td>\n",
              "      <td>...</td>\n",
              "      <td>...</td>\n",
              "      <td>...</td>\n",
              "      <td>...</td>\n",
              "      <td>...</td>\n",
              "      <td>...</td>\n",
              "    </tr>\n",
              "    <tr>\n",
              "      <th>52580</th>\n",
              "      <td>2018-12-31 19:00</td>\n",
              "      <td>4.3</td>\n",
              "      <td>NaN</td>\n",
              "      <td>4.7</td>\n",
              "      <td>340</td>\n",
              "      <td>58</td>\n",
              "      <td>4.8</td>\n",
              "      <td>-3.2</td>\n",
              "      <td>1032.1</td>\n",
              "      <td>1034.7</td>\n",
              "      <td>NaN</td>\n",
              "      <td>NaN</td>\n",
              "      <td>NaN</td>\n",
              "      <td>NaN</td>\n",
              "      <td>10</td>\n",
              "      <td>9</td>\n",
              "      <td>NaN</td>\n",
              "      <td>12</td>\n",
              "      <td>2000</td>\n",
              "      <td>NaN</td>\n",
              "      <td>NaN</td>\n",
              "      <td>3.3</td>\n",
              "      <td>NaN</td>\n",
              "      <td>NaN</td>\n",
              "      <td>NaN</td>\n",
              "      <td>NaN</td>\n",
              "    </tr>\n",
              "    <tr>\n",
              "      <th>52581</th>\n",
              "      <td>2018-12-31 20:00</td>\n",
              "      <td>3.9</td>\n",
              "      <td>NaN</td>\n",
              "      <td>4.5</td>\n",
              "      <td>360</td>\n",
              "      <td>61</td>\n",
              "      <td>4.9</td>\n",
              "      <td>-2.9</td>\n",
              "      <td>1032</td>\n",
              "      <td>1034.6</td>\n",
              "      <td>NaN</td>\n",
              "      <td>NaN</td>\n",
              "      <td>NaN</td>\n",
              "      <td>NaN</td>\n",
              "      <td>8</td>\n",
              "      <td>8</td>\n",
              "      <td>NaN</td>\n",
              "      <td>13</td>\n",
              "      <td>2000</td>\n",
              "      <td>NaN</td>\n",
              "      <td>NaN</td>\n",
              "      <td>2.9</td>\n",
              "      <td>NaN</td>\n",
              "      <td>NaN</td>\n",
              "      <td>NaN</td>\n",
              "      <td>NaN</td>\n",
              "    </tr>\n",
              "    <tr>\n",
              "      <th>52582</th>\n",
              "      <td>2018-12-31 21:00</td>\n",
              "      <td>3.5</td>\n",
              "      <td>NaN</td>\n",
              "      <td>4</td>\n",
              "      <td>360</td>\n",
              "      <td>59</td>\n",
              "      <td>4.6</td>\n",
              "      <td>-3.7</td>\n",
              "      <td>1031.9</td>\n",
              "      <td>1034.5</td>\n",
              "      <td>NaN</td>\n",
              "      <td>NaN</td>\n",
              "      <td>NaN</td>\n",
              "      <td>NaN</td>\n",
              "      <td>8</td>\n",
              "      <td>8</td>\n",
              "      <td>NaN</td>\n",
              "      <td>13</td>\n",
              "      <td>2000</td>\n",
              "      <td>NaN</td>\n",
              "      <td>NaN</td>\n",
              "      <td>1.9</td>\n",
              "      <td>NaN</td>\n",
              "      <td>NaN</td>\n",
              "      <td>NaN</td>\n",
              "      <td>NaN</td>\n",
              "    </tr>\n",
              "    <tr>\n",
              "      <th>52583</th>\n",
              "      <td>2018-12-31 22:00</td>\n",
              "      <td>3.8</td>\n",
              "      <td>NaN</td>\n",
              "      <td>3.4</td>\n",
              "      <td>20</td>\n",
              "      <td>61</td>\n",
              "      <td>4.9</td>\n",
              "      <td>-3</td>\n",
              "      <td>1031.6</td>\n",
              "      <td>1034.2</td>\n",
              "      <td>NaN</td>\n",
              "      <td>NaN</td>\n",
              "      <td>NaN</td>\n",
              "      <td>NaN</td>\n",
              "      <td>9</td>\n",
              "      <td>8</td>\n",
              "      <td>NaN</td>\n",
              "      <td>12</td>\n",
              "      <td>2000</td>\n",
              "      <td>NaN</td>\n",
              "      <td>NaN</td>\n",
              "      <td>2.1</td>\n",
              "      <td>NaN</td>\n",
              "      <td>NaN</td>\n",
              "      <td>NaN</td>\n",
              "      <td>NaN</td>\n",
              "    </tr>\n",
              "    <tr>\n",
              "      <th>52584</th>\n",
              "      <td>2018-12-31 23:00</td>\n",
              "      <td>3.7</td>\n",
              "      <td>NaN</td>\n",
              "      <td>2.5</td>\n",
              "      <td>20</td>\n",
              "      <td>64</td>\n",
              "      <td>5.1</td>\n",
              "      <td>-2.4</td>\n",
              "      <td>1032</td>\n",
              "      <td>1034.6</td>\n",
              "      <td>NaN</td>\n",
              "      <td>NaN</td>\n",
              "      <td>NaN</td>\n",
              "      <td>NaN</td>\n",
              "      <td>9</td>\n",
              "      <td>4</td>\n",
              "      <td>NaN</td>\n",
              "      <td>10</td>\n",
              "      <td>2000</td>\n",
              "      <td>NaN</td>\n",
              "      <td>NaN</td>\n",
              "      <td>1.6</td>\n",
              "      <td>NaN</td>\n",
              "      <td>NaN</td>\n",
              "      <td>NaN</td>\n",
              "      <td>NaN</td>\n",
              "    </tr>\n",
              "  </tbody>\n",
              "</table>\n",
              "<p>52585 rows × 26 columns</p>\n",
              "</div>"
            ],
            "text/plain": [
              "                     1    2    3    4    5   6   ...   21   22   23   24   25   26\n",
              "0      2013-01-01 00:00  1.3  NaN  3.2  340  77  ...  NaN    0  NaN  NaN  NaN  NaN\n",
              "1      2013-01-01 01:00   .9  NaN  2.6  320  77  ...  NaN    0  NaN  NaN  NaN  NaN\n",
              "2      2013-01-01 02:00  1.5  NaN    3  340  77  ...  NaN    0  NaN  NaN  NaN  NaN\n",
              "3      2013-01-01 03:00  2.7    0  1.7  270  74  ...   01   .3  NaN  NaN  NaN  NaN\n",
              "4      2013-01-01 04:00   .6  NaN  1.8  320  82  ...  NaN   .1  NaN  NaN  NaN  NaN\n",
              "...                 ...  ...  ...  ...  ...  ..  ...  ...  ...  ...  ...  ...  ...\n",
              "52580  2018-12-31 19:00  4.3  NaN  4.7  340  58  ...  NaN  3.3  NaN  NaN  NaN  NaN\n",
              "52581  2018-12-31 20:00  3.9  NaN  4.5  360  61  ...  NaN  2.9  NaN  NaN  NaN  NaN\n",
              "52582  2018-12-31 21:00  3.5  NaN    4  360  59  ...  NaN  1.9  NaN  NaN  NaN  NaN\n",
              "52583  2018-12-31 22:00  3.8  NaN  3.4   20  61  ...  NaN  2.1  NaN  NaN  NaN  NaN\n",
              "52584  2018-12-31 23:00  3.7  NaN  2.5   20  64  ...  NaN  1.6  NaN  NaN  NaN  NaN\n",
              "\n",
              "[52585 rows x 26 columns]"
            ]
          },
          "metadata": {
            "tags": []
          },
          "execution_count": 420
        }
      ]
    },
    {
      "cell_type": "markdown",
      "metadata": {
        "id": "7_3rc1rGZM8a"
      },
      "source": [
        "### 1) 2016 년 1월 30분 데이터 5개 삭제\n",
        "\n",
        "*   2016-01-24 20:30, 21:30, 22:30, 23:30\n",
        "*   2016-01-25 00:30\n"
      ],
      "id": "7_3rc1rGZM8a"
    },
    {
      "cell_type": "code",
      "metadata": {
        "collapsed": true,
        "id": "1Hc_A5JIMC4g"
      },
      "source": [
        "foreData1 = foreData.copy()"
      ],
      "id": "1Hc_A5JIMC4g",
      "execution_count": 421,
      "outputs": []
    },
    {
      "cell_type": "code",
      "metadata": {
        "id": "0hFpmHPo4TVi"
      },
      "source": [
        "u = 2016\n",
        "for j in range(24,26,1):\n",
        "  if j<10: y = str(u)+\"-01-0\"+str(j)+\" \"\n",
        "  else : y = str(u)+\"-01-\"+str(j)+\" \"\n",
        "  for i in range(0,24):\n",
        "    if i<10: num1 = y + \"0\"+str(i)+\":30\"\n",
        "    else : num1 = y+ str(i)+\":30\"\n",
        "    #print(num1, len(foreData1[foreData1[1].str.contains(num1)])"
      ],
      "id": "0hFpmHPo4TVi",
      "execution_count": 422,
      "outputs": []
    },
    {
      "cell_type": "code",
      "metadata": {
        "id": "KHwmDj3PVnGI"
      },
      "source": [
        "foreData1.drop(foreData1.loc[foreData1[1].str.contains(':30')].index, inplace=True)"
      ],
      "id": "KHwmDj3PVnGI",
      "execution_count": 423,
      "outputs": []
    },
    {
      "cell_type": "code",
      "metadata": {
        "id": "Zj9sT0WEVr9r"
      },
      "source": [
        "#foreData1"
      ],
      "id": "Zj9sT0WEVr9r",
      "execution_count": 424,
      "outputs": []
    },
    {
      "cell_type": "markdown",
      "metadata": {
        "id": "6eDitt3dj6Pm"
      },
      "source": [
        "### 2) 빠진 값 채우기 \n",
        "*   2015-06, 2015-11, 2017-04\n",
        "\n"
      ],
      "id": "6eDitt3dj6Pm"
    },
    {
      "cell_type": "markdown",
      "metadata": {
        "id": "00Ce_rsnkZ7_"
      },
      "source": [
        "\n",
        "\n",
        "#### ① 빠진 곳 인덱스 확인\n",
        "\n"
      ],
      "id": "00Ce_rsnkZ7_"
    },
    {
      "cell_type": "code",
      "metadata": {
        "id": "U0f-1q5IkG6B",
        "colab": {
          "base_uri": "https://localhost:8080/"
        },
        "outputId": "ae595571-1627-44e9-c68b-4de0433b9d77"
      },
      "source": [
        "foreData5 = foreData1.copy()\n",
        "foreData5[foreData5[1].str.contains('2015-06-27 04:00') ==True].index\n",
        "foreData5[foreData5[1].str.contains('2015-06-27 06:00') ==True].index\n",
        "print(foreData5[foreData5[1].str.contains('2015-06-27 04:00') ==True].index)\n",
        "print(foreData5[foreData5[1].str.contains('2015-06-27 06:00') ==True].index)"
      ],
      "id": "U0f-1q5IkG6B",
      "execution_count": 425,
      "outputs": [
        {
          "output_type": "stream",
          "text": [
            "Int64Index([21772], dtype='int64')\n",
            "Int64Index([21773], dtype='int64')\n"
          ],
          "name": "stdout"
        }
      ]
    },
    {
      "cell_type": "markdown",
      "metadata": {
        "id": "WaGsvZl4kgCm"
      },
      "source": [
        "\n",
        "\n",
        "#### ② df 빠진 곳 앞 뒤로 행 가져오기\n",
        "\n"
      ],
      "id": "WaGsvZl4kgCm"
    },
    {
      "cell_type": "code",
      "metadata": {
        "id": "bGvqhiKake4D"
      },
      "source": [
        "# df = pd.DataFrame(foreData5.iloc[foreData5[foreData5[1].str.contains('2015-06-27 04:00') ==True].index[0]:foreData5[foreData5[1].str.contains('2015-06-27 06:00') ==True].index[0]+1])"
      ],
      "id": "bGvqhiKake4D",
      "execution_count": 426,
      "outputs": []
    },
    {
      "cell_type": "markdown",
      "metadata": {
        "id": "_ixWT6bskrl-"
      },
      "source": [
        "\n",
        "\n",
        "#### ③ df1 에 dataFrame 형태로 평균 값으로 데이터 만들기(빠진 곳 만드는 거)\n",
        "\n"
      ],
      "id": "_ixWT6bskrl-"
    },
    {
      "cell_type": "code",
      "metadata": {
        "id": "WinX1JGzkr9H"
      },
      "source": [
        "df1 = pd.DataFrame({1: '2015-06-27 05:00',\n",
        " 2: np.nan,3: np.nan,4: np.nan,\n",
        " 5: np.nan,6: np.nan,7: np.nan,\n",
        " 8: np.nan,9: np.nan,10: np.nan,\n",
        " 11: np.nan,12: np.nan,13: np.nan,\n",
        " 14: np.nan,15: np.nan, 16: np.nan,\n",
        " 17: np.nan,18: np.nan,19: np.nan,\n",
        " 20: np.nan,21: np.nan,22: np.nan,\n",
        " 23: np.nan,24: np.nan,25: np.nan,26: np.nan},index=[52585])"
      ],
      "id": "WinX1JGzkr9H",
      "execution_count": 427,
      "outputs": []
    },
    {
      "cell_type": "code",
      "metadata": {
        "colab": {
          "base_uri": "https://localhost:8080/",
          "height": 0
        },
        "id": "uTcNlwQ9xUeo",
        "outputId": "5f70a806-2936-423d-9392-56e89a8a7d1a"
      },
      "source": [
        "\"\"\"df1 = pd.DataFrame({1: '2015-11-02 22:00',\n",
        " 2: df[2].astype(float).mean(),3: df[3].astype(float).mean(),4: df[4].astype(float).mean(),\n",
        " 5: df[5].astype(float).mean(),6: df[6].astype(float).mean(),7: df[7].astype(float).mean(),\n",
        " 8: df[8].astype(float).mean(),9: df[9].astype(float).mean(),10: df[10].astype(float).mean(),\n",
        " 11: df[11].astype(float).mean(),12: df[12].astype(float).mean(),13: df[13].astype(float).mean(),\n",
        " 14: df[14].astype(float).mean(),15: df[15].astype(float).mean(),16: df[16].astype(float).mean(),\n",
        " 17: df[17].astype(float).mean(),18: df[18].astype(float).mean(),19: df[19].astype(float).mean(),\n",
        " 20: df[20].astype(float).mean(),21: df[21].astype(float).mean(),22: df[22].astype(float).mean(),\n",
        " 23: df[23].astype(float).mean(),24: df[24].astype(float).mean(),25: df[25].astype(float).mean(),\n",
        " 26: df[26].astype(float).mean()},index=[52586])\n",
        "foreData1 = pd.concat([foreData1, df1]) \"\"\""
      ],
      "id": "uTcNlwQ9xUeo",
      "execution_count": 428,
      "outputs": [
        {
          "output_type": "execute_result",
          "data": {
            "application/vnd.google.colaboratory.intrinsic+json": {
              "type": "string"
            },
            "text/plain": [
              "\"df1 = pd.DataFrame({1: '2015-11-02 22:00',\\n 2: df[2].astype(float).mean(),3: df[3].astype(float).mean(),4: df[4].astype(float).mean(),\\n 5: df[5].astype(float).mean(),6: df[6].astype(float).mean(),7: df[7].astype(float).mean(),\\n 8: df[8].astype(float).mean(),9: df[9].astype(float).mean(),10: df[10].astype(float).mean(),\\n 11: df[11].astype(float).mean(),12: df[12].astype(float).mean(),13: df[13].astype(float).mean(),\\n 14: df[14].astype(float).mean(),15: df[15].astype(float).mean(),16: df[16].astype(float).mean(),\\n 17: df[17].astype(float).mean(),18: df[18].astype(float).mean(),19: df[19].astype(float).mean(),\\n 20: df[20].astype(float).mean(),21: df[21].astype(float).mean(),22: df[22].astype(float).mean(),\\n 23: df[23].astype(float).mean(),24: df[24].astype(float).mean(),25: df[25].astype(float).mean(),\\n 26: df[26].astype(float).mean()},index=[52586])\\nforeData1 = pd.concat([foreData1, df1]) \""
            ]
          },
          "metadata": {
            "tags": []
          },
          "execution_count": 428
        }
      ]
    },
    {
      "cell_type": "markdown",
      "metadata": {
        "id": "G8xXQQGVk6Ib"
      },
      "source": [
        "\n",
        "#### ④ 그 다음에 foreData1에 추가\n",
        "\n"
      ],
      "id": "G8xXQQGVk6Ib"
    },
    {
      "cell_type": "code",
      "metadata": {
        "id": "IyKiOh1hk5ol"
      },
      "source": [
        "foreData1 = pd.concat([foreData1, df1]) "
      ],
      "id": "IyKiOh1hk5ol",
      "execution_count": 429,
      "outputs": []
    },
    {
      "cell_type": "markdown",
      "metadata": {
        "id": "7_4G2kQwlH3e"
      },
      "source": [
        "\n",
        "\n",
        "#### ⑤ 이 다음부턴 반복\n",
        "\n",
        "\n"
      ],
      "id": "7_4G2kQwlH3e"
    },
    {
      "cell_type": "code",
      "metadata": {
        "id": "nC4Fr_7HlBSB",
        "colab": {
          "base_uri": "https://localhost:8080/"
        },
        "outputId": "552f680f-16de-4a2c-be78-60c51b6b2623"
      },
      "source": [
        "foreData5[foreData5[1].str.contains('2015-11-02 21:00') ==True].index\n",
        "foreData5[foreData5[1].str.contains('2015-11-02 23:00') ==True].index\n",
        "print(foreData5[foreData5[1].str.contains('2015-11-02 21:00') ==True].index)\n",
        "print(foreData5[foreData5[1].str.contains('2015-11-02 23:00') ==True].index)\n",
        "df = pd.DataFrame(foreData5.iloc[foreData5[foreData5[1].str.contains('2015-11-02 21:00') ==True].index[0]:foreData5[foreData5[1].str.contains('2015-11-02 23:00') ==True].index[0]+1])\n",
        "df1 = pd.DataFrame({1: '2015-11-02 22:00',\n",
        " 2: np.nan,3: np.nan,4: np.nan,\n",
        " 5: np.nan,6: np.nan,7: np.nan,\n",
        " 8: np.nan,9: np.nan,10: np.nan,\n",
        " 11: np.nan,12: np.nan,13: np.nan,\n",
        " 14: np.nan,15: np.nan, 16: np.nan,\n",
        " 17: np.nan,18: np.nan,19: np.nan,\n",
        " 20: np.nan,21: np.nan,22: np.nan,\n",
        " 23: np.nan,24: np.nan,25: np.nan,26: np.nan},index=[52586])\n",
        "foreData1 = pd.concat([foreData1, df1]) "
      ],
      "id": "nC4Fr_7HlBSB",
      "execution_count": 430,
      "outputs": [
        {
          "output_type": "stream",
          "text": [
            "Int64Index([24860], dtype='int64')\n",
            "Int64Index([24861], dtype='int64')\n"
          ],
          "name": "stdout"
        }
      ]
    },
    {
      "cell_type": "code",
      "metadata": {
        "id": "3jCCb4Q9l0Dz",
        "colab": {
          "base_uri": "https://localhost:8080/"
        },
        "outputId": "03704cdc-a8b3-4f6f-a287-969dccd224da"
      },
      "source": [
        "foreData5[foreData5[1].str.contains('2017-04-25 19:00') ==True].index\n",
        "foreData5[foreData5[1].str.contains('2015-11-02 23:00') ==True].index\n",
        "print(foreData5[foreData5[1].str.contains('2017-04-25 19:00') ==True].index)\n",
        "print(foreData5[foreData5[1].str.contains('2017-04-25 20:00') ==True].index)\n",
        "print(foreData5[foreData5[1].str.contains('2017-04-25 23:00') ==True].index)\n",
        "df = pd.DataFrame(foreData5.iloc[foreData5[foreData5[1].str.contains('2017-04-25 20:00') ==True].index[0]:foreData5[foreData5[1].str.contains('2017-04-25 23:00') ==True].index[0]+1])\n",
        "df1 = pd.DataFrame({1: '2017-04-25 21:00',\n",
        " 2: np.nan,3: np.nan,4: np.nan,\n",
        " 5: np.nan,6: np.nan,7: np.nan,\n",
        " 8: np.nan,9: np.nan,10: np.nan,\n",
        " 11: np.nan,12: np.nan,13: np.nan,\n",
        " 14: np.nan,15: np.nan, 16: np.nan,\n",
        " 17: np.nan,18: np.nan,19: np.nan,\n",
        " 20: np.nan,21: np.nan,22: np.nan,\n",
        " 23: np.nan,24: np.nan,25: np.nan,26: np.nan},index=[52587])\n",
        "foreData1 = pd.concat([foreData1, df1]) "
      ],
      "id": "3jCCb4Q9l0Dz",
      "execution_count": 431,
      "outputs": [
        {
          "output_type": "stream",
          "text": [
            "Int64Index([37822], dtype='int64')\n",
            "Int64Index([37823], dtype='int64')\n",
            "Int64Index([37824], dtype='int64')\n"
          ],
          "name": "stdout"
        }
      ]
    },
    {
      "cell_type": "code",
      "metadata": {
        "id": "dQBjKxuamBTZ"
      },
      "source": [
        "df1 = pd.DataFrame({1: '2017-04-25 22:00',\n",
        " 2: np.nan,3: np.nan,4: np.nan,\n",
        " 5: np.nan,6: np.nan,7: np.nan,\n",
        " 8: np.nan,9: np.nan,10: np.nan,\n",
        " 11: np.nan,12: np.nan,13: np.nan,\n",
        " 14: np.nan,15: np.nan, 16: np.nan,\n",
        " 17: np.nan,18: np.nan,19: np.nan,\n",
        " 20: np.nan,21: np.nan,22: np.nan,\n",
        " 23: np.nan,24: np.nan,25: np.nan,26: np.nan},index=[52588])\n",
        "foreData1 = pd.concat([foreData1, df1]) "
      ],
      "id": "dQBjKxuamBTZ",
      "execution_count": 432,
      "outputs": []
    },
    {
      "cell_type": "code",
      "metadata": {
        "id": "y-x_7NtRmrmK",
        "colab": {
          "base_uri": "https://localhost:8080/",
          "height": 0
        },
        "outputId": "83c9791c-17bd-4d17-fd19-cee6e44efcc1"
      },
      "source": [
        "foreData1"
      ],
      "id": "y-x_7NtRmrmK",
      "execution_count": 433,
      "outputs": [
        {
          "output_type": "execute_result",
          "data": {
            "text/html": [
              "<div>\n",
              "<style scoped>\n",
              "    .dataframe tbody tr th:only-of-type {\n",
              "        vertical-align: middle;\n",
              "    }\n",
              "\n",
              "    .dataframe tbody tr th {\n",
              "        vertical-align: top;\n",
              "    }\n",
              "\n",
              "    .dataframe thead th {\n",
              "        text-align: right;\n",
              "    }\n",
              "</style>\n",
              "<table border=\"1\" class=\"dataframe\">\n",
              "  <thead>\n",
              "    <tr style=\"text-align: right;\">\n",
              "      <th></th>\n",
              "      <th>1</th>\n",
              "      <th>2</th>\n",
              "      <th>3</th>\n",
              "      <th>4</th>\n",
              "      <th>5</th>\n",
              "      <th>6</th>\n",
              "      <th>7</th>\n",
              "      <th>8</th>\n",
              "      <th>9</th>\n",
              "      <th>10</th>\n",
              "      <th>11</th>\n",
              "      <th>12</th>\n",
              "      <th>13</th>\n",
              "      <th>14</th>\n",
              "      <th>15</th>\n",
              "      <th>16</th>\n",
              "      <th>17</th>\n",
              "      <th>18</th>\n",
              "      <th>19</th>\n",
              "      <th>20</th>\n",
              "      <th>21</th>\n",
              "      <th>22</th>\n",
              "      <th>23</th>\n",
              "      <th>24</th>\n",
              "      <th>25</th>\n",
              "      <th>26</th>\n",
              "    </tr>\n",
              "  </thead>\n",
              "  <tbody>\n",
              "    <tr>\n",
              "      <th>0</th>\n",
              "      <td>2013-01-01 00:00</td>\n",
              "      <td>1.3</td>\n",
              "      <td>NaN</td>\n",
              "      <td>3.2</td>\n",
              "      <td>340</td>\n",
              "      <td>77</td>\n",
              "      <td>5.2</td>\n",
              "      <td>-2.2</td>\n",
              "      <td>1019.1</td>\n",
              "      <td>1021.3</td>\n",
              "      <td>NaN</td>\n",
              "      <td>NaN</td>\n",
              "      <td>NaN</td>\n",
              "      <td>NaN</td>\n",
              "      <td>3</td>\n",
              "      <td>3</td>\n",
              "      <td>Sc</td>\n",
              "      <td>10</td>\n",
              "      <td>2000</td>\n",
              "      <td>NaN</td>\n",
              "      <td>NaN</td>\n",
              "      <td>0</td>\n",
              "      <td>NaN</td>\n",
              "      <td>NaN</td>\n",
              "      <td>NaN</td>\n",
              "      <td>NaN</td>\n",
              "    </tr>\n",
              "    <tr>\n",
              "      <th>1</th>\n",
              "      <td>2013-01-01 01:00</td>\n",
              "      <td>.9</td>\n",
              "      <td>NaN</td>\n",
              "      <td>2.6</td>\n",
              "      <td>320</td>\n",
              "      <td>77</td>\n",
              "      <td>5</td>\n",
              "      <td>-2.6</td>\n",
              "      <td>1019</td>\n",
              "      <td>1021.2</td>\n",
              "      <td>NaN</td>\n",
              "      <td>NaN</td>\n",
              "      <td>NaN</td>\n",
              "      <td>NaN</td>\n",
              "      <td>NaN</td>\n",
              "      <td>NaN</td>\n",
              "      <td>NaN</td>\n",
              "      <td>NaN</td>\n",
              "      <td>NaN</td>\n",
              "      <td>NaN</td>\n",
              "      <td>NaN</td>\n",
              "      <td>0</td>\n",
              "      <td>NaN</td>\n",
              "      <td>NaN</td>\n",
              "      <td>NaN</td>\n",
              "      <td>NaN</td>\n",
              "    </tr>\n",
              "    <tr>\n",
              "      <th>2</th>\n",
              "      <td>2013-01-01 02:00</td>\n",
              "      <td>1.5</td>\n",
              "      <td>NaN</td>\n",
              "      <td>3</td>\n",
              "      <td>340</td>\n",
              "      <td>77</td>\n",
              "      <td>5.2</td>\n",
              "      <td>-2.1</td>\n",
              "      <td>1019</td>\n",
              "      <td>1021.2</td>\n",
              "      <td>NaN</td>\n",
              "      <td>NaN</td>\n",
              "      <td>NaN</td>\n",
              "      <td>NaN</td>\n",
              "      <td>NaN</td>\n",
              "      <td>NaN</td>\n",
              "      <td>NaN</td>\n",
              "      <td>NaN</td>\n",
              "      <td>NaN</td>\n",
              "      <td>NaN</td>\n",
              "      <td>NaN</td>\n",
              "      <td>0</td>\n",
              "      <td>NaN</td>\n",
              "      <td>NaN</td>\n",
              "      <td>NaN</td>\n",
              "      <td>NaN</td>\n",
              "    </tr>\n",
              "    <tr>\n",
              "      <th>3</th>\n",
              "      <td>2013-01-01 03:00</td>\n",
              "      <td>2.7</td>\n",
              "      <td>0</td>\n",
              "      <td>1.7</td>\n",
              "      <td>270</td>\n",
              "      <td>74</td>\n",
              "      <td>5.5</td>\n",
              "      <td>-1.4</td>\n",
              "      <td>1019</td>\n",
              "      <td>1021.2</td>\n",
              "      <td>NaN</td>\n",
              "      <td>NaN</td>\n",
              "      <td>NaN</td>\n",
              "      <td>NaN</td>\n",
              "      <td>9</td>\n",
              "      <td>9</td>\n",
              "      <td>Sc</td>\n",
              "      <td>10</td>\n",
              "      <td>2000</td>\n",
              "      <td>1</td>\n",
              "      <td>01</td>\n",
              "      <td>.3</td>\n",
              "      <td>NaN</td>\n",
              "      <td>NaN</td>\n",
              "      <td>NaN</td>\n",
              "      <td>NaN</td>\n",
              "    </tr>\n",
              "    <tr>\n",
              "      <th>4</th>\n",
              "      <td>2013-01-01 04:00</td>\n",
              "      <td>.6</td>\n",
              "      <td>NaN</td>\n",
              "      <td>1.8</td>\n",
              "      <td>320</td>\n",
              "      <td>82</td>\n",
              "      <td>5.2</td>\n",
              "      <td>-2.1</td>\n",
              "      <td>1018.5</td>\n",
              "      <td>1020.8</td>\n",
              "      <td>NaN</td>\n",
              "      <td>NaN</td>\n",
              "      <td>NaN</td>\n",
              "      <td>NaN</td>\n",
              "      <td>3</td>\n",
              "      <td>3</td>\n",
              "      <td>Sc</td>\n",
              "      <td>10</td>\n",
              "      <td>2000</td>\n",
              "      <td>NaN</td>\n",
              "      <td>NaN</td>\n",
              "      <td>.1</td>\n",
              "      <td>NaN</td>\n",
              "      <td>NaN</td>\n",
              "      <td>NaN</td>\n",
              "      <td>NaN</td>\n",
              "    </tr>\n",
              "    <tr>\n",
              "      <th>...</th>\n",
              "      <td>...</td>\n",
              "      <td>...</td>\n",
              "      <td>...</td>\n",
              "      <td>...</td>\n",
              "      <td>...</td>\n",
              "      <td>...</td>\n",
              "      <td>...</td>\n",
              "      <td>...</td>\n",
              "      <td>...</td>\n",
              "      <td>...</td>\n",
              "      <td>...</td>\n",
              "      <td>...</td>\n",
              "      <td>...</td>\n",
              "      <td>...</td>\n",
              "      <td>...</td>\n",
              "      <td>...</td>\n",
              "      <td>...</td>\n",
              "      <td>...</td>\n",
              "      <td>...</td>\n",
              "      <td>...</td>\n",
              "      <td>...</td>\n",
              "      <td>...</td>\n",
              "      <td>...</td>\n",
              "      <td>...</td>\n",
              "      <td>...</td>\n",
              "      <td>...</td>\n",
              "    </tr>\n",
              "    <tr>\n",
              "      <th>52584</th>\n",
              "      <td>2018-12-31 23:00</td>\n",
              "      <td>3.7</td>\n",
              "      <td>NaN</td>\n",
              "      <td>2.5</td>\n",
              "      <td>20</td>\n",
              "      <td>64</td>\n",
              "      <td>5.1</td>\n",
              "      <td>-2.4</td>\n",
              "      <td>1032</td>\n",
              "      <td>1034.6</td>\n",
              "      <td>NaN</td>\n",
              "      <td>NaN</td>\n",
              "      <td>NaN</td>\n",
              "      <td>NaN</td>\n",
              "      <td>9</td>\n",
              "      <td>4</td>\n",
              "      <td>NaN</td>\n",
              "      <td>10</td>\n",
              "      <td>2000</td>\n",
              "      <td>NaN</td>\n",
              "      <td>NaN</td>\n",
              "      <td>1.6</td>\n",
              "      <td>NaN</td>\n",
              "      <td>NaN</td>\n",
              "      <td>NaN</td>\n",
              "      <td>NaN</td>\n",
              "    </tr>\n",
              "    <tr>\n",
              "      <th>52585</th>\n",
              "      <td>2015-06-27 05:00</td>\n",
              "      <td>NaN</td>\n",
              "      <td>NaN</td>\n",
              "      <td>NaN</td>\n",
              "      <td>NaN</td>\n",
              "      <td>NaN</td>\n",
              "      <td>NaN</td>\n",
              "      <td>NaN</td>\n",
              "      <td>NaN</td>\n",
              "      <td>NaN</td>\n",
              "      <td>NaN</td>\n",
              "      <td>NaN</td>\n",
              "      <td>NaN</td>\n",
              "      <td>NaN</td>\n",
              "      <td>NaN</td>\n",
              "      <td>NaN</td>\n",
              "      <td>NaN</td>\n",
              "      <td>NaN</td>\n",
              "      <td>NaN</td>\n",
              "      <td>NaN</td>\n",
              "      <td>NaN</td>\n",
              "      <td>NaN</td>\n",
              "      <td>NaN</td>\n",
              "      <td>NaN</td>\n",
              "      <td>NaN</td>\n",
              "      <td>NaN</td>\n",
              "    </tr>\n",
              "    <tr>\n",
              "      <th>52586</th>\n",
              "      <td>2015-11-02 22:00</td>\n",
              "      <td>NaN</td>\n",
              "      <td>NaN</td>\n",
              "      <td>NaN</td>\n",
              "      <td>NaN</td>\n",
              "      <td>NaN</td>\n",
              "      <td>NaN</td>\n",
              "      <td>NaN</td>\n",
              "      <td>NaN</td>\n",
              "      <td>NaN</td>\n",
              "      <td>NaN</td>\n",
              "      <td>NaN</td>\n",
              "      <td>NaN</td>\n",
              "      <td>NaN</td>\n",
              "      <td>NaN</td>\n",
              "      <td>NaN</td>\n",
              "      <td>NaN</td>\n",
              "      <td>NaN</td>\n",
              "      <td>NaN</td>\n",
              "      <td>NaN</td>\n",
              "      <td>NaN</td>\n",
              "      <td>NaN</td>\n",
              "      <td>NaN</td>\n",
              "      <td>NaN</td>\n",
              "      <td>NaN</td>\n",
              "      <td>NaN</td>\n",
              "    </tr>\n",
              "    <tr>\n",
              "      <th>52587</th>\n",
              "      <td>2017-04-25 21:00</td>\n",
              "      <td>NaN</td>\n",
              "      <td>NaN</td>\n",
              "      <td>NaN</td>\n",
              "      <td>NaN</td>\n",
              "      <td>NaN</td>\n",
              "      <td>NaN</td>\n",
              "      <td>NaN</td>\n",
              "      <td>NaN</td>\n",
              "      <td>NaN</td>\n",
              "      <td>NaN</td>\n",
              "      <td>NaN</td>\n",
              "      <td>NaN</td>\n",
              "      <td>NaN</td>\n",
              "      <td>NaN</td>\n",
              "      <td>NaN</td>\n",
              "      <td>NaN</td>\n",
              "      <td>NaN</td>\n",
              "      <td>NaN</td>\n",
              "      <td>NaN</td>\n",
              "      <td>NaN</td>\n",
              "      <td>NaN</td>\n",
              "      <td>NaN</td>\n",
              "      <td>NaN</td>\n",
              "      <td>NaN</td>\n",
              "      <td>NaN</td>\n",
              "    </tr>\n",
              "    <tr>\n",
              "      <th>52588</th>\n",
              "      <td>2017-04-25 22:00</td>\n",
              "      <td>NaN</td>\n",
              "      <td>NaN</td>\n",
              "      <td>NaN</td>\n",
              "      <td>NaN</td>\n",
              "      <td>NaN</td>\n",
              "      <td>NaN</td>\n",
              "      <td>NaN</td>\n",
              "      <td>NaN</td>\n",
              "      <td>NaN</td>\n",
              "      <td>NaN</td>\n",
              "      <td>NaN</td>\n",
              "      <td>NaN</td>\n",
              "      <td>NaN</td>\n",
              "      <td>NaN</td>\n",
              "      <td>NaN</td>\n",
              "      <td>NaN</td>\n",
              "      <td>NaN</td>\n",
              "      <td>NaN</td>\n",
              "      <td>NaN</td>\n",
              "      <td>NaN</td>\n",
              "      <td>NaN</td>\n",
              "      <td>NaN</td>\n",
              "      <td>NaN</td>\n",
              "      <td>NaN</td>\n",
              "      <td>NaN</td>\n",
              "    </tr>\n",
              "  </tbody>\n",
              "</table>\n",
              "<p>52584 rows × 26 columns</p>\n",
              "</div>"
            ],
            "text/plain": [
              "                     1    2    3    4    5    6   ...   21   22   23   24   25   26\n",
              "0      2013-01-01 00:00  1.3  NaN  3.2  340   77  ...  NaN    0  NaN  NaN  NaN  NaN\n",
              "1      2013-01-01 01:00   .9  NaN  2.6  320   77  ...  NaN    0  NaN  NaN  NaN  NaN\n",
              "2      2013-01-01 02:00  1.5  NaN    3  340   77  ...  NaN    0  NaN  NaN  NaN  NaN\n",
              "3      2013-01-01 03:00  2.7    0  1.7  270   74  ...   01   .3  NaN  NaN  NaN  NaN\n",
              "4      2013-01-01 04:00   .6  NaN  1.8  320   82  ...  NaN   .1  NaN  NaN  NaN  NaN\n",
              "...                 ...  ...  ...  ...  ...  ...  ...  ...  ...  ...  ...  ...  ...\n",
              "52584  2018-12-31 23:00  3.7  NaN  2.5   20   64  ...  NaN  1.6  NaN  NaN  NaN  NaN\n",
              "52585  2015-06-27 05:00  NaN  NaN  NaN  NaN  NaN  ...  NaN  NaN  NaN  NaN  NaN  NaN\n",
              "52586  2015-11-02 22:00  NaN  NaN  NaN  NaN  NaN  ...  NaN  NaN  NaN  NaN  NaN  NaN\n",
              "52587  2017-04-25 21:00  NaN  NaN  NaN  NaN  NaN  ...  NaN  NaN  NaN  NaN  NaN  NaN\n",
              "52588  2017-04-25 22:00  NaN  NaN  NaN  NaN  NaN  ...  NaN  NaN  NaN  NaN  NaN  NaN\n",
              "\n",
              "[52584 rows x 26 columns]"
            ]
          },
          "metadata": {
            "tags": []
          },
          "execution_count": 433
        }
      ]
    },
    {
      "cell_type": "markdown",
      "metadata": {
        "id": "ERzVua9gnRn1"
      },
      "source": [
        "### 3) date,time column생성 & datetime 형식으로 변환-정렬"
      ],
      "id": "ERzVua9gnRn1"
    },
    {
      "cell_type": "markdown",
      "metadata": {
        "id": "_a2ODYw_YRXu"
      },
      "source": [
        "#### 컬럼 생성"
      ],
      "id": "_a2ODYw_YRXu"
    },
    {
      "cell_type": "code",
      "metadata": {
        "id": "MPyH9rb7YTxn"
      },
      "source": [
        "foreData1[27] = foreData1[1].str.split(' ').str[0]\n",
        "foreData1[28] = foreData1[1].str.split(' ').str[1]"
      ],
      "id": "MPyH9rb7YTxn",
      "execution_count": 434,
      "outputs": []
    },
    {
      "cell_type": "markdown",
      "metadata": {
        "id": "FH_dUKteoPCK"
      },
      "source": [
        "#### 변환"
      ],
      "id": "FH_dUKteoPCK"
    },
    {
      "cell_type": "code",
      "metadata": {
        "id": "4ivVOPpGnV0G"
      },
      "source": [
        "foreData1[1] = pd.to_datetime(foreData1[1],format='%Y-%m-%d %H:%M', errors='ignore') #합친거 datetime 형식으로 변환\n",
        "foreData1[27] = pd.to_datetime(foreData1[27],format='%Y-%m-%d', errors='ignore') # date 형식으로 변환\n",
        "foreData1[28] = pd.to_datetime(foreData1[28],format='%H:%M', errors='ignore') #time 형식으로 변환"
      ],
      "id": "4ivVOPpGnV0G",
      "execution_count": 435,
      "outputs": []
    },
    {
      "cell_type": "markdown",
      "metadata": {
        "id": "ZvXa-aHOoQCg"
      },
      "source": [
        "#### 정렬"
      ],
      "id": "ZvXa-aHOoQCg"
    },
    {
      "cell_type": "code",
      "metadata": {
        "id": "4Rpj0P8unV4f"
      },
      "source": [
        "foreData1=foreData1.sort_values(by=1) #datetime으로 정렬"
      ],
      "id": "4Rpj0P8unV4f",
      "execution_count": 436,
      "outputs": []
    },
    {
      "cell_type": "code",
      "metadata": {
        "id": "4HvOirqznV6f",
        "colab": {
          "base_uri": "https://localhost:8080/",
          "height": 0
        },
        "outputId": "c0daade8-7068-4120-96b5-47fc9d24e3a6"
      },
      "source": [
        "foreData1 = foreData1.reset_index()  #index reset\n",
        "foreData1 = foreData1.drop('index',1) # index reset 하면 기존 index가 컬럼에 추가되므로 삭제\n",
        "foreData1"
      ],
      "id": "4HvOirqznV6f",
      "execution_count": 437,
      "outputs": [
        {
          "output_type": "execute_result",
          "data": {
            "text/html": [
              "<div>\n",
              "<style scoped>\n",
              "    .dataframe tbody tr th:only-of-type {\n",
              "        vertical-align: middle;\n",
              "    }\n",
              "\n",
              "    .dataframe tbody tr th {\n",
              "        vertical-align: top;\n",
              "    }\n",
              "\n",
              "    .dataframe thead th {\n",
              "        text-align: right;\n",
              "    }\n",
              "</style>\n",
              "<table border=\"1\" class=\"dataframe\">\n",
              "  <thead>\n",
              "    <tr style=\"text-align: right;\">\n",
              "      <th></th>\n",
              "      <th>1</th>\n",
              "      <th>2</th>\n",
              "      <th>3</th>\n",
              "      <th>4</th>\n",
              "      <th>5</th>\n",
              "      <th>6</th>\n",
              "      <th>7</th>\n",
              "      <th>8</th>\n",
              "      <th>9</th>\n",
              "      <th>10</th>\n",
              "      <th>11</th>\n",
              "      <th>12</th>\n",
              "      <th>13</th>\n",
              "      <th>14</th>\n",
              "      <th>15</th>\n",
              "      <th>16</th>\n",
              "      <th>17</th>\n",
              "      <th>18</th>\n",
              "      <th>19</th>\n",
              "      <th>20</th>\n",
              "      <th>21</th>\n",
              "      <th>22</th>\n",
              "      <th>23</th>\n",
              "      <th>24</th>\n",
              "      <th>25</th>\n",
              "      <th>26</th>\n",
              "      <th>27</th>\n",
              "      <th>28</th>\n",
              "    </tr>\n",
              "  </thead>\n",
              "  <tbody>\n",
              "    <tr>\n",
              "      <th>0</th>\n",
              "      <td>2013-01-01 00:00:00</td>\n",
              "      <td>1.3</td>\n",
              "      <td>NaN</td>\n",
              "      <td>3.2</td>\n",
              "      <td>340</td>\n",
              "      <td>77</td>\n",
              "      <td>5.2</td>\n",
              "      <td>-2.2</td>\n",
              "      <td>1019.1</td>\n",
              "      <td>1021.3</td>\n",
              "      <td>NaN</td>\n",
              "      <td>NaN</td>\n",
              "      <td>NaN</td>\n",
              "      <td>NaN</td>\n",
              "      <td>3</td>\n",
              "      <td>3</td>\n",
              "      <td>Sc</td>\n",
              "      <td>10</td>\n",
              "      <td>2000</td>\n",
              "      <td>NaN</td>\n",
              "      <td>NaN</td>\n",
              "      <td>0</td>\n",
              "      <td>NaN</td>\n",
              "      <td>NaN</td>\n",
              "      <td>NaN</td>\n",
              "      <td>NaN</td>\n",
              "      <td>2013-01-01</td>\n",
              "      <td>1900-01-01 00:00:00</td>\n",
              "    </tr>\n",
              "    <tr>\n",
              "      <th>1</th>\n",
              "      <td>2013-01-01 01:00:00</td>\n",
              "      <td>.9</td>\n",
              "      <td>NaN</td>\n",
              "      <td>2.6</td>\n",
              "      <td>320</td>\n",
              "      <td>77</td>\n",
              "      <td>5</td>\n",
              "      <td>-2.6</td>\n",
              "      <td>1019</td>\n",
              "      <td>1021.2</td>\n",
              "      <td>NaN</td>\n",
              "      <td>NaN</td>\n",
              "      <td>NaN</td>\n",
              "      <td>NaN</td>\n",
              "      <td>NaN</td>\n",
              "      <td>NaN</td>\n",
              "      <td>NaN</td>\n",
              "      <td>NaN</td>\n",
              "      <td>NaN</td>\n",
              "      <td>NaN</td>\n",
              "      <td>NaN</td>\n",
              "      <td>0</td>\n",
              "      <td>NaN</td>\n",
              "      <td>NaN</td>\n",
              "      <td>NaN</td>\n",
              "      <td>NaN</td>\n",
              "      <td>2013-01-01</td>\n",
              "      <td>1900-01-01 01:00:00</td>\n",
              "    </tr>\n",
              "    <tr>\n",
              "      <th>2</th>\n",
              "      <td>2013-01-01 02:00:00</td>\n",
              "      <td>1.5</td>\n",
              "      <td>NaN</td>\n",
              "      <td>3</td>\n",
              "      <td>340</td>\n",
              "      <td>77</td>\n",
              "      <td>5.2</td>\n",
              "      <td>-2.1</td>\n",
              "      <td>1019</td>\n",
              "      <td>1021.2</td>\n",
              "      <td>NaN</td>\n",
              "      <td>NaN</td>\n",
              "      <td>NaN</td>\n",
              "      <td>NaN</td>\n",
              "      <td>NaN</td>\n",
              "      <td>NaN</td>\n",
              "      <td>NaN</td>\n",
              "      <td>NaN</td>\n",
              "      <td>NaN</td>\n",
              "      <td>NaN</td>\n",
              "      <td>NaN</td>\n",
              "      <td>0</td>\n",
              "      <td>NaN</td>\n",
              "      <td>NaN</td>\n",
              "      <td>NaN</td>\n",
              "      <td>NaN</td>\n",
              "      <td>2013-01-01</td>\n",
              "      <td>1900-01-01 02:00:00</td>\n",
              "    </tr>\n",
              "    <tr>\n",
              "      <th>3</th>\n",
              "      <td>2013-01-01 03:00:00</td>\n",
              "      <td>2.7</td>\n",
              "      <td>0</td>\n",
              "      <td>1.7</td>\n",
              "      <td>270</td>\n",
              "      <td>74</td>\n",
              "      <td>5.5</td>\n",
              "      <td>-1.4</td>\n",
              "      <td>1019</td>\n",
              "      <td>1021.2</td>\n",
              "      <td>NaN</td>\n",
              "      <td>NaN</td>\n",
              "      <td>NaN</td>\n",
              "      <td>NaN</td>\n",
              "      <td>9</td>\n",
              "      <td>9</td>\n",
              "      <td>Sc</td>\n",
              "      <td>10</td>\n",
              "      <td>2000</td>\n",
              "      <td>1</td>\n",
              "      <td>01</td>\n",
              "      <td>.3</td>\n",
              "      <td>NaN</td>\n",
              "      <td>NaN</td>\n",
              "      <td>NaN</td>\n",
              "      <td>NaN</td>\n",
              "      <td>2013-01-01</td>\n",
              "      <td>1900-01-01 03:00:00</td>\n",
              "    </tr>\n",
              "    <tr>\n",
              "      <th>4</th>\n",
              "      <td>2013-01-01 04:00:00</td>\n",
              "      <td>.6</td>\n",
              "      <td>NaN</td>\n",
              "      <td>1.8</td>\n",
              "      <td>320</td>\n",
              "      <td>82</td>\n",
              "      <td>5.2</td>\n",
              "      <td>-2.1</td>\n",
              "      <td>1018.5</td>\n",
              "      <td>1020.8</td>\n",
              "      <td>NaN</td>\n",
              "      <td>NaN</td>\n",
              "      <td>NaN</td>\n",
              "      <td>NaN</td>\n",
              "      <td>3</td>\n",
              "      <td>3</td>\n",
              "      <td>Sc</td>\n",
              "      <td>10</td>\n",
              "      <td>2000</td>\n",
              "      <td>NaN</td>\n",
              "      <td>NaN</td>\n",
              "      <td>.1</td>\n",
              "      <td>NaN</td>\n",
              "      <td>NaN</td>\n",
              "      <td>NaN</td>\n",
              "      <td>NaN</td>\n",
              "      <td>2013-01-01</td>\n",
              "      <td>1900-01-01 04:00:00</td>\n",
              "    </tr>\n",
              "    <tr>\n",
              "      <th>...</th>\n",
              "      <td>...</td>\n",
              "      <td>...</td>\n",
              "      <td>...</td>\n",
              "      <td>...</td>\n",
              "      <td>...</td>\n",
              "      <td>...</td>\n",
              "      <td>...</td>\n",
              "      <td>...</td>\n",
              "      <td>...</td>\n",
              "      <td>...</td>\n",
              "      <td>...</td>\n",
              "      <td>...</td>\n",
              "      <td>...</td>\n",
              "      <td>...</td>\n",
              "      <td>...</td>\n",
              "      <td>...</td>\n",
              "      <td>...</td>\n",
              "      <td>...</td>\n",
              "      <td>...</td>\n",
              "      <td>...</td>\n",
              "      <td>...</td>\n",
              "      <td>...</td>\n",
              "      <td>...</td>\n",
              "      <td>...</td>\n",
              "      <td>...</td>\n",
              "      <td>...</td>\n",
              "      <td>...</td>\n",
              "      <td>...</td>\n",
              "    </tr>\n",
              "    <tr>\n",
              "      <th>52579</th>\n",
              "      <td>2018-12-31 19:00:00</td>\n",
              "      <td>4.3</td>\n",
              "      <td>NaN</td>\n",
              "      <td>4.7</td>\n",
              "      <td>340</td>\n",
              "      <td>58</td>\n",
              "      <td>4.8</td>\n",
              "      <td>-3.2</td>\n",
              "      <td>1032.1</td>\n",
              "      <td>1034.7</td>\n",
              "      <td>NaN</td>\n",
              "      <td>NaN</td>\n",
              "      <td>NaN</td>\n",
              "      <td>NaN</td>\n",
              "      <td>10</td>\n",
              "      <td>9</td>\n",
              "      <td>NaN</td>\n",
              "      <td>12</td>\n",
              "      <td>2000</td>\n",
              "      <td>NaN</td>\n",
              "      <td>NaN</td>\n",
              "      <td>3.3</td>\n",
              "      <td>NaN</td>\n",
              "      <td>NaN</td>\n",
              "      <td>NaN</td>\n",
              "      <td>NaN</td>\n",
              "      <td>2018-12-31</td>\n",
              "      <td>1900-01-01 19:00:00</td>\n",
              "    </tr>\n",
              "    <tr>\n",
              "      <th>52580</th>\n",
              "      <td>2018-12-31 20:00:00</td>\n",
              "      <td>3.9</td>\n",
              "      <td>NaN</td>\n",
              "      <td>4.5</td>\n",
              "      <td>360</td>\n",
              "      <td>61</td>\n",
              "      <td>4.9</td>\n",
              "      <td>-2.9</td>\n",
              "      <td>1032</td>\n",
              "      <td>1034.6</td>\n",
              "      <td>NaN</td>\n",
              "      <td>NaN</td>\n",
              "      <td>NaN</td>\n",
              "      <td>NaN</td>\n",
              "      <td>8</td>\n",
              "      <td>8</td>\n",
              "      <td>NaN</td>\n",
              "      <td>13</td>\n",
              "      <td>2000</td>\n",
              "      <td>NaN</td>\n",
              "      <td>NaN</td>\n",
              "      <td>2.9</td>\n",
              "      <td>NaN</td>\n",
              "      <td>NaN</td>\n",
              "      <td>NaN</td>\n",
              "      <td>NaN</td>\n",
              "      <td>2018-12-31</td>\n",
              "      <td>1900-01-01 20:00:00</td>\n",
              "    </tr>\n",
              "    <tr>\n",
              "      <th>52581</th>\n",
              "      <td>2018-12-31 21:00:00</td>\n",
              "      <td>3.5</td>\n",
              "      <td>NaN</td>\n",
              "      <td>4</td>\n",
              "      <td>360</td>\n",
              "      <td>59</td>\n",
              "      <td>4.6</td>\n",
              "      <td>-3.7</td>\n",
              "      <td>1031.9</td>\n",
              "      <td>1034.5</td>\n",
              "      <td>NaN</td>\n",
              "      <td>NaN</td>\n",
              "      <td>NaN</td>\n",
              "      <td>NaN</td>\n",
              "      <td>8</td>\n",
              "      <td>8</td>\n",
              "      <td>NaN</td>\n",
              "      <td>13</td>\n",
              "      <td>2000</td>\n",
              "      <td>NaN</td>\n",
              "      <td>NaN</td>\n",
              "      <td>1.9</td>\n",
              "      <td>NaN</td>\n",
              "      <td>NaN</td>\n",
              "      <td>NaN</td>\n",
              "      <td>NaN</td>\n",
              "      <td>2018-12-31</td>\n",
              "      <td>1900-01-01 21:00:00</td>\n",
              "    </tr>\n",
              "    <tr>\n",
              "      <th>52582</th>\n",
              "      <td>2018-12-31 22:00:00</td>\n",
              "      <td>3.8</td>\n",
              "      <td>NaN</td>\n",
              "      <td>3.4</td>\n",
              "      <td>20</td>\n",
              "      <td>61</td>\n",
              "      <td>4.9</td>\n",
              "      <td>-3</td>\n",
              "      <td>1031.6</td>\n",
              "      <td>1034.2</td>\n",
              "      <td>NaN</td>\n",
              "      <td>NaN</td>\n",
              "      <td>NaN</td>\n",
              "      <td>NaN</td>\n",
              "      <td>9</td>\n",
              "      <td>8</td>\n",
              "      <td>NaN</td>\n",
              "      <td>12</td>\n",
              "      <td>2000</td>\n",
              "      <td>NaN</td>\n",
              "      <td>NaN</td>\n",
              "      <td>2.1</td>\n",
              "      <td>NaN</td>\n",
              "      <td>NaN</td>\n",
              "      <td>NaN</td>\n",
              "      <td>NaN</td>\n",
              "      <td>2018-12-31</td>\n",
              "      <td>1900-01-01 22:00:00</td>\n",
              "    </tr>\n",
              "    <tr>\n",
              "      <th>52583</th>\n",
              "      <td>2018-12-31 23:00:00</td>\n",
              "      <td>3.7</td>\n",
              "      <td>NaN</td>\n",
              "      <td>2.5</td>\n",
              "      <td>20</td>\n",
              "      <td>64</td>\n",
              "      <td>5.1</td>\n",
              "      <td>-2.4</td>\n",
              "      <td>1032</td>\n",
              "      <td>1034.6</td>\n",
              "      <td>NaN</td>\n",
              "      <td>NaN</td>\n",
              "      <td>NaN</td>\n",
              "      <td>NaN</td>\n",
              "      <td>9</td>\n",
              "      <td>4</td>\n",
              "      <td>NaN</td>\n",
              "      <td>10</td>\n",
              "      <td>2000</td>\n",
              "      <td>NaN</td>\n",
              "      <td>NaN</td>\n",
              "      <td>1.6</td>\n",
              "      <td>NaN</td>\n",
              "      <td>NaN</td>\n",
              "      <td>NaN</td>\n",
              "      <td>NaN</td>\n",
              "      <td>2018-12-31</td>\n",
              "      <td>1900-01-01 23:00:00</td>\n",
              "    </tr>\n",
              "  </tbody>\n",
              "</table>\n",
              "<p>52584 rows × 28 columns</p>\n",
              "</div>"
            ],
            "text/plain": [
              "                       1    2    3   ...   26         27                  28\n",
              "0     2013-01-01 00:00:00  1.3  NaN  ...  NaN 2013-01-01 1900-01-01 00:00:00\n",
              "1     2013-01-01 01:00:00   .9  NaN  ...  NaN 2013-01-01 1900-01-01 01:00:00\n",
              "2     2013-01-01 02:00:00  1.5  NaN  ...  NaN 2013-01-01 1900-01-01 02:00:00\n",
              "3     2013-01-01 03:00:00  2.7    0  ...  NaN 2013-01-01 1900-01-01 03:00:00\n",
              "4     2013-01-01 04:00:00   .6  NaN  ...  NaN 2013-01-01 1900-01-01 04:00:00\n",
              "...                   ...  ...  ...  ...  ...        ...                 ...\n",
              "52579 2018-12-31 19:00:00  4.3  NaN  ...  NaN 2018-12-31 1900-01-01 19:00:00\n",
              "52580 2018-12-31 20:00:00  3.9  NaN  ...  NaN 2018-12-31 1900-01-01 20:00:00\n",
              "52581 2018-12-31 21:00:00  3.5  NaN  ...  NaN 2018-12-31 1900-01-01 21:00:00\n",
              "52582 2018-12-31 22:00:00  3.8  NaN  ...  NaN 2018-12-31 1900-01-01 22:00:00\n",
              "52583 2018-12-31 23:00:00  3.7  NaN  ...  NaN 2018-12-31 1900-01-01 23:00:00\n",
              "\n",
              "[52584 rows x 28 columns]"
            ]
          },
          "metadata": {
            "tags": []
          },
          "execution_count": 437
        }
      ]
    },
    {
      "cell_type": "markdown",
      "metadata": {
        "id": "w_Bp8UX3oxeM"
      },
      "source": [
        "### 4) 필요없는 컬럼 골라내기\n",
        "\n",
        "일시,기온(°C),강수량(mm),풍속(m/s),풍향(16방위),습도(%),증기압(hPa),이슬점온도(°C),현지기압(hPa),해면기압(hPa),일조(hr),일사(MJ/m2),적설(cm),3시간신적설(cm),전운량(10분위),중하층운량(10분위),운형(운형약어),최저운고(100m ),시정(10m),지면상태(지면상태코드),현상번호(국내식),지면온도(°C),5cm 지중온도(°C),10cm 지중온도(°C),20cm 지중온도(°C),30cm 지중온도(°C)\n"
      ],
      "id": "w_Bp8UX3oxeM"
    },
    {
      "cell_type": "code",
      "metadata": {
        "colab": {
          "base_uri": "https://localhost:8080/"
        },
        "id": "FljoBd0co1Oc",
        "outputId": "f80f89a2-0c90-4dc4-d61c-73c985812140"
      },
      "source": [
        "foreData = foreData1.copy()\n",
        "foreData1.info()"
      ],
      "id": "FljoBd0co1Oc",
      "execution_count": 438,
      "outputs": [
        {
          "output_type": "stream",
          "text": [
            "<class 'pandas.core.frame.DataFrame'>\n",
            "RangeIndex: 52584 entries, 0 to 52583\n",
            "Data columns (total 28 columns):\n",
            " #   Column  Non-Null Count  Dtype         \n",
            "---  ------  --------------  -----         \n",
            " 0   1       52584 non-null  datetime64[ns]\n",
            " 1   2       52435 non-null  object        \n",
            " 2   3       5306 non-null   object        \n",
            " 3   4       52561 non-null  object        \n",
            " 4   5       52522 non-null  object        \n",
            " 5   6       52514 non-null  object        \n",
            " 6   7       52484 non-null  object        \n",
            " 7   8       52491 non-null  object        \n",
            " 8   9       52568 non-null  object        \n",
            " 9   10      52513 non-null  object        \n",
            " 10  11      28779 non-null  object        \n",
            " 11  12      0 non-null      object        \n",
            " 12  13      563 non-null    object        \n",
            " 13  14      18 non-null     object        \n",
            " 14  15      18471 non-null  object        \n",
            " 15  16      18492 non-null  object        \n",
            " 16  17      12905 non-null  object        \n",
            " 17  18      14085 non-null  object        \n",
            " 18  19      48186 non-null  object        \n",
            " 19  20      3135 non-null   object        \n",
            " 20  21      5179 non-null   object        \n",
            " 21  22      52245 non-null  object        \n",
            " 22  23      0 non-null      object        \n",
            " 23  24      0 non-null      object        \n",
            " 24  25      0 non-null      object        \n",
            " 25  26      0 non-null      object        \n",
            " 26  27      52584 non-null  datetime64[ns]\n",
            " 27  28      52584 non-null  datetime64[ns]\n",
            "dtypes: datetime64[ns](3), object(25)\n",
            "memory usage: 11.2+ MB\n"
          ],
          "name": "stdout"
        }
      ]
    },
    {
      "cell_type": "markdown",
      "metadata": {
        "id": "390imtboqthX"
      },
      "source": [
        "끝에서 4개는 값이 없으므로 컬럼 삭제"
      ],
      "id": "390imtboqthX"
    },
    {
      "cell_type": "code",
      "metadata": {
        "id": "Kd2ve8rko1Qg"
      },
      "source": [
        "foreData1 = foreData1.drop(23,1)\n",
        "foreData1 = foreData1.drop(24,1)\n",
        "foreData1 = foreData1.drop(25,1)\n",
        "foreData1 = foreData1.drop(26,1)"
      ],
      "id": "Kd2ve8rko1Qg",
      "execution_count": 439,
      "outputs": []
    },
    {
      "cell_type": "code",
      "metadata": {
        "colab": {
          "base_uri": "https://localhost:8080/"
        },
        "id": "35pZ-ERQo1Sh",
        "outputId": "3d9f68e6-d89e-4d34-c23f-fdad3d4108b9"
      },
      "source": [
        "foreData1.info()"
      ],
      "id": "35pZ-ERQo1Sh",
      "execution_count": 440,
      "outputs": [
        {
          "output_type": "stream",
          "text": [
            "<class 'pandas.core.frame.DataFrame'>\n",
            "RangeIndex: 52584 entries, 0 to 52583\n",
            "Data columns (total 24 columns):\n",
            " #   Column  Non-Null Count  Dtype         \n",
            "---  ------  --------------  -----         \n",
            " 0   1       52584 non-null  datetime64[ns]\n",
            " 1   2       52435 non-null  object        \n",
            " 2   3       5306 non-null   object        \n",
            " 3   4       52561 non-null  object        \n",
            " 4   5       52522 non-null  object        \n",
            " 5   6       52514 non-null  object        \n",
            " 6   7       52484 non-null  object        \n",
            " 7   8       52491 non-null  object        \n",
            " 8   9       52568 non-null  object        \n",
            " 9   10      52513 non-null  object        \n",
            " 10  11      28779 non-null  object        \n",
            " 11  12      0 non-null      object        \n",
            " 12  13      563 non-null    object        \n",
            " 13  14      18 non-null     object        \n",
            " 14  15      18471 non-null  object        \n",
            " 15  16      18492 non-null  object        \n",
            " 16  17      12905 non-null  object        \n",
            " 17  18      14085 non-null  object        \n",
            " 18  19      48186 non-null  object        \n",
            " 19  20      3135 non-null   object        \n",
            " 20  21      5179 non-null   object        \n",
            " 21  22      52245 non-null  object        \n",
            " 22  27      52584 non-null  datetime64[ns]\n",
            " 23  28      52584 non-null  datetime64[ns]\n",
            "dtypes: datetime64[ns](3), object(21)\n",
            "memory usage: 9.6+ MB\n"
          ],
          "name": "stdout"
        }
      ]
    },
    {
      "cell_type": "markdown",
      "metadata": {
        "id": "AfsR5-3rrMv2"
      },
      "source": [
        "1 일시, 2 기온(°C), 3 강수량(mm), 4 풍속(m/s), 5 풍향(16방위), 6 습도(%), 7 증기압(hPa), 8 이슬점온도(°C), 9 현지기압(hPa), 10 해면기압(hPa), 11 일조(hr), 12 일사(MJ/m2), 13 적설(cm), 14 3시간신적설(cm), 15 전운량(10분위), 16 중하층운량(10분위), 17 운형(운형약어), 18 최저운고(100m ), 19 시정(10m), 20 지면상태(지면상태코드), 21 현상번호(국내식), 22 지면온도(°C)"
      ],
      "id": "AfsR5-3rrMv2"
    },
    {
      "cell_type": "markdown",
      "metadata": {
        "id": "SuIi5dvNsPL7"
      },
      "source": [
        "12~21 out"
      ],
      "id": "SuIi5dvNsPL7"
    },
    {
      "cell_type": "code",
      "metadata": {
        "id": "6modk-W1sUBu"
      },
      "source": [
        "for i in range(12, 22):\n",
        "  foreData1 = foreData1.drop(i,1)"
      ],
      "id": "6modk-W1sUBu",
      "execution_count": 441,
      "outputs": []
    },
    {
      "cell_type": "code",
      "metadata": {
        "colab": {
          "base_uri": "https://localhost:8080/"
        },
        "id": "3q296ZpWsUEC",
        "outputId": "58279a19-2ace-4e62-ca11-eecddbd8a39c"
      },
      "source": [
        "foreData1.info()"
      ],
      "id": "3q296ZpWsUEC",
      "execution_count": 442,
      "outputs": [
        {
          "output_type": "stream",
          "text": [
            "<class 'pandas.core.frame.DataFrame'>\n",
            "RangeIndex: 52584 entries, 0 to 52583\n",
            "Data columns (total 14 columns):\n",
            " #   Column  Non-Null Count  Dtype         \n",
            "---  ------  --------------  -----         \n",
            " 0   1       52584 non-null  datetime64[ns]\n",
            " 1   2       52435 non-null  object        \n",
            " 2   3       5306 non-null   object        \n",
            " 3   4       52561 non-null  object        \n",
            " 4   5       52522 non-null  object        \n",
            " 5   6       52514 non-null  object        \n",
            " 6   7       52484 non-null  object        \n",
            " 7   8       52491 non-null  object        \n",
            " 8   9       52568 non-null  object        \n",
            " 9   10      52513 non-null  object        \n",
            " 10  11      28779 non-null  object        \n",
            " 11  22      52245 non-null  object        \n",
            " 12  27      52584 non-null  datetime64[ns]\n",
            " 13  28      52584 non-null  datetime64[ns]\n",
            "dtypes: datetime64[ns](3), object(11)\n",
            "memory usage: 5.6+ MB\n"
          ],
          "name": "stdout"
        }
      ]
    },
    {
      "cell_type": "markdown",
      "metadata": {
        "id": "WQrazIM8t_vd"
      },
      "source": [
        "1 일시, 2 기온(°C), 3 강수량(mm), 4 풍속(m/s), 5 풍향(16방위), 6 습도(%), 7 증기압(hPa), 8 이슬점온도(°C), 9 현지기압(hPa), 10 해면기압(hPa), 11 일조(hr), 22 지면온도(°C), 27 date, 28 time"
      ],
      "id": "WQrazIM8t_vd"
    },
    {
      "cell_type": "markdown",
      "metadata": {
        "id": "DO_At5qQbFIj"
      },
      "source": [
        "#### 컬럼 이름 설정"
      ],
      "id": "DO_At5qQbFIj"
    },
    {
      "cell_type": "code",
      "metadata": {
        "id": "75LOIedWsUGP"
      },
      "source": [
        "foreData1.columns = ['datetime','tem','rain','windSpeed','windDirect','humidity','vaporPressure','dewPoint','pressure','seaLevelPressure','sunshine','groundTem','date', 'time']"
      ],
      "id": "75LOIedWsUGP",
      "execution_count": 443,
      "outputs": []
    },
    {
      "cell_type": "markdown",
      "metadata": {
        "id": "vRavTBrHcC_o"
      },
      "source": [
        "## 3. 발전 실적 데이터 기상청 데이터에 컬럼 추가!"
      ],
      "id": "vRavTBrHcC_o"
    },
    {
      "cell_type": "code",
      "metadata": {
        "id": "1-pVv1M1cBI0"
      },
      "source": [
        "foreData1['windForce']=final_time_power1.iloc[:52584]"
      ],
      "id": "1-pVv1M1cBI0",
      "execution_count": 444,
      "outputs": []
    },
    {
      "cell_type": "code",
      "metadata": {
        "id": "iRMfrrYfsUI1"
      },
      "source": [
        "foreData1 = foreData1[['datetime','date', 'time','windForce','tem','rain','windSpeed','windDirect','humidity','vaporPressure','dewPoint','pressure','seaLevelPressure','sunshine','groundTem']]"
      ],
      "id": "iRMfrrYfsUI1",
      "execution_count": 445,
      "outputs": []
    },
    {
      "cell_type": "code",
      "metadata": {
        "id": "UnNqGpfaa1B3",
        "colab": {
          "base_uri": "https://localhost:8080/"
        },
        "outputId": "68cc7dcd-6f1f-4492-eee6-43f2fbe14377"
      },
      "source": [
        "foreData1.info()"
      ],
      "id": "UnNqGpfaa1B3",
      "execution_count": 446,
      "outputs": [
        {
          "output_type": "stream",
          "text": [
            "<class 'pandas.core.frame.DataFrame'>\n",
            "RangeIndex: 52584 entries, 0 to 52583\n",
            "Data columns (total 15 columns):\n",
            " #   Column            Non-Null Count  Dtype         \n",
            "---  ------            --------------  -----         \n",
            " 0   datetime          52584 non-null  datetime64[ns]\n",
            " 1   date              52584 non-null  datetime64[ns]\n",
            " 2   time              52584 non-null  datetime64[ns]\n",
            " 3   windForce         52584 non-null  object        \n",
            " 4   tem               52435 non-null  object        \n",
            " 5   rain              5306 non-null   object        \n",
            " 6   windSpeed         52561 non-null  object        \n",
            " 7   windDirect        52522 non-null  object        \n",
            " 8   humidity          52514 non-null  object        \n",
            " 9   vaporPressure     52484 non-null  object        \n",
            " 10  dewPoint          52491 non-null  object        \n",
            " 11  pressure          52568 non-null  object        \n",
            " 12  seaLevelPressure  52513 non-null  object        \n",
            " 13  sunshine          28779 non-null  object        \n",
            " 14  groundTem         52245 non-null  object        \n",
            "dtypes: datetime64[ns](3), object(12)\n",
            "memory usage: 6.0+ MB\n"
          ],
          "name": "stdout"
        }
      ]
    },
    {
      "cell_type": "markdown",
      "metadata": {
        "id": "UExiE8KkdvYn"
      },
      "source": [
        "## 4. 비어있는 값 처리\n",
        "\n",
        "\n",
        "*   0의 비율 먼저 확인\n",
        "*   0의 비율이 적으면 그냥 평균값으로 빈값 채우기\n",
        "\n"
      ],
      "id": "UExiE8KkdvYn"
    },
    {
      "cell_type": "code",
      "metadata": {
        "id": "jPtmCXaCa1EI"
      },
      "source": [
        "foreData = foreData1.copy()\n",
        "#foreData1"
      ],
      "id": "jPtmCXaCa1EI",
      "execution_count": 447,
      "outputs": []
    },
    {
      "cell_type": "code",
      "metadata": {
        "colab": {
          "base_uri": "https://localhost:8080/"
        },
        "id": "HV2m4wdFeKL7",
        "outputId": "215d9376-33be-4236-8b97-4699816e308b"
      },
      "source": [
        "foreData1.isnull().sum()"
      ],
      "id": "HV2m4wdFeKL7",
      "execution_count": 448,
      "outputs": [
        {
          "output_type": "execute_result",
          "data": {
            "text/plain": [
              "datetime                0\n",
              "date                    0\n",
              "time                    0\n",
              "windForce               0\n",
              "tem                   149\n",
              "rain                47278\n",
              "windSpeed              23\n",
              "windDirect             62\n",
              "humidity               70\n",
              "vaporPressure         100\n",
              "dewPoint               93\n",
              "pressure               16\n",
              "seaLevelPressure       71\n",
              "sunshine            23805\n",
              "groundTem             339\n",
              "dtype: int64"
            ]
          },
          "metadata": {
            "tags": []
          },
          "execution_count": 448
        }
      ]
    },
    {
      "cell_type": "markdown",
      "metadata": {
        "id": "2Pe1ayDpgYs4"
      },
      "source": [
        "#### 70%이상이 빈 거 삭제"
      ],
      "id": "2Pe1ayDpgYs4"
    },
    {
      "cell_type": "code",
      "metadata": {
        "colab": {
          "base_uri": "https://localhost:8080/",
          "height": 341
        },
        "id": "UhbSyrHKeKQq",
        "outputId": "471a0472-e865-43a9-8d06-feddc9b830f1"
      },
      "source": [
        "foreData1 = foreData1.dropna(thresh=int(len(foreData1) * 0.7), axis=1)\n",
        "msno.matrix(foreData1)\n",
        "plt.show()"
      ],
      "id": "UhbSyrHKeKQq",
      "execution_count": 452,
      "outputs": [
        {
          "output_type": "display_data",
          "data": {
            "image/png": "[encoded data removed]",
            "text/plain": [
              "<Figure size 1800x720 with 2 Axes>"
            ]
          },
          "metadata": {
            "tags": [],
            "needs_background": "light"
          }
        }
      ]
    },
    {
      "cell_type": "code",
      "metadata": {
        "id": "xxPP-b7AgWsr"
      },
      "source": [
        "foreData1= foreData1.replace('', np.nan)"
      ],
      "id": "xxPP-b7AgWsr",
      "execution_count": 453,
      "outputs": []
    },
    {
      "cell_type": "code",
      "metadata": {
        "id": "0_mk76Kagpaq"
      },
      "source": [
        "foreData1[foreData1.tem.isnull()==True]"
      ],
      "id": "0_mk76Kagpaq",
      "execution_count": null,
      "outputs": []
    },
    {
      "cell_type": "markdown",
      "metadata": {
        "id": "qIGrVrOcyh7_"
      },
      "source": [
        "foreData2[foreData2.tem.isnull()==True]"
      ],
      "id": "qIGrVrOcyh7_"
    },
    {
      "cell_type": "code",
      "metadata": {
        "id": "v5c7yM3Xhjyu"
      },
      "source": [
        "foreData2 = foreData1.copy()"
      ],
      "id": "v5c7yM3Xhjyu",
      "execution_count": 474,
      "outputs": []
    },
    {
      "cell_type": "markdown",
      "metadata": {
        "id": "2SYduQiI2tpK"
      },
      "source": [
        "#### null 인 거 앞에 값으로 변경"
      ],
      "id": "2SYduQiI2tpK"
    },
    {
      "cell_type": "code",
      "metadata": {
        "id": "v-GZTc07jVRD"
      },
      "source": [
        "foreData2.fillna(method='pad',inplace=True) #기온\n",
        "#foreData2['tem'].fillna(method='backfill',inplace=True) #기온 뒤 값으로 채우기\n",
        "#foreData2['tem'].fillna(method='pad',inplace=True) #기온\n",
        "#foreData2['windSpeed'].fillna(method='pad',inplace=True) #바람"
      ],
      "id": "v-GZTc07jVRD",
      "execution_count": 475,
      "outputs": []
    },
    {
      "cell_type": "code",
      "metadata": {
        "colab": {
          "base_uri": "https://localhost:8080/"
        },
        "id": "SqoJtuo2kIR6",
        "outputId": "65c1b98a-6dff-40c1-d1d0-1a9a7fc771ac"
      },
      "source": [
        "foreData2.info()"
      ],
      "id": "SqoJtuo2kIR6",
      "execution_count": 479,
      "outputs": [
        {
          "output_type": "stream",
          "text": [
            "<class 'pandas.core.frame.DataFrame'>\n",
            "RangeIndex: 52584 entries, 0 to 52583\n",
            "Data columns (total 13 columns):\n",
            " #   Column            Non-Null Count  Dtype         \n",
            "---  ------            --------------  -----         \n",
            " 0   datetime          52584 non-null  datetime64[ns]\n",
            " 1   date              52584 non-null  datetime64[ns]\n",
            " 2   time              52584 non-null  datetime64[ns]\n",
            " 3   windForce         52584 non-null  int64         \n",
            " 4   tem               52584 non-null  object        \n",
            " 5   windSpeed         52584 non-null  object        \n",
            " 6   windDirect        52584 non-null  object        \n",
            " 7   humidity          52584 non-null  object        \n",
            " 8   vaporPressure     52584 non-null  object        \n",
            " 9   dewPoint          52584 non-null  object        \n",
            " 10  pressure          52584 non-null  object        \n",
            " 11  seaLevelPressure  52584 non-null  object        \n",
            " 12  groundTem         52584 non-null  object        \n",
            "dtypes: datetime64[ns](3), int64(1), object(9)\n",
            "memory usage: 5.2+ MB\n"
          ],
          "name": "stdout"
        }
      ]
    },
    {
      "cell_type": "code",
      "metadata": {
        "colab": {
          "base_uri": "https://localhost:8080/"
        },
        "id": "3MFIjNcc0Q_J",
        "outputId": "31e54d66-38d2-4743-f52b-a8b8ba7e7603"
      },
      "source": [
        "foreData2.isnull().sum()"
      ],
      "id": "3MFIjNcc0Q_J",
      "execution_count": 478,
      "outputs": [
        {
          "output_type": "execute_result",
          "data": {
            "text/plain": [
              "datetime            0\n",
              "date                0\n",
              "time                0\n",
              "windForce           0\n",
              "tem                 0\n",
              "windSpeed           0\n",
              "windDirect          0\n",
              "humidity            0\n",
              "vaporPressure       0\n",
              "dewPoint            0\n",
              "pressure            0\n",
              "seaLevelPressure    0\n",
              "groundTem           0\n",
              "dtype: int64"
            ]
          },
          "metadata": {
            "tags": []
          },
          "execution_count": 478
        }
      ]
    },
    {
      "cell_type": "code",
      "metadata": {
        "id": "vS3bSTZ5gzuk"
      },
      "source": [
        "foreData = foreData2.copy()"
      ],
      "id": "vS3bSTZ5gzuk",
      "execution_count": 480,
      "outputs": []
    },
    {
      "cell_type": "code",
      "metadata": {
        "colab": {
          "base_uri": "https://localhost:8080/"
        },
        "id": "qnI2wpOygzwo",
        "outputId": "0da2cf29-e87e-4f5d-f618-f137b82a8a71"
      },
      "source": [
        "foreData.info()"
      ],
      "id": "qnI2wpOygzwo",
      "execution_count": 481,
      "outputs": [
        {
          "output_type": "stream",
          "text": [
            "<class 'pandas.core.frame.DataFrame'>\n",
            "RangeIndex: 52584 entries, 0 to 52583\n",
            "Data columns (total 13 columns):\n",
            " #   Column            Non-Null Count  Dtype         \n",
            "---  ------            --------------  -----         \n",
            " 0   datetime          52584 non-null  datetime64[ns]\n",
            " 1   date              52584 non-null  datetime64[ns]\n",
            " 2   time              52584 non-null  datetime64[ns]\n",
            " 3   windForce         52584 non-null  int64         \n",
            " 4   tem               52584 non-null  object        \n",
            " 5   windSpeed         52584 non-null  object        \n",
            " 6   windDirect        52584 non-null  object        \n",
            " 7   humidity          52584 non-null  object        \n",
            " 8   vaporPressure     52584 non-null  object        \n",
            " 9   dewPoint          52584 non-null  object        \n",
            " 10  pressure          52584 non-null  object        \n",
            " 11  seaLevelPressure  52584 non-null  object        \n",
            " 12  groundTem         52584 non-null  object        \n",
            "dtypes: datetime64[ns](3), int64(1), object(9)\n",
            "memory usage: 5.2+ MB\n"
          ],
          "name": "stdout"
        }
      ]
    },
    {
      "cell_type": "markdown",
      "metadata": {
        "id": "4bBfeZ2L28L5"
      },
      "source": [
        "## 데이터 저장"
      ],
      "id": "4bBfeZ2L28L5"
    },
    {
      "cell_type": "code",
      "metadata": {
        "id": "HwZofkJ3gzzV"
      },
      "source": [
        "foreData.to_csv(\"preprocession_Data.csv\", mode='w')"
      ],
      "id": "HwZofkJ3gzzV",
      "execution_count": 482,
      "outputs": []
    },
    {
      "cell_type": "code",
      "metadata": {
        "id": "dK2D7fOi3AYw"
      },
      "source": [
        ""
      ],
      "id": "dK2D7fOi3AYw",
      "execution_count": null,
      "outputs": []
    },
    {
      "cell_type": "code",
      "metadata": {
        "id": "VPg6OKzq3FDi"
      },
      "source": [
        ""
      ],
      "id": "VPg6OKzq3FDi",
      "execution_count": null,
      "outputs": []
    },
    {
      "cell_type": "code",
      "metadata": {
        "id": "8HprLt9P3FFi"
      },
      "source": [
        ""
      ],
      "id": "8HprLt9P3FFi",
      "execution_count": null,
      "outputs": []
    },
    {
      "cell_type": "code",
      "metadata": {
        "id": "plBnZ03A3FHo"
      },
      "source": [
        ""
      ],
      "id": "plBnZ03A3FHo",
      "execution_count": null,
      "outputs": []
    },
    {
      "cell_type": "markdown",
      "metadata": {
        "id": "MbEo8ce-3PBS"
      },
      "source": [
        "#   ===============================================================\n",
        "\n",
        "\n",
        "\n",
        "\n"
      ],
      "id": "MbEo8ce-3PBS"
    },
    {
      "cell_type": "markdown",
      "metadata": {
        "id": "a7tHg6IHMC4g"
      },
      "source": [
        "###### 버리기 아까운 혹시몰라서"
      ],
      "id": "a7tHg6IHMC4g"
    },
    {
      "cell_type": "code",
      "metadata": {
        "id": "50j00m65lA3F"
      },
      "source": [
        ""
      ],
      "id": "50j00m65lA3F",
      "execution_count": null,
      "outputs": []
    },
    {
      "cell_type": "code",
      "metadata": {
        "id": "RmFp-7VJMC4g"
      },
      "source": [
        "# data1 = data1.astype({3: np.float,4: np.float,5: np.float,6: np.float\n",
        "#                       ,7: np.float,8: np.float,9: np.float\n",
        "#                       ,10: np.float,11: np.float,12: np.float\n",
        "#                       ,13: np.float,14: np.float,16: np.float})\n",
        "# data1.dftype()    \n",
        "# arr = ['date','tem','temQC'\n",
        "#        ,'rain','rainQC'\n",
        "#        ,'windSpeed','windSpeedQC','windDirection','windDirectionQC'\n",
        "#        ,'snow','snow3Hour'\n",
        "#        ,'cloud','middleCloud','clodeUn','highCloud']\n",
        "\n",
        "#data1.to_csv(\"weather_data_day.csv\", mode='w')"
      ],
      "id": "RmFp-7VJMC4g",
      "execution_count": null,
      "outputs": []
    },
    {
      "cell_type": "code",
      "metadata": {
        "colab": {
          "base_uri": "https://localhost:8080/"
        },
        "id": "99EN__E4WeBm",
        "outputId": "4de3df01-60ac-4c8f-a100-8ab252abe2c4"
      },
      "source": [
        "foreData4  = foreData.copy()\n",
        "foreData4.info"
      ],
      "id": "99EN__E4WeBm",
      "execution_count": null,
      "outputs": [
        {
          "output_type": "execute_result",
          "data": {
            "text/plain": [
              "<bound method DataFrame.info of                        1    2    3    4    5   6   ...   21   22   23   24   25   26\n",
              "0     2013-01-01 00:00:00  1.3  NaN  3.2  340  77  ...  NaN    0  NaN  NaN  NaN  NaN\n",
              "1     2013-01-01 01:00:00   .9  NaN  2.6  320  77  ...  NaN    0  NaN  NaN  NaN  NaN\n",
              "2     2013-01-01 02:00:00  1.5  NaN    3  340  77  ...  NaN    0  NaN  NaN  NaN  NaN\n",
              "3     2013-01-01 03:00:00  2.7    0  1.7  270  74  ...   01   .3  NaN  NaN  NaN  NaN\n",
              "4     2013-01-01 04:00:00   .6  NaN  1.8  320  82  ...  NaN   .1  NaN  NaN  NaN  NaN\n",
              "...                   ...  ...  ...  ...  ...  ..  ...  ...  ...  ...  ...  ...  ...\n",
              "52584 2018-12-31 19:00:00  4.3  NaN  4.7  340  58  ...  NaN  3.3  NaN  NaN  NaN  NaN\n",
              "52585 2018-12-31 20:00:00  3.9  NaN  4.5  360  61  ...  NaN  2.9  NaN  NaN  NaN  NaN\n",
              "52586 2018-12-31 21:00:00  3.5  NaN    4  360  59  ...  NaN  1.9  NaN  NaN  NaN  NaN\n",
              "52587 2018-12-31 22:00:00  3.8  NaN  3.4   20  61  ...  NaN  2.1  NaN  NaN  NaN  NaN\n",
              "52588 2018-12-31 23:00:00  3.7  NaN  2.5   20  64  ...  NaN  1.6  NaN  NaN  NaN  NaN\n",
              "\n",
              "[52589 rows x 26 columns]>"
            ]
          },
          "metadata": {
            "tags": []
          },
          "execution_count": 39
        }
      ]
    },
    {
      "cell_type": "code",
      "metadata": {
        "colab": {
          "base_uri": "https://localhost:8080/",
          "height": 772
        },
        "id": "VE7OIsTiWhMz",
        "outputId": "2b806418-b495-4900-bc1a-15843b124128"
      },
      "source": [
        "foreData4[foreData4[1].isin(['187'])]\n"
      ],
      "id": "VE7OIsTiWhMz",
      "execution_count": null,
      "outputs": [
        {
          "output_type": "error",
          "ename": "ValueError",
          "evalue": "ignored",
          "traceback": [
            "\u001b[0;31m---------------------------------------------------------------------------\u001b[0m",
            "\u001b[0;31mTypeError\u001b[0m                                 Traceback (most recent call last)",
            "\u001b[0;32m/usr/local/lib/python3.7/dist-packages/pandas/core/arrays/datetimes.py\u001b[0m in \u001b[0;36mobjects_to_datetime64ns\u001b[0;34m(data, dayfirst, yearfirst, utc, errors, require_iso8601, allow_object)\u001b[0m\n\u001b[1;32m   2058\u001b[0m         \u001b[0;32mtry\u001b[0m\u001b[0;34m:\u001b[0m\u001b[0;34m\u001b[0m\u001b[0;34m\u001b[0m\u001b[0m\n\u001b[0;32m-> 2059\u001b[0;31m             \u001b[0mvalues\u001b[0m\u001b[0;34m,\u001b[0m \u001b[0mtz_parsed\u001b[0m \u001b[0;34m=\u001b[0m \u001b[0mconversion\u001b[0m\u001b[0;34m.\u001b[0m\u001b[0mdatetime_to_datetime64\u001b[0m\u001b[0;34m(\u001b[0m\u001b[0mdata\u001b[0m\u001b[0;34m)\u001b[0m\u001b[0;34m\u001b[0m\u001b[0;34m\u001b[0m\u001b[0m\n\u001b[0m\u001b[1;32m   2060\u001b[0m             \u001b[0;31m# If tzaware, these values represent unix timestamps, so we\u001b[0m\u001b[0;34m\u001b[0m\u001b[0;34m\u001b[0m\u001b[0;34m\u001b[0m\u001b[0m\n",
            "\u001b[0;32mpandas/_libs/tslibs/conversion.pyx\u001b[0m in \u001b[0;36mpandas._libs.tslibs.conversion.datetime_to_datetime64\u001b[0;34m()\u001b[0m\n",
            "\u001b[0;31mTypeError\u001b[0m: Unrecognized value type: <class 'str'>",
            "\nDuring handling of the above exception, another exception occurred:\n",
            "\u001b[0;31mValueError\u001b[0m                                Traceback (most recent call last)",
            "\u001b[0;32m<ipython-input-40-7df85a529b4c>\u001b[0m in \u001b[0;36m<module>\u001b[0;34m()\u001b[0m\n\u001b[0;32m----> 1\u001b[0;31m \u001b[0mforeData4\u001b[0m\u001b[0;34m[\u001b[0m\u001b[0mforeData4\u001b[0m\u001b[0;34m[\u001b[0m\u001b[0;36m1\u001b[0m\u001b[0;34m]\u001b[0m\u001b[0;34m.\u001b[0m\u001b[0misin\u001b[0m\u001b[0;34m(\u001b[0m\u001b[0;34m[\u001b[0m\u001b[0;34m'187'\u001b[0m\u001b[0;34m]\u001b[0m\u001b[0;34m)\u001b[0m\u001b[0;34m]\u001b[0m\u001b[0;34m\u001b[0m\u001b[0;34m\u001b[0m\u001b[0m\n\u001b[0m",
            "\u001b[0;32m/usr/local/lib/python3.7/dist-packages/pandas/core/series.py\u001b[0m in \u001b[0;36misin\u001b[0;34m(self, values)\u001b[0m\n\u001b[1;32m   4696\u001b[0m         \u001b[0mName\u001b[0m\u001b[0;34m:\u001b[0m \u001b[0manimal\u001b[0m\u001b[0;34m,\u001b[0m \u001b[0mdtype\u001b[0m\u001b[0;34m:\u001b[0m \u001b[0mbool\u001b[0m\u001b[0;34m\u001b[0m\u001b[0;34m\u001b[0m\u001b[0m\n\u001b[1;32m   4697\u001b[0m         \"\"\"\n\u001b[0;32m-> 4698\u001b[0;31m         \u001b[0mresult\u001b[0m \u001b[0;34m=\u001b[0m \u001b[0malgorithms\u001b[0m\u001b[0;34m.\u001b[0m\u001b[0misin\u001b[0m\u001b[0;34m(\u001b[0m\u001b[0mself\u001b[0m\u001b[0;34m,\u001b[0m \u001b[0mvalues\u001b[0m\u001b[0;34m)\u001b[0m\u001b[0;34m\u001b[0m\u001b[0;34m\u001b[0m\u001b[0m\n\u001b[0m\u001b[1;32m   4699\u001b[0m         return self._constructor(result, index=self.index).__finalize__(\n\u001b[1;32m   4700\u001b[0m             \u001b[0mself\u001b[0m\u001b[0;34m,\u001b[0m \u001b[0mmethod\u001b[0m\u001b[0;34m=\u001b[0m\u001b[0;34m\"isin\"\u001b[0m\u001b[0;34m\u001b[0m\u001b[0;34m\u001b[0m\u001b[0m\n",
            "\u001b[0;32m/usr/local/lib/python3.7/dist-packages/pandas/core/algorithms.py\u001b[0m in \u001b[0;36misin\u001b[0;34m(comps, values)\u001b[0m\n\u001b[1;32m    441\u001b[0m \u001b[0;34m\u001b[0m\u001b[0m\n\u001b[1;32m    442\u001b[0m     \u001b[0mcomps\u001b[0m\u001b[0;34m,\u001b[0m \u001b[0mdtype\u001b[0m \u001b[0;34m=\u001b[0m \u001b[0m_ensure_data\u001b[0m\u001b[0;34m(\u001b[0m\u001b[0mcomps\u001b[0m\u001b[0;34m)\u001b[0m\u001b[0;34m\u001b[0m\u001b[0;34m\u001b[0m\u001b[0m\n\u001b[0;32m--> 443\u001b[0;31m     \u001b[0mvalues\u001b[0m\u001b[0;34m,\u001b[0m \u001b[0m_\u001b[0m \u001b[0;34m=\u001b[0m \u001b[0m_ensure_data\u001b[0m\u001b[0;34m(\u001b[0m\u001b[0mvalues\u001b[0m\u001b[0;34m,\u001b[0m \u001b[0mdtype\u001b[0m\u001b[0;34m=\u001b[0m\u001b[0mdtype\u001b[0m\u001b[0;34m)\u001b[0m\u001b[0;34m\u001b[0m\u001b[0;34m\u001b[0m\u001b[0m\n\u001b[0m\u001b[1;32m    444\u001b[0m \u001b[0;34m\u001b[0m\u001b[0m\n\u001b[1;32m    445\u001b[0m     \u001b[0;31m# faster for larger cases to use np.in1d\u001b[0m\u001b[0;34m\u001b[0m\u001b[0;34m\u001b[0m\u001b[0;34m\u001b[0m\u001b[0m\n",
            "\u001b[0;32m/usr/local/lib/python3.7/dist-packages/pandas/core/algorithms.py\u001b[0m in \u001b[0;36m_ensure_data\u001b[0;34m(values, dtype)\u001b[0m\n\u001b[1;32m    156\u001b[0m             \u001b[0;32mfrom\u001b[0m \u001b[0mpandas\u001b[0m \u001b[0;32mimport\u001b[0m \u001b[0mDatetimeIndex\u001b[0m\u001b[0;34m\u001b[0m\u001b[0;34m\u001b[0m\u001b[0m\n\u001b[1;32m    157\u001b[0m \u001b[0;34m\u001b[0m\u001b[0m\n\u001b[0;32m--> 158\u001b[0;31m             \u001b[0mvalues\u001b[0m \u001b[0;34m=\u001b[0m \u001b[0mDatetimeIndex\u001b[0m\u001b[0;34m(\u001b[0m\u001b[0mvalues\u001b[0m\u001b[0;34m)\u001b[0m\u001b[0;34m\u001b[0m\u001b[0;34m\u001b[0m\u001b[0m\n\u001b[0m\u001b[1;32m    159\u001b[0m             \u001b[0mdtype\u001b[0m \u001b[0;34m=\u001b[0m \u001b[0mvalues\u001b[0m\u001b[0;34m.\u001b[0m\u001b[0mdtype\u001b[0m\u001b[0;34m\u001b[0m\u001b[0;34m\u001b[0m\u001b[0m\n\u001b[1;32m    160\u001b[0m \u001b[0;34m\u001b[0m\u001b[0m\n",
            "\u001b[0;32m/usr/local/lib/python3.7/dist-packages/pandas/core/indexes/datetimes.py\u001b[0m in \u001b[0;36m__new__\u001b[0;34m(cls, data, freq, tz, normalize, closed, ambiguous, dayfirst, yearfirst, dtype, copy, name)\u001b[0m\n\u001b[1;32m    277\u001b[0m             \u001b[0mdayfirst\u001b[0m\u001b[0;34m=\u001b[0m\u001b[0mdayfirst\u001b[0m\u001b[0;34m,\u001b[0m\u001b[0;34m\u001b[0m\u001b[0;34m\u001b[0m\u001b[0m\n\u001b[1;32m    278\u001b[0m             \u001b[0myearfirst\u001b[0m\u001b[0;34m=\u001b[0m\u001b[0myearfirst\u001b[0m\u001b[0;34m,\u001b[0m\u001b[0;34m\u001b[0m\u001b[0;34m\u001b[0m\u001b[0m\n\u001b[0;32m--> 279\u001b[0;31m             \u001b[0mambiguous\u001b[0m\u001b[0;34m=\u001b[0m\u001b[0mambiguous\u001b[0m\u001b[0;34m,\u001b[0m\u001b[0;34m\u001b[0m\u001b[0;34m\u001b[0m\u001b[0m\n\u001b[0m\u001b[1;32m    280\u001b[0m         )\n\u001b[1;32m    281\u001b[0m \u001b[0;34m\u001b[0m\u001b[0m\n",
            "\u001b[0;32m/usr/local/lib/python3.7/dist-packages/pandas/core/arrays/datetimes.py\u001b[0m in \u001b[0;36m_from_sequence\u001b[0;34m(cls, data, dtype, copy, tz, freq, dayfirst, yearfirst, ambiguous)\u001b[0m\n\u001b[1;32m    322\u001b[0m             \u001b[0mdayfirst\u001b[0m\u001b[0;34m=\u001b[0m\u001b[0mdayfirst\u001b[0m\u001b[0;34m,\u001b[0m\u001b[0;34m\u001b[0m\u001b[0;34m\u001b[0m\u001b[0m\n\u001b[1;32m    323\u001b[0m             \u001b[0myearfirst\u001b[0m\u001b[0;34m=\u001b[0m\u001b[0myearfirst\u001b[0m\u001b[0;34m,\u001b[0m\u001b[0;34m\u001b[0m\u001b[0;34m\u001b[0m\u001b[0m\n\u001b[0;32m--> 324\u001b[0;31m             \u001b[0mambiguous\u001b[0m\u001b[0;34m=\u001b[0m\u001b[0mambiguous\u001b[0m\u001b[0;34m,\u001b[0m\u001b[0;34m\u001b[0m\u001b[0;34m\u001b[0m\u001b[0m\n\u001b[0m\u001b[1;32m    325\u001b[0m         )\n\u001b[1;32m    326\u001b[0m \u001b[0;34m\u001b[0m\u001b[0m\n",
            "\u001b[0;32m/usr/local/lib/python3.7/dist-packages/pandas/core/arrays/datetimes.py\u001b[0m in \u001b[0;36msequence_to_dt64ns\u001b[0;34m(data, dtype, copy, tz, dayfirst, yearfirst, ambiguous)\u001b[0m\n\u001b[1;32m   1953\u001b[0m             \u001b[0;31m#  or M8[ns] to denote wall times\u001b[0m\u001b[0;34m\u001b[0m\u001b[0;34m\u001b[0m\u001b[0;34m\u001b[0m\u001b[0m\n\u001b[1;32m   1954\u001b[0m             data, inferred_tz = objects_to_datetime64ns(\n\u001b[0;32m-> 1955\u001b[0;31m                 \u001b[0mdata\u001b[0m\u001b[0;34m,\u001b[0m \u001b[0mdayfirst\u001b[0m\u001b[0;34m=\u001b[0m\u001b[0mdayfirst\u001b[0m\u001b[0;34m,\u001b[0m \u001b[0myearfirst\u001b[0m\u001b[0;34m=\u001b[0m\u001b[0myearfirst\u001b[0m\u001b[0;34m\u001b[0m\u001b[0;34m\u001b[0m\u001b[0m\n\u001b[0m\u001b[1;32m   1956\u001b[0m             )\n\u001b[1;32m   1957\u001b[0m             \u001b[0mtz\u001b[0m \u001b[0;34m=\u001b[0m \u001b[0m_maybe_infer_tz\u001b[0m\u001b[0;34m(\u001b[0m\u001b[0mtz\u001b[0m\u001b[0;34m,\u001b[0m \u001b[0minferred_tz\u001b[0m\u001b[0;34m)\u001b[0m\u001b[0;34m\u001b[0m\u001b[0;34m\u001b[0m\u001b[0m\n",
            "\u001b[0;32m/usr/local/lib/python3.7/dist-packages/pandas/core/arrays/datetimes.py\u001b[0m in \u001b[0;36mobjects_to_datetime64ns\u001b[0;34m(data, dayfirst, yearfirst, utc, errors, require_iso8601, allow_object)\u001b[0m\n\u001b[1;32m   2062\u001b[0m             \u001b[0;32mreturn\u001b[0m \u001b[0mvalues\u001b[0m\u001b[0;34m.\u001b[0m\u001b[0mview\u001b[0m\u001b[0;34m(\u001b[0m\u001b[0;34m\"i8\"\u001b[0m\u001b[0;34m)\u001b[0m\u001b[0;34m,\u001b[0m \u001b[0mtz_parsed\u001b[0m\u001b[0;34m\u001b[0m\u001b[0;34m\u001b[0m\u001b[0m\n\u001b[1;32m   2063\u001b[0m         \u001b[0;32mexcept\u001b[0m \u001b[0;34m(\u001b[0m\u001b[0mValueError\u001b[0m\u001b[0;34m,\u001b[0m \u001b[0mTypeError\u001b[0m\u001b[0;34m)\u001b[0m\u001b[0;34m:\u001b[0m\u001b[0;34m\u001b[0m\u001b[0;34m\u001b[0m\u001b[0m\n\u001b[0;32m-> 2064\u001b[0;31m             \u001b[0;32mraise\u001b[0m \u001b[0me\u001b[0m\u001b[0;34m\u001b[0m\u001b[0;34m\u001b[0m\u001b[0m\n\u001b[0m\u001b[1;32m   2065\u001b[0m \u001b[0;34m\u001b[0m\u001b[0m\n\u001b[1;32m   2066\u001b[0m     \u001b[0;32mif\u001b[0m \u001b[0mtz_parsed\u001b[0m \u001b[0;32mis\u001b[0m \u001b[0;32mnot\u001b[0m \u001b[0;32mNone\u001b[0m\u001b[0;34m:\u001b[0m\u001b[0;34m\u001b[0m\u001b[0;34m\u001b[0m\u001b[0m\n",
            "\u001b[0;32m/usr/local/lib/python3.7/dist-packages/pandas/core/arrays/datetimes.py\u001b[0m in \u001b[0;36mobjects_to_datetime64ns\u001b[0;34m(data, dayfirst, yearfirst, utc, errors, require_iso8601, allow_object)\u001b[0m\n\u001b[1;32m   2053\u001b[0m             \u001b[0mdayfirst\u001b[0m\u001b[0;34m=\u001b[0m\u001b[0mdayfirst\u001b[0m\u001b[0;34m,\u001b[0m\u001b[0;34m\u001b[0m\u001b[0;34m\u001b[0m\u001b[0m\n\u001b[1;32m   2054\u001b[0m             \u001b[0myearfirst\u001b[0m\u001b[0;34m=\u001b[0m\u001b[0myearfirst\u001b[0m\u001b[0;34m,\u001b[0m\u001b[0;34m\u001b[0m\u001b[0;34m\u001b[0m\u001b[0m\n\u001b[0;32m-> 2055\u001b[0;31m             \u001b[0mrequire_iso8601\u001b[0m\u001b[0;34m=\u001b[0m\u001b[0mrequire_iso8601\u001b[0m\u001b[0;34m,\u001b[0m\u001b[0;34m\u001b[0m\u001b[0;34m\u001b[0m\u001b[0m\n\u001b[0m\u001b[1;32m   2056\u001b[0m         )\n\u001b[1;32m   2057\u001b[0m     \u001b[0;32mexcept\u001b[0m \u001b[0mValueError\u001b[0m \u001b[0;32mas\u001b[0m \u001b[0me\u001b[0m\u001b[0;34m:\u001b[0m\u001b[0;34m\u001b[0m\u001b[0;34m\u001b[0m\u001b[0m\n",
            "\u001b[0;32mpandas/_libs/tslib.pyx\u001b[0m in \u001b[0;36mpandas._libs.tslib.array_to_datetime\u001b[0;34m()\u001b[0m\n",
            "\u001b[0;32mpandas/_libs/tslib.pyx\u001b[0m in \u001b[0;36mpandas._libs.tslib.array_to_datetime\u001b[0;34m()\u001b[0m\n",
            "\u001b[0;32mpandas/_libs/tslib.pyx\u001b[0m in \u001b[0;36mpandas._libs.tslib.array_to_datetime_object\u001b[0;34m()\u001b[0m\n",
            "\u001b[0;32mpandas/_libs/tslib.pyx\u001b[0m in \u001b[0;36mpandas._libs.tslib.array_to_datetime_object\u001b[0;34m()\u001b[0m\n",
            "\u001b[0;32mpandas/_libs/tslibs/parsing.pyx\u001b[0m in \u001b[0;36mpandas._libs.tslibs.parsing.parse_datetime_string\u001b[0;34m()\u001b[0m\n",
            "\u001b[0;31mValueError\u001b[0m: Given date string not likely a datetime."
          ]
        }
      ]
    },
    {
      "cell_type": "code",
      "metadata": {
        "id": "Kybh0rvPW7jt"
      },
      "source": [
        "foreData4[foreData4[1].str.contains('24:00')]"
      ],
      "id": "Kybh0rvPW7jt",
      "execution_count": null,
      "outputs": []
    },
    {
      "cell_type": "code",
      "metadata": {
        "id": "cqg3107yXnA8"
      },
      "source": [
        "len(foreData4[foreData4[1].str.contains('23:00')])"
      ],
      "id": "cqg3107yXnA8",
      "execution_count": null,
      "outputs": []
    },
    {
      "cell_type": "code",
      "metadata": {
        "id": "SzVsQkEwXo37"
      },
      "source": [
        "for i in range(0,25):\n",
        "  if i<10: num1 = \"0\"+str(i)+\":00\"\n",
        "  else : num1 = str(i)+\":00\"\n",
        "  #print(num1)\n",
        "  print(num1, len(foreData4[foreData4[1].str.contains(num1)]))"
      ],
      "id": "SzVsQkEwXo37",
      "execution_count": null,
      "outputs": []
    },
    {
      "cell_type": "code",
      "metadata": {
        "id": "xcNAYxWGYRUg"
      },
      "source": [
        "for i in range(1,13):\n",
        "  if i<10: num1 = \"-0\"+str(i)+\"-\"\n",
        "  else : num1 = \"-\"+str(i)+\"-\"\n",
        "  #print(num1)\n",
        "  print(num1, len(foreData4[foreData4[1].str.contains(num1)]))"
      ],
      "id": "xcNAYxWGYRUg",
      "execution_count": null,
      "outputs": []
    },
    {
      "cell_type": "code",
      "metadata": {
        "id": "wm4WnefMY28V"
      },
      "source": [
        "len(foreData4)"
      ],
      "id": "wm4WnefMY28V",
      "execution_count": null,
      "outputs": []
    },
    {
      "cell_type": "code",
      "metadata": {
        "id": "v-MOOmBTY8yC"
      },
      "source": [
        "totsum=0\n",
        "for j in range(2013,2020,1):\n",
        "  sum1 = 0\n",
        "  for i in range(1,13):\n",
        "    \n",
        "    if i<10: num1 = str(j)+\"-0\"+str(i)\n",
        "    else : num1 = str(j)+\"-\"+str(i)\n",
        "    #print(num1)\n",
        "    print(num1, len(foreData4[foreData4[1].str.contains(num1)]))\n",
        "    sum1=sum1+len(foreData4[foreData4[1].str.contains(num1)])\n",
        "  print(sum1)\n",
        "  totsum += sum1\n",
        "  print(\"======================================\")\n",
        "\n",
        "print(totsum) "
      ],
      "id": "v-MOOmBTY8yC",
      "execution_count": null,
      "outputs": []
    },
    {
      "cell_type": "code",
      "metadata": {
        "id": "1_pY9h0LZJh0"
      },
      "source": [
        "foreData4[foreData4[1].str.contains('2015-11')]"
      ],
      "id": "1_pY9h0LZJh0",
      "execution_count": null,
      "outputs": []
    },
    {
      "cell_type": "code",
      "metadata": {
        "id": "u5IQzBxoa66T"
      },
      "source": [
        "foreData0 = foreData[foreData4[1].str.contains('2015-06')].copy()\n",
        "foreData0"
      ],
      "id": "u5IQzBxoa66T",
      "execution_count": null,
      "outputs": []
    },
    {
      "cell_type": "markdown",
      "metadata": {
        "id": "Xybxo3d8Tj8l"
      },
      "source": [
        "찾았다.,....죽여,,, 2016 30분 데이터^^"
      ],
      "id": "Xybxo3d8Tj8l"
    },
    {
      "cell_type": "code",
      "metadata": {
        "id": "G-tFt9X8dGiV"
      },
      "source": [
        "u = 2016\n",
        "for j in range(24,26,1):\n",
        "  if j<10: y = str(u)+\"-01-0\"+str(j)+\" \"\n",
        "  else : y = str(u)+\"-01-\"+str(j)+\" \"\n",
        "  for i in range(0,24):\n",
        "    if i<10: num1 = y + \"0\"+str(i)+\":30\"\n",
        "    else : num1 = y+ str(i)+\":30\"\n",
        "    print(num1, len(foreData4[foreData4[1].str.contains(num1)]))"
      ],
      "id": "G-tFt9X8dGiV",
      "execution_count": null,
      "outputs": []
    },
    {
      "cell_type": "code",
      "metadata": {
        "id": "MC241_8pbjRt"
      },
      "source": [
        "len(foreData4)"
      ],
      "id": "MC241_8pbjRt",
      "execution_count": null,
      "outputs": []
    },
    {
      "cell_type": "code",
      "metadata": {
        "id": "DxCKfTr3cmgP"
      },
      "source": [
        "foreData4.drop(foreData4.loc[foreData4[1].str.contains(':30')].index, inplace=True)"
      ],
      "id": "DxCKfTr3cmgP",
      "execution_count": null,
      "outputs": []
    },
    {
      "cell_type": "code",
      "metadata": {
        "id": "6kOsCX3KUPue"
      },
      "source": [
        "len(foreData4)"
      ],
      "id": "6kOsCX3KUPue",
      "execution_count": null,
      "outputs": []
    },
    {
      "cell_type": "code",
      "metadata": {
        "id": "vVeGkst2Xmly"
      },
      "source": [
        "u = 2017\n",
        "for j in range(1,31,1):\n",
        "  if j<10: y = str(u)+\"-04-0\"+str(j)+\" \"\n",
        "  else : y = str(u)+\"-04-\"+str(j)+\" \"\n",
        "  for i in range(12,24):\n",
        "    if i<10: num1 = y + \"0\"+str(i)+\":00\"\n",
        "    else : num1 = y+ str(i)+\":00\"\n",
        "    print(num1, len(foreData4[foreData4[1].str.contains(num1)]))"
      ],
      "id": "vVeGkst2Xmly",
      "execution_count": null,
      "outputs": []
    },
    {
      "cell_type": "markdown",
      "metadata": {
        "id": "CPN6qyu6cTzi"
      },
      "source": [
        "여기서부터 미리 테스트"
      ],
      "id": "CPN6qyu6cTzi"
    },
    {
      "cell_type": "code",
      "metadata": {
        "id": "dvKC4DuEUQ0m"
      },
      "source": [
        "foreData5 = foreData1.copy()"
      ],
      "id": "dvKC4DuEUQ0m",
      "execution_count": null,
      "outputs": []
    },
    {
      "cell_type": "code",
      "metadata": {
        "id": "w49PIPuEUYrd"
      },
      "source": [
        ""
      ],
      "id": "w49PIPuEUYrd",
      "execution_count": null,
      "outputs": []
    },
    {
      "cell_type": "code",
      "metadata": {
        "id": "6OyPt5vtUj1e"
      },
      "source": [
        "foreData5 = foreData1.copy()\n",
        "foreData5[foreData5[1].str.contains('2015-06-27 04:00') ==True].index\n",
        "foreData5[foreData5[1].str.contains('2015-06-27 06:00') ==True].index\n",
        "print(foreData5[foreData5[1].str.contains('2015-06-27 04:00') ==True].index)\n",
        "print(foreData5[foreData5[1].str.contains('2015-06-27 06:00') ==True].index)\n",
        "\n",
        "df = pd.DataFrame(foreData5.iloc[foreData5[foreData5[1].str.contains('2015-06-27 04:00') ==True].index[0]:foreData5[foreData5[1].str.contains('2015-06-27 06:00') ==True].index[0]+1])"
      ],
      "id": "6OyPt5vtUj1e",
      "execution_count": null,
      "outputs": []
    },
    {
      "cell_type": "code",
      "metadata": {
        "id": "ONVWeqWZdMUe"
      },
      "source": [
        "foreData5[foreData5[1].str.contains('2015-06-27 04:00') ==True].index[0]"
      ],
      "id": "ONVWeqWZdMUe",
      "execution_count": null,
      "outputs": []
    },
    {
      "cell_type": "code",
      "metadata": {
        "id": "x-IgDpIaUuSt"
      },
      "source": [
        "df = pd.DataFrame(foreData5.iloc[foreData5[foreData5[1].str.contains('2015-06-27 04:00') ==True].index[0]:foreData5[foreData5[1].str.contains('2015-06-27 06:00') ==True].index[0]+1])"
      ],
      "id": "x-IgDpIaUuSt",
      "execution_count": null,
      "outputs": []
    },
    {
      "cell_type": "code",
      "metadata": {
        "id": "Uyac_l9UVuJ4"
      },
      "source": [
        "foreData6 = foreData5.copy()"
      ],
      "id": "Uyac_l9UVuJ4",
      "execution_count": null,
      "outputs": []
    },
    {
      "cell_type": "code",
      "metadata": {
        "id": "9hChlebVTzRq"
      },
      "source": [
        "df[2].astype(float).mean()"
      ],
      "id": "9hChlebVTzRq",
      "execution_count": null,
      "outputs": []
    },
    {
      "cell_type": "code",
      "metadata": {
        "id": "NXwXQYIoT0Az"
      },
      "source": [
        "df1 = pd.DataFrame({1: '2015-06-27 05:00',\n",
        " 2: df[2].astype(float).mean(),\n",
        " 3: df[3].astype(float).mean(),\n",
        " 4: df[4].astype(float).mean(),\n",
        " 5: df[5].astype(float).mean(),\n",
        " 6: df[6].astype(float).mean(),\n",
        " 7: df[7].astype(float).mean(),\n",
        " 8: df[8].astype(float).mean(),\n",
        " 9: df[9].astype(float).mean(),\n",
        " 10: df[10].astype(float).mean(),\n",
        " 11: df[11].astype(float).mean(),\n",
        " 12: df[12].astype(float).mean(),\n",
        " 13: df[13].astype(float).mean(),\n",
        " 14: df[14].astype(float).mean(),\n",
        " 15: df[15].astype(float).mean(),\n",
        " 16: df[16].astype(float).mean(),\n",
        " 17: df[17].astype(float).mean(),\n",
        " 18: df[18].astype(float).mean(),\n",
        " 19: df[19].astype(float).mean(),\n",
        " 20: df[20].astype(float).mean(),\n",
        " 21: df[21].astype(float).mean(),\n",
        " 22: df[22].astype(float).mean(),\n",
        " 23: df[23].astype(float).mean(),\n",
        " 24: df[24].astype(float).mean(),\n",
        " 25: df[25].astype(float).mean(),\n",
        " 26: df[26].astype(float).mean()},index=[52585])"
      ],
      "id": "NXwXQYIoT0Az",
      "execution_count": null,
      "outputs": []
    },
    {
      "cell_type": "code",
      "metadata": {
        "id": "rHQfCWReWGn-"
      },
      "source": [
        "foreData6 = pd.concat([foreData6, df1]) "
      ],
      "id": "rHQfCWReWGn-",
      "execution_count": null,
      "outputs": []
    },
    {
      "cell_type": "code",
      "metadata": {
        "id": "3_g36x5WWZ-E"
      },
      "source": [
        "foreData6"
      ],
      "id": "3_g36x5WWZ-E",
      "execution_count": null,
      "outputs": []
    },
    {
      "cell_type": "markdown",
      "metadata": {
        "id": "u0hcy_o8YS-H"
      },
      "source": [
        "2015-11-02 21:00 1\n",
        "2015-11-02 22:00 0\n",
        "2015-11-02 23:00 1\n",
        "빠진거^^"
      ],
      "id": "u0hcy_o8YS-H"
    },
    {
      "cell_type": "code",
      "metadata": {
        "id": "bgBgYie8X3I_"
      },
      "source": [
        "foreData5[foreData5[1].str.contains('2015-11-02 21:00') ==True].index\n",
        "foreData5[foreData5[1].str.contains('2015-11-02 23:00') ==True].index\n",
        "print(foreData5[foreData5[1].str.contains('2015-11-02 21:00') ==True].index)\n",
        "print(foreData5[foreData5[1].str.contains('2015-11-02 23:00') ==True].index)"
      ],
      "id": "bgBgYie8X3I_",
      "execution_count": null,
      "outputs": []
    },
    {
      "cell_type": "code",
      "metadata": {
        "id": "5ohB67SfX7rc"
      },
      "source": [
        "foreData5[foreData5[1].str.contains('2015-11-02 21:00') ==True].index\n",
        "foreData5[foreData5[1].str.contains('2015-11-02 23:00') ==True].index\n",
        "print(foreData5[foreData5[1].str.contains('2015-11-02 21:00') ==True].index)\n",
        "print(foreData5[foreData5[1].str.contains('2015-11-02 23:00') ==True].index)\n",
        "df = pd.DataFrame(foreData5.iloc[foreData5[foreData5[1].str.contains('2015-11-02 21:00') ==True].index[0]:foreData5[foreData5[1].str.contains('2015-11-02 23:00') ==True].index[0]+1])"
      ],
      "id": "5ohB67SfX7rc",
      "execution_count": null,
      "outputs": []
    },
    {
      "cell_type": "code",
      "metadata": {
        "id": "DHxY56OpYAtY"
      },
      "source": [
        "df"
      ],
      "id": "DHxY56OpYAtY",
      "execution_count": null,
      "outputs": []
    },
    {
      "cell_type": "code",
      "metadata": {
        "id": "wYltOk3qYBOv"
      },
      "source": [
        "foreData5[foreData5[1].str.contains('2015-11-02 21:00') ==True].index\n",
        "foreData5[foreData5[1].str.contains('2015-11-02 23:00') ==True].index\n",
        "print(foreData5[foreData5[1].str.contains('2015-11-02 21:00') ==True].index)\n",
        "print(foreData5[foreData5[1].str.contains('2015-11-02 23:00') ==True].index)\n",
        "df = pd.DataFrame(foreData5.iloc[foreData5[foreData5[1].str.contains('2015-11-02 21:00') ==True].index[0]:foreData5[foreData5[1].str.contains('2015-11-02 23:00') ==True].index[0]+1])\n",
        "df1 = pd.DataFrame({1: '2015-11-02 22:00',\n",
        " 2: df[2].astype(float).mean(),\n",
        " 3: df[3].astype(float).mean(),\n",
        " 4: df[4].astype(float).mean(),\n",
        " 5: df[5].astype(float).mean(),\n",
        " 6: df[6].astype(float).mean(),\n",
        " 7: df[7].astype(float).mean(),\n",
        " 8: df[8].astype(float).mean(),\n",
        " 9: df[9].astype(float).mean(),\n",
        " 10: df[10].astype(float).mean(),\n",
        " 11: df[11].astype(float).mean(),\n",
        " 12: df[12].astype(float).mean(),\n",
        " 13: df[13].astype(float).mean(),\n",
        " 14: df[14].astype(float).mean(),\n",
        " 15: df[15].astype(float).mean(),\n",
        " 16: df[16].astype(float).mean(),\n",
        " 17: df[17].astype(float).mean(),\n",
        " 18: df[18].astype(float).mean(),\n",
        " 19: df[19].astype(float).mean(),\n",
        " 20: df[20].astype(float).mean(),\n",
        " 21: df[21].astype(float).mean(),\n",
        " 22: df[22].astype(float).mean(),\n",
        " 23: df[23].astype(float).mean(),\n",
        " 24: df[24].astype(float).mean(),\n",
        " 25: df[25].astype(float).mean(),\n",
        " 26: df[26].astype(float).mean()},index=[52586])"
      ],
      "id": "wYltOk3qYBOv",
      "execution_count": null,
      "outputs": []
    },
    {
      "cell_type": "code",
      "metadata": {
        "id": "lT4keQkrYIBY"
      },
      "source": [
        "foreData6 = pd.concat([foreData6, df1]) "
      ],
      "id": "lT4keQkrYIBY",
      "execution_count": null,
      "outputs": []
    },
    {
      "cell_type": "code",
      "metadata": {
        "id": "83xv3j73YLNl"
      },
      "source": [
        "foreData6"
      ],
      "id": "83xv3j73YLNl",
      "execution_count": null,
      "outputs": []
    },
    {
      "cell_type": "markdown",
      "metadata": {
        "id": "kipsA8lRZb-z"
      },
      "source": [
        "2017-04-25 19:00 1\n",
        "2017-04-25 20:00 1\n",
        "2017-04-25 21:00 0\n",
        "2017-04-25 22:00 0\n",
        "2017-04-25 23:00 1\n",
        "2017-04-26 12:00 1\n",
        "2017-04-26 13:00 1"
      ],
      "id": "kipsA8lRZb-z"
    },
    {
      "cell_type": "code",
      "metadata": {
        "id": "KlAoYJ47Za_c"
      },
      "source": [
        "foreData5[foreData5[1].str.contains('2017-04-25 19:00') ==True].index\n",
        "foreData5[foreData5[1].str.contains('2015-11-02 23:00') ==True].index\n",
        "print(foreData5[foreData5[1].str.contains('2017-04-25 19:00') ==True].index)\n",
        "print(foreData5[foreData5[1].str.contains('2017-04-25 20:00') ==True].index)\n",
        "print(foreData5[foreData5[1].str.contains('2017-04-25 23:00') ==True].index)"
      ],
      "id": "KlAoYJ47Za_c",
      "execution_count": null,
      "outputs": []
    },
    {
      "cell_type": "code",
      "metadata": {
        "id": "_39uESWeZoWA"
      },
      "source": [
        "foreData5[foreData5[1].str.contains('2017-04-25 19:00') ==True].index\n",
        "foreData5[foreData5[1].str.contains('2015-11-02 23:00') ==True].index\n",
        "print(foreData5[foreData5[1].str.contains('2017-04-25 19:00') ==True].index)\n",
        "print(foreData5[foreData5[1].str.contains('2017-04-25 20:00') ==True].index)\n",
        "print(foreData5[foreData5[1].str.contains('2017-04-25 23:00') ==True].index)\n",
        "df = pd.DataFrame(foreData5.iloc[foreData5[foreData5[1].str.contains('2017-04-25 20:00') ==True].index[0]:foreData5[foreData5[1].str.contains('2017-04-25 23:00') ==True].index[0]+1])"
      ],
      "id": "_39uESWeZoWA",
      "execution_count": null,
      "outputs": []
    },
    {
      "cell_type": "code",
      "metadata": {
        "id": "lRvq2NMDZ2Aa"
      },
      "source": [
        "df"
      ],
      "id": "lRvq2NMDZ2Aa",
      "execution_count": null,
      "outputs": []
    },
    {
      "cell_type": "code",
      "metadata": {
        "id": "Uj_UdfokZ2Wm"
      },
      "source": [
        "foreData5[foreData5[1].str.contains('2017-04-25 19:00') ==True].index\n",
        "foreData5[foreData5[1].str.contains('2015-11-02 23:00') ==True].index\n",
        "print(foreData5[foreData5[1].str.contains('2017-04-25 19:00') ==True].index)\n",
        "print(foreData5[foreData5[1].str.contains('2017-04-25 20:00') ==True].index)\n",
        "print(foreData5[foreData5[1].str.contains('2017-04-25 23:00') ==True].index)\n",
        "df = pd.DataFrame(foreData5.iloc[foreData5[foreData5[1].str.contains('2017-04-25 20:00') ==True].index[0]:foreData5[foreData5[1].str.contains('2017-04-25 23:00') ==True].index[0]+1])\n",
        "df1 = pd.DataFrame({1: '2017-04-25 21:00',\n",
        " 2: df[2].astype(float).mean(),\n",
        " 3: df[3].astype(float).mean(),\n",
        " 4: df[4].astype(float).mean(),\n",
        " 5: df[5].astype(float).mean(),\n",
        " 6: df[6].astype(float).mean(),\n",
        " 7: df[7].astype(float).mean(),\n",
        " 8: df[8].astype(float).mean(),\n",
        " 9: df[9].astype(float).mean(),\n",
        " 10: df[10].astype(float).mean(),\n",
        " 11: df[11].astype(float).mean(),\n",
        " 12: df[12].astype(float).mean(),\n",
        " 13: df[13].astype(float).mean(),\n",
        " 14: df[14].astype(float).mean(),\n",
        " 15: df[15].astype(float).mean(),\n",
        " 16: df[16].astype(float).mean(),\n",
        " 17: df[17].astype(float).mean(),\n",
        " 18: df[18].astype(float).mean(),\n",
        " 19: df[19].astype(float).mean(),\n",
        " 20: df[20].astype(float).mean(),\n",
        " 21: df[21].astype(float).mean(),\n",
        " 22: df[22].astype(float).mean(),\n",
        " 23: df[23].astype(float).mean(),\n",
        " 24: df[24].astype(float).mean(),\n",
        " 25: df[25].astype(float).mean(),\n",
        " 26: df[26].astype(float).mean()},index=[52587])\n",
        "foreData6 = pd.concat([foreData6, df1]) "
      ],
      "id": "Uj_UdfokZ2Wm",
      "execution_count": null,
      "outputs": []
    },
    {
      "cell_type": "code",
      "metadata": {
        "id": "SoTXOxLQjoTT"
      },
      "source": [
        "foreData6 = pd.concat([foreData6, df1]) "
      ],
      "id": "SoTXOxLQjoTT",
      "execution_count": null,
      "outputs": []
    },
    {
      "cell_type": "code",
      "metadata": {
        "id": "BSIIe4kDjuab"
      },
      "source": [
        "foreData6"
      ],
      "id": "BSIIe4kDjuab",
      "execution_count": null,
      "outputs": []
    },
    {
      "cell_type": "code",
      "metadata": {
        "id": "8MXTOovRjvjb"
      },
      "source": [
        "df1 = pd.DataFrame({1: '2017-04-25 22:00',\n",
        " 2: df[2].astype(float).mean(),\n",
        " 3: df[3].astype(float).mean(),\n",
        " 4: df[4].astype(float).mean(),\n",
        " 5: df[5].astype(float).mean(),\n",
        " 6: df[6].astype(float).mean(),\n",
        " 7: df[7].astype(float).mean(),\n",
        " 8: df[8].astype(float).mean(),\n",
        " 9: df[9].astype(float).mean(),\n",
        " 10: df[10].astype(float).mean(),\n",
        " 11: df[11].astype(float).mean(),\n",
        " 12: df[12].astype(float).mean(),\n",
        " 13: df[13].astype(float).mean(),\n",
        " 14: df[14].astype(float).mean(),\n",
        " 15: df[15].astype(float).mean(),\n",
        " 16: df[16].astype(float).mean(),\n",
        " 17: df[17].astype(float).mean(),\n",
        " 18: df[18].astype(float).mean(),\n",
        " 19: df[19].astype(float).mean(),\n",
        " 20: df[20].astype(float).mean(),\n",
        " 21: df[21].astype(float).mean(),\n",
        " 22: df[22].astype(float).mean(),\n",
        " 23: df[23].astype(float).mean(),\n",
        " 24: df[24].astype(float).mean(),\n",
        " 25: df[25].astype(float).mean(),\n",
        " 26: df[26].astype(float).mean()},index=[52588])"
      ],
      "id": "8MXTOovRjvjb",
      "execution_count": null,
      "outputs": []
    },
    {
      "cell_type": "code",
      "metadata": {
        "id": "7eEBTsZQjzQq"
      },
      "source": [
        "foreData6 = pd.concat([foreData6, df1]) "
      ],
      "id": "7eEBTsZQjzQq",
      "execution_count": null,
      "outputs": []
    },
    {
      "cell_type": "code",
      "metadata": {
        "id": "PMbVjO-Wj1Cp"
      },
      "source": [
        "foreData6"
      ],
      "id": "PMbVjO-Wj1Cp",
      "execution_count": null,
      "outputs": []
    },
    {
      "cell_type": "code",
      "metadata": {
        "id": "ONGSTyhBj2BY"
      },
      "source": [
        "\n",
        "\n"
      ],
      "id": "ONGSTyhBj2BY",
      "execution_count": null,
      "outputs": []
    }
  ]
}